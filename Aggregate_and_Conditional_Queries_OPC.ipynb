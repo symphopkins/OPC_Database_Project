{
    "metadata": {
        "kernelspec": {
            "name": "SQL",
            "display_name": "SQL",
            "language": "sql"
        },
        "language_info": {
            "name": "sql",
            "version": ""
        },
        "extensions": {
            "azuredatastudio": {
                "version": 1,
                "views": []
            }
        }
    },
    "nbformat_minor": 2,
    "nbformat": 4,
    "cells": [
        {
            "cell_type": "markdown",
            "source": [
                "# Assignment 4: Using Aggregate and Conditional Queries\n",
                "\n",
                "## DSCi 504: Intro to SQL\n",
                "\n",
                "Symphony Hopkins\n",
                "\n",
                "September 12, 2022"
            ],
            "metadata": {
                "azdata_cell_guid": "eed3e107-ee52-42be-be15-9c6170b2d99f",
                "extensions": {
                    "azuredatastudio": {
                        "views": []
                    }
                }
            },
            "attachments": {}
        },
        {
            "cell_type": "markdown",
            "source": [
                "**Part 1: To identify the depth of OPC's MTB sales, it is important to identify summary information within the data. Begin by finding the minimum and maximum order values within the data. Include the following columns in your query:**\n",
                "\n",
                "- **Order ID**\n",
                "- **Minimum Order**\n",
                "- **Maximum Order**"
            ],
            "metadata": {
                "azdata_cell_guid": "973ccee8-ba95-4d80-baee-8f188bf2038c",
                "extensions": {
                    "azuredatastudio": {
                        "views": []
                    }
                }
            },
            "attachments": {}
        },
        {
            "cell_type": "code",
            "source": [
                "--Finding Min\n",
                "SELECT o.ord_id, o.order_tot\n",
                "FROM dsci_504.orders AS o\n",
                "WHERE o.order_tot = \n",
                "(SELECT MIN(o.order_tot)\n",
                "FROM dsci_504.orders AS o);\n",
                "\n",
                "--Finding Max\n",
                "SELECT o.ord_id, o.order_tot\n",
                "FROM dsci_504.orders AS o\n",
                "WHERE o.order_tot = \n",
                "(SELECT MAX(o.order_tot) \n",
                "FROM dsci_504.orders AS o);"
            ],
            "metadata": {
                "azdata_cell_guid": "a5f3b32c-f22d-4918-8c3c-ddb6625c5579",
                "language": "sql",
                "tags": []
            },
            "outputs": [
                {
                    "output_type": "display_data",
                    "data": {
                        "text/html": "(6 row(s) affected)"
                    },
                    "metadata": {}
                },
                {
                    "output_type": "display_data",
                    "data": {
                        "text/html": "(2 row(s) affected)"
                    },
                    "metadata": {}
                },
                {
                    "output_type": "display_data",
                    "data": {
                        "text/html": "Total execution time: 00:00:00.004"
                    },
                    "metadata": {}
                },
                {
                    "output_type": "execute_result",
                    "execution_count": 26,
                    "data": {
                        "application/vnd.dataresource+json": {
                            "schema": {
                                "fields": [
                                    {
                                        "name": "ord_id"
                                    },
                                    {
                                        "name": "order_tot"
                                    }
                                ]
                            },
                            "data": [
                                {
                                    "0": "4455545",
                                    "1": "1850"
                                },
                                {
                                    "0": "2965446",
                                    "1": "1850"
                                },
                                {
                                    "0": "2596420",
                                    "1": "1850"
                                },
                                {
                                    "0": "5571075",
                                    "1": "1850"
                                },
                                {
                                    "0": "2358837",
                                    "1": "1850"
                                },
                                {
                                    "0": "4438686",
                                    "1": "1850"
                                }
                            ]
                        },
                        "text/html": "<table><tr><th>ord_id</th><th>order_tot</th></tr><tr><td>4455545</td><td>1850</td></tr><tr><td>2965446</td><td>1850</td></tr><tr><td>2596420</td><td>1850</td></tr><tr><td>5571075</td><td>1850</td></tr><tr><td>2358837</td><td>1850</td></tr><tr><td>4438686</td><td>1850</td></tr></table>"
                    },
                    "metadata": {}
                },
                {
                    "output_type": "execute_result",
                    "execution_count": 26,
                    "data": {
                        "application/vnd.dataresource+json": {
                            "schema": {
                                "fields": [
                                    {
                                        "name": "ord_id"
                                    },
                                    {
                                        "name": "order_tot"
                                    }
                                ]
                            },
                            "data": [
                                {
                                    "0": "1121775",
                                    "1": "8580"
                                },
                                {
                                    "0": "4350229",
                                    "1": "8580"
                                }
                            ]
                        },
                        "text/html": "<table><tr><th>ord_id</th><th>order_tot</th></tr><tr><td>1121775</td><td>8580</td></tr><tr><td>4350229</td><td>8580</td></tr></table>"
                    },
                    "metadata": {}
                }
            ],
            "execution_count": 26
        },
        {
            "cell_type": "markdown",
            "source": [
                "**Q: What was the minimum order amount?**\n",
                "\n",
                "```\n",
                "A: $1850\n",
                "\n",
                "```"
            ],
            "metadata": {
                "azdata_cell_guid": "57cf29fa-3ec6-4b8f-aa19-9dd1c63f5107",
                "extensions": {
                    "azuredatastudio": {
                        "views": []
                    }
                }
            },
            "attachments": {}
        },
        {
            "cell_type": "markdown",
            "source": [
                "**Q: What was the maximum order amount?**\n",
                "\n",
                "```\n",
                "A: $8580\n",
                "\n",
                "```"
            ],
            "metadata": {
                "azdata_cell_guid": "f524ad64-ae19-4513-bf60-ce1624ef8d43",
                "extensions": {
                    "azuredatastudio": {
                        "views": []
                    }
                }
            },
            "attachments": {}
        },
        {
            "cell_type": "markdown",
            "source": [
                "**Part 2: Determine the validity of your findings by looking at another numeric field in one of the tables that should match or be close to both of these values. If the values are too far off, we may have a data discrepancy or could possibly have some discounted items. We need to ensure that we can count on the values in the fields. Run a query to find the minimum and maximum cost of mountain bikes in the data.**"
            ],
            "metadata": {
                "azdata_cell_guid": "4b725ac1-9359-451d-befa-044ebaf2b0d5",
                "extensions": {
                    "azuredatastudio": {
                        "views": []
                    }
                }
            },
            "attachments": {}
        },
        {
            "cell_type": "code",
            "source": [
                "--Finding Min\n",
                "SELECT p.prod_id, p.prod_name, p.prod_price\n",
                "FROM dsci_504.products AS p\n",
                "WHERE p.prod_price = \n",
                "(SELECT MIN(p.prod_price)\n",
                "FROM dsci_504.products AS p);\n",
                "\n",
                "--Finding Max\n",
                "SELECT p.prod_id, p.prod_name, p.prod_price\n",
                "FROM dsci_504.products AS p\n",
                "WHERE p.prod_price = \n",
                "(SELECT MAX(p.prod_price)\n",
                "FROM dsci_504.products AS p);\n",
                ""
            ],
            "metadata": {
                "azdata_cell_guid": "d8611f13-9640-4f3c-8e50-c01ca51fd453",
                "language": "sql"
            },
            "outputs": [
                {
                    "output_type": "display_data",
                    "data": {
                        "text/html": "(1 row(s) affected)"
                    },
                    "metadata": {}
                },
                {
                    "output_type": "display_data",
                    "data": {
                        "text/html": "(1 row(s) affected)"
                    },
                    "metadata": {}
                },
                {
                    "output_type": "display_data",
                    "data": {
                        "text/html": "Total execution time: 00:00:00.004"
                    },
                    "metadata": {}
                },
                {
                    "output_type": "execute_result",
                    "execution_count": 31,
                    "data": {
                        "application/vnd.dataresource+json": {
                            "schema": {
                                "fields": [
                                    {
                                        "name": "prod_id"
                                    },
                                    {
                                        "name": "prod_name"
                                    },
                                    {
                                        "name": "prod_price"
                                    }
                                ]
                            },
                            "data": [
                                {
                                    "0": "63",
                                    "1": "Air9",
                                    "2": "1850"
                                }
                            ]
                        },
                        "text/html": "<table><tr><th>prod_id</th><th>prod_name</th><th>prod_price</th></tr><tr><td>63</td><td>Air9</td><td>1850</td></tr></table>"
                    },
                    "metadata": {}
                },
                {
                    "output_type": "execute_result",
                    "execution_count": 31,
                    "data": {
                        "application/vnd.dataresource+json": {
                            "schema": {
                                "fields": [
                                    {
                                        "name": "prod_id"
                                    },
                                    {
                                        "name": "prod_name"
                                    },
                                    {
                                        "name": "prod_price"
                                    }
                                ]
                            },
                            "data": [
                                {
                                    "0": "14",
                                    "1": "SB150",
                                    "2": "8000"
                                }
                            ]
                        },
                        "text/html": "<table><tr><th>prod_id</th><th>prod_name</th><th>prod_price</th></tr><tr><td>14</td><td>SB150</td><td>8000</td></tr></table>"
                    },
                    "metadata": {}
                }
            ],
            "execution_count": 31
        },
        {
            "cell_type": "markdown",
            "source": [
                "**Q: What was the minimum product price?**\n",
                "\n",
                "```\n",
                "A: $1850\n",
                "\n",
                "```"
            ],
            "metadata": {
                "azdata_cell_guid": "93527219-6734-48ed-8dac-fb926fe70094",
                "extensions": {
                    "azuredatastudio": {
                        "views": []
                    }
                }
            },
            "attachments": {}
        },
        {
            "cell_type": "markdown",
            "source": [
                "**Q: What is the maximum product price?**\n",
                "\n",
                "```\n",
                "A: $8000\n",
                "\n",
                "```"
            ],
            "metadata": {
                "azdata_cell_guid": "b23b452c-b4de-4397-b7a2-c4d37f0d4e26"
            },
            "attachments": {}
        },
        {
            "cell_type": "markdown",
            "source": [
                "**Q: Is there a discrepancy in the data? If so, what is assumptions or conclusions can you draw from any discrepancies?**\n",
                "\n",
                "```\n",
                "A:  There is a discrepancy between the maximum order total and the maximum product price, but if you consider the different tax rates then this discrepancy makes sense. \n",
                "\n",
                "```"
            ],
            "metadata": {
                "azdata_cell_guid": "91b82a88-199f-4df5-8539-1c41e94e3680"
            },
            "attachments": {}
        },
        {
            "cell_type": "markdown",
            "source": [
                "**<span style=\"color: rgb(45, 59, 69); font-family: &quot;Lato Extended&quot;, Lato, &quot;Helvetica Neue&quot;, Helvetica, Arial, sans-serif; font-size: 16px; background-color: rgb(255, 255, 255);\">Part 3: Write a query that identifies the transactions with the biggest difference between the sale price of the bike and the order total. Assume each order is ONLY for a mountain bike and any accessories are extra order numbers</span>.**\n",
                "\n",
                "**You may need to perform a simple join as discussed in last week's assignment if a query is required. In case you forgot the syntax, it is include below.**\n",
                "\n",
                "```\n",
                "SELECT [table 1 col]...[table 2 col]....\n",
                "FROM [table 1], [table 2]\n",
                "WHERE [conditions] AND [table 1 id] = [table 2 id];\n",
                "\n",
                "```"
            ],
            "metadata": {
                "azdata_cell_guid": "3232e143-2610-49dc-944b-2ce4399bb270",
                "extensions": {
                    "azuredatastudio": {
                        "views": []
                    }
                }
            },
            "attachments": {}
        },
        {
            "cell_type": "code",
            "source": [
                "SELECT o.ord_id\n",
                "      ,o.ord_tax_loc\n",
                "      ,o.order_tot\n",
                "      ,p.prod_price\n",
                "      ,(o.order_tot - p.prod_price) as difference\n",
                "FROM dsci_504.orders AS o\n",
                "INNER JOIN dsci_504.products AS p \n",
                "ON o.prod_id = p.prod_id\n",
                "ORDER BY (o.order_tot - p.prod_price) DESC\n",
                "LIMIT 10;"
            ],
            "metadata": {
                "azdata_cell_guid": "6d8b323e-6014-42bd-bb36-47816e0be631",
                "language": "sql"
            },
            "outputs": [
                {
                    "output_type": "display_data",
                    "data": {
                        "text/html": "(10 row(s) affected)"
                    },
                    "metadata": {}
                },
                {
                    "output_type": "display_data",
                    "data": {
                        "text/html": "Total execution time: 00:00:00.004"
                    },
                    "metadata": {}
                },
                {
                    "output_type": "execute_result",
                    "execution_count": 71,
                    "data": {
                        "application/vnd.dataresource+json": {
                            "schema": {
                                "fields": [
                                    {
                                        "name": "ord_id"
                                    },
                                    {
                                        "name": "ord_tax_loc"
                                    },
                                    {
                                        "name": "order_tot"
                                    },
                                    {
                                        "name": "prod_price"
                                    },
                                    {
                                        "name": "difference"
                                    }
                                ]
                            },
                            "data": [
                                {
                                    "0": "4409334",
                                    "1": "23",
                                    "2": "4278.93",
                                    "3": "2799",
                                    "4": "1479.93"
                                },
                                {
                                    "0": "4350229",
                                    "1": "4 ",
                                    "2": "8580",
                                    "3": "8000",
                                    "4": "580"
                                },
                                {
                                    "0": "1121775",
                                    "1": "5 ",
                                    "2": "8580",
                                    "3": "8000",
                                    "4": "580"
                                },
                                {
                                    "0": "1273816",
                                    "1": "4 ",
                                    "2": "8258.24",
                                    "3": "7699.99",
                                    "4": "558.25"
                                },
                                {
                                    "0": "6666642",
                                    "1": "5 ",
                                    "2": "8258.24",
                                    "3": "7699.99",
                                    "4": "558.25"
                                },
                                {
                                    "0": "5234755",
                                    "1": "5 ",
                                    "2": "8114.17",
                                    "3": "7565.66",
                                    "4": "548.51"
                                },
                                {
                                    "0": "5992300",
                                    "1": "4 ",
                                    "2": "8114.17",
                                    "3": "7565.66",
                                    "4": "548.51"
                                },
                                {
                                    "0": "7328173",
                                    "1": "12",
                                    "2": "8238.99",
                                    "3": "7699.99",
                                    "4": "539.00"
                                },
                                {
                                    "0": "2028513",
                                    "1": "23",
                                    "2": "8238.99",
                                    "3": "7699.99",
                                    "4": "539.00"
                                },
                                {
                                    "0": "1592079",
                                    "1": "23",
                                    "2": "8238.99",
                                    "3": "7699.99",
                                    "4": "539.00"
                                }
                            ]
                        },
                        "text/html": "<table><tr><th>ord_id</th><th>ord_tax_loc</th><th>order_tot</th><th>prod_price</th><th>difference</th></tr><tr><td>4409334</td><td>23</td><td>4278.93</td><td>2799</td><td>1479.93</td></tr><tr><td>4350229</td><td>4 </td><td>8580</td><td>8000</td><td>580</td></tr><tr><td>1121775</td><td>5 </td><td>8580</td><td>8000</td><td>580</td></tr><tr><td>1273816</td><td>4 </td><td>8258.24</td><td>7699.99</td><td>558.25</td></tr><tr><td>6666642</td><td>5 </td><td>8258.24</td><td>7699.99</td><td>558.25</td></tr><tr><td>5234755</td><td>5 </td><td>8114.17</td><td>7565.66</td><td>548.51</td></tr><tr><td>5992300</td><td>4 </td><td>8114.17</td><td>7565.66</td><td>548.51</td></tr><tr><td>7328173</td><td>12</td><td>8238.99</td><td>7699.99</td><td>539.00</td></tr><tr><td>2028513</td><td>23</td><td>8238.99</td><td>7699.99</td><td>539.00</td></tr><tr><td>1592079</td><td>23</td><td>8238.99</td><td>7699.99</td><td>539.00</td></tr></table>"
                    },
                    "metadata": {}
                }
            ],
            "execution_count": 71
        },
        {
            "cell_type": "markdown",
            "source": [
                "**Q: What are two unique things that we can glean from this transaction?**\n",
                "\n",
                "```\n",
                "A: Two things we saw from this transaction: The biggest difference between sales price and order total was $1479.93; and there is a huge gap between the first order and other orders' differences (the difference is nearly tripled compared to the second order).\n",
                "\n",
                "```"
            ],
            "metadata": {
                "azdata_cell_guid": "5ace9fd5-dbf8-45d9-a4b0-c44af5f87993",
                "extensions": {
                    "azuredatastudio": {
                        "views": []
                    }
                }
            },
            "attachments": {}
        },
        {
            "cell_type": "markdown",
            "source": [
                "**Part 4: Create a query to determine which tax zone this order falls into. To make sure you return the correct record, use the order\\_track\\_num as a condition.**"
            ],
            "metadata": {
                "azdata_cell_guid": "bd95aa64-4b06-4541-89c3-c801485e8938",
                "extensions": {
                    "azuredatastudio": {
                        "views": []
                    }
                }
            },
            "attachments": {}
        },
        {
            "cell_type": "code",
            "source": [
                "SELECT o.*\n",
                "FROM dsci_504.orders AS o\n",
                "INNER JOIN dsci_504.products AS p \n",
                "ON o.prod_id = p.prod_id\n",
                "WHERE o.ord_track_num = 'PAC5820182-1';"
            ],
            "metadata": {
                "azdata_cell_guid": "3743af62-955a-497c-8801-f571762b4b3c",
                "language": "sql"
            },
            "outputs": [
                {
                    "output_type": "display_data",
                    "data": {
                        "text/html": "(1 row(s) affected)"
                    },
                    "metadata": {}
                },
                {
                    "output_type": "display_data",
                    "data": {
                        "text/html": "Total execution time: 00:00:00.037"
                    },
                    "metadata": {}
                },
                {
                    "output_type": "execute_result",
                    "execution_count": 67,
                    "data": {
                        "application/vnd.dataresource+json": {
                            "schema": {
                                "fields": [
                                    {
                                        "name": "ord_id"
                                    },
                                    {
                                        "name": "ord_date"
                                    },
                                    {
                                        "name": "ord_tax_loc"
                                    },
                                    {
                                        "name": "order_tot"
                                    },
                                    {
                                        "name": "ord_ship_add"
                                    },
                                    {
                                        "name": "ord_ship_date"
                                    },
                                    {
                                        "name": "ord_track_num"
                                    },
                                    {
                                        "name": "prod_id"
                                    },
                                    {
                                        "name": "warehouse_id"
                                    },
                                    {
                                        "name": "cus_id"
                                    }
                                ]
                            },
                            "data": [
                                {
                                    "0": "4409334",
                                    "1": "2019-05-05",
                                    "2": "23",
                                    "3": "4278.93",
                                    "4": "true",
                                    "5": "2019-05-12",
                                    "6": "PAC5820182-1    ",
                                    "7": "9",
                                    "8": "2",
                                    "9": "1"
                                }
                            ]
                        },
                        "text/html": "<table><tr><th>ord_id</th><th>ord_date</th><th>ord_tax_loc</th><th>order_tot</th><th>ord_ship_add</th><th>ord_ship_date</th><th>ord_track_num</th><th>prod_id</th><th>warehouse_id</th><th>cus_id</th></tr><tr><td>4409334</td><td>2019-05-05</td><td>23</td><td>4278.93</td><td>true</td><td>2019-05-12</td><td>PAC5820182-1    </td><td>9</td><td>2</td><td>1</td></tr></table>"
                    },
                    "metadata": {}
                }
            ],
            "execution_count": 67
        },
        {
            "cell_type": "markdown",
            "source": [
                "**Q: What is one thing that stands out about this transaction?**\n",
                "\n",
                "```\n",
                "A: This order took place is tax location 23, which seems to frequently appear when we look at the top orders with the biggest difference between sale price and order total (see Part 3).\n",
                "\n",
                "```"
            ],
            "metadata": {
                "azdata_cell_guid": "553ba422-afc8-47a7-9be4-4a7b24c237e4"
            },
            "attachments": {}
        },
        {
            "cell_type": "markdown",
            "source": [
                "**Q: Query the taxes table to identify which state the the ord\\_tax\\_loc refers to**"
            ],
            "metadata": {
                "language": "sql",
                "azdata_cell_guid": "30beb87a-1eb2-44e4-9597-b4c0cbc90e17"
            },
            "attachments": {}
        },
        {
            "cell_type": "code",
            "source": [
                "--Before update\n",
                "SELECT q1.ord_track_num\n",
                "      ,q1.ord_tax_loc\n",
                "      ,t.tax_location\n",
                "      ,t.tax_rate\n",
                "FROM\n",
                "(SELECT o.*\n",
                "FROM dsci_504.orders AS o\n",
                "INNER JOIN dsci_504.products AS p \n",
                "ON o.prod_id = p.prod_id\n",
                "WHERE o.ord_track_num = 'PAC5820182-1') AS q1\n",
                "INNER JOIN dsci_504.taxes AS t\n",
                "ON CAST(q1.ord_tax_loc AS SMALLINT) = t.tax_id;"
            ],
            "metadata": {
                "language": "sql",
                "azdata_cell_guid": "575cf6f0-9f28-4dfd-884e-567a8cea70e1",
                "tags": []
            },
            "outputs": [
                {
                    "output_type": "display_data",
                    "data": {
                        "text/html": "(1 row(s) affected)"
                    },
                    "metadata": {}
                },
                {
                    "output_type": "display_data",
                    "data": {
                        "text/html": "Total execution time: 00:00:00.002"
                    },
                    "metadata": {}
                },
                {
                    "output_type": "execute_result",
                    "execution_count": 78,
                    "data": {
                        "application/vnd.dataresource+json": {
                            "schema": {
                                "fields": [
                                    {
                                        "name": "ord_track_num"
                                    },
                                    {
                                        "name": "ord_tax_loc"
                                    },
                                    {
                                        "name": "tax_location"
                                    },
                                    {
                                        "name": "tax_rate"
                                    }
                                ]
                            },
                            "data": [
                                {
                                    "0": "PAC5820182-1    ",
                                    "1": "23",
                                    "2": "RI",
                                    "3": "7"
                                }
                            ]
                        },
                        "text/html": "<table><tr><th>ord_track_num</th><th>ord_tax_loc</th><th>tax_location</th><th>tax_rate</th></tr><tr><td>PAC5820182-1    </td><td>23</td><td>RI</td><td>7</td></tr></table>"
                    },
                    "metadata": {}
                }
            ],
            "execution_count": 78
        },
        {
            "cell_type": "markdown",
            "source": [
                "**Part 5: Update the tax rate in the taxes table to reflect the current tax rate of 8.875 for the tax rate location in Part 4.**"
            ],
            "metadata": {
                "azdata_cell_guid": "68e31810-518c-4320-b5f0-46930ec0adb3",
                "extensions": {
                    "azuredatastudio": {
                        "views": []
                    }
                }
            },
            "attachments": {}
        },
        {
            "cell_type": "code",
            "source": [
                "UPDATE dsci_504.taxes\n",
                "SET tax_rate = 8.875\n",
                "WHERE tax_location = 'RI';"
            ],
            "metadata": {
                "azdata_cell_guid": "4288fad1-fc8c-4415-8c1b-74a7cbaf7a9f",
                "language": "sql"
            },
            "outputs": [
                {
                    "output_type": "display_data",
                    "data": {
                        "text/html": "Commands completed successfully"
                    },
                    "metadata": {}
                },
                {
                    "output_type": "display_data",
                    "data": {
                        "text/html": "Total execution time: 00:00:00.002"
                    },
                    "metadata": {}
                }
            ],
            "execution_count": 80
        },
        {
            "cell_type": "code",
            "source": [
                "--After update\n",
                "SELECT q1.ord_track_num\n",
                "      ,q1.ord_tax_loc\n",
                "      ,t.tax_location\n",
                "      ,t.tax_rate\n",
                "FROM\n",
                "(SELECT o.*\n",
                "FROM dsci_504.orders AS o\n",
                "INNER JOIN dsci_504.products AS p \n",
                "ON o.prod_id = p.prod_id\n",
                "WHERE o.ord_track_num = 'PAC5820182-1') AS q1\n",
                "INNER JOIN dsci_504.taxes AS t\n",
                "ON CAST(q1.ord_tax_loc AS SMALLINT) = t.tax_id;"
            ],
            "metadata": {
                "language": "sql",
                "azdata_cell_guid": "1c128722-ab68-4992-80d3-a4c08501a1a7"
            },
            "outputs": [
                {
                    "output_type": "display_data",
                    "data": {
                        "text/html": "(1 row(s) affected)"
                    },
                    "metadata": {}
                },
                {
                    "output_type": "display_data",
                    "data": {
                        "text/html": "Total execution time: 00:00:00.002"
                    },
                    "metadata": {}
                },
                {
                    "output_type": "execute_result",
                    "execution_count": 81,
                    "data": {
                        "application/vnd.dataresource+json": {
                            "schema": {
                                "fields": [
                                    {
                                        "name": "ord_track_num"
                                    },
                                    {
                                        "name": "ord_tax_loc"
                                    },
                                    {
                                        "name": "tax_location"
                                    },
                                    {
                                        "name": "tax_rate"
                                    }
                                ]
                            },
                            "data": [
                                {
                                    "0": "PAC5820182-1    ",
                                    "1": "23",
                                    "2": "RI",
                                    "3": "8.875"
                                }
                            ]
                        },
                        "text/html": "<table><tr><th>ord_track_num</th><th>ord_tax_loc</th><th>tax_location</th><th>tax_rate</th></tr><tr><td>PAC5820182-1    </td><td>23</td><td>RI</td><td>8.875</td></tr></table>"
                    },
                    "metadata": {}
                }
            ],
            "execution_count": 81
        },
        {
            "cell_type": "markdown",
            "source": [
                "**Part 6: Find the average tax rate for all orders. Return the tax location and the sum of all orders for each tax rate location. Group the results by tax location with the highest tax rate listed first. Round the tax rate to the nearest 3 decimals.**"
            ],
            "metadata": {
                "azdata_cell_guid": "4df1ab21-d7e0-4be8-a7c2-a1c8b25055ce",
                "extensions": {
                    "azuredatastudio": {
                        "views": []
                    }
                }
            },
            "attachments": {}
        },
        {
            "cell_type": "code",
            "source": [
                "--Average Tax Rate for All Orders\n",
                "SELECT ROUND(AVG(t.tax_rate),3) AS avg_tax_rate_all_orders\n",
                "FROM\n",
                "(SELECT o.*\n",
                "FROM dsci_504.orders AS o\n",
                "INNER JOIN dsci_504.products AS p \n",
                "ON o.prod_id = p.prod_id) AS q1\n",
                "INNER JOIN dsci_504.taxes AS t\n",
                "ON CAST(q1.ord_tax_loc AS SMALLINT) = t.tax_id;\n",
                "\n",
                "--Sum of All Orders for Each Tax Location \n",
                "SELECT t.tax_location\n",
                "      ,t.tax_rate\n",
                "      ,SUM(q1.order_tot)\n",
                "FROM\n",
                "(SELECT o.*\n",
                "FROM dsci_504.orders AS o\n",
                "INNER JOIN dsci_504.products AS p \n",
                "ON o.prod_id = p.prod_id) AS q1\n",
                "INNER JOIN dsci_504.taxes AS t\n",
                "ON CAST(q1.ord_tax_loc AS SMALLINT) = t.tax_id\n",
                "GROUP BY t.tax_location, t.tax_rate\n",
                "ORDER BY t.tax_rate DESC;"
            ],
            "metadata": {
                "azdata_cell_guid": "0ec2deb9-cd20-4a1a-b216-1403ced18655",
                "language": "sql"
            },
            "outputs": [
                {
                    "output_type": "display_data",
                    "data": {
                        "text/html": "(1 row(s) affected)"
                    },
                    "metadata": {}
                },
                {
                    "output_type": "display_data",
                    "data": {
                        "text/html": "(30 row(s) affected)"
                    },
                    "metadata": {}
                },
                {
                    "output_type": "display_data",
                    "data": {
                        "text/html": "Total execution time: 00:00:00.010"
                    },
                    "metadata": {}
                },
                {
                    "output_type": "execute_result",
                    "execution_count": 16,
                    "data": {
                        "application/vnd.dataresource+json": {
                            "schema": {
                                "fields": [
                                    {
                                        "name": "avg_tax_rate_all_orders"
                                    }
                                ]
                            },
                            "data": [
                                {
                                    "0": "5.184"
                                }
                            ]
                        },
                        "text/html": "<table><tr><th>avg_tax_rate_all_orders</th></tr><tr><td>5.184</td></tr></table>"
                    },
                    "metadata": {}
                },
                {
                    "output_type": "execute_result",
                    "execution_count": 16,
                    "data": {
                        "application/vnd.dataresource+json": {
                            "schema": {
                                "fields": [
                                    {
                                        "name": "tax_location"
                                    },
                                    {
                                        "name": "tax_rate"
                                    },
                                    {
                                        "name": "sum"
                                    }
                                ]
                            },
                            "data": [
                                {
                                    "0": "MN",
                                    "1": "8.875",
                                    "2": "393329.09"
                                },
                                {
                                    "0": "RI",
                                    "1": "8.875",
                                    "2": "439401.58"
                                },
                                {
                                    "0": "KS",
                                    "1": "8.52",
                                    "2": "430319.76"
                                },
                                {
                                    "0": "CO",
                                    "1": "7.25",
                                    "2": "396104.52"
                                },
                                {
                                    "0": "CA",
                                    "1": "7.25",
                                    "2": "358063.48"
                                },
                                {
                                    "0": "IN",
                                    "1": "7",
                                    "2": "395199.12"
                                },
                                {
                                    "0": "WA",
                                    "1": "6.5",
                                    "2": "458163.23"
                                },
                                {
                                    "0": "CT",
                                    "1": "6.35",
                                    "2": "415228.10"
                                },
                                {
                                    "0": "IA",
                                    "1": "6",
                                    "2": "354991.17"
                                },
                                {
                                    "0": "WV",
                                    "1": "6",
                                    "2": "436695.57"
                                },
                                {
                                    "0": "KY",
                                    "1": "6",
                                    "2": "452586.28"
                                },
                                {
                                    "0": "TN",
                                    "1": "6",
                                    "2": "359225.40"
                                },
                                {
                                    "0": "FL",
                                    "1": "6",
                                    "2": "376232.81"
                                },
                                {
                                    "0": "SC",
                                    "1": "6",
                                    "2": "465752.41"
                                },
                                {
                                    "0": "OH",
                                    "1": "5.75",
                                    "2": "456179.36"
                                },
                                {
                                    "0": "AZ",
                                    "1": "5.6",
                                    "2": "462217.11"
                                },
                                {
                                    "0": "NE",
                                    "1": "5.5",
                                    "2": "408337.31"
                                },
                                {
                                    "0": "ME",
                                    "1": "5.5",
                                    "2": "478070.97"
                                },
                                {
                                    "0": "UT",
                                    "1": "4.85",
                                    "2": "501628.64"
                                },
                                {
                                    "0": "NC",
                                    "1": "4.75",
                                    "2": "371419.63"
                                },
                                {
                                    "0": "LA",
                                    "1": "4.45",
                                    "2": "442995.02"
                                },
                                {
                                    "0": "VA",
                                    "1": "4.3",
                                    "2": "411617.14"
                                },
                                {
                                    "0": "HI",
                                    "1": "4",
                                    "2": "430088.30"
                                },
                                {
                                    "0": "WY",
                                    "1": "4",
                                    "2": "399693.67"
                                },
                                {
                                    "0": "AL",
                                    "1": "4",
                                    "2": "357233.11"
                                },
                                {
                                    "0": "GA",
                                    "1": "4",
                                    "2": "400039.56"
                                },
                                {
                                    "0": "AK",
                                    "1": "3",
                                    "2": "379390.09"
                                },
                                {
                                    "0": "DE",
                                    "1": "0",
                                    "2": "438521.79"
                                },
                                {
                                    "0": "PA",
                                    "1": "0",
                                    "2": "419782.73"
                                },
                                {
                                    "0": "OR",
                                    "1": "0",
                                    "2": "416118.93"
                                }
                            ]
                        },
                        "text/html": "<table><tr><th>tax_location</th><th>tax_rate</th><th>sum</th></tr><tr><td>MN</td><td>8.875</td><td>393329.09</td></tr><tr><td>RI</td><td>8.875</td><td>439401.58</td></tr><tr><td>KS</td><td>8.52</td><td>430319.76</td></tr><tr><td>CO</td><td>7.25</td><td>396104.52</td></tr><tr><td>CA</td><td>7.25</td><td>358063.48</td></tr><tr><td>IN</td><td>7</td><td>395199.12</td></tr><tr><td>WA</td><td>6.5</td><td>458163.23</td></tr><tr><td>CT</td><td>6.35</td><td>415228.10</td></tr><tr><td>IA</td><td>6</td><td>354991.17</td></tr><tr><td>WV</td><td>6</td><td>436695.57</td></tr><tr><td>KY</td><td>6</td><td>452586.28</td></tr><tr><td>TN</td><td>6</td><td>359225.40</td></tr><tr><td>FL</td><td>6</td><td>376232.81</td></tr><tr><td>SC</td><td>6</td><td>465752.41</td></tr><tr><td>OH</td><td>5.75</td><td>456179.36</td></tr><tr><td>AZ</td><td>5.6</td><td>462217.11</td></tr><tr><td>NE</td><td>5.5</td><td>408337.31</td></tr><tr><td>ME</td><td>5.5</td><td>478070.97</td></tr><tr><td>UT</td><td>4.85</td><td>501628.64</td></tr><tr><td>NC</td><td>4.75</td><td>371419.63</td></tr><tr><td>LA</td><td>4.45</td><td>442995.02</td></tr><tr><td>VA</td><td>4.3</td><td>411617.14</td></tr><tr><td>HI</td><td>4</td><td>430088.30</td></tr><tr><td>WY</td><td>4</td><td>399693.67</td></tr><tr><td>AL</td><td>4</td><td>357233.11</td></tr><tr><td>GA</td><td>4</td><td>400039.56</td></tr><tr><td>AK</td><td>3</td><td>379390.09</td></tr><tr><td>DE</td><td>0</td><td>438521.79</td></tr><tr><td>PA</td><td>0</td><td>419782.73</td></tr><tr><td>OR</td><td>0</td><td>416118.93</td></tr></table>"
                    },
                    "metadata": {}
                }
            ],
            "execution_count": 16
        },
        {
            "cell_type": "markdown",
            "source": [
                "**Q: What other tax rates issues are in the result? Research the current state sales tax rate for any states that has a missing or heavily skewed tax rate and write UPDATE queries to correct the data. Because rate can change over time, only change the rates that have invalid values as seen. Others will be fixe din later weeks.**"
            ],
            "metadata": {
                "azdata_cell_guid": "c456e415-f25e-4bbc-a648-c0399014d6d9",
                "extensions": {
                    "azuredatastudio": {
                        "views": []
                    }
                }
            },
            "attachments": {}
        },
        {
            "cell_type": "code",
            "source": [
                "/*To determine which data points skew the data, we have to find the outliers. To find the outliers we have to find Q1 and Q3, which will also\n",
                "help us find the IQR. When we find the IQR, we can determine the threshold for the outliers.*/\n",
                "\n",
                "SELECT p.*\n",
                "      ,(p.q3 - p.q1) AS IQR\n",
                "      ,(p.q1 - (1.5 * (p.q3 - p.q1))) AS lower_threshold\n",
                "      ,(p.q3 + (1.5 * (p.q3 - p.q1))) AS upper_threshold\n",
                "FROM\n",
                "(SELECT PERCENTILE_CONT(0.25) WITHIN GROUP (ORDER BY t.tax_rate) AS Q1\n",
                "       ,PERCENTILE_CONT(0.75) WITHIN GROUP (ORDER BY t.tax_rate) AS Q3\n",
                "FROM dsci_504.taxes AS t) AS p;\n",
                "\n",
                "/* From the query above, we found that any tax rate lower than 0.73 or above 9.84 should be updated since those values are\n",
                "outliers. We can create a query to find the tax rates that are outliers: */\n",
                "\n",
                "SELECT *\n",
                "FROM dsci_504.taxes AS t\n",
                "WHERE t.tax_rate <= 0.73 OR t.tax_rate >= 9.84;\n",
                "\n",
                "/*Using the results from the query above, we found that these following states are outliers: AK, DE, PA, and OR. To update their values, we used \n",
                "tax rates from 2019, since that was the most recent year in the data. DE and OR had 0% tax rates in 2019, so only AK and PA need to be updated. \n",
                "Source: https://taxfoundation.org/sales-tax-rates-2019/ */\n",
                "\n",
                "UPDATE dsci_504.taxes\n",
                "SET tax_rate = 1.43\n",
                "WHERE tax_location = 'AK';\n",
                "\n",
                "UPDATE dsci_504.taxes\n",
                "SET tax_rate = 6.34\n",
                "WHERE tax_location = 'PA';\n",
                "\n",
                "--Because the tax rates have been updates, it will affect the stats values above if this query is ran again."
            ],
            "metadata": {
                "azdata_cell_guid": "d482388a-aef8-4c3a-b914-b91abc1ffca9",
                "language": "sql"
            },
            "outputs": [
                {
                    "output_type": "display_data",
                    "data": {
                        "text/html": "(1 row(s) affected)"
                    },
                    "metadata": {}
                },
                {
                    "output_type": "display_data",
                    "data": {
                        "text/html": "(2 row(s) affected)"
                    },
                    "metadata": {}
                },
                {
                    "output_type": "display_data",
                    "data": {
                        "text/html": "Commands completed successfully"
                    },
                    "metadata": {}
                },
                {
                    "output_type": "display_data",
                    "data": {
                        "text/html": "Commands completed successfully"
                    },
                    "metadata": {}
                },
                {
                    "output_type": "display_data",
                    "data": {
                        "text/html": "Total execution time: 00:00:00.023"
                    },
                    "metadata": {}
                },
                {
                    "output_type": "execute_result",
                    "execution_count": 51,
                    "data": {
                        "application/vnd.dataresource+json": {
                            "schema": {
                                "fields": [
                                    {
                                        "name": "q1"
                                    },
                                    {
                                        "name": "q3"
                                    },
                                    {
                                        "name": "iqr"
                                    },
                                    {
                                        "name": "lower_threshold"
                                    },
                                    {
                                        "name": "upper_threshold"
                                    }
                                ]
                            },
                            "data": [
                                {
                                    "0": "4.375",
                                    "1": "6.425",
                                    "2": "2.05",
                                    "3": "1.3000000000000003",
                                    "4": "9.5"
                                }
                            ]
                        },
                        "text/html": "<table><tr><th>q1</th><th>q3</th><th>iqr</th><th>lower_threshold</th><th>upper_threshold</th></tr><tr><td>4.375</td><td>6.425</td><td>2.05</td><td>1.3000000000000003</td><td>9.5</td></tr></table>"
                    },
                    "metadata": {}
                },
                {
                    "output_type": "execute_result",
                    "execution_count": 51,
                    "data": {
                        "application/vnd.dataresource+json": {
                            "schema": {
                                "fields": [
                                    {
                                        "name": "tax_id"
                                    },
                                    {
                                        "name": "tax_location"
                                    },
                                    {
                                        "name": "tax_rate"
                                    }
                                ]
                            },
                            "data": [
                                {
                                    "0": "7",
                                    "1": "DE",
                                    "2": "0"
                                },
                                {
                                    "0": "21",
                                    "1": "OR",
                                    "2": "0"
                                }
                            ]
                        },
                        "text/html": "<table><tr><th>tax_id</th><th>tax_location</th><th>tax_rate</th></tr><tr><td>7</td><td>DE</td><td>0</td></tr><tr><td>21</td><td>OR</td><td>0</td></tr></table>"
                    },
                    "metadata": {}
                }
            ],
            "execution_count": 51
        },
        {
            "cell_type": "markdown",
            "source": [
                "**Part 7: Identity the number of sales that have Alasks as the tax location**"
            ],
            "metadata": {
                "language": "sql",
                "azdata_cell_guid": "fb453f9d-0d6e-44a4-aa0f-5a14b3201707"
            },
            "attachments": {}
        },
        {
            "cell_type": "code",
            "source": [
                "SELECT t.tax_location\n",
                "      ,COUNT(q1.ord_track_num) as sales_count\n",
                "FROM\n",
                "(SELECT o.*\n",
                "FROM dsci_504.orders AS o\n",
                "INNER JOIN dsci_504.products AS p \n",
                "ON o.prod_id = p.prod_id) AS q1\n",
                "INNER JOIN dsci_504.taxes AS t\n",
                "ON CAST(q1.ord_tax_loc AS SMALLINT) = t.tax_id\n",
                "WHERE t.tax_location = 'AL'\n",
                "GROUP BY q1.ord_tax_loc, t.tax_location;\n",
                ""
            ],
            "metadata": {
                "language": "sql",
                "azdata_cell_guid": "7aaa59b9-e86f-40be-9076-6a8b20dd1bf0"
            },
            "outputs": [
                {
                    "output_type": "display_data",
                    "data": {
                        "text/html": "(1 row(s) affected)"
                    },
                    "metadata": {}
                },
                {
                    "output_type": "display_data",
                    "data": {
                        "text/html": "Total execution time: 00:00:00.002"
                    },
                    "metadata": {}
                },
                {
                    "output_type": "execute_result",
                    "execution_count": 43,
                    "data": {
                        "application/vnd.dataresource+json": {
                            "schema": {
                                "fields": [
                                    {
                                        "name": "tax_location"
                                    },
                                    {
                                        "name": "sales_count"
                                    }
                                ]
                            },
                            "data": [
                                {
                                    "0": "AL",
                                    "1": "73"
                                }
                            ]
                        },
                        "text/html": "<table><tr><th>tax_location</th><th>sales_count</th></tr><tr><td>AL</td><td>73</td></tr></table>"
                    },
                    "metadata": {}
                }
            ],
            "execution_count": 43
        },
        {
            "cell_type": "markdown",
            "source": [
                "**Q:  How many rows were affected by the AK sales tax change?**\n",
                "\n",
                "```\n",
                "A: 73 Rows\n",
                "\n",
                "```"
            ],
            "metadata": {
                "azdata_cell_guid": "9d151af2-510d-49fb-8079-c8b5e5496bbf",
                "extensions": {
                    "azuredatastudio": {
                        "views": []
                    }
                }
            },
            "attachments": {}
        },
        {
            "cell_type": "markdown",
            "source": [
                "**Q: What happened when you tried to query using the ord\\_tax\\_loc? Fix any issues you identified**\n",
                "\n",
                "```\n",
                "A: When you try to query ord_tax_loc using an integer, you get an error because the ord_tax_loc column's data type is character.\n",
                "\n",
                "```"
            ],
            "metadata": {
                "azdata_cell_guid": "a7e10757-e25c-41a2-a33e-a83f19d06650"
            },
            "attachments": {}
        },
        {
            "cell_type": "code",
            "source": [
                "--Converting ord_tax_loc data type from CHAR(2) to SMALLINT\n",
                "ALTER TABLE dsci_504.orders\n",
                "ALTER COLUMN ord_tax_loc TYPE SMALLINT \n",
                "USING ord_tax_loc::SMALLINT;"
            ],
            "metadata": {
                "azdata_cell_guid": "dbdcfe36-dd8b-49fa-9d2e-49721d49eaf6",
                "language": "sql"
            },
            "outputs": [
                {
                    "output_type": "display_data",
                    "data": {
                        "text/html": "Commands completed successfully"
                    },
                    "metadata": {}
                },
                {
                    "output_type": "display_data",
                    "data": {
                        "text/html": "Total execution time: 00:00:00.025"
                    },
                    "metadata": {}
                }
            ],
            "execution_count": 55
        },
        {
            "cell_type": "markdown",
            "source": [
                " **Part 8: Write a query to identify the minimum, average, and maximum sales by warehouse. Round all values to the nearest 2 decimals.**"
            ],
            "metadata": {
                "azdata_cell_guid": "f2473923-b281-4c2a-8011-523ce23866f3",
                "extensions": {
                    "azuredatastudio": {
                        "views": []
                    }
                }
            },
            "attachments": {}
        },
        {
            "cell_type": "code",
            "source": [
                "SELECT o.warehouse_id\n",
                "      ,ROUND(MIN(o.order_tot), 2) AS min_order_total\n",
                "      ,ROUND(MAX(o.order_tot), 2) AS max_order_total\n",
                "      ,ROUND(AVG(o.order_tot), 2) AS avg_order_total\n",
                "FROM dsci_504.orders AS o\n",
                "GROUP BY o.warehouse_id\n",
                "ORDER BY o.warehouse_id;"
            ],
            "metadata": {
                "azdata_cell_guid": "1a2ea8d9-3a87-49cd-892e-09fc8b0bfbc5",
                "language": "sql"
            },
            "outputs": [
                {
                    "output_type": "display_data",
                    "data": {
                        "text/html": "(3 row(s) affected)"
                    },
                    "metadata": {}
                },
                {
                    "output_type": "display_data",
                    "data": {
                        "text/html": "Total execution time: 00:00:00.002"
                    },
                    "metadata": {}
                },
                {
                    "output_type": "execute_result",
                    "execution_count": 59,
                    "data": {
                        "application/vnd.dataresource+json": {
                            "schema": {
                                "fields": [
                                    {
                                        "name": "warehouse_id"
                                    },
                                    {
                                        "name": "min_order_total"
                                    },
                                    {
                                        "name": "max_order_total"
                                    },
                                    {
                                        "name": "avg_order_total"
                                    }
                                ]
                            },
                            "data": [
                                {
                                    "0": "1",
                                    "1": "1850.00",
                                    "2": "8480.00",
                                    "3": "4824.38"
                                },
                                {
                                    "0": "2",
                                    "1": "1850.00",
                                    "2": "8580.00",
                                    "3": "4833.84"
                                },
                                {
                                    "0": "3",
                                    "1": "1850.00",
                                    "2": "8580.00",
                                    "3": "4775.24"
                                }
                            ]
                        },
                        "text/html": "<table><tr><th>warehouse_id</th><th>min_order_total</th><th>max_order_total</th><th>avg_order_total</th></tr><tr><td>1</td><td>1850.00</td><td>8480.00</td><td>4824.38</td></tr><tr><td>2</td><td>1850.00</td><td>8580.00</td><td>4833.84</td></tr><tr><td>3</td><td>1850.00</td><td>8580.00</td><td>4775.24</td></tr></table>"
                    },
                    "metadata": {}
                }
            ],
            "execution_count": 59
        },
        {
            "cell_type": "markdown",
            "source": [
                "**Q: Which warehouse had the most order value?**\n",
                "\n",
                "```\n",
                "A: Warehouse 2 had the highest average order values.\n",
                "\n",
                "```"
            ],
            "metadata": {
                "azdata_cell_guid": "63fe2387-c805-47ca-9439-77a3a0127bcf",
                "extensions": {
                    "azuredatastudio": {
                        "views": []
                    }
                }
            },
            "attachments": {}
        },
        {
            "cell_type": "markdown",
            "source": [
                " **Part 9: To determine future employee value based on the number of returned items it may be worth noting how much has been returned over time and which customer has the highest and lowest returns. Write a query to return the customer with the highest number of items returned and the highest return amount. Group the result by the customer's last name. Be sure to round to the nearest 2 decimal places where appropriate.**"
            ],
            "metadata": {
                "azdata_cell_guid": "6e479e5e-9cdd-45d3-9b53-3d56d5f94252",
                "extensions": {
                    "azuredatastudio": {
                        "views": []
                    }
                }
            },
            "attachments": {}
        },
        {
            "cell_type": "code",
            "source": [
                "SELECT c.cus_last_name\n",
                "      ,SUM(r.tot_ret_item_cnt) AS tot_ret_item_cnt\n",
                "      ,SUM(r.tot_ret_amnt) AS tot_ret_amnt\n",
                "FROM dsci_504.racs AS r\n",
                "INNER JOIN dsci_504.customers AS c\n",
                "ON r.cus_id = c.cus_id\n",
                "GROUP BY c.cus_last_name\n",
                "ORDER BY SUM(r.tot_ret_item_cnt) DESC, SUM(r.tot_ret_amnt) DESC;\n",
                ""
            ],
            "metadata": {
                "azdata_cell_guid": "612232d7-449a-4f80-80a3-123bef5ed782",
                "language": "sql"
            },
            "outputs": [
                {
                    "output_type": "display_data",
                    "data": {
                        "text/html": "(85 row(s) affected)"
                    },
                    "metadata": {}
                },
                {
                    "output_type": "display_data",
                    "data": {
                        "text/html": "Total execution time: 00:00:00.005"
                    },
                    "metadata": {}
                },
                {
                    "output_type": "execute_result",
                    "execution_count": 34,
                    "data": {
                        "application/vnd.dataresource+json": {
                            "schema": {
                                "fields": [
                                    {
                                        "name": "cus_last_name"
                                    },
                                    {
                                        "name": "tot_ret_item_cnt"
                                    },
                                    {
                                        "name": "tot_ret_amnt"
                                    }
                                ]
                            },
                            "data": [
                                {
                                    "0": "Jones",
                                    "1": "154",
                                    "2": "15702"
                                },
                                {
                                    "0": "Smith",
                                    "1": "145",
                                    "2": "13823"
                                },
                                {
                                    "0": "Jackson",
                                    "1": "109",
                                    "2": "8063"
                                },
                                {
                                    "0": "Smith-Warren",
                                    "1": "100",
                                    "2": "8626"
                                },
                                {
                                    "0": "Thomason",
                                    "1": "100",
                                    "2": "5547"
                                },
                                {
                                    "0": "Calahan",
                                    "1": "98",
                                    "2": "8989"
                                },
                                {
                                    "0": "Cooper",
                                    "1": "89",
                                    "2": "8009"
                                },
                                {
                                    "0": "Deleon",
                                    "1": "87",
                                    "2": "6077"
                                },
                                {
                                    "0": "Peters",
                                    "1": "85",
                                    "2": "5638"
                                },
                                {
                                    "0": "Conley",
                                    "1": "83",
                                    "2": "6698"
                                },
                                {
                                    "0": "Aaronson",
                                    "1": "71",
                                    "2": "7284"
                                },
                                {
                                    "0": "Banks",
                                    "1": "70",
                                    "2": "5966"
                                },
                                {
                                    "0": "Saylor",
                                    "1": "69",
                                    "2": "7396"
                                },
                                {
                                    "0": "Jamieson",
                                    "1": "69",
                                    "2": "5091"
                                },
                                {
                                    "0": "Tankersly",
                                    "1": "67",
                                    "2": "4918"
                                },
                                {
                                    "0": "Bangeson",
                                    "1": "66",
                                    "2": "7121"
                                },
                                {
                                    "0": "Dawson",
                                    "1": "66",
                                    "2": "5322"
                                },
                                {
                                    "0": "Booker",
                                    "1": "66",
                                    "2": "3830"
                                },
                                {
                                    "0": "Williamson",
                                    "1": "64",
                                    "2": "6137"
                                },
                                {
                                    "0": "Slain",
                                    "1": "63",
                                    "2": "6164"
                                },
                                {
                                    "0": "Barrister",
                                    "1": "61",
                                    "2": "4226"
                                },
                                {
                                    "0": "Manning",
                                    "1": "60",
                                    "2": "4498"
                                },
                                {
                                    "0": "Garth",
                                    "1": "58",
                                    "2": "5175"
                                },
                                {
                                    "0": "Riochardson",
                                    "1": "51",
                                    "2": "5111"
                                },
                                {
                                    "0": "Monk",
                                    "1": "51",
                                    "2": "3148"
                                },
                                {
                                    "0": "MacBain",
                                    "1": "50",
                                    "2": "6022"
                                },
                                {
                                    "0": "Shelton",
                                    "1": "49",
                                    "2": "5346"
                                },
                                {
                                    "0": "Rice",
                                    "1": "49",
                                    "2": "3934"
                                },
                                {
                                    "0": "Willis",
                                    "1": "49",
                                    "2": "2853"
                                },
                                {
                                    "0": "Ellis",
                                    "1": "49",
                                    "2": "2762"
                                },
                                {
                                    "0": "Applewood",
                                    "1": "48",
                                    "2": "4261"
                                },
                                {
                                    "0": "Johnasen",
                                    "1": "48",
                                    "2": "3569"
                                },
                                {
                                    "0": "Ridgley",
                                    "1": "47",
                                    "2": "4740"
                                },
                                {
                                    "0": "Dewey",
                                    "1": "46",
                                    "2": "3437"
                                },
                                {
                                    "0": "Hart",
                                    "1": "46",
                                    "2": "3401"
                                },
                                {
                                    "0": "Connery",
                                    "1": "46",
                                    "2": "3099"
                                },
                                {
                                    "0": "Manchester",
                                    "1": "44",
                                    "2": "4903"
                                },
                                {
                                    "0": "Harper",
                                    "1": "44",
                                    "2": "4191"
                                },
                                {
                                    "0": "Archibald",
                                    "1": "42",
                                    "2": "3234"
                                },
                                {
                                    "0": "Stevens",
                                    "1": "40",
                                    "2": "5147"
                                },
                                {
                                    "0": "Delacruz",
                                    "1": "40",
                                    "2": "3944"
                                },
                                {
                                    "0": "Roberts",
                                    "1": "39",
                                    "2": "3962"
                                },
                                {
                                    "0": "Maurer",
                                    "1": "37",
                                    "2": "4779"
                                },
                                {
                                    "0": "Moore",
                                    "1": "37",
                                    "2": "2306"
                                },
                                {
                                    "0": "Presten",
                                    "1": "36",
                                    "2": "3551"
                                },
                                {
                                    "0": "Reynolds",
                                    "1": "36",
                                    "2": "2678"
                                },
                                {
                                    "0": "Robinson",
                                    "1": "34",
                                    "2": "4079"
                                },
                                {
                                    "0": "Brooks",
                                    "1": "33",
                                    "2": "2601"
                                },
                                {
                                    "0": "Tompsen",
                                    "1": "32",
                                    "2": "3594"
                                },
                                {
                                    "0": "French",
                                    "1": "32",
                                    "2": "3209"
                                },
                                {
                                    "0": "Dickerson",
                                    "1": "32",
                                    "2": "1512"
                                },
                                {
                                    "0": "Garcia",
                                    "1": "30",
                                    "2": "2643"
                                },
                                {
                                    "0": "Gonzales",
                                    "1": "29",
                                    "2": "2508"
                                },
                                {
                                    "0": "Sanchez",
                                    "1": "28",
                                    "2": "2124"
                                },
                                {
                                    "0": "Rowley",
                                    "1": "27",
                                    "2": "2828"
                                },
                                {
                                    "0": "Delapena",
                                    "1": "27",
                                    "2": "2767"
                                },
                                {
                                    "0": "Gorman",
                                    "1": "24",
                                    "2": "3670"
                                },
                                {
                                    "0": "Jordan",
                                    "1": "22",
                                    "2": "2703"
                                },
                                {
                                    "0": "Sherman",
                                    "1": "21",
                                    "2": "1376"
                                },
                                {
                                    "0": "Seiler",
                                    "1": "20",
                                    "2": "2314"
                                },
                                {
                                    "0": "Etzler",
                                    "1": "19",
                                    "2": "1285"
                                },
                                {
                                    "0": "Acosta",
                                    "1": "15",
                                    "2": "1397"
                                },
                                {
                                    "0": "Jiminez",
                                    "1": "12",
                                    "2": "1732"
                                },
                                {
                                    "0": "Presley",
                                    "1": "11",
                                    "2": "2496"
                                },
                                {
                                    "0": "Goode",
                                    "1": "8",
                                    "2": "1871"
                                },
                                {
                                    "0": "Ramirez",
                                    "1": "6",
                                    "2": "3013"
                                },
                                {
                                    "0": "Barnes",
                                    "1": "5",
                                    "2": "1539"
                                },
                                {
                                    "0": "Tempest",
                                    "1": "5",
                                    "2": "1538"
                                },
                                {
                                    "0": "Chandrakat",
                                    "1": "5",
                                    "2": "1233"
                                },
                                {
                                    "0": "Daniel",
                                    "1": "4",
                                    "2": "1517"
                                },
                                {
                                    "0": "Kemp",
                                    "1": "3",
                                    "2": "187"
                                },
                                {
                                    "0": "Atkins",
                                    "1": "0",
                                    "2": "1845"
                                },
                                {
                                    "0": "Bullock",
                                    "1": "0",
                                    "2": "1414"
                                },
                                {
                                    "0": "Bohme",
                                    "1": "0",
                                    "2": "1134"
                                },
                                {
                                    "0": "Biermann",
                                    "1": "0",
                                    "2": "1059"
                                },
                                {
                                    "0": "Ray",
                                    "1": "0",
                                    "2": "1015"
                                },
                                {
                                    "0": "Ranutt",
                                    "1": "0",
                                    "2": "807"
                                },
                                {
                                    "0": "Floro",
                                    "1": "0",
                                    "2": "473"
                                },
                                {
                                    "0": "Sokol",
                                    "1": "0",
                                    "2": "395"
                                },
                                {
                                    "0": "Hull",
                                    "1": "0",
                                    "2": "358"
                                },
                                {
                                    "0": "Stark",
                                    "1": "0",
                                    "2": "272"
                                },
                                {
                                    "0": "Okafor",
                                    "1": "0",
                                    "2": "0"
                                },
                                {
                                    "0": "Mathiasen",
                                    "1": "0",
                                    "2": "0"
                                },
                                {
                                    "0": "Ware",
                                    "1": "0",
                                    "2": "0"
                                },
                                {
                                    "0": "Holzer",
                                    "1": "0",
                                    "2": "0"
                                }
                            ]
                        },
                        "text/html": "<table><tr><th>cus_last_name</th><th>tot_ret_item_cnt</th><th>tot_ret_amnt</th></tr><tr><td>Jones</td><td>154</td><td>15702</td></tr><tr><td>Smith</td><td>145</td><td>13823</td></tr><tr><td>Jackson</td><td>109</td><td>8063</td></tr><tr><td>Smith-Warren</td><td>100</td><td>8626</td></tr><tr><td>Thomason</td><td>100</td><td>5547</td></tr><tr><td>Calahan</td><td>98</td><td>8989</td></tr><tr><td>Cooper</td><td>89</td><td>8009</td></tr><tr><td>Deleon</td><td>87</td><td>6077</td></tr><tr><td>Peters</td><td>85</td><td>5638</td></tr><tr><td>Conley</td><td>83</td><td>6698</td></tr><tr><td>Aaronson</td><td>71</td><td>7284</td></tr><tr><td>Banks</td><td>70</td><td>5966</td></tr><tr><td>Saylor</td><td>69</td><td>7396</td></tr><tr><td>Jamieson</td><td>69</td><td>5091</td></tr><tr><td>Tankersly</td><td>67</td><td>4918</td></tr><tr><td>Bangeson</td><td>66</td><td>7121</td></tr><tr><td>Dawson</td><td>66</td><td>5322</td></tr><tr><td>Booker</td><td>66</td><td>3830</td></tr><tr><td>Williamson</td><td>64</td><td>6137</td></tr><tr><td>Slain</td><td>63</td><td>6164</td></tr><tr><td>Barrister</td><td>61</td><td>4226</td></tr><tr><td>Manning</td><td>60</td><td>4498</td></tr><tr><td>Garth</td><td>58</td><td>5175</td></tr><tr><td>Riochardson</td><td>51</td><td>5111</td></tr><tr><td>Monk</td><td>51</td><td>3148</td></tr><tr><td>MacBain</td><td>50</td><td>6022</td></tr><tr><td>Shelton</td><td>49</td><td>5346</td></tr><tr><td>Rice</td><td>49</td><td>3934</td></tr><tr><td>Willis</td><td>49</td><td>2853</td></tr><tr><td>Ellis</td><td>49</td><td>2762</td></tr><tr><td>Applewood</td><td>48</td><td>4261</td></tr><tr><td>Johnasen</td><td>48</td><td>3569</td></tr><tr><td>Ridgley</td><td>47</td><td>4740</td></tr><tr><td>Dewey</td><td>46</td><td>3437</td></tr><tr><td>Hart</td><td>46</td><td>3401</td></tr><tr><td>Connery</td><td>46</td><td>3099</td></tr><tr><td>Manchester</td><td>44</td><td>4903</td></tr><tr><td>Harper</td><td>44</td><td>4191</td></tr><tr><td>Archibald</td><td>42</td><td>3234</td></tr><tr><td>Stevens</td><td>40</td><td>5147</td></tr><tr><td>Delacruz</td><td>40</td><td>3944</td></tr><tr><td>Roberts</td><td>39</td><td>3962</td></tr><tr><td>Maurer</td><td>37</td><td>4779</td></tr><tr><td>Moore</td><td>37</td><td>2306</td></tr><tr><td>Presten</td><td>36</td><td>3551</td></tr><tr><td>Reynolds</td><td>36</td><td>2678</td></tr><tr><td>Robinson</td><td>34</td><td>4079</td></tr><tr><td>Brooks</td><td>33</td><td>2601</td></tr><tr><td>Tompsen</td><td>32</td><td>3594</td></tr><tr><td>French</td><td>32</td><td>3209</td></tr><tr><td>Dickerson</td><td>32</td><td>1512</td></tr><tr><td>Garcia</td><td>30</td><td>2643</td></tr><tr><td>Gonzales</td><td>29</td><td>2508</td></tr><tr><td>Sanchez</td><td>28</td><td>2124</td></tr><tr><td>Rowley</td><td>27</td><td>2828</td></tr><tr><td>Delapena</td><td>27</td><td>2767</td></tr><tr><td>Gorman</td><td>24</td><td>3670</td></tr><tr><td>Jordan</td><td>22</td><td>2703</td></tr><tr><td>Sherman</td><td>21</td><td>1376</td></tr><tr><td>Seiler</td><td>20</td><td>2314</td></tr><tr><td>Etzler</td><td>19</td><td>1285</td></tr><tr><td>Acosta</td><td>15</td><td>1397</td></tr><tr><td>Jiminez</td><td>12</td><td>1732</td></tr><tr><td>Presley</td><td>11</td><td>2496</td></tr><tr><td>Goode</td><td>8</td><td>1871</td></tr><tr><td>Ramirez</td><td>6</td><td>3013</td></tr><tr><td>Barnes</td><td>5</td><td>1539</td></tr><tr><td>Tempest</td><td>5</td><td>1538</td></tr><tr><td>Chandrakat</td><td>5</td><td>1233</td></tr><tr><td>Daniel</td><td>4</td><td>1517</td></tr><tr><td>Kemp</td><td>3</td><td>187</td></tr><tr><td>Atkins</td><td>0</td><td>1845</td></tr><tr><td>Bullock</td><td>0</td><td>1414</td></tr><tr><td>Bohme</td><td>0</td><td>1134</td></tr><tr><td>Biermann</td><td>0</td><td>1059</td></tr><tr><td>Ray</td><td>0</td><td>1015</td></tr><tr><td>Ranutt</td><td>0</td><td>807</td></tr><tr><td>Floro</td><td>0</td><td>473</td></tr><tr><td>Sokol</td><td>0</td><td>395</td></tr><tr><td>Hull</td><td>0</td><td>358</td></tr><tr><td>Stark</td><td>0</td><td>272</td></tr><tr><td>Okafor</td><td>0</td><td>0</td></tr><tr><td>Mathiasen</td><td>0</td><td>0</td></tr><tr><td>Ware</td><td>0</td><td>0</td></tr><tr><td>Holzer</td><td>0</td><td>0</td></tr></table>"
                    },
                    "metadata": {}
                }
            ],
            "execution_count": 34
        },
        {
            "cell_type": "markdown",
            "source": [
                "**Q: How many rows were returned?**\n",
                "\n",
                "```\n",
                "A: 85\n",
                "\n",
                "```"
            ],
            "metadata": {
                "azdata_cell_guid": "0215a7f0-9ae6-48de-8961-8ed47b09e0f3",
                "extensions": {
                    "azuredatastudio": {
                        "views": []
                    }
                }
            },
            "attachments": {}
        },
        {
            "cell_type": "markdown",
            "source": [
                "**Q: Explain in your own words what the last query you wrote accomplished. Why are the results the way they are?**\n",
                "\n",
                "```\n",
                "A: We grouped the results by the customers' last names, however, this is not an accurate representation of how many items were returned or how much the total return amount for each customer was because we grouped multiple customers with the same last name together.\n",
                "\n",
                "```"
            ],
            "metadata": {
                "azdata_cell_guid": "6da058a9-44a4-4ee0-bcf3-c3c17af71d1e",
                "extensions": {
                    "azuredatastudio": {
                        "views": []
                    }
                }
            },
            "attachments": {}
        },
        {
            "cell_type": "markdown",
            "source": [
                "**Q: Amend the above query to return the total amount of returns by customer.**"
            ],
            "metadata": {
                "azdata_cell_guid": "709ecf42-6fb5-4e0f-9cb9-92d2e57a1a64",
                "extensions": {
                    "azuredatastudio": {
                        "views": []
                    }
                }
            },
            "attachments": {}
        },
        {
            "cell_type": "code",
            "source": [
                "SELECT c.cus_last_name\n",
                "      ,c.cus_first_name\n",
                "      ,SUM(r.tot_ret_item_cnt) AS tot_ret_item_cnt\n",
                "FROM dsci_504.racs AS r\n",
                "INNER JOIN dsci_504.customers AS c\n",
                "ON r.cus_id = c.cus_id\n",
                "GROUP BY c.cus_last_name, c.cus_first_name\n",
                "ORDER BY SUM(r.tot_ret_item_cnt) DESC\n",
                "LIMIT 10;\n",
                "\n",
                "SELECT c.cus_last_name\n",
                "      ,c.cus_first_name\n",
                "      ,SUM(r.tot_ret_amnt) AS tot_ret_amnt\n",
                "FROM dsci_504.racs AS r\n",
                "INNER JOIN dsci_504.customers AS c\n",
                "ON r.cus_id = c.cus_id\n",
                "GROUP BY c.cus_last_name, c.cus_first_name\n",
                "ORDER BY SUM(r.tot_ret_amnt) DESC\n",
                "LIMIT 10;\n",
                ""
            ],
            "metadata": {
                "azdata_cell_guid": "d2b8f4b1-9e7c-48e6-a875-9cf1fcb85544",
                "language": "sql"
            },
            "outputs": [
                {
                    "output_type": "display_data",
                    "data": {
                        "text/html": "(10 row(s) affected)"
                    },
                    "metadata": {}
                },
                {
                    "output_type": "display_data",
                    "data": {
                        "text/html": "(10 row(s) affected)"
                    },
                    "metadata": {}
                },
                {
                    "output_type": "display_data",
                    "data": {
                        "text/html": "Total execution time: 00:00:00.015"
                    },
                    "metadata": {}
                },
                {
                    "output_type": "execute_result",
                    "execution_count": 52,
                    "data": {
                        "application/vnd.dataresource+json": {
                            "schema": {
                                "fields": [
                                    {
                                        "name": "cus_last_name"
                                    },
                                    {
                                        "name": "cus_first_name"
                                    },
                                    {
                                        "name": "tot_ret_item_cnt"
                                    }
                                ]
                            },
                            "data": [
                                {
                                    "0": "Thomason",
                                    "1": "Joshua",
                                    "2": "31"
                                },
                                {
                                    "0": "Jones",
                                    "1": "Valerie",
                                    "2": "25"
                                },
                                {
                                    "0": "Slain",
                                    "1": "Abigail",
                                    "2": "24"
                                },
                                {
                                    "0": "Jackson",
                                    "1": "Eric",
                                    "2": "23"
                                },
                                {
                                    "0": "Applewood",
                                    "1": "Mads",
                                    "2": "23"
                                },
                                {
                                    "0": "Deleon",
                                    "1": "Reginald",
                                    "2": "22"
                                },
                                {
                                    "0": "Smith-Warren",
                                    "1": "Blain",
                                    "2": "22"
                                },
                                {
                                    "0": "Moore",
                                    "1": "Joshua",
                                    "2": "22"
                                },
                                {
                                    "0": "Smith",
                                    "1": "Moritz",
                                    "2": "22"
                                },
                                {
                                    "0": "Peters",
                                    "1": "Margo",
                                    "2": "21"
                                }
                            ]
                        },
                        "text/html": "<table><tr><th>cus_last_name</th><th>cus_first_name</th><th>tot_ret_item_cnt</th></tr><tr><td>Thomason</td><td>Joshua</td><td>31</td></tr><tr><td>Jones</td><td>Valerie</td><td>25</td></tr><tr><td>Slain</td><td>Abigail</td><td>24</td></tr><tr><td>Jackson</td><td>Eric</td><td>23</td></tr><tr><td>Applewood</td><td>Mads</td><td>23</td></tr><tr><td>Deleon</td><td>Reginald</td><td>22</td></tr><tr><td>Smith-Warren</td><td>Blain</td><td>22</td></tr><tr><td>Moore</td><td>Joshua</td><td>22</td></tr><tr><td>Smith</td><td>Moritz</td><td>22</td></tr><tr><td>Peters</td><td>Margo</td><td>21</td></tr></table>"
                    },
                    "metadata": {}
                },
                {
                    "output_type": "execute_result",
                    "execution_count": 52,
                    "data": {
                        "application/vnd.dataresource+json": {
                            "schema": {
                                "fields": [
                                    {
                                        "name": "cus_last_name"
                                    },
                                    {
                                        "name": "cus_first_name"
                                    },
                                    {
                                        "name": "tot_ret_amnt"
                                    }
                                ]
                            },
                            "data": [
                                {
                                    "0": "Jones",
                                    "1": "Valerie",
                                    "2": "2723"
                                },
                                {
                                    "0": "Jamieson",
                                    "1": "Adam",
                                    "2": "2030"
                                },
                                {
                                    "0": "Manchester",
                                    "1": "Chris",
                                    "2": "2006"
                                },
                                {
                                    "0": "Manning",
                                    "1": "Nadine",
                                    "2": "1929"
                                },
                                {
                                    "0": "Atkins",
                                    "1": "Wilkie",
                                    "2": "1845"
                                },
                                {
                                    "0": "Banks",
                                    "1": "Margo",
                                    "2": "1813"
                                },
                                {
                                    "0": "Presley",
                                    "1": "Erin",
                                    "2": "1788"
                                },
                                {
                                    "0": "Jones",
                                    "1": "Harper",
                                    "2": "1730"
                                },
                                {
                                    "0": "Jones",
                                    "1": "Alister",
                                    "2": "1718"
                                },
                                {
                                    "0": "Riochardson",
                                    "1": "Chris",
                                    "2": "1717"
                                }
                            ]
                        },
                        "text/html": "<table><tr><th>cus_last_name</th><th>cus_first_name</th><th>tot_ret_amnt</th></tr><tr><td>Jones</td><td>Valerie</td><td>2723</td></tr><tr><td>Jamieson</td><td>Adam</td><td>2030</td></tr><tr><td>Manchester</td><td>Chris</td><td>2006</td></tr><tr><td>Manning</td><td>Nadine</td><td>1929</td></tr><tr><td>Atkins</td><td>Wilkie</td><td>1845</td></tr><tr><td>Banks</td><td>Margo</td><td>1813</td></tr><tr><td>Presley</td><td>Erin</td><td>1788</td></tr><tr><td>Jones</td><td>Harper</td><td>1730</td></tr><tr><td>Jones</td><td>Alister</td><td>1718</td></tr><tr><td>Riochardson</td><td>Chris</td><td>1717</td></tr></table>"
                    },
                    "metadata": {}
                }
            ],
            "execution_count": 52
        },
        {
            "cell_type": "markdown",
            "source": [
                "**Q: Which customer had the most in returns? How much were they?**\n",
                "\n",
                "```\n",
                "A: Joshua Thomas had the most total items returned with 31 items. Valerie Jones had the highest total return amount with $2723.\n",
                "\n",
                "```"
            ],
            "metadata": {
                "azdata_cell_guid": "b6784a14-c2b0-46fa-b14d-7df96f5d21de",
                "extensions": {
                    "azuredatastudio": {
                        "views": []
                    }
                }
            },
            "attachments": {}
        },
        {
            "cell_type": "code",
            "source": [
                "SELECT COUNT(q1.tot_ret_item_cnt)\n",
                "FROM\n",
                "(SELECT c.cus_last_name\n",
                "      ,c.cus_first_name\n",
                "      ,SUM(r.tot_ret_item_cnt) AS tot_ret_item_cnt\n",
                "FROM dsci_504.racs AS r\n",
                "INNER JOIN dsci_504.customers AS c\n",
                "ON r.cus_id = c.cus_id\n",
                "GROUP BY c.cus_last_name, c.cus_first_name) AS q1\n",
                "WHERE q1.tot_ret_item_cnt = 0;"
            ],
            "metadata": {
                "azdata_cell_guid": "a2f1b122-5c88-44e7-8351-1fc36f3f8774",
                "language": "sql",
                "tags": []
            },
            "outputs": [
                {
                    "output_type": "display_data",
                    "data": {
                        "text/html": "(1 row(s) affected)"
                    },
                    "metadata": {}
                },
                {
                    "output_type": "display_data",
                    "data": {
                        "text/html": "Total execution time: 00:00:00.005"
                    },
                    "metadata": {}
                },
                {
                    "output_type": "execute_result",
                    "execution_count": 47,
                    "data": {
                        "application/vnd.dataresource+json": {
                            "schema": {
                                "fields": [
                                    {
                                        "name": "count"
                                    }
                                ]
                            },
                            "data": [
                                {
                                    "0": "316"
                                }
                            ]
                        },
                        "text/html": "<table><tr><th>count</th></tr><tr><td>316</td></tr></table>"
                    },
                    "metadata": {}
                }
            ],
            "execution_count": 47
        },
        {
            "cell_type": "markdown",
            "source": [
                "**Q: How many customers had zero returns?**\n",
                "\n",
                "```\n",
                "A: 316\n",
                "\n",
                "```"
            ],
            "metadata": {
                "azdata_cell_guid": "a0f5bad5-eb9b-437a-a83c-bc8565fd0e10",
                "extensions": {
                    "azuredatastudio": {
                        "views": []
                    }
                }
            },
            "attachments": {}
        },
        {
            "cell_type": "markdown",
            "source": [
                "**Part 10: Often times it is benefical to easily bin your customers into segments for further analysis. First, create a new column in the customers table to hold the new data. Name the column \"cus\\_app\\_lvl\" for Customer Appreciation Level and make it 10 variable characters in size. Select the range of unique customer appreciation codes then create three bins of codes consisting of \"low\", \"moderate\", and \"high\" appreciation levels. For reference, customer appreciation codes will not exceed 25. To make sure there are no inherent outliers, be sure to widen teh third quartile of your range and keep a widened inner quartile range.**"
            ],
            "metadata": {
                "azdata_cell_guid": "38304f38-8a41-487c-9322-cc424fa32718"
            },
            "attachments": {}
        },
        {
            "cell_type": "code",
            "source": [
                "ALTER TABLE dsci_504.customers\n",
                "ADD COLUMN cus_app_lvl VARCHAR(10);\n",
                "\n",
                "/* Not sure if these are the best bins, but I chose these numbers based on the loyalty levels\n",
                "in Part 11. */\n",
                "\n",
                "UPDATE dsci_504.customers\n",
                "SET cus_app_lvl = CASE\n",
                "WHEN cus_app_cd <= 3 THEN 'high'\n",
                "WHEN cus_app_cd > 3 AND cus_app_cd <= 7 THEN 'moderate'\n",
                "WHEN cus_app_cd > 7 AND cus_app_cd <= 25 THEN 'low'\n",
                "END;"
            ],
            "metadata": {
                "azdata_cell_guid": "a041b255-c967-4485-88c5-4d3274e2c498",
                "language": "sql",
                "tags": []
            },
            "outputs": [
                {
                    "output_type": "display_data",
                    "data": {
                        "text/html": "Commands completed successfully"
                    },
                    "metadata": {}
                },
                {
                    "output_type": "display_data",
                    "data": {
                        "text/html": "Total execution time: 00:00:00.019"
                    },
                    "metadata": {}
                }
            ],
            "execution_count": 72
        },
        {
            "cell_type": "markdown",
            "source": [
                "**Test your query by querying the count of all 'Low' customer appreciation customers in the customers table**"
            ],
            "metadata": {
                "azdata_cell_guid": "dc15da71-b3bd-4827-97a1-5a7b34ae8998",
                "extensions": {
                    "azuredatastudio": {
                        "views": []
                    }
                }
            },
            "attachments": {}
        },
        {
            "cell_type": "code",
            "source": [
                "SELECT COUNT(c.cus_app_lvl)\n",
                "FROM dsci_504.customers AS c\n",
                "WHERE c.cus_app_lvl = 'low';"
            ],
            "metadata": {
                "azdata_cell_guid": "8a3b5371-af8e-4c75-ba25-50e54d150005",
                "language": "sql"
            },
            "outputs": [
                {
                    "output_type": "display_data",
                    "data": {
                        "text/html": "(1 row(s) affected)"
                    },
                    "metadata": {}
                },
                {
                    "output_type": "display_data",
                    "data": {
                        "text/html": "Total execution time: 00:00:00.003"
                    },
                    "metadata": {}
                },
                {
                    "output_type": "execute_result",
                    "execution_count": 73,
                    "data": {
                        "application/vnd.dataresource+json": {
                            "schema": {
                                "fields": [
                                    {
                                        "name": "count"
                                    }
                                ]
                            },
                            "data": [
                                {
                                    "0": "14"
                                }
                            ]
                        },
                        "text/html": "<table><tr><th>count</th></tr><tr><td>14</td></tr></table>"
                    },
                    "metadata": {}
                }
            ],
            "execution_count": 73
        },
        {
            "cell_type": "markdown",
            "source": [
                "**Q: How many low appreciation customers are there?**\n",
                "\n",
                "```\n",
                "A: 14\n",
                "\n",
                "```"
            ],
            "metadata": {
                "azdata_cell_guid": "7f101f96-7c5c-4da0-a504-f67b15e66108",
                "extensions": {
                    "azuredatastudio": {
                        "views": []
                    }
                }
            },
            "attachments": {}
        },
        {
            "cell_type": "markdown",
            "source": [
                "**Q:  Perform additional queries and determine which customer appreciation level class has the most customers. Output the results as a bar chart to determine the type of skew the data has. Use the following settings:**\n",
                "\n",
                "- **Data Direction: Vertical**\n",
                "- **Y Axis Label: Count of Customers**\n",
                "- **Y Axis Max: 1500**\n",
                "- **Y Axis Min: 0**\n",
                "- **X Axis Label: Customer Appreciation Level**\n",
                "- **Legend Location: Bottom**"
            ],
            "metadata": {
                "azdata_cell_guid": "b3b8e5e5-0bad-4496-abda-7b1c352516e1",
                "extensions": {
                    "azuredatastudio": {
                        "views": []
                    }
                }
            },
            "attachments": {}
        },
        {
            "cell_type": "code",
            "source": [
                "SELECT c.cus_app_lvl\n",
                "      ,COUNT(c.cus_app_lvl) AS cus_app_lvl\n",
                "FROM dsci_504.customers AS c \n",
                "GROUP BY c.cus_app_lvl\n",
                "ORDER BY c.cus_app_lvl = 'high'\n",
                "        ,c.cus_app_lvl = 'moderate'\n",
                "        ,c.cus_app_lvl = 'low';"
            ],
            "metadata": {
                "azdata_cell_guid": "dce2a00c-c1f2-42b1-b897-ba9bbdd98230",
                "language": "sql",
                "tags": []
            },
            "outputs": [
                {
                    "output_type": "display_data",
                    "data": {
                        "text/html": "(3 row(s) affected)"
                    },
                    "metadata": {}
                },
                {
                    "output_type": "display_data",
                    "data": {
                        "text/html": "Total execution time: 00:00:00.004"
                    },
                    "metadata": {}
                },
                {
                    "output_type": "execute_result",
                    "execution_count": 74,
                    "data": {
                        "application/vnd.dataresource+json": {
                            "schema": {
                                "fields": [
                                    {
                                        "name": "cus_app_lvl"
                                    },
                                    {
                                        "name": "cus_app_lvl"
                                    }
                                ]
                            },
                            "data": [
                                {
                                    "0": "low",
                                    "1": "14"
                                },
                                {
                                    "0": "moderate",
                                    "1": "1471"
                                },
                                {
                                    "0": "high",
                                    "1": "1134"
                                }
                            ]
                        },
                        "text/html": "<table><tr><th>cus_app_lvl</th><th>cus_app_lvl</th></tr><tr><td>low</td><td>14</td></tr><tr><td>moderate</td><td>1471</td></tr><tr><td>high</td><td>1134</td></tr></table>"
                    },
                    "metadata": {
                        "azdata_chartOptions": {
                            "type": "bar",
                            "dataDirection": "vertical",
                            "columnsAsLabels": true,
                            "labelFirstColumn": false,
                            "legendPosition": "bottom",
                            "yAxisLabel": "Count of Customers",
                            "yAxisMin": 0,
                            "yAxisMax": 1500,
                            "xAxisLabel": "Customer Appreciation Level"
                        }
                    }
                }
            ],
            "execution_count": 74
        },
        {
            "cell_type": "markdown",
            "source": [
                "**Q: Which apprecaition class has the most customers?**\n",
                "\n",
                "```\n",
                "A: Low\n",
                "\n",
                "```"
            ],
            "metadata": {
                "azdata_cell_guid": "2904b851-c5e4-46fd-a0f9-4634f3f6ae41",
                "extensions": {
                    "azuredatastudio": {
                        "views": []
                    }
                }
            },
            "attachments": {}
        },
        {
            "cell_type": "markdown",
            "source": [
                "**Part 11: Write a conditional query using a CASE statement to display a column that labels customers as 'Loyal', 'Fence', 'Potential Churn', 'Imminent Churn' or 'Undetermined' based on their customer appreciation code (see list below). Be sure to return appropriate customer demographics with the result.**\n",
                "\n",
                "1. **3or less = Loyal**\n",
                "2. **Greater than 3 but less than 7 = Fence**\n",
                "3. **7 or greater but less than or equal to 10 = Potential Churn**\n",
                "4. **Greater than 10 = Imminent Churn**\n",
                "5. **Other = Undetermined**"
            ],
            "metadata": {
                "azdata_cell_guid": "aa70a980-a949-4e1a-a14b-3c50563ecdea",
                "extensions": {
                    "azuredatastudio": {
                        "views": []
                    }
                }
            },
            "attachments": {}
        },
        {
            "cell_type": "code",
            "source": [
                "ALTER TABLE dsci_504.customers\n",
                "ADD COLUMN cus_loyalty VARCHAR(20);\n",
                "\n",
                "UPDATE dsci_504.customers\n",
                "SET cus_loyalty = CASE\n",
                "WHEN cus_app_cd <= 3 THEN 'Loyal'\n",
                "WHEN cus_app_cd > 3 AND cus_app_cd < 7 THEN 'Fence'\n",
                "WHEN cus_app_cd >= 7 AND cus_app_cd <= 10 THEN 'Potential Churn'\n",
                "WHEN cus_app_cd > 10 THEN 'Imminent Churn'\n",
                "ELSE 'Undetermined'\n",
                "END;\n",
                "\n",
                "SELECT c.cus_loyalty\n",
                "      ,COUNT(c.cus_loyalty) AS cus_loyalty\n",
                "FROM dsci_504.customers AS c \n",
                "GROUP BY c.cus_loyalty;\n",
                "\n",
                "SELECT c.cus_id\n",
                "      ,c.cus_loyalty\n",
                "FROM dsci_504.customers AS c \n",
                "LIMIT 5;\n",
                ""
            ],
            "metadata": {
                "azdata_cell_guid": "7e3b05e1-04ad-40ee-9ddc-671a187a4745",
                "language": "sql",
                "tags": []
            },
            "outputs": [
                {
                    "output_type": "display_data",
                    "data": {
                        "text/html": "Commands completed successfully"
                    },
                    "metadata": {}
                },
                {
                    "output_type": "display_data",
                    "data": {
                        "text/html": "(4 row(s) affected)"
                    },
                    "metadata": {}
                },
                {
                    "output_type": "display_data",
                    "data": {
                        "text/html": "(5 row(s) affected)"
                    },
                    "metadata": {}
                },
                {
                    "output_type": "display_data",
                    "data": {
                        "text/html": "Total execution time: 00:00:00.028"
                    },
                    "metadata": {}
                },
                {
                    "output_type": "execute_result",
                    "execution_count": 82,
                    "data": {
                        "application/vnd.dataresource+json": {
                            "schema": {
                                "fields": [
                                    {
                                        "name": "cus_loyalty"
                                    },
                                    {
                                        "name": "cus_loyalty"
                                    }
                                ]
                            },
                            "data": [
                                {
                                    "0": "Loyal",
                                    "1": "1134"
                                },
                                {
                                    "0": "Fence",
                                    "1": "1108"
                                },
                                {
                                    "0": "Potential Churn",
                                    "1": "366"
                                },
                                {
                                    "0": "Imminent Churn",
                                    "1": "11"
                                }
                            ]
                        },
                        "text/html": "<table><tr><th>cus_loyalty</th><th>cus_loyalty</th></tr><tr><td>Loyal</td><td>1134</td></tr><tr><td>Fence</td><td>1108</td></tr><tr><td>Potential Churn</td><td>366</td></tr><tr><td>Imminent Churn</td><td>11</td></tr></table>"
                    },
                    "metadata": {}
                },
                {
                    "output_type": "execute_result",
                    "execution_count": 82,
                    "data": {
                        "application/vnd.dataresource+json": {
                            "schema": {
                                "fields": [
                                    {
                                        "name": "cus_id"
                                    },
                                    {
                                        "name": "cus_loyalty"
                                    }
                                ]
                            },
                            "data": [
                                {
                                    "0": "194",
                                    "1": "Loyal"
                                },
                                {
                                    "0": "730",
                                    "1": "Potential Churn"
                                },
                                {
                                    "0": "731",
                                    "1": "Fence"
                                },
                                {
                                    "0": "732",
                                    "1": "Fence"
                                },
                                {
                                    "0": "733",
                                    "1": "Loyal"
                                }
                            ]
                        },
                        "text/html": "<table><tr><th>cus_id</th><th>cus_loyalty</th></tr><tr><td>194</td><td>Loyal</td></tr><tr><td>730</td><td>Potential Churn</td></tr><tr><td>731</td><td>Fence</td></tr><tr><td>732</td><td>Fence</td></tr><tr><td>733</td><td>Loyal</td></tr></table>"
                    },
                    "metadata": {}
                }
            ],
            "execution_count": 82
        },
        {
            "cell_type": "markdown",
            "source": [
                "**Q: What is the customer ID of the 5th record returned in the result?**\n",
                "\n",
                "```\n",
                "A: 733\n",
                "\n",
                "```"
            ],
            "metadata": {
                "azdata_cell_guid": "a7c30459-6d2b-45d7-9cf1-f4436d58df75",
                "extensions": {
                    "azuredatastudio": {
                        "views": []
                    }
                }
            },
            "attachments": {}
        },
        {
            "cell_type": "markdown",
            "source": [
                "**Part 12: Write a conditional query that identifies each warehouse as Northeast, South, West, or Non-Regional and compare which warehouses all orders from Ohio were shipped from. Include the customer ID, state, and warehouse region in your output. You may need to llok ahead to the JOIN lessons to complete this query.**"
            ],
            "metadata": {
                "azdata_cell_guid": "fc4414df-19eb-4abc-a988-36a171939702",
                "extensions": {
                    "azuredatastudio": {
                        "views": []
                    }
                }
            },
            "attachments": {}
        },
        {
            "cell_type": "code",
            "source": [
                "/*The warehouses are in the following areas: \n",
                "\n",
                "-Columbus, Ohio : Midwest\n",
                "-Sacremento, California: West\n",
                "-Dallas, Texas : South\n",
                "\n",
                "I am going to assume that the instructions meant Midwest and not Northeast since there are\n",
                "no warehouses in that region. */\n",
                "\n",
                "ALTER TABLE dsci_504.warehouses\n",
                "ADD COLUMN region VARCHAR(15);\n",
                "UPDATE dsci_504.warehouses\n",
                "SET region = CASE\n",
                "WHEN warehouse_id = 1 THEN 'West'\n",
                "WHEN warehouse_id = 2 THEN 'South'\n",
                "WHEN warehouse_id = 3 THEN 'Midwest'\n",
                "ELSE 'Non-Regional'\n",
                "END;\n",
                "\n",
                "--All Ohio orders with regional information.\n",
                "SELECT q2.cus_id\n",
                "      ,q2.state\n",
                "      ,w.region\n",
                "FROM\n",
                "(SELECT q1.cus_id\n",
                "      ,s.state\n",
                "      ,q1.warehouse_id\n",
                "FROM\n",
                "(SELECT c.cus_id\n",
                "       ,c.cus_state\n",
                "       ,o.warehouse_id\n",
                "FROM dsci_504.customers AS c \n",
                "INNER JOIN dsci_504.orders AS o\n",
                "ON c.cus_id = o.cus_id) AS q1\n",
                "INNER JOIN dsci_504.states AS s\n",
                "ON q1.cus_state = s.state_id\n",
                "WHERE s.state = 'OH') AS q2\n",
                "INNER JOIN dsci_504.warehouses AS w\n",
                "ON w.warehouse_id = q2.warehouse_id;\n",
                "\n",
                "--Number of Ohio Orders for Each Warehouse Region\n",
                "SELECT w.region\n",
                "      ,COUNT(w.region) AS ohio_orders\n",
                "FROM\n",
                "(SELECT q1.cus_id\n",
                "      ,s.state\n",
                "      ,q1.warehouse_id\n",
                "FROM\n",
                "(SELECT c.cus_id\n",
                "       ,c.cus_state\n",
                "       ,o.warehouse_id\n",
                "FROM dsci_504.customers AS c \n",
                "INNER JOIN dsci_504.orders AS o\n",
                "ON c.cus_id = o.cus_id) AS q1\n",
                "INNER JOIN dsci_504.states AS s\n",
                "ON q1.cus_state = s.state_id\n",
                "WHERE s.state = 'OH') AS q2\n",
                "INNER JOIN dsci_504.warehouses AS w\n",
                "ON w.warehouse_id = q2.warehouse_id\n",
                "GROUP BY w.region;\n",
                ""
            ],
            "metadata": {
                "azdata_cell_guid": "b96b4e98-0d77-4d6a-be42-1c6735d3c14e",
                "language": "sql",
                "tags": []
            },
            "outputs": [
                {
                    "output_type": "display_data",
                    "data": {
                        "text/html": "Commands completed successfully"
                    },
                    "metadata": {}
                },
                {
                    "output_type": "display_data",
                    "data": {
                        "text/html": "(87 row(s) affected)"
                    },
                    "metadata": {}
                },
                {
                    "output_type": "display_data",
                    "data": {
                        "text/html": "(3 row(s) affected)"
                    },
                    "metadata": {}
                },
                {
                    "output_type": "display_data",
                    "data": {
                        "text/html": "Total execution time: 00:00:00.010"
                    },
                    "metadata": {}
                },
                {
                    "output_type": "execute_result",
                    "execution_count": 122,
                    "data": {
                        "application/vnd.dataresource+json": {
                            "schema": {
                                "fields": [
                                    {
                                        "name": "cus_id"
                                    },
                                    {
                                        "name": "state"
                                    },
                                    {
                                        "name": "region"
                                    }
                                ]
                            },
                            "data": [
                                {
                                    "0": "795",
                                    "1": "OH",
                                    "2": "South"
                                },
                                {
                                    "0": "851",
                                    "1": "OH",
                                    "2": "West"
                                },
                                {
                                    "0": "898",
                                    "1": "OH",
                                    "2": "Midwest"
                                },
                                {
                                    "0": "925",
                                    "1": "OH",
                                    "2": "South"
                                },
                                {
                                    "0": "1043",
                                    "1": "OH",
                                    "2": "Midwest"
                                },
                                {
                                    "0": "1048",
                                    "1": "OH",
                                    "2": "South"
                                },
                                {
                                    "0": "1119",
                                    "1": "OH",
                                    "2": "West"
                                },
                                {
                                    "0": "1124",
                                    "1": "OH",
                                    "2": "West"
                                },
                                {
                                    "0": "1159",
                                    "1": "OH",
                                    "2": "West"
                                },
                                {
                                    "0": "1168",
                                    "1": "OH",
                                    "2": "West"
                                },
                                {
                                    "0": "1233",
                                    "1": "OH",
                                    "2": "South"
                                },
                                {
                                    "0": "1263",
                                    "1": "OH",
                                    "2": "Midwest"
                                },
                                {
                                    "0": "1281",
                                    "1": "OH",
                                    "2": "South"
                                },
                                {
                                    "0": "1303",
                                    "1": "OH",
                                    "2": "South"
                                },
                                {
                                    "0": "1309",
                                    "1": "OH",
                                    "2": "South"
                                },
                                {
                                    "0": "1358",
                                    "1": "OH",
                                    "2": "South"
                                },
                                {
                                    "0": "1366",
                                    "1": "OH",
                                    "2": "Midwest"
                                },
                                {
                                    "0": "1369",
                                    "1": "OH",
                                    "2": "West"
                                },
                                {
                                    "0": "1392",
                                    "1": "OH",
                                    "2": "South"
                                },
                                {
                                    "0": "1414",
                                    "1": "OH",
                                    "2": "Midwest"
                                },
                                {
                                    "0": "1435",
                                    "1": "OH",
                                    "2": "Midwest"
                                },
                                {
                                    "0": "1482",
                                    "1": "OH",
                                    "2": "Midwest"
                                },
                                {
                                    "0": "1526",
                                    "1": "OH",
                                    "2": "Midwest"
                                },
                                {
                                    "0": "1540",
                                    "1": "OH",
                                    "2": "West"
                                },
                                {
                                    "0": "1624",
                                    "1": "OH",
                                    "2": "Midwest"
                                },
                                {
                                    "0": "1630",
                                    "1": "OH",
                                    "2": "South"
                                },
                                {
                                    "0": "1636",
                                    "1": "OH",
                                    "2": "Midwest"
                                },
                                {
                                    "0": "379",
                                    "1": "OH",
                                    "2": "West"
                                },
                                {
                                    "0": "1671",
                                    "1": "OH",
                                    "2": "South"
                                },
                                {
                                    "0": "1673",
                                    "1": "OH",
                                    "2": "West"
                                },
                                {
                                    "0": "1684",
                                    "1": "OH",
                                    "2": "Midwest"
                                },
                                {
                                    "0": "1687",
                                    "1": "OH",
                                    "2": "South"
                                },
                                {
                                    "0": "1696",
                                    "1": "OH",
                                    "2": "Midwest"
                                },
                                {
                                    "0": "1718",
                                    "1": "OH",
                                    "2": "South"
                                },
                                {
                                    "0": "1738",
                                    "1": "OH",
                                    "2": "West"
                                },
                                {
                                    "0": "1791",
                                    "1": "OH",
                                    "2": "Midwest"
                                },
                                {
                                    "0": "1815",
                                    "1": "OH",
                                    "2": "South"
                                },
                                {
                                    "0": "1823",
                                    "1": "OH",
                                    "2": "Midwest"
                                },
                                {
                                    "0": "1837",
                                    "1": "OH",
                                    "2": "West"
                                },
                                {
                                    "0": "1926",
                                    "1": "OH",
                                    "2": "West"
                                },
                                {
                                    "0": "1934",
                                    "1": "OH",
                                    "2": "Midwest"
                                },
                                {
                                    "0": "1953",
                                    "1": "OH",
                                    "2": "West"
                                },
                                {
                                    "0": "1959",
                                    "1": "OH",
                                    "2": "West"
                                },
                                {
                                    "0": "1965",
                                    "1": "OH",
                                    "2": "Midwest"
                                },
                                {
                                    "0": "391",
                                    "1": "OH",
                                    "2": "West"
                                },
                                {
                                    "0": "392",
                                    "1": "OH",
                                    "2": "West"
                                },
                                {
                                    "0": "2065",
                                    "1": "OH",
                                    "2": "South"
                                },
                                {
                                    "0": "2116",
                                    "1": "OH",
                                    "2": "South"
                                },
                                {
                                    "0": "2162",
                                    "1": "OH",
                                    "2": "West"
                                },
                                {
                                    "0": "2245",
                                    "1": "OH",
                                    "2": "West"
                                },
                                {
                                    "0": "2261",
                                    "1": "OH",
                                    "2": "Midwest"
                                },
                                {
                                    "0": "2274",
                                    "1": "OH",
                                    "2": "West"
                                },
                                {
                                    "0": "2282",
                                    "1": "OH",
                                    "2": "West"
                                },
                                {
                                    "0": "2292",
                                    "1": "OH",
                                    "2": "West"
                                },
                                {
                                    "0": "2294",
                                    "1": "OH",
                                    "2": "West"
                                },
                                {
                                    "0": "2396",
                                    "1": "OH",
                                    "2": "South"
                                },
                                {
                                    "0": "8",
                                    "1": "OH",
                                    "2": "Midwest"
                                },
                                {
                                    "0": "1109",
                                    "1": "OH",
                                    "2": "Midwest"
                                },
                                {
                                    "0": "2443",
                                    "1": "OH",
                                    "2": "West"
                                },
                                {
                                    "0": "2490",
                                    "1": "OH",
                                    "2": "Midwest"
                                },
                                {
                                    "0": "2494",
                                    "1": "OH",
                                    "2": "West"
                                },
                                {
                                    "0": "2522",
                                    "1": "OH",
                                    "2": "West"
                                },
                                {
                                    "0": "97",
                                    "1": "OH",
                                    "2": "West"
                                },
                                {
                                    "0": "2575",
                                    "1": "OH",
                                    "2": "West"
                                },
                                {
                                    "0": "1824",
                                    "1": "OH",
                                    "2": "West"
                                },
                                {
                                    "0": "2447",
                                    "1": "OH",
                                    "2": "West"
                                },
                                {
                                    "0": "289",
                                    "1": "OH",
                                    "2": "South"
                                },
                                {
                                    "0": "480",
                                    "1": "OH",
                                    "2": "West"
                                },
                                {
                                    "0": "62",
                                    "1": "OH",
                                    "2": "West"
                                },
                                {
                                    "0": "47",
                                    "1": "OH",
                                    "2": "South"
                                },
                                {
                                    "0": "204",
                                    "1": "OH",
                                    "2": "West"
                                },
                                {
                                    "0": "288",
                                    "1": "OH",
                                    "2": "West"
                                },
                                {
                                    "0": "484",
                                    "1": "OH",
                                    "2": "South"
                                },
                                {
                                    "0": "504",
                                    "1": "OH",
                                    "2": "South"
                                },
                                {
                                    "0": "427",
                                    "1": "OH",
                                    "2": "South"
                                },
                                {
                                    "0": "428",
                                    "1": "OH",
                                    "2": "South"
                                },
                                {
                                    "0": "75",
                                    "1": "OH",
                                    "2": "West"
                                },
                                {
                                    "0": "322",
                                    "1": "OH",
                                    "2": "South"
                                },
                                {
                                    "0": "312",
                                    "1": "OH",
                                    "2": "West"
                                },
                                {
                                    "0": "928",
                                    "1": "OH",
                                    "2": "South"
                                },
                                {
                                    "0": "471",
                                    "1": "OH",
                                    "2": "South"
                                },
                                {
                                    "0": "689",
                                    "1": "OH",
                                    "2": "West"
                                },
                                {
                                    "0": "709",
                                    "1": "OH",
                                    "2": "South"
                                },
                                {
                                    "0": "718",
                                    "1": "OH",
                                    "2": "South"
                                },
                                {
                                    "0": "720",
                                    "1": "OH",
                                    "2": "South"
                                },
                                {
                                    "0": "327",
                                    "1": "OH",
                                    "2": "Midwest"
                                },
                                {
                                    "0": "2570",
                                    "1": "OH",
                                    "2": "Midwest"
                                }
                            ]
                        },
                        "text/html": "<table><tr><th>cus_id</th><th>state</th><th>region</th></tr><tr><td>795</td><td>OH</td><td>South</td></tr><tr><td>851</td><td>OH</td><td>West</td></tr><tr><td>898</td><td>OH</td><td>Midwest</td></tr><tr><td>925</td><td>OH</td><td>South</td></tr><tr><td>1043</td><td>OH</td><td>Midwest</td></tr><tr><td>1048</td><td>OH</td><td>South</td></tr><tr><td>1119</td><td>OH</td><td>West</td></tr><tr><td>1124</td><td>OH</td><td>West</td></tr><tr><td>1159</td><td>OH</td><td>West</td></tr><tr><td>1168</td><td>OH</td><td>West</td></tr><tr><td>1233</td><td>OH</td><td>South</td></tr><tr><td>1263</td><td>OH</td><td>Midwest</td></tr><tr><td>1281</td><td>OH</td><td>South</td></tr><tr><td>1303</td><td>OH</td><td>South</td></tr><tr><td>1309</td><td>OH</td><td>South</td></tr><tr><td>1358</td><td>OH</td><td>South</td></tr><tr><td>1366</td><td>OH</td><td>Midwest</td></tr><tr><td>1369</td><td>OH</td><td>West</td></tr><tr><td>1392</td><td>OH</td><td>South</td></tr><tr><td>1414</td><td>OH</td><td>Midwest</td></tr><tr><td>1435</td><td>OH</td><td>Midwest</td></tr><tr><td>1482</td><td>OH</td><td>Midwest</td></tr><tr><td>1526</td><td>OH</td><td>Midwest</td></tr><tr><td>1540</td><td>OH</td><td>West</td></tr><tr><td>1624</td><td>OH</td><td>Midwest</td></tr><tr><td>1630</td><td>OH</td><td>South</td></tr><tr><td>1636</td><td>OH</td><td>Midwest</td></tr><tr><td>379</td><td>OH</td><td>West</td></tr><tr><td>1671</td><td>OH</td><td>South</td></tr><tr><td>1673</td><td>OH</td><td>West</td></tr><tr><td>1684</td><td>OH</td><td>Midwest</td></tr><tr><td>1687</td><td>OH</td><td>South</td></tr><tr><td>1696</td><td>OH</td><td>Midwest</td></tr><tr><td>1718</td><td>OH</td><td>South</td></tr><tr><td>1738</td><td>OH</td><td>West</td></tr><tr><td>1791</td><td>OH</td><td>Midwest</td></tr><tr><td>1815</td><td>OH</td><td>South</td></tr><tr><td>1823</td><td>OH</td><td>Midwest</td></tr><tr><td>1837</td><td>OH</td><td>West</td></tr><tr><td>1926</td><td>OH</td><td>West</td></tr><tr><td>1934</td><td>OH</td><td>Midwest</td></tr><tr><td>1953</td><td>OH</td><td>West</td></tr><tr><td>1959</td><td>OH</td><td>West</td></tr><tr><td>1965</td><td>OH</td><td>Midwest</td></tr><tr><td>391</td><td>OH</td><td>West</td></tr><tr><td>392</td><td>OH</td><td>West</td></tr><tr><td>2065</td><td>OH</td><td>South</td></tr><tr><td>2116</td><td>OH</td><td>South</td></tr><tr><td>2162</td><td>OH</td><td>West</td></tr><tr><td>2245</td><td>OH</td><td>West</td></tr><tr><td>2261</td><td>OH</td><td>Midwest</td></tr><tr><td>2274</td><td>OH</td><td>West</td></tr><tr><td>2282</td><td>OH</td><td>West</td></tr><tr><td>2292</td><td>OH</td><td>West</td></tr><tr><td>2294</td><td>OH</td><td>West</td></tr><tr><td>2396</td><td>OH</td><td>South</td></tr><tr><td>8</td><td>OH</td><td>Midwest</td></tr><tr><td>1109</td><td>OH</td><td>Midwest</td></tr><tr><td>2443</td><td>OH</td><td>West</td></tr><tr><td>2490</td><td>OH</td><td>Midwest</td></tr><tr><td>2494</td><td>OH</td><td>West</td></tr><tr><td>2522</td><td>OH</td><td>West</td></tr><tr><td>97</td><td>OH</td><td>West</td></tr><tr><td>2575</td><td>OH</td><td>West</td></tr><tr><td>1824</td><td>OH</td><td>West</td></tr><tr><td>2447</td><td>OH</td><td>West</td></tr><tr><td>289</td><td>OH</td><td>South</td></tr><tr><td>480</td><td>OH</td><td>West</td></tr><tr><td>62</td><td>OH</td><td>West</td></tr><tr><td>47</td><td>OH</td><td>South</td></tr><tr><td>204</td><td>OH</td><td>West</td></tr><tr><td>288</td><td>OH</td><td>West</td></tr><tr><td>484</td><td>OH</td><td>South</td></tr><tr><td>504</td><td>OH</td><td>South</td></tr><tr><td>427</td><td>OH</td><td>South</td></tr><tr><td>428</td><td>OH</td><td>South</td></tr><tr><td>75</td><td>OH</td><td>West</td></tr><tr><td>322</td><td>OH</td><td>South</td></tr><tr><td>312</td><td>OH</td><td>West</td></tr><tr><td>928</td><td>OH</td><td>South</td></tr><tr><td>471</td><td>OH</td><td>South</td></tr><tr><td>689</td><td>OH</td><td>West</td></tr><tr><td>709</td><td>OH</td><td>South</td></tr><tr><td>718</td><td>OH</td><td>South</td></tr><tr><td>720</td><td>OH</td><td>South</td></tr><tr><td>327</td><td>OH</td><td>Midwest</td></tr><tr><td>2570</td><td>OH</td><td>Midwest</td></tr></table>"
                    },
                    "metadata": {}
                },
                {
                    "output_type": "execute_result",
                    "execution_count": 122,
                    "data": {
                        "application/vnd.dataresource+json": {
                            "schema": {
                                "fields": [
                                    {
                                        "name": "region"
                                    },
                                    {
                                        "name": "ohio_orders"
                                    }
                                ]
                            },
                            "data": [
                                {
                                    "0": "Midwest",
                                    "1": "22"
                                },
                                {
                                    "0": "South",
                                    "1": "29"
                                },
                                {
                                    "0": "West",
                                    "1": "36"
                                }
                            ]
                        },
                        "text/html": "<table><tr><th>region</th><th>ohio_orders</th></tr><tr><td>Midwest</td><td>22</td></tr><tr><td>South</td><td>29</td></tr><tr><td>West</td><td>36</td></tr></table>"
                    },
                    "metadata": {}
                }
            ],
            "execution_count": 122
        },
        {
            "cell_type": "markdown",
            "source": [
                "**Q: How many orders were shipped to Ohio customers?**\n",
                "\n",
                "```\n",
                "A: 87\n",
                "\n",
                "```"
            ],
            "metadata": {
                "azdata_cell_guid": "7ff42deb-3f09-4517-b2c9-c1ab86ebb70d",
                "extensions": {
                    "azuredatastudio": {
                        "views": []
                    }
                }
            },
            "attachments": {}
        },
        {
            "cell_type": "markdown",
            "source": [
                "**Q: Summarize what you learned about using aggregates and CASE statements. Explain some insightful facts you were able to identify in your outputs today.**\n",
                "\n",
                "```\n",
                "A: I learned that aggregate functions must be used with the group by clause. I also learned that aggregate functions cannot be nested. Regarding CASE statements, I learned that they exist! I did not know this before, but they have become a helpful tool for categorizing values in different columns. Some insightful facts I learned from this assignment were that some companies evaluate their customers based on their appreciation and loyalty, which is usefult if you want to gauge a company's customer retention. \n",
                "\n",
                "```"
            ],
            "metadata": {
                "azdata_cell_guid": "a1380fe7-30ec-4e5a-8596-9ec3ac4357f8",
                "extensions": {
                    "azuredatastudio": {
                        "views": []
                    }
                }
            },
            "attachments": {}
        }
    ]
}
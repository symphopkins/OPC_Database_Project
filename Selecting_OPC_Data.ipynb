{
    "metadata": {
        "kernelspec": {
            "name": "SQL",
            "display_name": "SQL",
            "language": "sql"
        },
        "language_info": {
            "name": "sql",
            "version": ""
        },
        "extensions": {
            "azuredatastudio": {
                "version": 1,
                "views": []
            }
        }
    },
    "nbformat_minor": 2,
    "nbformat": 4,
    "cells": [
        {
            "cell_type": "markdown",
            "source": [
                "# Assignment 3: Selecting OPC Data For Review\n",
                "\n",
                "## DSCI 504: Intro to SQL\n",
                "\n",
                "Symphony Hopkins\n",
                "\n",
                "September 6, 2022"
            ],
            "metadata": {
                "azdata_cell_guid": "761f3144-f0c8-4b3c-968a-09f4726adce5",
                "extensions": {
                    "azuredatastudio": {
                        "views": []
                    }
                }
            },
            "attachments": {}
        },
        {
            "cell_type": "markdown",
            "source": [
                "**Step 1: Use a SELECT query to select all records from the customer table. Limit the displayed results to 10 records.**"
            ],
            "metadata": {
                "azdata_cell_guid": "e9cc3667-0039-49a5-aa57-352316c53893",
                "extensions": {
                    "azuredatastudio": {
                        "views": []
                    }
                }
            },
            "attachments": {}
        },
        {
            "cell_type": "code",
            "source": [
                "SELECT c.cus_id\n",
                "      ,cus_city\n",
                "FROM dsci_504.customers AS c\n",
                "LIMIT 10;"
            ],
            "metadata": {
                "azdata_cell_guid": "9401052c-39df-4c2a-a24e-6433de125cd7",
                "language": "sql"
            },
            "outputs": [
                {
                    "output_type": "display_data",
                    "data": {
                        "text/html": "(10 row(s) affected)"
                    },
                    "metadata": {}
                },
                {
                    "output_type": "display_data",
                    "data": {
                        "text/html": "Total execution time: 00:00:00.005"
                    },
                    "metadata": {}
                },
                {
                    "output_type": "execute_result",
                    "execution_count": 12,
                    "data": {
                        "application/vnd.dataresource+json": {
                            "schema": {
                                "fields": [
                                    {
                                        "name": "cus_id"
                                    },
                                    {
                                        "name": "cus_city"
                                    }
                                ]
                            },
                            "data": [
                                {
                                    "0": "2600",
                                    "1": "Hattiesburg"
                                },
                                {
                                    "0": "2601",
                                    "1": "Oswego"
                                },
                                {
                                    "0": "2602",
                                    "1": "Salt Lake City"
                                },
                                {
                                    "0": "2603",
                                    "1": "Coram"
                                },
                                {
                                    "0": "2604",
                                    "1": "Pataskala"
                                },
                                {
                                    "0": "2605",
                                    "1": "Southampton"
                                },
                                {
                                    "0": "2606",
                                    "1": "Los Angeles"
                                },
                                {
                                    "0": "2607",
                                    "1": "Cranston"
                                },
                                {
                                    "0": "2608",
                                    "1": "Ithaca"
                                },
                                {
                                    "0": "2609",
                                    "1": "Merrimack"
                                }
                            ]
                        },
                        "text/html": "<table><tr><th>cus_id</th><th>cus_city</th></tr><tr><td>2600</td><td>Hattiesburg</td></tr><tr><td>2601</td><td>Oswego</td></tr><tr><td>2602</td><td>Salt Lake City</td></tr><tr><td>2603</td><td>Coram</td></tr><tr><td>2604</td><td>Pataskala</td></tr><tr><td>2605</td><td>Southampton</td></tr><tr><td>2606</td><td>Los Angeles</td></tr><tr><td>2607</td><td>Cranston</td></tr><tr><td>2608</td><td>Ithaca</td></tr><tr><td>2609</td><td>Merrimack</td></tr></table>"
                    },
                    "metadata": {}
                }
            ],
            "execution_count": 12
        },
        {
            "cell_type": "markdown",
            "source": [
                "**Q: Of the first ten customers returned, what is the Customer ID  and City of the 5th customer?**\n",
                "\n",
                "```\n",
                "A: The ID and city of the 5th customer is 2604 and Pataskala, respectively.\n",
                "\n",
                "```"
            ],
            "metadata": {
                "azdata_cell_guid": "d637e552-88ff-4b95-ac5e-326d6d61c568",
                "extensions": {
                    "azuredatastudio": {
                        "views": []
                    }
                }
            },
            "attachments": {}
        },
        {
            "cell_type": "markdown",
            "source": [
                "**Step 2: Use a SELECT query to select the Customer ID, Last Name, State, and Customer Appreciation Code of all customers who joined _from_ September 11, 2001 _through_ October 1, 2001**"
            ],
            "metadata": {
                "azdata_cell_guid": "f392c54f-b012-46d1-8e4f-84ed4eda1e69",
                "extensions": {
                    "azuredatastudio": {
                        "views": []
                    }
                }
            },
            "attachments": {}
        },
        {
            "cell_type": "code",
            "source": [
                "SELECT cus_id\n",
                "      ,cus_last_name\n",
                "      ,cus_state\n",
                "      ,cus_app_cd\n",
                "FROM dsci_504.customers\n",
                "WHERE cus_join_date\n",
                "BETWEEN '2001-09-11' AND '2001-10-01';"
            ],
            "metadata": {
                "azdata_cell_guid": "76b0d3b8-9467-446e-a6e9-d93f041a05ce",
                "language": "sql",
                "tags": []
            },
            "outputs": [
                {
                    "output_type": "display_data",
                    "data": {
                        "text/html": "(8 row(s) affected)"
                    },
                    "metadata": {}
                },
                {
                    "output_type": "display_data",
                    "data": {
                        "text/html": "Total execution time: 00:00:00.004"
                    },
                    "metadata": {}
                },
                {
                    "output_type": "execute_result",
                    "execution_count": 19,
                    "data": {
                        "application/vnd.dataresource+json": {
                            "schema": {
                                "fields": [
                                    {
                                        "name": "cus_id"
                                    },
                                    {
                                        "name": "cus_last_name"
                                    },
                                    {
                                        "name": "cus_state"
                                    },
                                    {
                                        "name": "cus_app_cd"
                                    }
                                ]
                            },
                            "data": [
                                {
                                    "0": "356",
                                    "1": "Delacruz",
                                    "2": "2",
                                    "3": "6"
                                },
                                {
                                    "0": "464",
                                    "1": "Sherman",
                                    "2": "3",
                                    "3": "1"
                                },
                                {
                                    "0": "495",
                                    "1": "Delacruz",
                                    "2": "18",
                                    "3": "1"
                                },
                                {
                                    "0": "1587",
                                    "1": "Applewood",
                                    "2": "17",
                                    "3": "4"
                                },
                                {
                                    "0": "1907",
                                    "1": "Acosta",
                                    "2": "29",
                                    "3": "3"
                                },
                                {
                                    "0": "1936",
                                    "1": "Manchester",
                                    "2": "11",
                                    "3": "6"
                                },
                                {
                                    "0": "2141",
                                    "1": "Brooks",
                                    "2": "19",
                                    "3": "4"
                                },
                                {
                                    "0": "2194",
                                    "1": "Moore",
                                    "2": "28",
                                    "3": "4"
                                }
                            ]
                        },
                        "text/html": "<table><tr><th>cus_id</th><th>cus_last_name</th><th>cus_state</th><th>cus_app_cd</th></tr><tr><td>356</td><td>Delacruz</td><td>2</td><td>6</td></tr><tr><td>464</td><td>Sherman</td><td>3</td><td>1</td></tr><tr><td>495</td><td>Delacruz</td><td>18</td><td>1</td></tr><tr><td>1587</td><td>Applewood</td><td>17</td><td>4</td></tr><tr><td>1907</td><td>Acosta</td><td>29</td><td>3</td></tr><tr><td>1936</td><td>Manchester</td><td>11</td><td>6</td></tr><tr><td>2141</td><td>Brooks</td><td>19</td><td>4</td></tr><tr><td>2194</td><td>Moore</td><td>28</td><td>4</td></tr></table>"
                    },
                    "metadata": {}
                }
            ],
            "execution_count": 19
        },
        {
            "cell_type": "markdown",
            "source": [
                "**Q: How many customers joined in teh period from September 11, 2001 throught October 1, 2001?**\n",
                "\n",
                "```\n",
                "A: Eight customers joined in the period from September 11, 2001 and October 1, 2001.\n",
                "\n",
                "```"
            ],
            "metadata": {
                "azdata_cell_guid": "3849b462-7f31-4feb-9a54-1cb1a431c99f",
                "extensions": {
                    "azuredatastudio": {
                        "views": []
                    }
                }
            },
            "attachments": {}
        },
        {
            "cell_type": "markdown",
            "source": [
                "**Part 3: Looking at the same query from Part 2, write a SELECT query that returns all information for the two customers with the last name Delacruz**"
            ],
            "metadata": {
                "azdata_cell_guid": "60a3d5b6-ce24-4123-8cf3-f214fd6a074a",
                "extensions": {
                    "azuredatastudio": {
                        "views": []
                    }
                }
            },
            "attachments": {}
        },
        {
            "cell_type": "code",
            "source": [
                "\n",
                "SELECT * \n",
                "FROM\n",
                "(SELECT *\n",
                "FROM dsci_504.customers\n",
                "WHERE cus_join_date\n",
                "BETWEEN '2001-09-11' AND '2001-10-01') AS q1\n",
                "WHERE q1.cus_last_name = 'Delacruz';"
            ],
            "metadata": {
                "azdata_cell_guid": "ebebce49-d071-4f17-878e-ff07baa86e74",
                "language": "sql"
            },
            "outputs": [
                {
                    "output_type": "display_data",
                    "data": {
                        "text/html": "(2 row(s) affected)"
                    },
                    "metadata": {}
                },
                {
                    "output_type": "display_data",
                    "data": {
                        "text/html": "Total execution time: 00:00:00.003"
                    },
                    "metadata": {}
                },
                {
                    "output_type": "execute_result",
                    "execution_count": 20,
                    "data": {
                        "application/vnd.dataresource+json": {
                            "schema": {
                                "fields": [
                                    {
                                        "name": "cus_id"
                                    },
                                    {
                                        "name": "cus_num"
                                    },
                                    {
                                        "name": "cus_last_name"
                                    },
                                    {
                                        "name": "cus_first_name"
                                    },
                                    {
                                        "name": "cus_add_num"
                                    },
                                    {
                                        "name": "cus_address"
                                    },
                                    {
                                        "name": "cus_city"
                                    },
                                    {
                                        "name": "cus_state"
                                    },
                                    {
                                        "name": "cus_zip"
                                    },
                                    {
                                        "name": "cus_phone"
                                    },
                                    {
                                        "name": "cus_join_date"
                                    },
                                    {
                                        "name": "cus_app_cd"
                                    },
                                    {
                                        "name": "cus_app_num"
                                    },
                                    {
                                        "name": "tot_ord_qty"
                                    },
                                    {
                                        "name": "tot_ord_value"
                                    }
                                ]
                            },
                            "data": [
                                {
                                    "0": "356",
                                    "1": "Del73426",
                                    "2": "Delacruz",
                                    "3": "Margo",
                                    "4": "63740",
                                    "5": " Crystal Spring Corners",
                                    "6": " Mcarthur Estates",
                                    "7": "2",
                                    "8": "89443",
                                    "9": "3875686732",
                                    "10": "2001-09-25",
                                    "11": "6",
                                    "12": "OPC80718306",
                                    "13": "70",
                                    "14": "34773"
                                },
                                {
                                    "0": "495",
                                    "1": "Del44118",
                                    "2": "Delacruz",
                                    "3": "Brandon",
                                    "4": "53556",
                                    "5": "Apache",
                                    "6": " Wolfs Mill",
                                    "7": "18",
                                    "8": "18151",
                                    "9": "7593410556",
                                    "10": "2001-09-23",
                                    "11": "1",
                                    "12": "OPC79747551",
                                    "13": "85",
                                    "14": "2396"
                                }
                            ]
                        },
                        "text/html": "<table><tr><th>cus_id</th><th>cus_num</th><th>cus_last_name</th><th>cus_first_name</th><th>cus_add_num</th><th>cus_address</th><th>cus_city</th><th>cus_state</th><th>cus_zip</th><th>cus_phone</th><th>cus_join_date</th><th>cus_app_cd</th><th>cus_app_num</th><th>tot_ord_qty</th><th>tot_ord_value</th></tr><tr><td>356</td><td>Del73426</td><td>Delacruz</td><td>Margo</td><td>63740</td><td> Crystal Spring Corners</td><td> Mcarthur Estates</td><td>2</td><td>89443</td><td>3875686732</td><td>2001-09-25</td><td>6</td><td>OPC80718306</td><td>70</td><td>34773</td></tr><tr><td>495</td><td>Del44118</td><td>Delacruz</td><td>Brandon</td><td>53556</td><td>Apache</td><td> Wolfs Mill</td><td>18</td><td>18151</td><td>7593410556</td><td>2001-09-23</td><td>1</td><td>OPC79747551</td><td>85</td><td>2396</td></tr></table>"
                    },
                    "metadata": {}
                }
            ],
            "execution_count": 20
        },
        {
            "cell_type": "markdown",
            "source": [
                "**Q: What are three unique features about these two customers?**\n",
                "\n",
                "```\n",
                "They live in different states: Margo lives in Alabama and Brandon lives in North Carolina. They order a lot of things from OPC, so one can assume they are loyal customers. When you look at the total order quantity and total order value, we can see that Margo orders more expansive items than Brandon.\n",
                "\n",
                "```"
            ],
            "metadata": {
                "azdata_cell_guid": "04127bab-07e9-446a-a2f3-a0979214bb54",
                "extensions": {
                    "azuredatastudio": {
                        "views": []
                    }
                }
            },
            "attachments": {}
        },
        {
            "cell_type": "markdown",
            "source": [
                "**Part 4: Write a query to return all order data for the two Delacruz customers above. Be sure to include minimal person information to assist in identifying which person placed which order. You may need to use a simple join to get both the customer and order data. A template for that is below. Use the following data points in your query:**\n",
                "\n",
                "- **Customer ID**\n",
                "- **Customer Last Name**\n",
                "- **Customer First Name**\n",
                "- **Total Order Quantity**\n",
                "- **Total Order Value**\n",
                "- **All Order Data**\n",
                "\n",
                "```\n",
                "SELECT [table1.column], [table2.column]..\n",
                "FROM [table1], [table2]\n",
                "WHERE [conditions]\n",
                "\n",
                "```"
            ],
            "metadata": {
                "azdata_cell_guid": "8234ad8c-945b-4994-86cb-101516980c5d",
                "extensions": {
                    "azuredatastudio": {
                        "views": []
                    }
                }
            },
            "attachments": {}
        },
        {
            "cell_type": "code",
            "source": [
                "SELECT *\n",
                "FROM\n",
                "(SELECT c.cus_id \n",
                "      ,c.cus_last_name\n",
                "      ,c.cus_first_name\n",
                "      ,c.tot_ord_qty\n",
                "      ,c.tot_ord_value\n",
                "FROM dsci_504.customers AS c\n",
                "WHERE c.cus_id = '356'\n",
                "OR c.cus_id = '495') AS q1\n",
                "INNER JOIN dsci_504.orders AS o \n",
                "ON q1.cus_id = o.cus_id;"
            ],
            "metadata": {
                "azdata_cell_guid": "1bf0210e-f02a-4535-8560-ec6592562c0d",
                "language": "sql"
            },
            "outputs": [
                {
                    "output_type": "display_data",
                    "data": {
                        "text/html": "(2 row(s) affected)"
                    },
                    "metadata": {}
                },
                {
                    "output_type": "display_data",
                    "data": {
                        "text/html": "Total execution time: 00:00:00.004"
                    },
                    "metadata": {}
                },
                {
                    "output_type": "execute_result",
                    "execution_count": 70,
                    "data": {
                        "application/vnd.dataresource+json": {
                            "schema": {
                                "fields": [
                                    {
                                        "name": "cus_id"
                                    },
                                    {
                                        "name": "cus_last_name"
                                    },
                                    {
                                        "name": "cus_first_name"
                                    },
                                    {
                                        "name": "tot_ord_qty"
                                    },
                                    {
                                        "name": "tot_ord_value"
                                    },
                                    {
                                        "name": "ord_id"
                                    },
                                    {
                                        "name": "ord_date"
                                    },
                                    {
                                        "name": "ord_tax_loc"
                                    },
                                    {
                                        "name": "order_tot"
                                    },
                                    {
                                        "name": "ord_ship_add"
                                    },
                                    {
                                        "name": "ord_ship_date"
                                    },
                                    {
                                        "name": "ord_track_num"
                                    },
                                    {
                                        "name": "prod_id"
                                    },
                                    {
                                        "name": "warehouse_id"
                                    },
                                    {
                                        "name": "cus_id"
                                    }
                                ]
                            },
                            "data": [
                                {
                                    "0": "356",
                                    "1": "Delacruz",
                                    "2": "Margo",
                                    "3": "70",
                                    "4": "34773",
                                    "5": "2614702",
                                    "6": "2002-08-21",
                                    "7": "2 ",
                                    "8": "5200",
                                    "9": "false",
                                    "10": "2002-08-25",
                                    "11": "PAC7774446-3    ",
                                    "12": "42",
                                    "13": "3",
                                    "14": "356"
                                },
                                {
                                    "0": "495",
                                    "1": "Delacruz",
                                    "2": "Brandon",
                                    "3": "85",
                                    "4": "2396",
                                    "5": "2051970",
                                    "6": "2005-07-28",
                                    "7": "18",
                                    "8": "5631.35",
                                    "9": "false",
                                    "10": "2005-07-30",
                                    "11": "PAC2382180-2    ",
                                    "12": "48",
                                    "13": "1",
                                    "14": "495"
                                }
                            ]
                        },
                        "text/html": "<table><tr><th>cus_id</th><th>cus_last_name</th><th>cus_first_name</th><th>tot_ord_qty</th><th>tot_ord_value</th><th>ord_id</th><th>ord_date</th><th>ord_tax_loc</th><th>order_tot</th><th>ord_ship_add</th><th>ord_ship_date</th><th>ord_track_num</th><th>prod_id</th><th>warehouse_id</th><th>cus_id</th></tr><tr><td>356</td><td>Delacruz</td><td>Margo</td><td>70</td><td>34773</td><td>2614702</td><td>2002-08-21</td><td>2 </td><td>5200</td><td>false</td><td>2002-08-25</td><td>PAC7774446-3    </td><td>42</td><td>3</td><td>356</td></tr><tr><td>495</td><td>Delacruz</td><td>Brandon</td><td>85</td><td>2396</td><td>2051970</td><td>2005-07-28</td><td>18</td><td>5631.35</td><td>false</td><td>2005-07-30</td><td>PAC2382180-2    </td><td>48</td><td>1</td><td>495</td></tr></table>"
                    },
                    "metadata": {}
                }
            ],
            "execution_count": 70
        },
        {
            "cell_type": "markdown",
            "source": [
                "**Q: What is one interesting fact revealed in the addition of the new data?**\n",
                "\n",
                "```\n",
                "A: The orders table does not include all of the orders each customer has made throughout the 20-year period.\n",
                "\n",
                "```"
            ],
            "metadata": {
                "azdata_cell_guid": "e011870f-3edd-4cfe-bcc1-5c3aeb0d602b",
                "extensions": {
                    "azuredatastudio": {
                        "views": []
                    }
                }
            },
            "attachments": {}
        },
        {
            "cell_type": "markdown",
            "source": [
                "**Q: Explain how the addition of additional data aided in your assessment.**\n",
                "\n",
                "```\n",
                "A: The order total (order_tot) and the number of sales transactions does not add up to the total order value (tot_ord_value) from the customers tables. \n",
                "\n",
                "```"
            ],
            "metadata": {
                "azdata_cell_guid": "c9a65c1b-bcd9-4b8b-91a0-0e5a20f7fc18",
                "extensions": {
                    "azuredatastudio": {
                        "views": []
                    }
                }
            },
            "attachments": {}
        },
        {
            "cell_type": "markdown",
            "source": [
                "**Part 5: Some of the most unique features mountain bikers seek out in their bikes are wheel sets, shocks, forks, and dropper posts. These items make or break a top- notch mountain bike. You know that part of the identification of whether or not OPC should break into the luxury MTB market is that they can build and market competitive bikes. Use a SELECT query to determine how many unique type of components there are in the components table. Specifically query for forks and dropper posts. Order your results by component category and component name in alphabetical order.**"
            ],
            "metadata": {
                "azdata_cell_guid": "a99dd09e-8f2c-4753-ac62-3bdab8c755e6",
                "extensions": {
                    "azuredatastudio": {
                        "views": []
                    }
                }
            },
            "attachments": {}
        },
        {
            "cell_type": "code",
            "source": [
                "SELECT *\n",
                "FROM dsci_504.components as c\n",
                "WHERE c.comp_cat IN ('fork','dropper')\n",
                "GROUP BY c.comp_cat, c.comp_id\n",
                "ORDER BY c.comp_cat, c.comp_name ASC;"
            ],
            "metadata": {
                "azdata_cell_guid": "67ae1f59-b2d7-4390-a97c-5d61e7b642b6",
                "language": "sql",
                "tags": []
            },
            "outputs": [
                {
                    "output_type": "display_data",
                    "data": {
                        "text/html": "(85 row(s) affected)"
                    },
                    "metadata": {}
                },
                {
                    "output_type": "display_data",
                    "data": {
                        "text/html": "Total execution time: 00:00:00.004"
                    },
                    "metadata": {}
                },
                {
                    "output_type": "execute_result",
                    "execution_count": 29,
                    "data": {
                        "application/vnd.dataresource+json": {
                            "schema": {
                                "fields": [
                                    {
                                        "name": "comp_id"
                                    },
                                    {
                                        "name": "comp_name"
                                    },
                                    {
                                        "name": "comp_cost"
                                    },
                                    {
                                        "name": "comp_supplier"
                                    },
                                    {
                                        "name": "comp_cat"
                                    },
                                    {
                                        "name": "sup_id"
                                    }
                                ]
                            },
                            "data": [
                                {
                                    "0": "260",
                                    "1": "Bike Yoke Devine Stealth",
                                    "2": "168",
                                    "3": "37",
                                    "4": "dropper",
                                    "5": "NULL"
                                },
                                {
                                    "0": "237",
                                    "1": "Bike Yoke Revive",
                                    "2": "315",
                                    "3": "37",
                                    "4": "dropper",
                                    "5": "NULL"
                                },
                                {
                                    "0": "258",
                                    "1": "BrandX Ascend",
                                    "2": "125",
                                    "3": "42",
                                    "4": "dropper",
                                    "5": "NULL"
                                },
                                {
                                    "0": "238",
                                    "1": "Cannondale 2",
                                    "2": "89",
                                    "3": "17",
                                    "4": "dropper",
                                    "5": "NULL"
                                },
                                {
                                    "0": "245",
                                    "1": "Cannondale DownLow",
                                    "2": "89",
                                    "3": "17",
                                    "4": "dropper",
                                    "5": "NULL"
                                },
                                {
                                    "0": "262",
                                    "1": "Cube Dropper",
                                    "2": "129",
                                    "3": "43",
                                    "4": "dropper",
                                    "5": "NULL"
                                },
                                {
                                    "0": "236",
                                    "1": "DropWH18",
                                    "2": "78",
                                    "3": "36",
                                    "4": "dropper",
                                    "5": "NULL"
                                },
                                {
                                    "0": "247",
                                    "1": "Fox Transfer",
                                    "2": "180",
                                    "3": "28",
                                    "4": "dropper",
                                    "5": "NULL"
                                },
                                {
                                    "0": "259",
                                    "1": "Fox Transfer Factory",
                                    "2": "329",
                                    "3": "28",
                                    "4": "dropper",
                                    "5": "NULL"
                                },
                                {
                                    "0": "234",
                                    "1": "FusionX Manic",
                                    "2": "189",
                                    "3": "34",
                                    "4": "dropper",
                                    "5": "NULL"
                                },
                                {
                                    "0": "254",
                                    "1": "GT Dropkick",
                                    "2": "74",
                                    "3": "24",
                                    "4": "dropper",
                                    "5": "NULL"
                                },
                                {
                                    "0": "243",
                                    "1": "Giant Contact Switch",
                                    "2": "189",
                                    "3": "1",
                                    "4": "dropper",
                                    "5": "NULL"
                                },
                                {
                                    "0": "252",
                                    "1": "Ibis",
                                    "2": "90",
                                    "3": "22",
                                    "4": "dropper",
                                    "5": "NULL"
                                },
                                {
                                    "0": "241",
                                    "1": "KS Lev",
                                    "2": "123",
                                    "3": "38",
                                    "4": "dropper",
                                    "5": "NULL"
                                },
                                {
                                    "0": "248",
                                    "1": "KS Lev Integra",
                                    "2": "156",
                                    "3": "38",
                                    "4": "dropper",
                                    "5": "NULL"
                                },
                                {
                                    "0": "256",
                                    "1": "KS Lev SI",
                                    "2": "134",
                                    "3": "38",
                                    "4": "dropper",
                                    "5": "NULL"
                                },
                                {
                                    "0": "250",
                                    "1": "KS Rage-i",
                                    "2": "135",
                                    "3": "38",
                                    "4": "dropper",
                                    "5": "NULL"
                                },
                                {
                                    "0": "249",
                                    "1": "Niner RDO",
                                    "2": "114",
                                    "3": "3",
                                    "4": "dropper",
                                    "5": "NULL"
                                },
                                {
                                    "0": "244",
                                    "1": "OC2",
                                    "2": "78",
                                    "3": "61",
                                    "4": "dropper",
                                    "5": "NULL"
                                },
                                {
                                    "0": "246",
                                    "1": "OC2 Carbon",
                                    "2": "199",
                                    "3": "61",
                                    "4": "dropper",
                                    "5": "NULL"
                                },
                                {
                                    "0": "242",
                                    "1": "OnOff Pija",
                                    "2": "100",
                                    "3": "23",
                                    "4": "dropper",
                                    "5": "NULL"
                                },
                                {
                                    "0": "253",
                                    "1": "OneUp V2",
                                    "2": "78",
                                    "3": "39",
                                    "4": "dropper",
                                    "5": "NULL"
                                },
                                {
                                    "0": "235",
                                    "1": "Recon Dropper",
                                    "2": "113",
                                    "3": "35",
                                    "4": "dropper",
                                    "5": "NULL"
                                },
                                {
                                    "0": "255",
                                    "1": "Recon Elite Dropper",
                                    "2": "113",
                                    "3": "35",
                                    "4": "dropper",
                                    "5": "NULL"
                                },
                                {
                                    "0": "239",
                                    "1": "Ride Alpha",
                                    "2": "110",
                                    "3": "2",
                                    "4": "dropper",
                                    "5": "NULL"
                                },
                                {
                                    "0": "240",
                                    "1": "RockShox Reverb Steakth",
                                    "2": "349",
                                    "3": "30",
                                    "4": "dropper",
                                    "5": "NULL"
                                },
                                {
                                    "0": "257",
                                    "1": "SDG Tellis",
                                    "2": "250",
                                    "3": "40",
                                    "4": "dropper",
                                    "5": "NULL"
                                },
                                {
                                    "0": "261",
                                    "1": "TransX",
                                    "2": "126.9",
                                    "3": "13",
                                    "4": "dropper",
                                    "5": "NULL"
                                },
                                {
                                    "0": "251",
                                    "1": "X-Fusion Manix",
                                    "2": "199.96",
                                    "3": "73",
                                    "4": "dropper",
                                    "5": "NULL"
                                },
                                {
                                    "0": "115",
                                    "1": "DVO Onyx D1 160",
                                    "2": "785",
                                    "3": "29",
                                    "4": "fork",
                                    "5": "NULL"
                                },
                                {
                                    "0": "138",
                                    "1": "DVO Onyx D2 170 Air",
                                    "2": "790",
                                    "3": "29",
                                    "4": "fork",
                                    "5": "NULL"
                                },
                                {
                                    "0": "136",
                                    "1": "Fox 32 Factory 100",
                                    "2": "489",
                                    "3": "28",
                                    "4": "fork",
                                    "5": "NULL"
                                },
                                {
                                    "0": "142",
                                    "1": "Fox 32 Float Perf 100 Air",
                                    "2": "510",
                                    "3": "28",
                                    "4": "fork",
                                    "5": "NULL"
                                },
                                {
                                    "0": "164",
                                    "1": "Fox 34 Float Factory Grip 2 120",
                                    "2": "969",
                                    "3": "28",
                                    "4": "fork",
                                    "5": "NULL"
                                },
                                {
                                    "0": "150",
                                    "1": "Fox 34 Float Factory Grip 2 140",
                                    "2": "789",
                                    "3": "28",
                                    "4": "fork",
                                    "5": "NULL"
                                },
                                {
                                    "0": "140",
                                    "1": "Fox 34 Float Factory Grip 2 140 Air",
                                    "2": "1039",
                                    "3": "28",
                                    "4": "fork",
                                    "5": "NULL"
                                },
                                {
                                    "0": "128",
                                    "1": "Fox 34 Float Perf 120",
                                    "2": "429",
                                    "3": "28",
                                    "4": "fork",
                                    "5": "NULL"
                                },
                                {
                                    "0": "153",
                                    "1": "Fox 34 Float Perf 140",
                                    "2": "410",
                                    "3": "28",
                                    "4": "fork",
                                    "5": "NULL"
                                },
                                {
                                    "0": "162",
                                    "1": "Fox 34 Float Perf 140 Air",
                                    "2": "429",
                                    "3": "28",
                                    "4": "fork",
                                    "5": "NULL"
                                },
                                {
                                    "0": "141",
                                    "1": "Fox 34 Perf 130",
                                    "2": "429",
                                    "3": "28",
                                    "4": "fork",
                                    "5": "NULL"
                                },
                                {
                                    "0": "147",
                                    "1": "Fox 34 Perf 130 Air",
                                    "2": "429",
                                    "3": "28",
                                    "4": "fork",
                                    "5": "NULL"
                                },
                                {
                                    "0": "113",
                                    "1": "Fox 34 Rhythm 120",
                                    "2": "429",
                                    "3": "28",
                                    "4": "fork",
                                    "5": "NULL"
                                },
                                {
                                    "0": "135",
                                    "1": "Fox 36 Factory 150 Air",
                                    "2": "1069",
                                    "3": "28",
                                    "4": "fork",
                                    "5": "NULL"
                                },
                                {
                                    "0": "134",
                                    "1": "Fox 36 Factory 160 Air",
                                    "2": "1069",
                                    "3": "28",
                                    "4": "fork",
                                    "5": "NULL"
                                },
                                {
                                    "0": "155",
                                    "1": "Fox 36 Float Factory 160 Air",
                                    "2": "605",
                                    "3": "28",
                                    "4": "fork",
                                    "5": "NULL"
                                },
                                {
                                    "0": "163",
                                    "1": "Fox 36 Float Factory 170 Air",
                                    "2": "999",
                                    "3": "28",
                                    "4": "fork",
                                    "5": "NULL"
                                },
                                {
                                    "0": "124",
                                    "1": "Fox 36 Float Perf 140 Air",
                                    "2": "949",
                                    "3": "28",
                                    "4": "fork",
                                    "5": "NULL"
                                },
                                {
                                    "0": "144",
                                    "1": "Fox 36 Float Perf 150",
                                    "2": "880",
                                    "3": "28",
                                    "4": "fork",
                                    "5": "NULL"
                                },
                                {
                                    "0": "118",
                                    "1": "Fox 36 Float Perf 160 Air",
                                    "2": "849",
                                    "3": "28",
                                    "4": "fork",
                                    "5": "NULL"
                                },
                                {
                                    "0": "143",
                                    "1": "Fox 36 Perf 160 Air",
                                    "2": "840",
                                    "3": "28",
                                    "4": "fork",
                                    "5": "NULL"
                                },
                                {
                                    "0": "158",
                                    "1": "Fox 36 Perf 1650 Air",
                                    "2": "893",
                                    "3": "28",
                                    "4": "fork",
                                    "5": "NULL"
                                },
                                {
                                    "0": "125",
                                    "1": "Fox 36 Perf 170 Air",
                                    "2": "798",
                                    "3": "28",
                                    "4": "fork",
                                    "5": "NULL"
                                },
                                {
                                    "0": "165",
                                    "1": "Fox 36 Perf Elite 140 Air",
                                    "2": "789",
                                    "3": "28",
                                    "4": "fork",
                                    "5": "NULL"
                                },
                                {
                                    "0": "146",
                                    "1": "Fox 36 Perf Elite 150 Air",
                                    "2": "899",
                                    "3": "28",
                                    "4": "fork",
                                    "5": "NULL"
                                },
                                {
                                    "0": "166",
                                    "1": "Fox 36 Perf Elite 160 Air",
                                    "2": "789",
                                    "3": "28",
                                    "4": "fork",
                                    "5": "NULL"
                                },
                                {
                                    "0": "148",
                                    "1": "Fox 36 Perf Elite 180 Air",
                                    "2": "1024",
                                    "3": "28",
                                    "4": "fork",
                                    "5": "NULL"
                                },
                                {
                                    "0": "160",
                                    "1": "Fox 36 Rhythm 160 Air",
                                    "2": "556",
                                    "3": "28",
                                    "4": "fork",
                                    "5": "NULL"
                                },
                                {
                                    "0": "116",
                                    "1": "Fox 36 Rhythm Fit 3 150",
                                    "2": "849",
                                    "3": "28",
                                    "4": "fork",
                                    "5": "NULL"
                                },
                                {
                                    "0": "114",
                                    "1": "Fox 38 Factory Grip 2 180 Air",
                                    "2": "1249",
                                    "3": "28",
                                    "4": "fork",
                                    "5": "NULL"
                                },
                                {
                                    "0": "123",
                                    "1": "Fox 38 Factory Grip2 170 Air",
                                    "2": "1249",
                                    "3": "28",
                                    "4": "fork",
                                    "5": "NULL"
                                },
                                {
                                    "0": "132",
                                    "1": "Fox 38 Float Perf 170 Air",
                                    "2": "1020",
                                    "3": "28",
                                    "4": "fork",
                                    "5": "NULL"
                                },
                                {
                                    "0": "119",
                                    "1": "Fox 38 Grip 2 170 Air",
                                    "2": "989",
                                    "3": "28",
                                    "4": "fork",
                                    "5": "NULL"
                                },
                                {
                                    "0": "137",
                                    "1": "Lefty Ocho 100 Air",
                                    "2": "999",
                                    "3": "33",
                                    "4": "fork",
                                    "5": "NULL"
                                },
                                {
                                    "0": "126",
                                    "1": "Marzocchi Bomber Z2 130 Air",
                                    "2": "610",
                                    "3": "32",
                                    "4": "fork",
                                    "5": "NULL"
                                },
                                {
                                    "0": "159",
                                    "1": "Marzocchi Bomber Z2 Rail 120 Air",
                                    "2": "519",
                                    "3": "32",
                                    "4": "fork",
                                    "5": "NULL"
                                },
                                {
                                    "0": "121",
                                    "1": "Ohlins RXF36 M.2 170 Air",
                                    "2": "1149.97",
                                    "3": "31",
                                    "4": "fork",
                                    "5": "NULL"
                                },
                                {
                                    "0": "139",
                                    "1": "RockShox 35 Gold RL 140 Air",
                                    "2": "458",
                                    "3": "30",
                                    "4": "fork",
                                    "5": "NULL"
                                },
                                {
                                    "0": "151",
                                    "1": "RockShox 35 Gold RL 150 Air",
                                    "2": "458",
                                    "3": "30",
                                    "4": "fork",
                                    "5": "NULL"
                                },
                                {
                                    "0": "161",
                                    "1": "RockShox 35 Gold RL 160 Air",
                                    "2": "458",
                                    "3": "30",
                                    "4": "fork",
                                    "5": "NULL"
                                },
                                {
                                    "0": "167",
                                    "1": "RockShox Lyric Sel 150 Air",
                                    "2": "765",
                                    "3": "30",
                                    "4": "fork",
                                    "5": "NULL"
                                },
                                {
                                    "0": "130",
                                    "1": "RockShox Lyric Ult 150 Air",
                                    "2": "968",
                                    "3": "30",
                                    "4": "fork",
                                    "5": "NULL"
                                },
                                {
                                    "0": "122",
                                    "1": "RockShox Lyric Ult RC2 160",
                                    "2": "968",
                                    "3": "30",
                                    "4": "fork",
                                    "5": "NULL"
                                },
                                {
                                    "0": "120",
                                    "1": "RockShox Lyric Ult RC2 160 Air",
                                    "2": "968",
                                    "3": "30",
                                    "4": "fork",
                                    "5": "NULL"
                                },
                                {
                                    "0": "149",
                                    "1": "RockShox Lyric Ult RC2 170",
                                    "2": "975",
                                    "3": "30",
                                    "4": "fork",
                                    "5": "NULL"
                                },
                                {
                                    "0": "131",
                                    "1": "RockShox Pike Sel RC 140",
                                    "2": "713",
                                    "3": "30",
                                    "4": "fork",
                                    "5": "NULL"
                                },
                                {
                                    "0": "152",
                                    "1": "RockShox Pike Sel+ 140 Air",
                                    "2": "713",
                                    "3": "30",
                                    "4": "fork",
                                    "5": "NULL"
                                },
                                {
                                    "0": "157",
                                    "1": "RockShox Pike Ult 150 Air",
                                    "2": "917",
                                    "3": "30",
                                    "4": "fork",
                                    "5": "NULL"
                                },
                                {
                                    "0": "145",
                                    "1": "RockShox Pike Ult RC 130 Air",
                                    "2": "917",
                                    "3": "30",
                                    "4": "fork",
                                    "5": "NULL"
                                },
                                {
                                    "0": "117",
                                    "1": "RockShox Recon RL 120",
                                    "2": "274",
                                    "3": "30",
                                    "4": "fork",
                                    "5": "NULL"
                                },
                                {
                                    "0": "133",
                                    "1": "RockShox Recon RL 120 Air",
                                    "2": "255",
                                    "3": "30",
                                    "4": "fork",
                                    "5": "NULL"
                                },
                                {
                                    "0": "127",
                                    "1": "RockShox Recon RL 130",
                                    "2": "275",
                                    "3": "30",
                                    "4": "fork",
                                    "5": "NULL"
                                },
                                {
                                    "0": "129",
                                    "1": "RockShox Recon RL 130 Air",
                                    "2": "270",
                                    "3": "30",
                                    "4": "fork",
                                    "5": "NULL"
                                },
                                {
                                    "0": "154",
                                    "1": "RockShox YarRC 180 Air",
                                    "2": "509",
                                    "3": "30",
                                    "4": "fork",
                                    "5": "NULL"
                                },
                                {
                                    "0": "168",
                                    "1": "RockShox YariRC 160",
                                    "2": "509",
                                    "3": "30",
                                    "4": "fork",
                                    "5": "NULL"
                                },
                                {
                                    "0": "156",
                                    "1": "RockShox ZEB Ult 170 Air",
                                    "2": "915",
                                    "3": "30",
                                    "4": "fork",
                                    "5": "NULL"
                                }
                            ]
                        },
                        "text/html": "<table><tr><th>comp_id</th><th>comp_name</th><th>comp_cost</th><th>comp_supplier</th><th>comp_cat</th><th>sup_id</th></tr><tr><td>260</td><td>Bike Yoke Devine Stealth</td><td>168</td><td>37</td><td>dropper</td><td>NULL</td></tr><tr><td>237</td><td>Bike Yoke Revive</td><td>315</td><td>37</td><td>dropper</td><td>NULL</td></tr><tr><td>258</td><td>BrandX Ascend</td><td>125</td><td>42</td><td>dropper</td><td>NULL</td></tr><tr><td>238</td><td>Cannondale 2</td><td>89</td><td>17</td><td>dropper</td><td>NULL</td></tr><tr><td>245</td><td>Cannondale DownLow</td><td>89</td><td>17</td><td>dropper</td><td>NULL</td></tr><tr><td>262</td><td>Cube Dropper</td><td>129</td><td>43</td><td>dropper</td><td>NULL</td></tr><tr><td>236</td><td>DropWH18</td><td>78</td><td>36</td><td>dropper</td><td>NULL</td></tr><tr><td>247</td><td>Fox Transfer</td><td>180</td><td>28</td><td>dropper</td><td>NULL</td></tr><tr><td>259</td><td>Fox Transfer Factory</td><td>329</td><td>28</td><td>dropper</td><td>NULL</td></tr><tr><td>234</td><td>FusionX Manic</td><td>189</td><td>34</td><td>dropper</td><td>NULL</td></tr><tr><td>254</td><td>GT Dropkick</td><td>74</td><td>24</td><td>dropper</td><td>NULL</td></tr><tr><td>243</td><td>Giant Contact Switch</td><td>189</td><td>1</td><td>dropper</td><td>NULL</td></tr><tr><td>252</td><td>Ibis</td><td>90</td><td>22</td><td>dropper</td><td>NULL</td></tr><tr><td>241</td><td>KS Lev</td><td>123</td><td>38</td><td>dropper</td><td>NULL</td></tr><tr><td>248</td><td>KS Lev Integra</td><td>156</td><td>38</td><td>dropper</td><td>NULL</td></tr><tr><td>256</td><td>KS Lev SI</td><td>134</td><td>38</td><td>dropper</td><td>NULL</td></tr><tr><td>250</td><td>KS Rage-i</td><td>135</td><td>38</td><td>dropper</td><td>NULL</td></tr><tr><td>249</td><td>Niner RDO</td><td>114</td><td>3</td><td>dropper</td><td>NULL</td></tr><tr><td>244</td><td>OC2</td><td>78</td><td>61</td><td>dropper</td><td>NULL</td></tr><tr><td>246</td><td>OC2 Carbon</td><td>199</td><td>61</td><td>dropper</td><td>NULL</td></tr><tr><td>242</td><td>OnOff Pija</td><td>100</td><td>23</td><td>dropper</td><td>NULL</td></tr><tr><td>253</td><td>OneUp V2</td><td>78</td><td>39</td><td>dropper</td><td>NULL</td></tr><tr><td>235</td><td>Recon Dropper</td><td>113</td><td>35</td><td>dropper</td><td>NULL</td></tr><tr><td>255</td><td>Recon Elite Dropper</td><td>113</td><td>35</td><td>dropper</td><td>NULL</td></tr><tr><td>239</td><td>Ride Alpha</td><td>110</td><td>2</td><td>dropper</td><td>NULL</td></tr><tr><td>240</td><td>RockShox Reverb Steakth</td><td>349</td><td>30</td><td>dropper</td><td>NULL</td></tr><tr><td>257</td><td>SDG Tellis</td><td>250</td><td>40</td><td>dropper</td><td>NULL</td></tr><tr><td>261</td><td>TransX</td><td>126.9</td><td>13</td><td>dropper</td><td>NULL</td></tr><tr><td>251</td><td>X-Fusion Manix</td><td>199.96</td><td>73</td><td>dropper</td><td>NULL</td></tr><tr><td>115</td><td>DVO Onyx D1 160</td><td>785</td><td>29</td><td>fork</td><td>NULL</td></tr><tr><td>138</td><td>DVO Onyx D2 170 Air</td><td>790</td><td>29</td><td>fork</td><td>NULL</td></tr><tr><td>136</td><td>Fox 32 Factory 100</td><td>489</td><td>28</td><td>fork</td><td>NULL</td></tr><tr><td>142</td><td>Fox 32 Float Perf 100 Air</td><td>510</td><td>28</td><td>fork</td><td>NULL</td></tr><tr><td>164</td><td>Fox 34 Float Factory Grip 2 120</td><td>969</td><td>28</td><td>fork</td><td>NULL</td></tr><tr><td>150</td><td>Fox 34 Float Factory Grip 2 140</td><td>789</td><td>28</td><td>fork</td><td>NULL</td></tr><tr><td>140</td><td>Fox 34 Float Factory Grip 2 140 Air</td><td>1039</td><td>28</td><td>fork</td><td>NULL</td></tr><tr><td>128</td><td>Fox 34 Float Perf 120</td><td>429</td><td>28</td><td>fork</td><td>NULL</td></tr><tr><td>153</td><td>Fox 34 Float Perf 140</td><td>410</td><td>28</td><td>fork</td><td>NULL</td></tr><tr><td>162</td><td>Fox 34 Float Perf 140 Air</td><td>429</td><td>28</td><td>fork</td><td>NULL</td></tr><tr><td>141</td><td>Fox 34 Perf 130</td><td>429</td><td>28</td><td>fork</td><td>NULL</td></tr><tr><td>147</td><td>Fox 34 Perf 130 Air</td><td>429</td><td>28</td><td>fork</td><td>NULL</td></tr><tr><td>113</td><td>Fox 34 Rhythm 120</td><td>429</td><td>28</td><td>fork</td><td>NULL</td></tr><tr><td>135</td><td>Fox 36 Factory 150 Air</td><td>1069</td><td>28</td><td>fork</td><td>NULL</td></tr><tr><td>134</td><td>Fox 36 Factory 160 Air</td><td>1069</td><td>28</td><td>fork</td><td>NULL</td></tr><tr><td>155</td><td>Fox 36 Float Factory 160 Air</td><td>605</td><td>28</td><td>fork</td><td>NULL</td></tr><tr><td>163</td><td>Fox 36 Float Factory 170 Air</td><td>999</td><td>28</td><td>fork</td><td>NULL</td></tr><tr><td>124</td><td>Fox 36 Float Perf 140 Air</td><td>949</td><td>28</td><td>fork</td><td>NULL</td></tr><tr><td>144</td><td>Fox 36 Float Perf 150</td><td>880</td><td>28</td><td>fork</td><td>NULL</td></tr><tr><td>118</td><td>Fox 36 Float Perf 160 Air</td><td>849</td><td>28</td><td>fork</td><td>NULL</td></tr><tr><td>143</td><td>Fox 36 Perf 160 Air</td><td>840</td><td>28</td><td>fork</td><td>NULL</td></tr><tr><td>158</td><td>Fox 36 Perf 1650 Air</td><td>893</td><td>28</td><td>fork</td><td>NULL</td></tr><tr><td>125</td><td>Fox 36 Perf 170 Air</td><td>798</td><td>28</td><td>fork</td><td>NULL</td></tr><tr><td>165</td><td>Fox 36 Perf Elite 140 Air</td><td>789</td><td>28</td><td>fork</td><td>NULL</td></tr><tr><td>146</td><td>Fox 36 Perf Elite 150 Air</td><td>899</td><td>28</td><td>fork</td><td>NULL</td></tr><tr><td>166</td><td>Fox 36 Perf Elite 160 Air</td><td>789</td><td>28</td><td>fork</td><td>NULL</td></tr><tr><td>148</td><td>Fox 36 Perf Elite 180 Air</td><td>1024</td><td>28</td><td>fork</td><td>NULL</td></tr><tr><td>160</td><td>Fox 36 Rhythm 160 Air</td><td>556</td><td>28</td><td>fork</td><td>NULL</td></tr><tr><td>116</td><td>Fox 36 Rhythm Fit 3 150</td><td>849</td><td>28</td><td>fork</td><td>NULL</td></tr><tr><td>114</td><td>Fox 38 Factory Grip 2 180 Air</td><td>1249</td><td>28</td><td>fork</td><td>NULL</td></tr><tr><td>123</td><td>Fox 38 Factory Grip2 170 Air</td><td>1249</td><td>28</td><td>fork</td><td>NULL</td></tr><tr><td>132</td><td>Fox 38 Float Perf 170 Air</td><td>1020</td><td>28</td><td>fork</td><td>NULL</td></tr><tr><td>119</td><td>Fox 38 Grip 2 170 Air</td><td>989</td><td>28</td><td>fork</td><td>NULL</td></tr><tr><td>137</td><td>Lefty Ocho 100 Air</td><td>999</td><td>33</td><td>fork</td><td>NULL</td></tr><tr><td>126</td><td>Marzocchi Bomber Z2 130 Air</td><td>610</td><td>32</td><td>fork</td><td>NULL</td></tr><tr><td>159</td><td>Marzocchi Bomber Z2 Rail 120 Air</td><td>519</td><td>32</td><td>fork</td><td>NULL</td></tr><tr><td>121</td><td>Ohlins RXF36 M.2 170 Air</td><td>1149.97</td><td>31</td><td>fork</td><td>NULL</td></tr><tr><td>139</td><td>RockShox 35 Gold RL 140 Air</td><td>458</td><td>30</td><td>fork</td><td>NULL</td></tr><tr><td>151</td><td>RockShox 35 Gold RL 150 Air</td><td>458</td><td>30</td><td>fork</td><td>NULL</td></tr><tr><td>161</td><td>RockShox 35 Gold RL 160 Air</td><td>458</td><td>30</td><td>fork</td><td>NULL</td></tr><tr><td>167</td><td>RockShox Lyric Sel 150 Air</td><td>765</td><td>30</td><td>fork</td><td>NULL</td></tr><tr><td>130</td><td>RockShox Lyric Ult 150 Air</td><td>968</td><td>30</td><td>fork</td><td>NULL</td></tr><tr><td>122</td><td>RockShox Lyric Ult RC2 160</td><td>968</td><td>30</td><td>fork</td><td>NULL</td></tr><tr><td>120</td><td>RockShox Lyric Ult RC2 160 Air</td><td>968</td><td>30</td><td>fork</td><td>NULL</td></tr><tr><td>149</td><td>RockShox Lyric Ult RC2 170</td><td>975</td><td>30</td><td>fork</td><td>NULL</td></tr><tr><td>131</td><td>RockShox Pike Sel RC 140</td><td>713</td><td>30</td><td>fork</td><td>NULL</td></tr><tr><td>152</td><td>RockShox Pike Sel+ 140 Air</td><td>713</td><td>30</td><td>fork</td><td>NULL</td></tr><tr><td>157</td><td>RockShox Pike Ult 150 Air</td><td>917</td><td>30</td><td>fork</td><td>NULL</td></tr><tr><td>145</td><td>RockShox Pike Ult RC 130 Air</td><td>917</td><td>30</td><td>fork</td><td>NULL</td></tr><tr><td>117</td><td>RockShox Recon RL 120</td><td>274</td><td>30</td><td>fork</td><td>NULL</td></tr><tr><td>133</td><td>RockShox Recon RL 120 Air</td><td>255</td><td>30</td><td>fork</td><td>NULL</td></tr><tr><td>127</td><td>RockShox Recon RL 130</td><td>275</td><td>30</td><td>fork</td><td>NULL</td></tr><tr><td>129</td><td>RockShox Recon RL 130 Air</td><td>270</td><td>30</td><td>fork</td><td>NULL</td></tr><tr><td>154</td><td>RockShox YarRC 180 Air</td><td>509</td><td>30</td><td>fork</td><td>NULL</td></tr><tr><td>168</td><td>RockShox YariRC 160</td><td>509</td><td>30</td><td>fork</td><td>NULL</td></tr><tr><td>156</td><td>RockShox ZEB Ult 170 Air</td><td>915</td><td>30</td><td>fork</td><td>NULL</td></tr></table>"
                    },
                    "metadata": {}
                }
            ],
            "execution_count": 29
        },
        {
            "cell_type": "markdown",
            "source": [
                "**Q: How many unique combination of fork and dropper post were there in the data?**\n",
                "\n",
                "```\n",
                "A: There are 56 unique droppers and 29 unique forks.\n",
                "\n",
                "```"
            ],
            "metadata": {
                "azdata_cell_guid": "d5dd8cd6-257f-4758-b6e5-8dd5c413ec64",
                "extensions": {
                    "azuredatastudio": {
                        "views": []
                    }
                }
            },
            "attachments": {}
        },
        {
            "cell_type": "markdown",
            "source": [
                "**Part 6: Write a new query to identify all builds that the fork in row 60 is included on in the data. Include the accompanying build data in your query. Use a conditional query and search for the component name in the query.**"
            ],
            "metadata": {
                "azdata_cell_guid": "d0d853e9-e61f-466e-becd-f3fc1c8f5a64",
                "extensions": {
                    "azuredatastudio": {
                        "views": []
                    }
                }
            },
            "attachments": {}
        },
        {
            "cell_type": "code",
            "source": [
                "--For Part 6 - 8, I was unsure about the instructions because it seems like they more or less asking for the same thing.\n",
                "SELECT *\n",
                "FROM dsci_504.builds as b\n",
                "WHERE b.comp_fork = '123';\n",
                ""
            ],
            "metadata": {
                "azdata_cell_guid": "81244a6d-ee2e-43f5-ab37-d1fa965cae82",
                "language": "sql",
                "tags": []
            },
            "outputs": [
                {
                    "output_type": "display_data",
                    "data": {
                        "text/html": "(4 row(s) affected)"
                    },
                    "metadata": {}
                },
                {
                    "output_type": "display_data",
                    "data": {
                        "text/html": "Total execution time: 00:00:00.003"
                    },
                    "metadata": {}
                },
                {
                    "output_type": "execute_result",
                    "execution_count": 92,
                    "data": {
                        "application/vnd.dataresource+json": {
                            "schema": {
                                "fields": [
                                    {
                                        "name": "build_id"
                                    },
                                    {
                                        "name": "comp_hbar"
                                    },
                                    {
                                        "name": "comp_brake"
                                    },
                                    {
                                        "name": "comp_wheels"
                                    },
                                    {
                                        "name": "comp_fork"
                                    },
                                    {
                                        "name": "comp_shock"
                                    },
                                    {
                                        "name": "comp_shifter"
                                    },
                                    {
                                        "name": "comp_cassette"
                                    },
                                    {
                                        "name": "comp_derail"
                                    },
                                    {
                                        "name": "comp_dropper"
                                    },
                                    {
                                        "name": "comp_crank"
                                    },
                                    {
                                        "name": "comp_chain_ring"
                                    },
                                    {
                                        "name": "build_name"
                                    }
                                ]
                            },
                            "data": [
                                {
                                    "0": "71",
                                    "1": "43",
                                    "2": "67",
                                    "3": "91",
                                    "4": "123",
                                    "5": "184",
                                    "6": "61",
                                    "7": "219",
                                    "8": "273",
                                    "9": "260",
                                    "10": "273",
                                    "11": "273",
                                    "12": "precision"
                                },
                                {
                                    "0": "42",
                                    "1": "30",
                                    "2": "67",
                                    "3": "88",
                                    "4": "123",
                                    "5": "184",
                                    "6": "61",
                                    "7": "219",
                                    "8": "273",
                                    "9": "260",
                                    "10": "273",
                                    "11": "273",
                                    "12": "electric"
                                },
                                {
                                    "0": "45",
                                    "1": "26",
                                    "2": "67",
                                    "3": "72",
                                    "4": "123",
                                    "5": "192",
                                    "6": "273",
                                    "7": "274",
                                    "8": "229",
                                    "9": "259",
                                    "10": "273",
                                    "11": "273",
                                    "12": "megalodon"
                                },
                                {
                                    "0": "57",
                                    "1": "6",
                                    "2": "56",
                                    "3": "85",
                                    "4": "123",
                                    "5": "188",
                                    "6": "279",
                                    "7": "223",
                                    "8": "279",
                                    "9": "237",
                                    "10": "269",
                                    "11": "279",
                                    "12": "strikeforce"
                                }
                            ]
                        },
                        "text/html": "<table><tr><th>build_id</th><th>comp_hbar</th><th>comp_brake</th><th>comp_wheels</th><th>comp_fork</th><th>comp_shock</th><th>comp_shifter</th><th>comp_cassette</th><th>comp_derail</th><th>comp_dropper</th><th>comp_crank</th><th>comp_chain_ring</th><th>build_name</th></tr><tr><td>71</td><td>43</td><td>67</td><td>91</td><td>123</td><td>184</td><td>61</td><td>219</td><td>273</td><td>260</td><td>273</td><td>273</td><td>precision</td></tr><tr><td>42</td><td>30</td><td>67</td><td>88</td><td>123</td><td>184</td><td>61</td><td>219</td><td>273</td><td>260</td><td>273</td><td>273</td><td>electric</td></tr><tr><td>45</td><td>26</td><td>67</td><td>72</td><td>123</td><td>192</td><td>273</td><td>274</td><td>229</td><td>259</td><td>273</td><td>273</td><td>megalodon</td></tr><tr><td>57</td><td>6</td><td>56</td><td>85</td><td>123</td><td>188</td><td>279</td><td>223</td><td>279</td><td>237</td><td>269</td><td>279</td><td>strikeforce</td></tr></table>"
                    },
                    "metadata": {}
                }
            ],
            "execution_count": 92
        },
        {
            "cell_type": "markdown",
            "source": [
                "**Q: What happened in the query?**\n",
                "\n",
                "```\n",
                "A: The query returned all the build data that the fork is included in. From this query, we found that the fork is included in four builds.\n",
                "\n",
                "```"
            ],
            "metadata": {
                "azdata_cell_guid": "83a7ecae-602e-4746-91de-6513c06a72af",
                "extensions": {
                    "azuredatastudio": {
                        "views": []
                    }
                }
            },
            "attachments": {}
        },
        {
            "cell_type": "markdown",
            "source": [
                "**Part 7: Use the simple join concept from Part 4 to complete the query by joining the componet and build tables. Return all Build columns in your query, but not the component data.**"
            ],
            "metadata": {
                "azdata_cell_guid": "edc8be23-1945-4b96-9374-7e54b4c07f20"
            },
            "attachments": {}
        },
        {
            "cell_type": "code",
            "source": [
                "--I joined the component and build tables, and only returned the build data which is...\n",
                "--why the query looks the same as Part 6.\n",
                "SELECT q1.build_id\n",
                "      ,q1.comp_hbar\n",
                "      ,q1.comp_brake\n",
                "      ,q1.comp_wheels\n",
                "      ,q1.comp_fork\n",
                "      ,q1.comp_shock\n",
                "      ,q1.comp_shifter\n",
                "      ,q1.comp_cassette\n",
                "      ,q1.comp_derail \n",
                "      ,q1.comp_dropper\n",
                "      ,q1.comp_crank\n",
                "      ,q1.comp_chain_ring\n",
                "      ,q1.build_name\n",
                "FROM\n",
                "(SELECT *\n",
                "FROM dsci_504.builds) as q1\n",
                "INNER JOIN dsci_504.components as c \n",
                "ON CAST(q1.comp_fork as INT) = c.comp_id\n",
                "WHERE comp_fork = '123';\n",
                ""
            ],
            "metadata": {
                "language": "sql",
                "azdata_cell_guid": "cb45f10c-db96-4211-a4c6-9d7a43c094ef"
            },
            "outputs": [
                {
                    "output_type": "display_data",
                    "data": {
                        "text/html": "(4 row(s) affected)"
                    },
                    "metadata": {}
                },
                {
                    "output_type": "display_data",
                    "data": {
                        "text/html": "Total execution time: 00:00:00.002"
                    },
                    "metadata": {}
                },
                {
                    "output_type": "execute_result",
                    "execution_count": 94,
                    "data": {
                        "application/vnd.dataresource+json": {
                            "schema": {
                                "fields": [
                                    {
                                        "name": "build_id"
                                    },
                                    {
                                        "name": "comp_hbar"
                                    },
                                    {
                                        "name": "comp_brake"
                                    },
                                    {
                                        "name": "comp_wheels"
                                    },
                                    {
                                        "name": "comp_fork"
                                    },
                                    {
                                        "name": "comp_shock"
                                    },
                                    {
                                        "name": "comp_shifter"
                                    },
                                    {
                                        "name": "comp_cassette"
                                    },
                                    {
                                        "name": "comp_derail"
                                    },
                                    {
                                        "name": "comp_dropper"
                                    },
                                    {
                                        "name": "comp_crank"
                                    },
                                    {
                                        "name": "comp_chain_ring"
                                    },
                                    {
                                        "name": "build_name"
                                    }
                                ]
                            },
                            "data": [
                                {
                                    "0": "71",
                                    "1": "43",
                                    "2": "67",
                                    "3": "91",
                                    "4": "123",
                                    "5": "184",
                                    "6": "61",
                                    "7": "219",
                                    "8": "273",
                                    "9": "260",
                                    "10": "273",
                                    "11": "273",
                                    "12": "precision"
                                },
                                {
                                    "0": "42",
                                    "1": "30",
                                    "2": "67",
                                    "3": "88",
                                    "4": "123",
                                    "5": "184",
                                    "6": "61",
                                    "7": "219",
                                    "8": "273",
                                    "9": "260",
                                    "10": "273",
                                    "11": "273",
                                    "12": "electric"
                                },
                                {
                                    "0": "45",
                                    "1": "26",
                                    "2": "67",
                                    "3": "72",
                                    "4": "123",
                                    "5": "192",
                                    "6": "273",
                                    "7": "274",
                                    "8": "229",
                                    "9": "259",
                                    "10": "273",
                                    "11": "273",
                                    "12": "megalodon"
                                },
                                {
                                    "0": "57",
                                    "1": "6",
                                    "2": "56",
                                    "3": "85",
                                    "4": "123",
                                    "5": "188",
                                    "6": "279",
                                    "7": "223",
                                    "8": "279",
                                    "9": "237",
                                    "10": "269",
                                    "11": "279",
                                    "12": "strikeforce"
                                }
                            ]
                        },
                        "text/html": "<table><tr><th>build_id</th><th>comp_hbar</th><th>comp_brake</th><th>comp_wheels</th><th>comp_fork</th><th>comp_shock</th><th>comp_shifter</th><th>comp_cassette</th><th>comp_derail</th><th>comp_dropper</th><th>comp_crank</th><th>comp_chain_ring</th><th>build_name</th></tr><tr><td>71</td><td>43</td><td>67</td><td>91</td><td>123</td><td>184</td><td>61</td><td>219</td><td>273</td><td>260</td><td>273</td><td>273</td><td>precision</td></tr><tr><td>42</td><td>30</td><td>67</td><td>88</td><td>123</td><td>184</td><td>61</td><td>219</td><td>273</td><td>260</td><td>273</td><td>273</td><td>electric</td></tr><tr><td>45</td><td>26</td><td>67</td><td>72</td><td>123</td><td>192</td><td>273</td><td>274</td><td>229</td><td>259</td><td>273</td><td>273</td><td>megalodon</td></tr><tr><td>57</td><td>6</td><td>56</td><td>85</td><td>123</td><td>188</td><td>279</td><td>223</td><td>279</td><td>237</td><td>269</td><td>279</td><td>strikeforce</td></tr></table>"
                    },
                    "metadata": {}
                }
            ],
            "execution_count": 94
        },
        {
            "cell_type": "markdown",
            "source": [
                "**Q: How many builds is the 'Fox 38 Factory Grip2 170 Air' included in?**\n",
                "\n",
                "```\n",
                "A: Four.\n",
                "\n",
                "```"
            ],
            "metadata": {
                "language": "sql",
                "azdata_cell_guid": "8a715a0a-7c1a-4c81-98dc-de3ff2ec034f"
            },
            "attachments": {}
        },
        {
            "cell_type": "markdown",
            "source": [
                "**Part 8: Write a query to find the build names of the four builds from Part 7 above.**"
            ],
            "metadata": {
                "azdata_cell_guid": "2efb9dee-8467-4e56-b2eb-d5708891bcb1",
                "extensions": {
                    "azuredatastudio": {
                        "views": []
                    }
                }
            },
            "attachments": {}
        },
        {
            "cell_type": "code",
            "source": [
                "SELECT q1.build_id\n",
                "      ,q1.comp_fork\n",
                "      ,q1.build_name\n",
                "FROM\n",
                "(SELECT *\n",
                "FROM dsci_504.builds) as q1\n",
                "INNER JOIN dsci_504.components as c \n",
                "ON CAST(q1.comp_fork as INT) = c.comp_id\n",
                "WHERE comp_fork = '123';"
            ],
            "metadata": {
                "azdata_cell_guid": "51d86830-35b3-4174-87d7-ece7b2aba0bc",
                "language": "sql"
            },
            "outputs": [
                {
                    "output_type": "display_data",
                    "data": {
                        "text/html": "(4 row(s) affected)"
                    },
                    "metadata": {}
                },
                {
                    "output_type": "display_data",
                    "data": {
                        "text/html": "Total execution time: 00:00:00.007"
                    },
                    "metadata": {}
                },
                {
                    "output_type": "execute_result",
                    "execution_count": 95,
                    "data": {
                        "application/vnd.dataresource+json": {
                            "schema": {
                                "fields": [
                                    {
                                        "name": "build_id"
                                    },
                                    {
                                        "name": "comp_fork"
                                    },
                                    {
                                        "name": "build_name"
                                    }
                                ]
                            },
                            "data": [
                                {
                                    "0": "71",
                                    "1": "123",
                                    "2": "precision"
                                },
                                {
                                    "0": "42",
                                    "1": "123",
                                    "2": "electric"
                                },
                                {
                                    "0": "45",
                                    "1": "123",
                                    "2": "megalodon"
                                },
                                {
                                    "0": "57",
                                    "1": "123",
                                    "2": "strikeforce"
                                }
                            ]
                        },
                        "text/html": "<table><tr><th>build_id</th><th>comp_fork</th><th>build_name</th></tr><tr><td>71</td><td>123</td><td>precision</td></tr><tr><td>42</td><td>123</td><td>electric</td></tr><tr><td>45</td><td>123</td><td>megalodon</td></tr><tr><td>57</td><td>123</td><td>strikeforce</td></tr></table>"
                    },
                    "metadata": {}
                }
            ],
            "execution_count": 95
        },
        {
            "cell_type": "markdown",
            "source": [
                "**Part 9: Identify the most expensive product of 2019. Since we haven't learned aggregate functions yet, please do not use the max() function. Use conditional statements to return a single row with the product with the highest order value**"
            ],
            "metadata": {
                "language": "sql",
                "azdata_cell_guid": "cb2acb8d-b4a4-4248-97a3-c7d9f3f8ce69"
            },
            "attachments": {}
        },
        {
            "cell_type": "code",
            "source": [
                "\n",
                "SELECT o.ord_date\n",
                "       ,o.prod_id \n",
                "       ,p.prod_name\n",
                "       ,p.prod_price\n",
                "       ,o.order_tot\n",
                "FROM dsci_504.products AS p\n",
                "INNER JOIN dsci_504.orders AS o\n",
                "ON p.prod_id = o.prod_id\n",
                "WHERE o.ord_date\n",
                "BETWEEN '2019-01-01' AND '2019-12-31'\n",
                "ORDER BY p.prod_price DESC\n",
                "LIMIT 2;\n",
                ""
            ],
            "metadata": {
                "language": "sql",
                "azdata_cell_guid": "503ce8ca-efa2-448d-ad9f-e5329c4dfff2"
            },
            "outputs": [
                {
                    "output_type": "display_data",
                    "data": {
                        "text/html": "(2 row(s) affected)"
                    },
                    "metadata": {}
                },
                {
                    "output_type": "display_data",
                    "data": {
                        "text/html": "Total execution time: 00:00:00.002"
                    },
                    "metadata": {}
                },
                {
                    "output_type": "execute_result",
                    "execution_count": 39,
                    "data": {
                        "application/vnd.dataresource+json": {
                            "schema": {
                                "fields": [
                                    {
                                        "name": "ord_date"
                                    },
                                    {
                                        "name": "prod_id"
                                    },
                                    {
                                        "name": "prod_name"
                                    },
                                    {
                                        "name": "prod_price"
                                    },
                                    {
                                        "name": "order_tot"
                                    }
                                ]
                            },
                            "data": [
                                {
                                    "0": "2019-12-03",
                                    "1": "24",
                                    "2": "Rail",
                                    "3": "7399",
                                    "4": "7813.34"
                                },
                                {
                                    "0": "2019-02-10",
                                    "1": "22",
                                    "2": "Wreckoning",
                                    "3": "7399",
                                    "4": "7694.96"
                                }
                            ]
                        },
                        "text/html": "<table><tr><th>ord_date</th><th>prod_id</th><th>prod_name</th><th>prod_price</th><th>order_tot</th></tr><tr><td>2019-12-03</td><td>24</td><td>Rail</td><td>7399</td><td>7813.34</td></tr><tr><td>2019-02-10</td><td>22</td><td>Wreckoning</td><td>7399</td><td>7694.96</td></tr></table>"
                    },
                    "metadata": {}
                }
            ],
            "execution_count": 39
        },
        {
            "cell_type": "markdown",
            "source": [
                "**Q: What is the product name of the product and the price of the mountain bike with the highest prive ordered in 2019?**\n",
                "\n",
                "```\n",
                "A: There were two products with the highest price ordered in 2019. They were the Rail and Wreckoning, which were both $7399.\n",
                "\n",
                "```"
            ],
            "metadata": {
                "language": "sql",
                "azdata_cell_guid": "f12588ec-451e-4209-b5ca-1160a283c71f"
            },
            "attachments": {}
        },
        {
            "cell_type": "markdown",
            "source": [
                "**Part 10: Execute three additional queries on tables you haven't used yet. These can be at your discretion.**"
            ],
            "metadata": {
                "language": "sql",
                "azdata_cell_guid": "374bb956-e53d-498f-9135-0955bd04ec24"
            },
            "attachments": {}
        },
        {
            "cell_type": "code",
            "source": [
                "--What are the top 5 most returned components?\n",
                "SELECT c.comp_id\n",
                "      ,c.comp_name\n",
                "      ,c.comp_cat\n",
                "      ,SUM(r.tot_ret_item_cnt) AS tot_returns\n",
                "FROM dsci_504.racs AS r\n",
                "INNER JOIN dsci_504.components AS c \n",
                "ON r.comp_id = c.comp_id\n",
                "GROUP BY c.comp_id\n",
                "ORDER BY tot_returns DESC\n",
                "LIMIT 5;\n",
                "\n",
                ""
            ],
            "metadata": {
                "language": "sql",
                "azdata_cell_guid": "cedf6c6f-460d-47e6-b2f4-9a4378d8cead",
                "tags": []
            },
            "outputs": [
{
    "output_type": "display_data",
    "data": {
        "text/html": "(5 row(s) affected)"
    },
    "metadata": {}
}, {
    "output_type": "display_data",
    "data": {
        "text/html": "Total execution time: 00:00:00.029"
    },
    "metadata": {}
}, {
    "output_type": "execute_result",
    "metadata": {},
    "execution_count": 1,
    "data": {
        "application/vnd.dataresource+json": {
            "schema": {
                "fields": [
                    {
                        "name": "comp_id"
                    },
                    {
                        "name": "comp_name"
                    },
                    {
                        "name": "comp_cat"
                    },
                    {
                        "name": "tot_returns"
                    }
                ]
            },
            "data": [
                {
                    "0": "56",
                    "1": "Sram Code RSC",
                    "2": "brake",
                    "3": "123"
                },
                {
                    "0": "32",
                    "1": "Ibis Carbon",
                    "2": "handlebar",
                    "3": "104"
                },
                {
                    "0": "41",
                    "1": "Evil Boomstick 7075 Alloy",
                    "2": "handlebar",
                    "3": "88"
                },
                {
                    "0": "38",
                    "1": "Specialized Trail 7050 Alloy",
                    "2": "handlebar",
                    "3": "85"
                },
                {
                    "0": "26",
                    "1": "Phoenix Team LowRise",
                    "2": "handlebar",
                    "3": "83"
                }
            ]
        },
        "text/html": [
            "<table>",
            "<tr><th>comp_id</th><th>comp_name</th><th>comp_cat</th><th>tot_returns</th></tr>",
            "<tr><td>56</td><td>Sram Code RSC</td><td>brake</td><td>123</td></tr>",
            "<tr><td>32</td><td>Ibis Carbon</td><td>handlebar</td><td>104</td></tr>",
            "<tr><td>41</td><td>Evil Boomstick 7075 Alloy</td><td>handlebar</td><td>88</td></tr>",
            "<tr><td>38</td><td>Specialized Trail 7050 Alloy</td><td>handlebar</td><td>85</td></tr>",
            "<tr><td>26</td><td>Phoenix Team LowRise</td><td>handlebar</td><td>83</td></tr>",
            "</table>"
        ]
    }
}
],
            "execution_count": 1
        },
        {
            "cell_type": "code",
            "source": [
                "--How many orders does each warehouse recieve?\n",
                "SELECT COUNT(cwo.warehouse_id) AS tot_warehouse_orders\n",
                "FROM dsci_504.customerwarehouseorders AS cwo\n",
                "GROUP BY cwo.warehouse_id;"
            ],
            "metadata": {
                "language": "sql",
                "azdata_cell_guid": "d2421430-535d-4a63-9194-b92c79907a62",
                "tags": []
            },
            "outputs": [
                {
                    "output_type": "display_data",
                    "data": {
                        "text/html": "(3 row(s) affected)"
                    },
                    "metadata": {}
                },
                {
                    "output_type": "display_data",
                    "data": {
                        "text/html": "Total execution time: 00:00:00.002"
                    },
                    "metadata": {}
                },
                {
                    "output_type": "execute_result",
                    "execution_count": 63,
                    "data": {
                        "application/vnd.dataresource+json": {
                            "schema": {
                                "fields": [
                                    {
                                        "name": "tot_warehouse_orders"
                                    }
                                ]
                            },
                            "data": [
                                {
                                    "0": "884"
                                },
                                {
                                    "0": "856"
                                },
                                {
                                    "0": "859"
                                }
                            ]
                        },
                        "text/html": "<table><tr><th>tot_warehouse_orders</th></tr><tr><td>884</td></tr><tr><td>856</td></tr><tr><td>859</td></tr></table>"
                    },
                    "metadata": {}
                }
            ],
            "execution_count": 63
        },
        {
            "cell_type": "code",
            "source": [
                "--Which state has the highest tax rate?\n",
                "SELECT *\n",
                "FROM dsci_504.taxes AS t \n",
                "ORDER BY t.tax_rate DESC\n",
                "LIMIT 1;"
            ],
            "metadata": {
                "language": "sql",
                "azdata_cell_guid": "5775ee30-75a1-463d-bda6-ff1b28b66002"
            },
            "outputs": [
                {
                    "output_type": "display_data",
                    "data": {
                        "text/html": "(1 row(s) affected)"
                    },
                    "metadata": {}
                },
                {
                    "output_type": "display_data",
                    "data": {
                        "text/html": "Total execution time: 00:00:00.002"
                    },
                    "metadata": {}
                },
                {
                    "output_type": "execute_result",
                    "execution_count": 97,
                    "data": {
                        "application/vnd.dataresource+json": {
                            "schema": {
                                "fields": [
                                    {
                                        "name": "tax_id"
                                    },
                                    {
                                        "name": "tax_location"
                                    },
                                    {
                                        "name": "tax_rate"
                                    }
                                ]
                            },
                            "data": [
                                {
                                    "0": "17",
                                    "1": "MN",
                                    "2": "8.875"
                                }
                            ]
                        },
                        "text/html": "<table><tr><th>tax_id</th><th>tax_location</th><th>tax_rate</th></tr><tr><td>17</td><td>MN</td><td>8.875</td></tr></table>"
                    },
                    "metadata": {}
                }
            ],
            "execution_count": 97
        },
        {
            "cell_type": "markdown",
            "source": [
                "**Q: Write a few paragraphs about what you learned this week in the course. What interesting things did you discover in this assignment with simple queries?**\n",
                "\n",
                "```\n",
                "A: I knew a little bit about SQL before taking this course, but going through the modules this week has given me the oppurtunity to relearn some of things that I have learned previously. This week we went over the SQL execution order vs the written order, and that has helped me understand why errors arise when I try to execute certain queries. We also went over some of the SELECT query elements like WHERE, AND/OR, and ORDER BY, and reading those modules helped me remember aspects of each element. \n",
                "\n",
                "```\n",
                "```\n",
                "While working the assignments, some interesting things I discovered was that there are a lot of different components that make up a bike. I am not biker, so all of this is new to me; however, it was interesting to see how many different brands of a bike dropper and fork exists. The various components even inspired me to create a query about the top 5 most returned components (because surely not every component is well-produced or well-liked by the customers). Another interesting thing I found was that Minnesota had the highest sales tax rate. For some reason, I was expecting to see California or another high cost-of-living state on top.  \n",
                "\n",
                "```"
            ],
            "metadata": {
                "azdata_cell_guid": "56efe00b-6bec-4371-8937-36b8b14e7773",
                "extensions": {
                    "azuredatastudio": {
                        "views": []
                    }
                }
            },
            "attachments": {}
        }
    ]
}
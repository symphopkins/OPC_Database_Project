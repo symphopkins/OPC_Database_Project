{
    "metadata": {
        "kernelspec": {
            "name": "SQL",
            "display_name": "SQL",
            "language": "sql"
        },
        "language_info": {
            "name": "sql",
            "version": ""
        }
    },
    "nbformat_minor": 2,
    "nbformat": 4,
    "cells": [
        {
            "cell_type": "markdown",
            "source": [
                "# **Assignment 2: Building the OPC Database**\n",
                "\n",
                "## DSCI 504: Intro to SQL\n",
                "\n",
                "Symphony Hopkins\n",
                "\n",
                "September 5, 2022"
            ],
            "metadata": {
                "azdata_cell_guid": "800afac1-723c-43d8-bed1-9a1473526a3d"
            },
            "attachments": {}
        },
        {
            "cell_type": "markdown",
            "source": [
                "Assignment Objectives:\n",
                "\n",
                "1. Build a database schema\n",
                "2. Build database tables\n",
                "3. Identify Primary and Foreign Keys\n",
                "4. Identify table Constratints\n",
                "5. Import data into PostgreSQL\n",
                "6. Query a table"
            ],
            "metadata": {
                "azdata_cell_guid": "e926db60-83fa-45b0-8abb-5fff6d5a190b"
            },
            "attachments": {}
        },
        {
            "cell_type": "markdown",
            "source": [
                "**Step 1: Create a new schema named 'dsci\\_504'.**"
            ],
            "metadata": {
                "azdata_cell_guid": "e15ed8e8-a114-4bb1-91dc-347fcf0e62bd"
            },
            "attachments": {}
        },
        {
            "cell_type": "code",
            "source": [
                "CREATE SCHEMA dsci_504;"
            ],
            "metadata": {
                "azdata_cell_guid": "419eb9c2-7317-48b2-a353-a893555b0e82",
                "language": "sql"
            },
            "outputs": [
                {
                    "output_type": "display_data",
                    "data": {
                        "text/html": "Commands completed successfully"
                    },
                    "metadata": {}
                },
                {
                    "output_type": "display_data",
                    "data": {
                        "text/html": "Total execution time: 00:00:00.001"
                    },
                    "metadata": {}
                }
            ],
            "execution_count": 159
        },
        {
            "cell_type": "markdown",
            "source": [
                "**STEP 2: Create the necessary tables identified in the Assignemt 2 Table Structure document located in Canvas. Use a new code cell for each table.**"
            ],
            "metadata": {
                "azdata_cell_guid": "df31d0ba-68c3-4a9b-a3b6-ab38b9433eb4"
            },
            "attachments": {}
        },
        {
            "cell_type": "code",
            "source": [
                "CREATE TABLE dsci_504.builds (\n",
                "    build_id SMALLINT,\n",
                "    comp_hbar VARCHAR(50),\n",
                "    comp_brake VARCHAR(50),\n",
                "    comp_wheels VARCHAR(50),\n",
                "    comp_fork VARCHAR(50),\n",
                "    comp_shock VARCHAR(50),\n",
                "    comp_shifter VARCHAR(50),\n",
                "    comp_cassette VARCHAR(50),\n",
                "    comp_derail VARCHAR(50),\n",
                "    comp_dropper VARCHAR(50),\n",
                "    comp_crank VARCHAR(50),\n",
                "    comp_chain_ring VARCHAR(50),\n",
                "    build_name VARCHAR(25)\n",
                ")"
            ],
            "metadata": {
                "azdata_cell_guid": "8d49639f-c115-41cd-b84c-0bd932019f15",
                "language": "sql"
            },
            "outputs": [
                {
                    "output_type": "display_data",
                    "data": {
                        "text/html": "Commands completed successfully"
                    },
                    "metadata": {}
                },
                {
                    "output_type": "display_data",
                    "data": {
                        "text/html": "Total execution time: 00:00:00.042"
                    },
                    "metadata": {}
                }
            ],
            "execution_count": 160
        },
        {
            "cell_type": "code",
            "source": [
                "CREATE TABLE dsci_504.components (\n",
                "    comp_id INTEGER,\n",
                "    comp_name VARCHAR(35),\n",
                "    comp_cost NUMERIC,\n",
                "    comp_supplier INTEGER,\n",
                "    comp_cat VARCHAR(25),\n",
                "    sup_id INTEGER\n",
                ");\n",
                "--check back on this"
            ],
            "metadata": {
                "language": "sql",
                "azdata_cell_guid": "62440d5f-5c0a-47fc-bfb9-d15533be5aa7"
            },
            "outputs": [
                {
                    "output_type": "display_data",
                    "data": {
                        "text/html": "Commands completed successfully"
                    },
                    "metadata": {}
                },
                {
                    "output_type": "display_data",
                    "data": {
                        "text/html": "Total execution time: 00:00:00.002"
                    },
                    "metadata": {}
                }
            ],
            "execution_count": 161
        },
        {
            "cell_type": "code",
            "source": [
                "CREATE TABLE dsci_504.customers (\n",
                "    cus_id INTEGER,\n",
                "    cus_num VARCHAR(25),\n",
                "    cus_last_name VARCHAR(50),\n",
                "    cus_first_name VARCHAR(50),\n",
                "    cus_add_num\t BIGINT,\n",
                "    cus_address VARCHAR(100),\n",
                "    cus_city VARCHAR(50),\n",
                "    cus_state SMALLINT,\n",
                "    cus_zip BIGINT,\n",
                "    cus_phone BIGINT,\n",
                "    cus_join_date DATE,\n",
                "    cus_app_cd SMALLINT,\n",
                "    cus_app_num VARCHAR(30),\n",
                "    tot_ord_qty SMALLINT,\n",
                "    tot_ord_value NUMERIC\n",
                ")"
            ],
            "metadata": {
                "language": "sql",
                "azdata_cell_guid": "d48948f8-11cb-4839-ae97-8a77f5b24abe"
            },
            "outputs": [
                {
                    "output_type": "display_data",
                    "data": {
                        "text/html": "Commands completed successfully"
                    },
                    "metadata": {}
                },
                {
                    "output_type": "display_data",
                    "data": {
                        "text/html": "Total execution time: 00:00:00.002"
                    },
                    "metadata": {}
                }
            ],
            "execution_count": 162
        },
        {
            "cell_type": "code",
            "source": [
                "CREATE TABLE dsci_504.customerwarehouseorders (\n",
                "    cus_id INTEGER,\n",
                "    warehouse_id INTEGER,\n",
                "    ord_id INTEGER\n",
                ")"
            ],
            "metadata": {
                "language": "sql",
                "azdata_cell_guid": "bc342387-7f25-42d3-b488-1ad474abf4ed",
                "tags": [
                    "hide_input"
                ]
            },
            "outputs": [
                {
                    "output_type": "display_data",
                    "data": {
                        "text/html": "Commands completed successfully"
                    },
                    "metadata": {}
                },
                {
                    "output_type": "display_data",
                    "data": {
                        "text/html": "Total execution time: 00:00:00.001"
                    },
                    "metadata": {}
                }
            ],
            "execution_count": 163
        },
        {
            "cell_type": "code",
            "source": [
                "CREATE TABLE dsci_504.customerwarehousereturns (\n",
                "    cus_id INTEGER,\n",
                "    warehouse_id INTEGER,\n",
                "    ord_id INTEGER,\n",
                "    rac_id INTEGER\n",
                ")"
            ],
            "metadata": {
                "language": "sql",
                "azdata_cell_guid": "8bd03a00-2aa0-42d2-9981-ffde6ec9b9d6"
            },
            "outputs": [
                {
                    "output_type": "display_data",
                    "data": {
                        "text/html": "Commands completed successfully"
                    },
                    "metadata": {}
                },
                {
                    "output_type": "display_data",
                    "data": {
                        "text/html": "Total execution time: 00:00:00.001"
                    },
                    "metadata": {}
                }
            ],
            "execution_count": 164
        },
        {
            "cell_type": "code",
            "source": [
                "CREATE TABLE dsci_504.orders (\n",
                "    ord_id INTEGER,\n",
                "\tord_date DATE,\n",
                "\tord_tax_loc CHAR(2),\n",
                "\torder_tot NUMERIC,\n",
                "\tord_ship_add TEXT,\n",
                "\tord_ship_date DATE,\n",
                "\tord_track_num CHAR(16),\n",
                "\tprod_id INTEGER,\n",
                "\twarehouse_id INTEGER,\n",
                "\tcus_id INTEGER\n",
                ")"
            ],
            "metadata": {
                "language": "sql",
                "azdata_cell_guid": "07bf908f-9626-479c-9645-3ec0baa0fc28"
            },
            "outputs": [
                {
                    "output_type": "display_data",
                    "data": {
                        "text/html": "Commands completed successfully"
                    },
                    "metadata": {}
                },
                {
                    "output_type": "display_data",
                    "data": {
                        "text/html": "Total execution time: 00:00:00.003"
                    },
                    "metadata": {}
                }
            ],
            "execution_count": 165
        },
        {
            "cell_type": "code",
            "source": [
                "CREATE TABLE dsci_504.ordertaxes (\n",
                "    ord_id INTEGER,\n",
                "    ord_date DATE,\n",
                "    tax_rate NUMERIC\n",
                ")"
            ],
            "metadata": {
                "language": "sql",
                "azdata_cell_guid": "2ffc02c8-03b6-4a50-a3c3-e79554baf380"
            },
            "outputs": [
                {
                    "output_type": "display_data",
                    "data": {
                        "text/html": "Commands completed successfully"
                    },
                    "metadata": {}
                },
                {
                    "output_type": "display_data",
                    "data": {
                        "text/html": "Total execution time: 00:00:00.003"
                    },
                    "metadata": {}
                }
            ],
            "execution_count": 166
        },
        {
            "cell_type": "code",
            "source": [
                "CREATE TABLE dsci_504.productbuilds (\n",
                "    prod_id INTEGER,\n",
                "    build_id INTEGER\n",
                ")"
            ],
            "metadata": {
                "language": "sql",
                "azdata_cell_guid": "8494d98a-fc62-45bb-97c1-d258eb48b62c"
            },
            "outputs": [
                {
                    "output_type": "display_data",
                    "data": {
                        "text/html": "Commands completed successfully"
                    },
                    "metadata": {}
                },
                {
                    "output_type": "display_data",
                    "data": {
                        "text/html": "Total execution time: 00:00:00.001"
                    },
                    "metadata": {}
                }
            ],
            "execution_count": 167
        },
        {
            "cell_type": "code",
            "source": [
                "CREATE TABLE dsci_504.products (\n",
                "    prod_id SMALLINT,\n",
                "    prod_cat_name VARCHAR(50),\n",
                "    prod_manufacturer VARCHAR(50),\n",
                "    prod_name VARCHAR(50),\n",
                "    prod_description VARCHAR(50),\n",
                "    prod_price NUMERIC,\n",
                "    prod_class VARCHAR(25),\n",
                "    country_origin VARCHAR(10),\n",
                "    sup_id INTEGER\n",
                ")"
            ],
            "metadata": {
                "language": "sql",
                "azdata_cell_guid": "30206938-beb2-44c9-ba36-aca8f4fce24e"
            },
            "outputs": [
                {
                    "output_type": "display_data",
                    "data": {
                        "text/html": "Commands completed successfully"
                    },
                    "metadata": {}
                },
                {
                    "output_type": "display_data",
                    "data": {
                        "text/html": "Total execution time: 00:00:00.004"
                    },
                    "metadata": {}
                }
            ],
            "execution_count": 168
        },
        {
            "cell_type": "code",
            "source": [
                "--Column ord_id was duplicated, so I had to delete it.\n",
                "--Ord_id values were to big for SMALLINT, so I had to convert it to INTEGER.\n",
                "\n",
                "CREATE TABLE dsci_504.racs (\n",
                "    rac_id SMALLINT,\n",
                "\ttot_ret_item_cnt SMALLINT,\n",
                "\ttot_ret_amnt NUMERIC,\n",
                "\tcus_id SMALLINT,\n",
                "\twarehouse_id SMALLINT,\n",
                "\tprod_id SMALLINT,\n",
                "\tord_id INTEGER,\n",
                "\tcomp_id\tSMALLINT\n",
                ")"
            ],
            "metadata": {
                "language": "sql",
                "azdata_cell_guid": "e2bf40f9-3526-4fbb-9b88-e2e95e59c719",
                "tags": []
            },
            "outputs": [
                {
                    "output_type": "display_data",
                    "data": {
                        "text/html": "Commands completed successfully"
                    },
                    "metadata": {}
                },
                {
                    "output_type": "display_data",
                    "data": {
                        "text/html": "Total execution time: 00:00:00.003"
                    },
                    "metadata": {}
                }
            ],
            "execution_count": 169
        },
        {
            "cell_type": "code",
            "source": [
                "CREATE TABLE dsci_504.states (\n",
                "    state_id SMALLINT,\n",
                "    state VARCHAR(2)\n",
                ")"
            ],
            "metadata": {
                "language": "sql",
                "azdata_cell_guid": "b2e731dc-7243-4272-bc9e-a6a47bf208b7",
                "tags": []
            },
            "outputs": [
                {
                    "output_type": "display_data",
                    "data": {
                        "text/html": "Commands completed successfully"
                    },
                    "metadata": {}
                },
                {
                    "output_type": "display_data",
                    "data": {
                        "text/html": "Total execution time: 00:00:00.002"
                    },
                    "metadata": {}
                }
            ],
            "execution_count": 170
        },
        {
            "cell_type": "code",
            "source": [
                "CREATE TABLE dsci_504.suppliers (\n",
                "    sup_id INTEGER,\n",
                "    sup_name VARCHAR(35),\n",
                "    sup_ctry VARCHAR(30)\n",
                ")"
            ],
            "metadata": {
                "language": "sql",
                "azdata_cell_guid": "22c10581-b8ea-4461-a94d-27dc7606a322"
            },
            "outputs": [
                {
                    "output_type": "display_data",
                    "data": {
                        "text/html": "Commands completed successfully"
                    },
                    "metadata": {}
                },
                {
                    "output_type": "display_data",
                    "data": {
                        "text/html": "Total execution time: 00:00:00.003"
                    },
                    "metadata": {}
                }
            ],
            "execution_count": 171
        },
        {
            "cell_type": "code",
            "source": [
                "CREATE TABLE dsci_504.taxes (\n",
                "    tax_id SMALLINT,\n",
                "    tax_location VARCHAR(2),\n",
                "    tax_rate NUMERIC\n",
                ")"
            ],
            "metadata": {
                "language": "sql",
                "azdata_cell_guid": "5a140f99-8d4a-44a7-8a0b-554736517cd4"
            },
            "outputs": [
                {
                    "output_type": "display_data",
                    "data": {
                        "text/html": "Commands completed successfully"
                    },
                    "metadata": {}
                },
                {
                    "output_type": "display_data",
                    "data": {
                        "text/html": "Total execution time: 00:00:00.004"
                    },
                    "metadata": {}
                }
            ],
            "execution_count": 172
        },
        {
            "cell_type": "code",
            "source": [
                "CREATE TABLE dsci_504.warehouses (\n",
                "    warehouse_id SMALLINT,\n",
                "    warehouse_name VARCHAR(25),\n",
                "    warehouse_state SMALLINT\n",
                ")"
            ],
            "metadata": {
                "language": "sql",
                "azdata_cell_guid": "cc51d84d-5ce5-49cd-bc84-9ac5d4241667"
            },
            "outputs": [
                {
                    "output_type": "display_data",
                    "data": {
                        "text/html": "Commands completed successfully"
                    },
                    "metadata": {}
                },
                {
                    "output_type": "display_data",
                    "data": {
                        "text/html": "Total execution time: 00:00:00.001"
                    },
                    "metadata": {}
                }
            ],
            "execution_count": 173
        },
        {
            "cell_type": "markdown",
            "source": [
                "**Step 3: Import the data into the OPC tables in PostgreSQL. Use a new code cell for each file.**"
            ],
            "metadata": {
                "azdata_cell_guid": "54900f51-56e1-4b21-b839-326374a158a2"
            },
            "attachments": {}
        },
        {
            "cell_type": "code",
            "source": [
                "COPY dsci_504.builds\n",
                "FROM '/Applications/PostgreSQL 14/DSC_504_Database_Tables/builds.csv'\n",
                "DELIMITER ',' \n",
                "CSV\n",
                "HEADER;"
            ],
            "metadata": {
                "azdata_cell_guid": "96f9e866-ac06-46da-8362-64edbff07004",
                "language": "sql",
                "tags": []
            },
            "outputs": [
                {
                    "output_type": "display_data",
                    "data": {
                        "text/html": "Commands completed successfully"
                    },
                    "metadata": {}
                },
                {
                    "output_type": "display_data",
                    "data": {
                        "text/html": "Total execution time: 00:00:00.003"
                    },
                    "metadata": {}
                }
            ],
            "execution_count": 174
        },
        {
            "cell_type": "code",
            "source": [
                "--Copied to everything except sup_id because column was empty and causing missing data error and prevented the statements to be executed.\n",
                "\n",
                "COPY dsci_504.components(comp_id, comp_name, comp_cost, comp_supplier, comp_cat)\n",
                "FROM '/Applications/PostgreSQL 14/DSC_504_Database_Tables/components.csv'\n",
                "DELIMITER ',' \n",
                "CSV\n",
                "HEADER;"
            ],
            "metadata": {
                "language": "sql",
                "azdata_cell_guid": "b05b04fb-6e96-49b9-b051-60f0ad53384b"
            },
            "outputs": [
                {
                    "output_type": "display_data",
                    "data": {
                        "text/html": "Commands completed successfully"
                    },
                    "metadata": {}
                },
                {
                    "output_type": "display_data",
                    "data": {
                        "text/html": "Total execution time: 00:00:00.004"
                    },
                    "metadata": {}
                }
            ],
            "execution_count": 175
        },
        {
            "cell_type": "code",
            "source": [
                "COPY dsci_504.customers\n",
                "FROM '/Applications/PostgreSQL 14/DSC_504_Database_Tables/customers.csv'\n",
                "DELIMITER ',' \n",
                "CSV\n",
                "HEADER;"
            ],
            "metadata": {
                "language": "sql",
                "azdata_cell_guid": "d2e62e14-2ac2-4979-84df-6300d7c8a81b"
            },
            "outputs": [
                {
                    "output_type": "display_data",
                    "data": {
                        "text/html": "Commands completed successfully"
                    },
                    "metadata": {}
                },
                {
                    "output_type": "display_data",
                    "data": {
                        "text/html": "Total execution time: 00:00:00.022"
                    },
                    "metadata": {}
                }
            ],
            "execution_count": 176
        },
        {
            "cell_type": "code",
            "source": [
                "COPY dsci_504.customerwarehouseorders\n",
                "FROM '/Applications/PostgreSQL 14/DSC_504_Database_Tables/customerwarehouseorders.csv'\n",
                "DELIMITER ',' \n",
                "CSV\n",
                "HEADER;"
            ],
            "metadata": {
                "language": "sql",
                "azdata_cell_guid": "8fdf549a-db30-4e2f-b845-3287ae0fabc6",
                "tags": []
            },
            "outputs": [
                {
                    "output_type": "display_data",
                    "data": {
                        "text/html": "Commands completed successfully"
                    },
                    "metadata": {}
                },
                {
                    "output_type": "display_data",
                    "data": {
                        "text/html": "Total execution time: 00:00:00.010"
                    },
                    "metadata": {}
                }
            ],
            "execution_count": 177
        },
        {
            "cell_type": "code",
            "source": [
                "COPY dsci_504.customerwarehousereturns\n",
                "FROM '/Applications/PostgreSQL 14/DSC_504_Database_Tables/customerwarehousereturns.csv'\n",
                "DELIMITER ',' \n",
                "CSV\n",
                "HEADER;"
            ],
            "metadata": {
                "language": "sql",
                "azdata_cell_guid": "929baaef-50aa-41ba-a26f-dc1e0739cbe5"
            },
            "outputs": [
                {
                    "output_type": "display_data",
                    "data": {
                        "text/html": "Commands completed successfully"
                    },
                    "metadata": {}
                },
                {
                    "output_type": "display_data",
                    "data": {
                        "text/html": "Total execution time: 00:00:00.006"
                    },
                    "metadata": {}
                }
            ],
            "execution_count": 178
        },
        {
            "cell_type": "code",
            "source": [
                "COPY dsci_504.orders\n",
                "FROM '/Applications/PostgreSQL 14/DSC_504_Database_Tables/orders.csv'\n",
                "DELIMITER ',' \n",
                "CSV\n",
                "HEADER;"
            ],
            "metadata": {
                "language": "sql",
                "azdata_cell_guid": "c5ddb114-0523-4755-b19a-9a4103f1f5ac"
            },
            "outputs": [
                {
                    "output_type": "display_data",
                    "data": {
                        "text/html": "Commands completed successfully"
                    },
                    "metadata": {}
                },
                {
                    "output_type": "display_data",
                    "data": {
                        "text/html": "Total execution time: 00:00:00.016"
                    },
                    "metadata": {}
                }
            ],
            "execution_count": 179
        },
        {
            "cell_type": "code",
            "source": [
                "COPY dsci_504.ordertaxes\n",
                "FROM '/Applications/PostgreSQL 14/DSC_504_Database_Tables/ordertaxes.csv'\n",
                "DELIMITER ',' \n",
                "CSV\n",
                "HEADER;"
            ],
            "metadata": {
                "language": "sql",
                "azdata_cell_guid": "ff61c74c-03fb-4fd1-bc3f-703f857a31dc"
            },
            "outputs": [
                {
                    "output_type": "display_data",
                    "data": {
                        "text/html": "Commands completed successfully"
                    },
                    "metadata": {}
                },
                {
                    "output_type": "display_data",
                    "data": {
                        "text/html": "Total execution time: 00:00:00.013"
                    },
                    "metadata": {}
                }
            ],
            "execution_count": 180
        },
        {
            "cell_type": "code",
            "source": [
                "COPY dsci_504.productbuilds\n",
                "FROM '/Applications/PostgreSQL 14/DSC_504_Database_Tables/productbuilds.csv'\n",
                "DELIMITER ',' \n",
                "CSV\n",
                "HEADER;"
            ],
            "metadata": {
                "language": "sql",
                "azdata_cell_guid": "556141df-29eb-4382-a5ba-e79276ac36e4"
            },
            "outputs": [
                {
                    "output_type": "display_data",
                    "data": {
                        "text/html": "Commands completed successfully"
                    },
                    "metadata": {}
                },
                {
                    "output_type": "display_data",
                    "data": {
                        "text/html": "Total execution time: 00:00:00.003"
                    },
                    "metadata": {}
                }
            ],
            "execution_count": 181
        },
        {
            "cell_type": "code",
            "source": [
                "COPY dsci_504.products\n",
                "FROM '/Applications/PostgreSQL 14/DSC_504_Database_Tables/products.csv'\n",
                "DELIMITER ',' \n",
                "CSV\n",
                "HEADER;"
            ],
            "metadata": {
                "language": "sql",
                "azdata_cell_guid": "7e4c5d43-ad50-4612-97a3-5eb06b4f84d4",
                "tags": []
            },
            "outputs": [
                {
                    "output_type": "display_data",
                    "data": {
                        "text/html": "Commands completed successfully"
                    },
                    "metadata": {}
                },
                {
                    "output_type": "display_data",
                    "data": {
                        "text/html": "Total execution time: 00:00:00.001"
                    },
                    "metadata": {}
                }
            ],
            "execution_count": 182
        },
        {
            "cell_type": "code",
            "source": [
                "COPY dsci_504.racs\n",
                "FROM '/Applications/PostgreSQL 14/DSC_504_Database_Tables/racs.csv'\n",
                "DELIMITER ',' \n",
                "CSV\n",
                "HEADER;"
            ],
            "metadata": {
                "language": "sql",
                "azdata_cell_guid": "b86661ec-0916-4227-9774-6a5ba1f18300"
            },
            "outputs": [
                {
                    "output_type": "display_data",
                    "data": {
                        "text/html": "Commands completed successfully"
                    },
                    "metadata": {}
                },
                {
                    "output_type": "display_data",
                    "data": {
                        "text/html": "Total execution time: 00:00:00.008"
                    },
                    "metadata": {}
                }
            ],
            "execution_count": 183
        },
        {
            "cell_type": "code",
            "source": [
                "COPY dsci_504.states\n",
                "FROM '/Applications/PostgreSQL 14/DSC_504_Database_Tables/states.csv'\n",
                "DELIMITER ',' \n",
                "CSV\n",
                "HEADER;"
            ],
            "metadata": {
                "language": "sql",
                "azdata_cell_guid": "250a7251-e9d9-44a3-acbd-4c98113bedba"
            },
            "outputs": [
                {
                    "output_type": "display_data",
                    "data": {
                        "text/html": "Commands completed successfully"
                    },
                    "metadata": {}
                },
                {
                    "output_type": "display_data",
                    "data": {
                        "text/html": "Total execution time: 00:00:00.002"
                    },
                    "metadata": {}
                }
            ],
            "execution_count": 184
        },
        {
            "cell_type": "code",
            "source": [
                "COPY dsci_504.suppliers\n",
                "FROM '/Applications/PostgreSQL 14/DSC_504_Database_Tables/suppliers.csv'\n",
                "DELIMITER ',' \n",
                "CSV\n",
                "HEADER;"
            ],
            "metadata": {
                "language": "sql",
                "azdata_cell_guid": "7b4774e0-3392-4512-a462-f02323fba702"
            },
            "outputs": [
                {
                    "output_type": "display_data",
                    "data": {
                        "text/html": "Commands completed successfully"
                    },
                    "metadata": {}
                },
                {
                    "output_type": "display_data",
                    "data": {
                        "text/html": "Total execution time: 00:00:00.001"
                    },
                    "metadata": {}
                }
            ],
            "execution_count": 185
        },
        {
            "cell_type": "code",
            "source": [
                "COPY dsci_504.taxes\n",
                "FROM '/Applications/PostgreSQL 14/DSC_504_Database_Tables/taxes.csv'\n",
                "DELIMITER ',' \n",
                "CSV\n",
                "HEADER;"
            ],
            "metadata": {
                "language": "sql",
                "azdata_cell_guid": "b8e2443c-fc75-43b5-ae6b-b08497a1bdda"
            },
            "outputs": [
                {
                    "output_type": "display_data",
                    "data": {
                        "text/html": "Commands completed successfully"
                    },
                    "metadata": {}
                },
                {
                    "output_type": "display_data",
                    "data": {
                        "text/html": "Total execution time: 00:00:00.001"
                    },
                    "metadata": {}
                }
            ],
            "execution_count": 186
        },
        {
            "cell_type": "code",
            "source": [
                "COPY dsci_504.warehouses\n",
                "FROM '/Applications/PostgreSQL 14/DSC_504_Database_Tables/warehouses.csv'\n",
                "DELIMITER ',' \n",
                "CSV\n",
                "HEADER;"
            ],
            "metadata": {
                "language": "sql",
                "azdata_cell_guid": "6dfb430f-6d8e-452f-9e52-ebd9ca0cc4d2"
            },
            "outputs": [
                {
                    "output_type": "display_data",
                    "data": {
                        "text/html": "Commands completed successfully"
                    },
                    "metadata": {}
                },
                {
                    "output_type": "display_data",
                    "data": {
                        "text/html": "Total execution time: 00:00:00.001"
                    },
                    "metadata": {}
                }
            ],
            "execution_count": 187
        },
        {
            "cell_type": "markdown",
            "source": [
                "**Step 4: Execute a simple query on each table to verify the data in each table. Do not worry about missing data at this point. Limit your output to 10 lines using the following query syntax:**\n",
                "\n",
                "```\n",
                "SELECT * FROM [schema.table]LIMIT 5;\n",
                "\n",
                "```"
            ],
            "metadata": {
                "azdata_cell_guid": "a2036fb1-5001-44a9-aa56-ef2b19e08dc1"
            },
            "attachments": {}
        },
        {
            "cell_type": "code",
            "source": [
                "SELECT * \n",
                "FROM dsci_504.builds\n",
                "LIMIT 10;"
            ],
            "metadata": {
                "azdata_cell_guid": "b1342712-2633-43bb-9ede-87428ba9957d",
                "language": "sql"
            },
            "outputs": [
                {
                    "output_type": "display_data",
                    "data": {
                        "text/html": "(10 row(s) affected)"
                    },
                    "metadata": {}
                },
                {
                    "output_type": "display_data",
                    "data": {
                        "text/html": "Total execution time: 00:00:00.014"
                    },
                    "metadata": {}
                },
                {
                    "output_type": "execute_result",
                    "metadata": {},
                    "execution_count": 188,
                    "data": {
                        "application/vnd.dataresource+json": {
                            "schema": {
                                "fields": [
                                    {
                                        "name": "build_id"
                                    },
                                    {
                                        "name": "comp_hbar"
                                    },
                                    {
                                        "name": "comp_brake"
                                    },
                                    {
                                        "name": "comp_wheels"
                                    },
                                    {
                                        "name": "comp_fork"
                                    },
                                    {
                                        "name": "comp_shock"
                                    },
                                    {
                                        "name": "comp_shifter"
                                    },
                                    {
                                        "name": "comp_cassette"
                                    },
                                    {
                                        "name": "comp_derail"
                                    },
                                    {
                                        "name": "comp_dropper"
                                    },
                                    {
                                        "name": "comp_crank"
                                    },
                                    {
                                        "name": "comp_chain_ring"
                                    },
                                    {
                                        "name": "build_name"
                                    }
                                ]
                            },
                            "data": [
                                {
                                    "0": "74",
                                    "1": "10",
                                    "2": "62",
                                    "3": "100",
                                    "4": "131",
                                    "5": "194",
                                    "6": "278",
                                    "7": "218",
                                    "8": "278",
                                    "9": "280",
                                    "10": "279",
                                    "11": "278",
                                    "12": "gnar"
                                },
                                {
                                    "0": "1",
                                    "1": "29",
                                    "2": "64",
                                    "3": "108",
                                    "4": "127",
                                    "5": "280",
                                    "6": "276",
                                    "7": "222",
                                    "8": "277",
                                    "9": "257",
                                    "10": "277",
                                    "11": "277",
                                    "12": "five star"
                                },
                                {
                                    "0": "23",
                                    "1": "36",
                                    "2": "61",
                                    "3": "88",
                                    "4": "114",
                                    "5": "280",
                                    "6": "61",
                                    "7": "219",
                                    "8": "273",
                                    "9": "247",
                                    "10": "273",
                                    "11": "273",
                                    "12": "mammoth"
                                },
                                {
                                    "0": "4",
                                    "1": "32",
                                    "2": "63",
                                    "3": "86",
                                    "4": "113",
                                    "5": "172",
                                    "6": "278",
                                    "7": "220",
                                    "8": "278",
                                    "9": "252",
                                    "10": "269",
                                    "11": "278",
                                    "12": "3-star"
                                },
                                {
                                    "0": "8",
                                    "1": "6",
                                    "2": "56",
                                    "3": "70",
                                    "4": "122",
                                    "5": "180",
                                    "6": "279",
                                    "7": "220",
                                    "8": "279",
                                    "9": "236",
                                    "10": "279",
                                    "11": "279",
                                    "12": "2-star"
                                },
                                {
                                    "0": "20",
                                    "1": "20",
                                    "2": "58",
                                    "3": "112",
                                    "4": "126",
                                    "5": "172",
                                    "6": "275",
                                    "7": "275",
                                    "8": "275",
                                    "9": "258",
                                    "10": "275",
                                    "11": "275",
                                    "12": "1-star"
                                },
                                {
                                    "0": "21",
                                    "1": "31",
                                    "2": "58",
                                    "3": "80",
                                    "4": "118",
                                    "5": "189",
                                    "6": "272",
                                    "7": "224",
                                    "8": "272",
                                    "9": "250",
                                    "10": "272",
                                    "11": "272",
                                    "12": "the general"
                                },
                                {
                                    "0": "25",
                                    "1": "15",
                                    "2": "59",
                                    "3": "96",
                                    "4": "124",
                                    "5": "177",
                                    "6": "272",
                                    "7": "274",
                                    "8": "272",
                                    "9": "37",
                                    "10": "268",
                                    "11": "272",
                                    "12": "atomic"
                                },
                                {
                                    "0": "39",
                                    "1": "29",
                                    "2": "64",
                                    "3": "100",
                                    "4": "117",
                                    "5": "172",
                                    "6": "231",
                                    "7": "222",
                                    "8": "277",
                                    "9": "257",
                                    "10": "277",
                                    "11": "277",
                                    "12": "nuclear"
                                },
                                {
                                    "0": "69",
                                    "1": "44",
                                    "2": "67",
                                    "3": "103",
                                    "4": "125",
                                    "5": "175",
                                    "6": "61",
                                    "7": "219",
                                    "8": "273",
                                    "9": "44",
                                    "10": "266",
                                    "11": "273",
                                    "12": "behemoth"
                                }
                            ]
                        },
                        "text/html": [
                            "<table>",
                            "<tr><th>build_id</th><th>comp_hbar</th><th>comp_brake</th><th>comp_wheels</th><th>comp_fork</th><th>comp_shock</th><th>comp_shifter</th><th>comp_cassette</th><th>comp_derail</th><th>comp_dropper</th><th>comp_crank</th><th>comp_chain_ring</th><th>build_name</th></tr>",
                            "<tr><td>74</td><td>10</td><td>62</td><td>100</td><td>131</td><td>194</td><td>278</td><td>218</td><td>278</td><td>280</td><td>279</td><td>278</td><td>gnar</td></tr>",
                            "<tr><td>1</td><td>29</td><td>64</td><td>108</td><td>127</td><td>280</td><td>276</td><td>222</td><td>277</td><td>257</td><td>277</td><td>277</td><td>five star</td></tr>",
                            "<tr><td>23</td><td>36</td><td>61</td><td>88</td><td>114</td><td>280</td><td>61</td><td>219</td><td>273</td><td>247</td><td>273</td><td>273</td><td>mammoth</td></tr>",
                            "<tr><td>4</td><td>32</td><td>63</td><td>86</td><td>113</td><td>172</td><td>278</td><td>220</td><td>278</td><td>252</td><td>269</td><td>278</td><td>3-star</td></tr>",
                            "<tr><td>8</td><td>6</td><td>56</td><td>70</td><td>122</td><td>180</td><td>279</td><td>220</td><td>279</td><td>236</td><td>279</td><td>279</td><td>2-star</td></tr>",
                            "<tr><td>20</td><td>20</td><td>58</td><td>112</td><td>126</td><td>172</td><td>275</td><td>275</td><td>275</td><td>258</td><td>275</td><td>275</td><td>1-star</td></tr>",
                            "<tr><td>21</td><td>31</td><td>58</td><td>80</td><td>118</td><td>189</td><td>272</td><td>224</td><td>272</td><td>250</td><td>272</td><td>272</td><td>the general</td></tr>",
                            "<tr><td>25</td><td>15</td><td>59</td><td>96</td><td>124</td><td>177</td><td>272</td><td>274</td><td>272</td><td>37</td><td>268</td><td>272</td><td>atomic</td></tr>",
                            "<tr><td>39</td><td>29</td><td>64</td><td>100</td><td>117</td><td>172</td><td>231</td><td>222</td><td>277</td><td>257</td><td>277</td><td>277</td><td>nuclear</td></tr>",
                            "<tr><td>69</td><td>44</td><td>67</td><td>103</td><td>125</td><td>175</td><td>61</td><td>219</td><td>273</td><td>44</td><td>266</td><td>273</td><td>behemoth</td></tr>",
                            "</table>"
                        ]
                    }
                }
            ],
            "execution_count": 188
        },
        {
            "cell_type": "code",
            "source": [
                "SELECT * \n",
                "FROM dsci_504.components\n",
                "LIMIT 10;"
            ],
            "metadata": {
                "language": "sql",
                "azdata_cell_guid": "4ac96086-934c-42d6-8f2c-f5bb09e1047a"
            },
            "outputs": [
                {
                    "output_type": "display_data",
                    "data": {
                        "text/html": "(10 row(s) affected)"
                    },
                    "metadata": {}
                },
                {
                    "output_type": "display_data",
                    "data": {
                        "text/html": "Total execution time: 00:00:00.003"
                    },
                    "metadata": {}
                },
                {
                    "output_type": "execute_result",
                    "metadata": {},
                    "execution_count": 189,
                    "data": {
                        "application/vnd.dataresource+json": {
                            "schema": {
                                "fields": [
                                    {
                                        "name": "comp_id"
                                    },
                                    {
                                        "name": "comp_name"
                                    },
                                    {
                                        "name": "comp_cost"
                                    },
                                    {
                                        "name": "comp_supplier"
                                    },
                                    {
                                        "name": "comp_cat"
                                    },
                                    {
                                        "name": "sup_id"
                                    }
                                ]
                            },
                            "data": [
                                {
                                    "0": "1",
                                    "1": "Giant Contact SLR",
                                    "2": "143",
                                    "3": "1",
                                    "4": "handlebar",
                                    "5": "NULL"
                                },
                                {
                                    "0": "2",
                                    "1": "Rida Alpha R27",
                                    "2": "136",
                                    "3": "2",
                                    "4": "handlebar",
                                    "5": "NULL"
                                },
                                {
                                    "0": "3",
                                    "1": "Niner Flat Top",
                                    "2": "118",
                                    "3": "3",
                                    "4": "handlebar",
                                    "5": "NULL"
                                },
                                {
                                    "0": "4",
                                    "1": "Enve M7 Carb",
                                    "2": "69",
                                    "3": "4",
                                    "4": "handlebar",
                                    "5": "NULL"
                                },
                                {
                                    "0": "5",
                                    "1": "e13 base",
                                    "2": "91",
                                    "3": "5",
                                    "4": "handlebar",
                                    "5": "NULL"
                                },
                                {
                                    "0": "6",
                                    "1": "RaceFace NextR Carbon",
                                    "2": "129",
                                    "3": "6",
                                    "4": "handlebar",
                                    "5": "NULL"
                                },
                                {
                                    "0": "7",
                                    "1": "OC1",
                                    "2": "51",
                                    "3": "61",
                                    "4": "handlebar",
                                    "5": "NULL"
                                },
                                {
                                    "0": "8",
                                    "1": "Kona XC",
                                    "2": "76",
                                    "3": "8",
                                    "4": "handlebar",
                                    "5": "NULL"
                                },
                                {
                                    "0": "11",
                                    "1": "Newman Evo",
                                    "2": "143",
                                    "3": "11",
                                    "4": "handlebar",
                                    "5": "NULL"
                                },
                                {
                                    "0": "12",
                                    "1": "OC3 Carbon",
                                    "2": "82",
                                    "3": "61",
                                    "4": "handlebar",
                                    "5": "NULL"
                                }
                            ]
                        },
                        "text/html": [
                            "<table>",
                            "<tr><th>comp_id</th><th>comp_name</th><th>comp_cost</th><th>comp_supplier</th><th>comp_cat</th><th>sup_id</th></tr>",
                            "<tr><td>1</td><td>Giant Contact SLR</td><td>143</td><td>1</td><td>handlebar</td><td>NULL</td></tr>",
                            "<tr><td>2</td><td>Rida Alpha R27</td><td>136</td><td>2</td><td>handlebar</td><td>NULL</td></tr>",
                            "<tr><td>3</td><td>Niner Flat Top</td><td>118</td><td>3</td><td>handlebar</td><td>NULL</td></tr>",
                            "<tr><td>4</td><td>Enve M7 Carb</td><td>69</td><td>4</td><td>handlebar</td><td>NULL</td></tr>",
                            "<tr><td>5</td><td>e13 base</td><td>91</td><td>5</td><td>handlebar</td><td>NULL</td></tr>",
                            "<tr><td>6</td><td>RaceFace NextR Carbon</td><td>129</td><td>6</td><td>handlebar</td><td>NULL</td></tr>",
                            "<tr><td>7</td><td>OC1</td><td>51</td><td>61</td><td>handlebar</td><td>NULL</td></tr>",
                            "<tr><td>8</td><td>Kona XC</td><td>76</td><td>8</td><td>handlebar</td><td>NULL</td></tr>",
                            "<tr><td>11</td><td>Newman Evo</td><td>143</td><td>11</td><td>handlebar</td><td>NULL</td></tr>",
                            "<tr><td>12</td><td>OC3 Carbon</td><td>82</td><td>61</td><td>handlebar</td><td>NULL</td></tr>",
                            "</table>"
                        ]
                    }
                }
            ],
            "execution_count": 189
        },
        {
            "cell_type": "code",
            "source": [
                "SELECT * \n",
                "FROM dsci_504.customers\n",
                "LIMIT 10;"
            ],
            "metadata": {
                "language": "sql",
                "azdata_cell_guid": "f6c6cd9c-5e26-4e4a-b9d7-1900d9cede5f"
            },
            "outputs": [
                {
                    "output_type": "display_data",
                    "data": {
                        "text/html": "(10 row(s) affected)"
                    },
                    "metadata": {}
                },
                {
                    "output_type": "display_data",
                    "data": {
                        "text/html": "Total execution time: 00:00:00.002"
                    },
                    "metadata": {}
                },
                {
                    "output_type": "execute_result",
                    "metadata": {},
                    "execution_count": 190,
                    "data": {
                        "application/vnd.dataresource+json": {
                            "schema": {
                                "fields": [
                                    {
                                        "name": "cus_id"
                                    },
                                    {
                                        "name": "cus_num"
                                    },
                                    {
                                        "name": "cus_last_name"
                                    },
                                    {
                                        "name": "cus_first_name"
                                    },
                                    {
                                        "name": "cus_add_num"
                                    },
                                    {
                                        "name": "cus_address"
                                    },
                                    {
                                        "name": "cus_city"
                                    },
                                    {
                                        "name": "cus_state"
                                    },
                                    {
                                        "name": "cus_zip"
                                    },
                                    {
                                        "name": "cus_phone"
                                    },
                                    {
                                        "name": "cus_join_date"
                                    },
                                    {
                                        "name": "cus_app_cd"
                                    },
                                    {
                                        "name": "cus_app_num"
                                    },
                                    {
                                        "name": "tot_ord_qty"
                                    },
                                    {
                                        "name": "tot_ord_value"
                                    }
                                ]
                            },
                            "data": [
                                {
                                    "0": "2600",
                                    "1": "NULL",
                                    "2": "Holzer",
                                    "3": "Yeni",
                                    "4": "8617",
                                    "5": "High Noon Street",
                                    "6": "Hattiesburg",
                                    "7": "17",
                                    "8": "39401",
                                    "9": "7833472627",
                                    "10": "2020-11-22",
                                    "11": "5",
                                    "12": "OPC85554622",
                                    "13": "60",
                                    "14": "10641.48"
                                },
                                {
                                    "0": "2601",
                                    "1": "NULL",
                                    "2": "Hull",
                                    "3": "Tancredo",
                                    "4": "7673",
                                    "5": "Cedat Camp Road",
                                    "6": "Oswego",
                                    "7": "19",
                                    "8": "13126",
                                    "9": "5154255063",
                                    "10": "2020-04-19",
                                    "11": "9",
                                    "12": "OPC86688258",
                                    "13": "49",
                                    "14": "24585.61"
                                },
                                {
                                    "0": "2602",
                                    "1": "NULL",
                                    "2": "Sokol",
                                    "3": "Teodor",
                                    "4": "965",
                                    "5": "Southampton",
                                    "6": "Salt Lake City",
                                    "7": "26",
                                    "8": "84119",
                                    "9": "8802052764",
                                    "10": "2020-04-15",
                                    "11": "14",
                                    "12": "OPC87710870",
                                    "13": "48",
                                    "14": "8514.29"
                                },
                                {
                                    "0": "2603",
                                    "1": "NULL",
                                    "2": "Barnes",
                                    "3": "Theo",
                                    "4": "270",
                                    "5": "High Noon Ave",
                                    "6": "Coram",
                                    "7": "19",
                                    "8": "11727",
                                    "9": "2779494240",
                                    "10": "2020-09-14",
                                    "11": "18",
                                    "12": "OPC78993136",
                                    "13": "76",
                                    "14": "19173.06"
                                },
                                {
                                    "0": "2604",
                                    "1": "NULL",
                                    "2": "Tempest",
                                    "3": "Simone",
                                    "4": "751",
                                    "5": "East Shadow Brook Dr.",
                                    "6": "Pataskala",
                                    "7": "20",
                                    "8": "43062",
                                    "9": "7692163675",
                                    "10": "2020-06-24",
                                    "11": "11",
                                    "12": "OPC86812641",
                                    "13": "45",
                                    "14": "27325.72"
                                },
                                {
                                    "0": "2605",
                                    "1": "NULL",
                                    "2": "Bullock",
                                    "3": "Pankaj",
                                    "4": "7524",
                                    "5": "Van Dyke St.",
                                    "6": "Southampton",
                                    "7": "22",
                                    "8": "18966",
                                    "9": "2812450867",
                                    "10": "2020-03-20",
                                    "11": "3",
                                    "12": "OPC85939415",
                                    "13": "11",
                                    "14": "1214.88"
                                },
                                {
                                    "0": "2606",
                                    "1": "NULL",
                                    "2": "Ware",
                                    "3": "Reina",
                                    "4": "656",
                                    "5": "Grand Ave",
                                    "6": "Los Angeles",
                                    "7": "4",
                                    "8": "90008",
                                    "9": "3902290668",
                                    "10": "2020-09-21",
                                    "11": "6",
                                    "12": "OPC86472716",
                                    "13": "64",
                                    "14": "6718.85"
                                },
                                {
                                    "0": "2607",
                                    "1": "NULL",
                                    "2": "Ray",
                                    "3": "Rosalin",
                                    "4": "8564",
                                    "5": "Old Woodland Rd",
                                    "6": "Cranston",
                                    "7": "23",
                                    "8": "2920",
                                    "9": "7944432375",
                                    "10": "2020-06-06",
                                    "11": "9",
                                    "12": "OPC87091916",
                                    "13": "43",
                                    "14": "14012.58"
                                },
                                {
                                    "0": "2608",
                                    "1": "NULL",
                                    "2": "Stark",
                                    "3": "Herb",
                                    "4": "7291",
                                    "5": "Race St.",
                                    "6": "Ithaca",
                                    "7": "19",
                                    "8": "14850",
                                    "9": "2978433949",
                                    "10": "2020-06-27",
                                    "11": "5",
                                    "12": "OPC87321099",
                                    "13": "28",
                                    "14": "4054.52"
                                },
                                {
                                    "0": "2609",
                                    "1": "NULL",
                                    "2": "Bohme",
                                    "3": "Bohuslav",
                                    "4": "135",
                                    "5": "Homewood Ln",
                                    "6": "Merrimack",
                                    "7": "19",
                                    "8": "3054",
                                    "9": "3147113467",
                                    "10": "2020-12-12",
                                    "11": "19",
                                    "12": "OPC86853764",
                                    "13": "96",
                                    "14": "15178.38"
                                }
                            ]
                        },
                        "text/html": [
                            "<table>",
                            "<tr><th>cus_id</th><th>cus_num</th><th>cus_last_name</th><th>cus_first_name</th><th>cus_add_num</th><th>cus_address</th><th>cus_city</th><th>cus_state</th><th>cus_zip</th><th>cus_phone</th><th>cus_join_date</th><th>cus_app_cd</th><th>cus_app_num</th><th>tot_ord_qty</th><th>tot_ord_value</th></tr>",
                            "<tr><td>2600</td><td>NULL</td><td>Holzer</td><td>Yeni</td><td>8617</td><td>High Noon Street</td><td>Hattiesburg</td><td>17</td><td>39401</td><td>7833472627</td><td>2020-11-22</td><td>5</td><td>OPC85554622</td><td>60</td><td>10641.48</td></tr>",
                            "<tr><td>2601</td><td>NULL</td><td>Hull</td><td>Tancredo</td><td>7673</td><td>Cedat Camp Road</td><td>Oswego</td><td>19</td><td>13126</td><td>5154255063</td><td>2020-04-19</td><td>9</td><td>OPC86688258</td><td>49</td><td>24585.61</td></tr>",
                            "<tr><td>2602</td><td>NULL</td><td>Sokol</td><td>Teodor</td><td>965</td><td>Southampton</td><td>Salt Lake City</td><td>26</td><td>84119</td><td>8802052764</td><td>2020-04-15</td><td>14</td><td>OPC87710870</td><td>48</td><td>8514.29</td></tr>",
                            "<tr><td>2603</td><td>NULL</td><td>Barnes</td><td>Theo</td><td>270</td><td>High Noon Ave</td><td>Coram</td><td>19</td><td>11727</td><td>2779494240</td><td>2020-09-14</td><td>18</td><td>OPC78993136</td><td>76</td><td>19173.06</td></tr>",
                            "<tr><td>2604</td><td>NULL</td><td>Tempest</td><td>Simone</td><td>751</td><td>East Shadow Brook Dr.</td><td>Pataskala</td><td>20</td><td>43062</td><td>7692163675</td><td>2020-06-24</td><td>11</td><td>OPC86812641</td><td>45</td><td>27325.72</td></tr>",
                            "<tr><td>2605</td><td>NULL</td><td>Bullock</td><td>Pankaj</td><td>7524</td><td>Van Dyke St.</td><td>Southampton</td><td>22</td><td>18966</td><td>2812450867</td><td>2020-03-20</td><td>3</td><td>OPC85939415</td><td>11</td><td>1214.88</td></tr>",
                            "<tr><td>2606</td><td>NULL</td><td>Ware</td><td>Reina</td><td>656</td><td>Grand Ave</td><td>Los Angeles</td><td>4</td><td>90008</td><td>3902290668</td><td>2020-09-21</td><td>6</td><td>OPC86472716</td><td>64</td><td>6718.85</td></tr>",
                            "<tr><td>2607</td><td>NULL</td><td>Ray</td><td>Rosalin</td><td>8564</td><td>Old Woodland Rd</td><td>Cranston</td><td>23</td><td>2920</td><td>7944432375</td><td>2020-06-06</td><td>9</td><td>OPC87091916</td><td>43</td><td>14012.58</td></tr>",
                            "<tr><td>2608</td><td>NULL</td><td>Stark</td><td>Herb</td><td>7291</td><td>Race St.</td><td>Ithaca</td><td>19</td><td>14850</td><td>2978433949</td><td>2020-06-27</td><td>5</td><td>OPC87321099</td><td>28</td><td>4054.52</td></tr>",
                            "<tr><td>2609</td><td>NULL</td><td>Bohme</td><td>Bohuslav</td><td>135</td><td>Homewood Ln</td><td>Merrimack</td><td>19</td><td>3054</td><td>3147113467</td><td>2020-12-12</td><td>19</td><td>OPC86853764</td><td>96</td><td>15178.38</td></tr>",
                            "</table>"
                        ]
                    }
                }
            ],
            "execution_count": 190
        },
        {
            "cell_type": "code",
            "source": [
                "SELECT * \n",
                "FROM dsci_504.customerwarehouseorders\n",
                "LIMIT 10;"
            ],
            "metadata": {
                "language": "sql",
                "azdata_cell_guid": "1009fa0c-98b0-4a73-a76c-d434dcad1744"
            },
            "outputs": [
                {
                    "output_type": "display_data",
                    "data": {
                        "text/html": "(10 row(s) affected)"
                    },
                    "metadata": {}
                },
                {
                    "output_type": "display_data",
                    "data": {
                        "text/html": "Total execution time: 00:00:00.001"
                    },
                    "metadata": {}
                },
                {
                    "output_type": "execute_result",
                    "metadata": {},
                    "execution_count": 191,
                    "data": {
                        "application/vnd.dataresource+json": {
                            "schema": {
                                "fields": [
                                    {
                                        "name": "cus_id"
                                    },
                                    {
                                        "name": "warehouse_id"
                                    },
                                    {
                                        "name": "ord_id"
                                    }
                                ]
                            },
                            "data": [
                                {
                                    "0": "27",
                                    "1": "2",
                                    "2": "5920416"
                                },
                                {
                                    "0": "28",
                                    "1": "3",
                                    "2": "4825298"
                                },
                                {
                                    "0": "29",
                                    "1": "1",
                                    "2": "7009183"
                                },
                                {
                                    "0": "30",
                                    "1": "1",
                                    "2": "5186311"
                                },
                                {
                                    "0": "31",
                                    "1": "3",
                                    "2": "4274782"
                                },
                                {
                                    "0": "32",
                                    "1": "3",
                                    "2": "2579402"
                                },
                                {
                                    "0": "33",
                                    "1": "3",
                                    "2": "5974882"
                                },
                                {
                                    "0": "34",
                                    "1": "2",
                                    "2": "6080581"
                                },
                                {
                                    "0": "35",
                                    "1": "2",
                                    "2": "6507619"
                                },
                                {
                                    "0": "36",
                                    "1": "3",
                                    "2": "6921547"
                                }
                            ]
                        },
                        "text/html": [
                            "<table>",
                            "<tr><th>cus_id</th><th>warehouse_id</th><th>ord_id</th></tr>",
                            "<tr><td>27</td><td>2</td><td>5920416</td></tr>",
                            "<tr><td>28</td><td>3</td><td>4825298</td></tr>",
                            "<tr><td>29</td><td>1</td><td>7009183</td></tr>",
                            "<tr><td>30</td><td>1</td><td>5186311</td></tr>",
                            "<tr><td>31</td><td>3</td><td>4274782</td></tr>",
                            "<tr><td>32</td><td>3</td><td>2579402</td></tr>",
                            "<tr><td>33</td><td>3</td><td>5974882</td></tr>",
                            "<tr><td>34</td><td>2</td><td>6080581</td></tr>",
                            "<tr><td>35</td><td>2</td><td>6507619</td></tr>",
                            "<tr><td>36</td><td>3</td><td>6921547</td></tr>",
                            "</table>"
                        ]
                    }
                }
            ],
            "execution_count": 191
        },
        {
            "cell_type": "code",
            "source": [
                "SELECT * \n",
                "FROM dsci_504.customerwarehousereturns\n",
                "LIMIT 10;"
            ],
            "metadata": {
                "language": "sql",
                "azdata_cell_guid": "6df8897b-15bf-417f-9df2-0d5293c37b1e"
            },
            "outputs": [
                {
                    "output_type": "display_data",
                    "data": {
                        "text/html": "(10 row(s) affected)"
                    },
                    "metadata": {}
                },
                {
                    "output_type": "display_data",
                    "data": {
                        "text/html": "Total execution time: 00:00:00.002"
                    },
                    "metadata": {}
                },
                {
                    "output_type": "execute_result",
                    "metadata": {},
                    "execution_count": 192,
                    "data": {
                        "application/vnd.dataresource+json": {
                            "schema": {
                                "fields": [
                                    {
                                        "name": "cus_id"
                                    },
                                    {
                                        "name": "warehouse_id"
                                    },
                                    {
                                        "name": "ord_id"
                                    },
                                    {
                                        "name": "rac_id"
                                    }
                                ]
                            },
                            "data": [
                                {
                                    "0": "7",
                                    "1": "3",
                                    "2": "2679922",
                                    "3": "7"
                                },
                                {
                                    "0": "8",
                                    "1": "3",
                                    "2": "3872219",
                                    "3": "8"
                                },
                                {
                                    "0": "9",
                                    "1": "3",
                                    "2": "2344343",
                                    "3": "9"
                                },
                                {
                                    "0": "10",
                                    "1": "1",
                                    "2": "5417203",
                                    "3": "10"
                                },
                                {
                                    "0": "11",
                                    "1": "3",
                                    "2": "6801456",
                                    "3": "11"
                                },
                                {
                                    "0": "12",
                                    "1": "1",
                                    "2": "6976313",
                                    "3": "12"
                                },
                                {
                                    "0": "13",
                                    "1": "3",
                                    "2": "3353836",
                                    "3": "13"
                                },
                                {
                                    "0": "14",
                                    "1": "3",
                                    "2": "6960040",
                                    "3": "14"
                                },
                                {
                                    "0": "15",
                                    "1": "2",
                                    "2": "2140430",
                                    "3": "15"
                                },
                                {
                                    "0": "16",
                                    "1": "3",
                                    "2": "4470702",
                                    "3": "16"
                                }
                            ]
                        },
                        "text/html": [
                            "<table>",
                            "<tr><th>cus_id</th><th>warehouse_id</th><th>ord_id</th><th>rac_id</th></tr>",
                            "<tr><td>7</td><td>3</td><td>2679922</td><td>7</td></tr>",
                            "<tr><td>8</td><td>3</td><td>3872219</td><td>8</td></tr>",
                            "<tr><td>9</td><td>3</td><td>2344343</td><td>9</td></tr>",
                            "<tr><td>10</td><td>1</td><td>5417203</td><td>10</td></tr>",
                            "<tr><td>11</td><td>3</td><td>6801456</td><td>11</td></tr>",
                            "<tr><td>12</td><td>1</td><td>6976313</td><td>12</td></tr>",
                            "<tr><td>13</td><td>3</td><td>3353836</td><td>13</td></tr>",
                            "<tr><td>14</td><td>3</td><td>6960040</td><td>14</td></tr>",
                            "<tr><td>15</td><td>2</td><td>2140430</td><td>15</td></tr>",
                            "<tr><td>16</td><td>3</td><td>4470702</td><td>16</td></tr>",
                            "</table>"
                        ]
                    }
                }
            ],
            "execution_count": 192
        },
        {
            "cell_type": "code",
            "source": [
                "SELECT * \n",
                "FROM dsci_504.orders\n",
                "LIMIT 10;"
            ],
            "metadata": {
                "language": "sql",
                "azdata_cell_guid": "24199de1-5654-4e5f-8121-fe5aa2ea22f7"
            },
            "outputs": [
                {
                    "output_type": "display_data",
                    "data": {
                        "text/html": "(10 row(s) affected)"
                    },
                    "metadata": {}
                },
                {
                    "output_type": "display_data",
                    "data": {
                        "text/html": "Total execution time: 00:00:00.003"
                    },
                    "metadata": {}
                },
                {
                    "output_type": "execute_result",
                    "metadata": {},
                    "execution_count": 193,
                    "data": {
                        "application/vnd.dataresource+json": {
                            "schema": {
                                "fields": [
                                    {
                                        "name": "ord_id"
                                    },
                                    {
                                        "name": "ord_date"
                                    },
                                    {
                                        "name": "ord_tax_loc"
                                    },
                                    {
                                        "name": "order_tot"
                                    },
                                    {
                                        "name": "ord_ship_add"
                                    },
                                    {
                                        "name": "ord_ship_date"
                                    },
                                    {
                                        "name": "ord_track_num"
                                    },
                                    {
                                        "name": "prod_id"
                                    },
                                    {
                                        "name": "warehouse_id"
                                    },
                                    {
                                        "name": "cus_id"
                                    }
                                ]
                            },
                            "data": [
                                {
                                    "0": "5920416",
                                    "1": "2018-08-08",
                                    "2": "6 ",
                                    "3": "2338.64",
                                    "4": "true",
                                    "5": "2018-08-16",
                                    "6": "PAC4170462-0    ",
                                    "7": "57",
                                    "8": "2",
                                    "9": "27"
                                },
                                {
                                    "0": "4825298",
                                    "1": "2017-03-28",
                                    "2": "16",
                                    "3": "5275",
                                    "4": "false",
                                    "5": "2017-03-30",
                                    "6": "PAC9343767-0    ",
                                    "7": "42",
                                    "8": "3",
                                    "9": "28"
                                },
                                {
                                    "0": "7009183",
                                    "1": "2010-10-14",
                                    "2": "18",
                                    "3": "4503.2",
                                    "4": "false",
                                    "5": "2010-10-15",
                                    "6": "PAC762592-3     ",
                                    "7": "41",
                                    "8": "1",
                                    "9": "29"
                                },
                                {
                                    "0": "5186311",
                                    "1": "2001-05-12",
                                    "2": "26",
                                    "3": "8073.44",
                                    "4": "false",
                                    "5": "2001-05-15",
                                    "6": "PAC6865813-2    ",
                                    "7": "15",
                                    "8": "1",
                                    "9": "30"
                                },
                                {
                                    "0": "4274782",
                                    "1": "2002-03-19",
                                    "2": "25",
                                    "3": "3572.2",
                                    "4": "false",
                                    "5": "2002-03-25",
                                    "6": "PAC5040387-3    ",
                                    "7": "36",
                                    "8": "3",
                                    "9": "31"
                                },
                                {
                                    "0": "2579402",
                                    "1": "2012-11-10",
                                    "2": "30",
                                    "3": "4158.96",
                                    "4": "false",
                                    "5": "2012-11-11",
                                    "6": "PAC268985-1     ",
                                    "7": "35",
                                    "8": "3",
                                    "9": "32"
                                },
                                {
                                    "0": "5974882",
                                    "1": "2000-07-07",
                                    "2": "4 ",
                                    "3": "3430.93",
                                    "4": "true",
                                    "5": "2000-07-10",
                                    "6": "PAC4112909-1    ",
                                    "7": "43",
                                    "8": "3",
                                    "9": "33"
                                },
                                {
                                    "0": "6080581",
                                    "1": "2003-05-22",
                                    "2": "21",
                                    "3": "5099",
                                    "4": "true",
                                    "5": "2003-06-01",
                                    "6": "PAC2181266-3    ",
                                    "7": "10",
                                    "8": "2",
                                    "9": "34"
                                },
                                {
                                    "0": "6507619",
                                    "1": "2010-02-25",
                                    "2": "7 ",
                                    "3": "4199",
                                    "4": "true",
                                    "5": "2010-03-02",
                                    "6": "PAC3561253-3    ",
                                    "7": "40",
                                    "8": "2",
                                    "9": "35"
                                },
                                {
                                    "0": "6921547",
                                    "1": "2012-02-26",
                                    "2": "23",
                                    "3": "5006.53",
                                    "4": "false",
                                    "5": "2012-03-06",
                                    "6": "PAC6665295-3    ",
                                    "7": "49",
                                    "8": "3",
                                    "9": "36"
                                }
                            ]
                        },
                        "text/html": [
                            "<table>",
                            "<tr><th>ord_id</th><th>ord_date</th><th>ord_tax_loc</th><th>order_tot</th><th>ord_ship_add</th><th>ord_ship_date</th><th>ord_track_num</th><th>prod_id</th><th>warehouse_id</th><th>cus_id</th></tr>",
                            "<tr><td>5920416</td><td>2018-08-08</td><td>6 </td><td>2338.64</td><td>true</td><td>2018-08-16</td><td>PAC4170462-0    </td><td>57</td><td>2</td><td>27</td></tr>",
                            "<tr><td>4825298</td><td>2017-03-28</td><td>16</td><td>5275</td><td>false</td><td>2017-03-30</td><td>PAC9343767-0    </td><td>42</td><td>3</td><td>28</td></tr>",
                            "<tr><td>7009183</td><td>2010-10-14</td><td>18</td><td>4503.2</td><td>false</td><td>2010-10-15</td><td>PAC762592-3     </td><td>41</td><td>1</td><td>29</td></tr>",
                            "<tr><td>5186311</td><td>2001-05-12</td><td>26</td><td>8073.44</td><td>false</td><td>2001-05-15</td><td>PAC6865813-2    </td><td>15</td><td>1</td><td>30</td></tr>",
                            "<tr><td>4274782</td><td>2002-03-19</td><td>25</td><td>3572.2</td><td>false</td><td>2002-03-25</td><td>PAC5040387-3    </td><td>36</td><td>3</td><td>31</td></tr>",
                            "<tr><td>2579402</td><td>2012-11-10</td><td>30</td><td>4158.96</td><td>false</td><td>2012-11-11</td><td>PAC268985-1     </td><td>35</td><td>3</td><td>32</td></tr>",
                            "<tr><td>5974882</td><td>2000-07-07</td><td>4 </td><td>3430.93</td><td>true</td><td>2000-07-10</td><td>PAC4112909-1    </td><td>43</td><td>3</td><td>33</td></tr>",
                            "<tr><td>6080581</td><td>2003-05-22</td><td>21</td><td>5099</td><td>true</td><td>2003-06-01</td><td>PAC2181266-3    </td><td>10</td><td>2</td><td>34</td></tr>",
                            "<tr><td>6507619</td><td>2010-02-25</td><td>7 </td><td>4199</td><td>true</td><td>2010-03-02</td><td>PAC3561253-3    </td><td>40</td><td>2</td><td>35</td></tr>",
                            "<tr><td>6921547</td><td>2012-02-26</td><td>23</td><td>5006.53</td><td>false</td><td>2012-03-06</td><td>PAC6665295-3    </td><td>49</td><td>3</td><td>36</td></tr>",
                            "</table>"
                        ]
                    }
                }
            ],
            "execution_count": 193
        },
        {
            "cell_type": "code",
            "source": [
                "SELECT * \n",
                "FROM dsci_504.ordertaxes\n",
                "LIMIT 10;"
            ],
            "metadata": {
                "language": "sql",
                "azdata_cell_guid": "dca8c860-2b2f-4194-99fb-16c42cb96b9d"
            },
            "outputs": [
                {
                    "output_type": "display_data",
                    "data": {
                        "text/html": "(10 row(s) affected)"
                    },
                    "metadata": {}
                },
                {
                    "output_type": "display_data",
                    "data": {
                        "text/html": "Total execution time: 00:00:00.001"
                    },
                    "metadata": {}
                },
                {
                    "output_type": "execute_result",
                    "metadata": {},
                    "execution_count": 194,
                    "data": {
                        "application/vnd.dataresource+json": {
                            "schema": {
                                "fields": [
                                    {
                                        "name": "ord_id"
                                    },
                                    {
                                        "name": "ord_date"
                                    },
                                    {
                                        "name": "tax_rate"
                                    }
                                ]
                            },
                            "data": [
                                {
                                    "0": "5920416",
                                    "1": "2018-08-08",
                                    "2": "6.35"
                                },
                                {
                                    "0": "4825298",
                                    "1": "2017-03-28",
                                    "2": "5.5"
                                },
                                {
                                    "0": "7009183",
                                    "1": "2010-10-14",
                                    "2": "4.75"
                                },
                                {
                                    "0": "5186311",
                                    "1": "2001-05-12",
                                    "2": "4.85"
                                },
                                {
                                    "0": "4274782",
                                    "1": "2002-03-19",
                                    "2": "6"
                                },
                                {
                                    "0": "2579402",
                                    "1": "2012-11-10",
                                    "2": "4"
                                },
                                {
                                    "0": "5974882",
                                    "1": "2000-07-07",
                                    "2": "7.25"
                                },
                                {
                                    "0": "6080581",
                                    "1": "2003-05-22",
                                    "2": "0"
                                },
                                {
                                    "0": "6507619",
                                    "1": "2010-02-25",
                                    "2": "0"
                                },
                                {
                                    "0": "6921547",
                                    "1": "2012-02-26",
                                    "2": "7"
                                }
                            ]
                        },
                        "text/html": [
                            "<table>",
                            "<tr><th>ord_id</th><th>ord_date</th><th>tax_rate</th></tr>",
                            "<tr><td>5920416</td><td>2018-08-08</td><td>6.35</td></tr>",
                            "<tr><td>4825298</td><td>2017-03-28</td><td>5.5</td></tr>",
                            "<tr><td>7009183</td><td>2010-10-14</td><td>4.75</td></tr>",
                            "<tr><td>5186311</td><td>2001-05-12</td><td>4.85</td></tr>",
                            "<tr><td>4274782</td><td>2002-03-19</td><td>6</td></tr>",
                            "<tr><td>2579402</td><td>2012-11-10</td><td>4</td></tr>",
                            "<tr><td>5974882</td><td>2000-07-07</td><td>7.25</td></tr>",
                            "<tr><td>6080581</td><td>2003-05-22</td><td>0</td></tr>",
                            "<tr><td>6507619</td><td>2010-02-25</td><td>0</td></tr>",
                            "<tr><td>6921547</td><td>2012-02-26</td><td>7</td></tr>",
                            "</table>"
                        ]
                    }
                }
            ],
            "execution_count": 194
        },
        {
            "cell_type": "code",
            "source": [
                "SELECT * \n",
                "FROM dsci_504.productbuilds\n",
                "LIMIT 10;"
            ],
            "metadata": {
                "language": "sql",
                "azdata_cell_guid": "fe821485-3312-4d6e-94e5-9cfc902f23a8"
            },
            "outputs": [
                {
                    "output_type": "display_data",
                    "data": {
                        "text/html": "(10 row(s) affected)"
                    },
                    "metadata": {}
                },
                {
                    "output_type": "display_data",
                    "data": {
                        "text/html": "Total execution time: 00:00:00.001"
                    },
                    "metadata": {}
                },
                {
                    "output_type": "execute_result",
                    "metadata": {},
                    "execution_count": 195,
                    "data": {
                        "application/vnd.dataresource+json": {
                            "schema": {
                                "fields": [
                                    {
                                        "name": "prod_id"
                                    },
                                    {
                                        "name": "build_id"
                                    }
                                ]
                            },
                            "data": [
                                {
                                    "0": "9",
                                    "1": "51"
                                },
                                {
                                    "0": "68",
                                    "1": "32"
                                },
                                {
                                    "0": "43",
                                    "1": "62"
                                },
                                {
                                    "0": "37",
                                    "1": "19"
                                },
                                {
                                    "0": "26",
                                    "1": "24"
                                },
                                {
                                    "0": "69",
                                    "1": "32"
                                },
                                {
                                    "0": "27",
                                    "1": "22"
                                },
                                {
                                    "0": "38",
                                    "1": "18"
                                },
                                {
                                    "0": "54",
                                    "1": "47"
                                },
                                {
                                    "0": "13",
                                    "1": "41"
                                }
                            ]
                        },
                        "text/html": [
                            "<table>",
                            "<tr><th>prod_id</th><th>build_id</th></tr>",
                            "<tr><td>9</td><td>51</td></tr>",
                            "<tr><td>68</td><td>32</td></tr>",
                            "<tr><td>43</td><td>62</td></tr>",
                            "<tr><td>37</td><td>19</td></tr>",
                            "<tr><td>26</td><td>24</td></tr>",
                            "<tr><td>69</td><td>32</td></tr>",
                            "<tr><td>27</td><td>22</td></tr>",
                            "<tr><td>38</td><td>18</td></tr>",
                            "<tr><td>54</td><td>47</td></tr>",
                            "<tr><td>13</td><td>41</td></tr>",
                            "</table>"
                        ]
                    }
                }
            ],
            "execution_count": 195
        },
        {
            "cell_type": "code",
            "source": [
                "SELECT * \n",
                "FROM dsci_504.products\n",
                "LIMIT 10;"
            ],
            "metadata": {
                "language": "sql",
                "azdata_cell_guid": "79fee558-50d3-4850-a538-a3b7a448f7a1"
            },
            "outputs": [
                {
                    "output_type": "display_data",
                    "data": {
                        "text/html": "(10 row(s) affected)"
                    },
                    "metadata": {}
                },
                {
                    "output_type": "display_data",
                    "data": {
                        "text/html": "Total execution time: 00:00:00.002"
                    },
                    "metadata": {}
                },
                {
                    "output_type": "execute_result",
                    "metadata": {},
                    "execution_count": 196,
                    "data": {
                        "application/vnd.dataresource+json": {
                            "schema": {
                                "fields": [
                                    {
                                        "name": "prod_id"
                                    },
                                    {
                                        "name": "prod_cat_name"
                                    },
                                    {
                                        "name": "prod_manufacturer"
                                    },
                                    {
                                        "name": "prod_name"
                                    },
                                    {
                                        "name": "prod_description"
                                    },
                                    {
                                        "name": "prod_price"
                                    },
                                    {
                                        "name": "prod_class"
                                    },
                                    {
                                        "name": "country_origin"
                                    },
                                    {
                                        "name": "sup_id"
                                    }
                                ]
                            },
                            "data": [
                                {
                                    "0": "9",
                                    "1": "NULL",
                                    "2": "63",
                                    "3": "Tallboy",
                                    "4": "Full-Suspension Mountain Bike",
                                    "5": "2799",
                                    "6": "Mid",
                                    "7": "2,3,4",
                                    "8": "NULL"
                                },
                                {
                                    "0": "68",
                                    "1": "NULL",
                                    "2": "61",
                                    "3": "Occam",
                                    "4": "Full-Suspension Mountain Bike",
                                    "5": "3999",
                                    "6": "Mid",
                                    "7": "2,3",
                                    "8": "NULL"
                                },
                                {
                                    "0": "43",
                                    "1": "NULL",
                                    "2": "70",
                                    "3": "Troy",
                                    "4": "Full-Suspension Mountain Bike",
                                    "5": "3199",
                                    "6": "Mid",
                                    "7": "2",
                                    "8": "NULL"
                                },
                                {
                                    "0": "37",
                                    "1": "NULL",
                                    "2": "22",
                                    "3": "DV9",
                                    "4": "Hardtail Mountain Bike",
                                    "5": "3009",
                                    "6": "Mid",
                                    "7": "1",
                                    "8": "NULL"
                                },
                                {
                                    "0": "26",
                                    "1": "NULL",
                                    "2": "8",
                                    "3": "Process 153",
                                    "4": "Full-Suspension Mountain Bike",
                                    "5": "3064",
                                    "6": "Mid",
                                    "7": "2,3,4",
                                    "8": "NULL"
                                },
                                {
                                    "0": "69",
                                    "1": "NULL",
                                    "2": "61",
                                    "3": "Occam",
                                    "4": "Full-Suspension Mountain Bike",
                                    "5": "3999",
                                    "6": "Mid",
                                    "7": "2,3",
                                    "8": "NULL"
                                },
                                {
                                    "0": "27",
                                    "1": "NULL",
                                    "2": "8",
                                    "3": "Hei Hei",
                                    "4": "Full-Suspension Mountain Bike",
                                    "5": "4227.99",
                                    "6": "Mid",
                                    "7": "2,3",
                                    "8": "NULL"
                                },
                                {
                                    "0": "38",
                                    "1": "NULL",
                                    "2": "22",
                                    "3": "Ripmo",
                                    "4": "Full-Suspension Mountain Bike",
                                    "5": "4399",
                                    "6": "Mid",
                                    "7": "2,3,4",
                                    "8": "NULL"
                                },
                                {
                                    "0": "54",
                                    "1": "NULL",
                                    "2": "10",
                                    "3": "G-Series",
                                    "4": "Full-Suspension Mountain Bike",
                                    "5": "5656.41",
                                    "6": "Expert",
                                    "7": "4",
                                    "8": "NULL"
                                },
                                {
                                    "0": "13",
                                    "1": "NULL",
                                    "2": "25",
                                    "3": "SB140",
                                    "4": "Full-Suspension Mountain Bike",
                                    "5": "5800",
                                    "6": "Expert",
                                    "7": "2,3,4",
                                    "8": "NULL"
                                }
                            ]
                        },
                        "text/html": [
                            "<table>",
                            "<tr><th>prod_id</th><th>prod_cat_name</th><th>prod_manufacturer</th><th>prod_name</th><th>prod_description</th><th>prod_price</th><th>prod_class</th><th>country_origin</th><th>sup_id</th></tr>",
                            "<tr><td>9</td><td>NULL</td><td>63</td><td>Tallboy</td><td>Full-Suspension Mountain Bike</td><td>2799</td><td>Mid</td><td>2,3,4</td><td>NULL</td></tr>",
                            "<tr><td>68</td><td>NULL</td><td>61</td><td>Occam</td><td>Full-Suspension Mountain Bike</td><td>3999</td><td>Mid</td><td>2,3</td><td>NULL</td></tr>",
                            "<tr><td>43</td><td>NULL</td><td>70</td><td>Troy</td><td>Full-Suspension Mountain Bike</td><td>3199</td><td>Mid</td><td>2</td><td>NULL</td></tr>",
                            "<tr><td>37</td><td>NULL</td><td>22</td><td>DV9</td><td>Hardtail Mountain Bike</td><td>3009</td><td>Mid</td><td>1</td><td>NULL</td></tr>",
                            "<tr><td>26</td><td>NULL</td><td>8</td><td>Process 153</td><td>Full-Suspension Mountain Bike</td><td>3064</td><td>Mid</td><td>2,3,4</td><td>NULL</td></tr>",
                            "<tr><td>69</td><td>NULL</td><td>61</td><td>Occam</td><td>Full-Suspension Mountain Bike</td><td>3999</td><td>Mid</td><td>2,3</td><td>NULL</td></tr>",
                            "<tr><td>27</td><td>NULL</td><td>8</td><td>Hei Hei</td><td>Full-Suspension Mountain Bike</td><td>4227.99</td><td>Mid</td><td>2,3</td><td>NULL</td></tr>",
                            "<tr><td>38</td><td>NULL</td><td>22</td><td>Ripmo</td><td>Full-Suspension Mountain Bike</td><td>4399</td><td>Mid</td><td>2,3,4</td><td>NULL</td></tr>",
                            "<tr><td>54</td><td>NULL</td><td>10</td><td>G-Series</td><td>Full-Suspension Mountain Bike</td><td>5656.41</td><td>Expert</td><td>4</td><td>NULL</td></tr>",
                            "<tr><td>13</td><td>NULL</td><td>25</td><td>SB140</td><td>Full-Suspension Mountain Bike</td><td>5800</td><td>Expert</td><td>2,3,4</td><td>NULL</td></tr>",
                            "</table>"
                        ]
                    }
                }
            ],
            "execution_count": 196
        },
        {
            "cell_type": "code",
            "source": [
                "SELECT * \n",
                "FROM dsci_504.racs\n",
                "LIMIT 10;"
            ],
            "metadata": {
                "language": "sql",
                "azdata_cell_guid": "2a476bc8-8629-4f2e-8e21-b3af58bcdd34"
            },
            "outputs": [
                {
                    "output_type": "display_data",
                    "data": {
                        "text/html": "(10 row(s) affected)"
                    },
                    "metadata": {}
                },
                {
                    "output_type": "display_data",
                    "data": {
                        "text/html": "Total execution time: 00:00:00.002"
                    },
                    "metadata": {}
                },
                {
                    "output_type": "execute_result",
                    "metadata": {},
                    "execution_count": 197,
                    "data": {
                        "application/vnd.dataresource+json": {
                            "schema": {
                                "fields": [
                                    {
                                        "name": "rac_id"
                                    },
                                    {
                                        "name": "tot_ret_item_cnt"
                                    },
                                    {
                                        "name": "tot_ret_amnt"
                                    },
                                    {
                                        "name": "cus_id"
                                    },
                                    {
                                        "name": "warehouse_id"
                                    },
                                    {
                                        "name": "prod_id"
                                    },
                                    {
                                        "name": "ord_id"
                                    },
                                    {
                                        "name": "comp_id"
                                    }
                                ]
                            },
                            "data": [
                                {
                                    "0": "178",
                                    "1": "0",
                                    "2": "0",
                                    "3": "1191",
                                    "4": "0",
                                    "5": "13",
                                    "6": "5484681",
                                    "7": "41"
                                },
                                {
                                    "0": "179",
                                    "1": "2",
                                    "2": "1008",
                                    "3": "1754",
                                    "4": "1",
                                    "5": "35",
                                    "6": "6727420",
                                    "7": "59"
                                },
                                {
                                    "0": "180",
                                    "1": "0",
                                    "2": "0",
                                    "3": "2454",
                                    "4": "2",
                                    "5": "46",
                                    "6": "4711571",
                                    "7": "48"
                                },
                                {
                                    "0": "181",
                                    "1": "7",
                                    "2": "970",
                                    "3": "2493",
                                    "4": "1",
                                    "5": "62",
                                    "6": "3555795",
                                    "7": "34"
                                },
                                {
                                    "0": "182",
                                    "1": "0",
                                    "2": "0",
                                    "3": "512",
                                    "4": "1",
                                    "5": "46",
                                    "6": "5687001",
                                    "7": "48"
                                },
                                {
                                    "0": "183",
                                    "1": "5",
                                    "2": "71",
                                    "3": "930",
                                    "4": "3",
                                    "5": "44",
                                    "6": "1985674",
                                    "7": "46"
                                },
                                {
                                    "0": "184",
                                    "1": "0",
                                    "2": "0",
                                    "3": "1504",
                                    "4": "2",
                                    "5": "63",
                                    "6": "5994079",
                                    "7": "43"
                                },
                                {
                                    "0": "185",
                                    "1": "0",
                                    "2": "0",
                                    "3": "805",
                                    "4": "3",
                                    "5": "28",
                                    "6": "5087861",
                                    "7": "20"
                                },
                                {
                                    "0": "186",
                                    "1": "0",
                                    "2": "0",
                                    "3": "346",
                                    "4": "1",
                                    "5": "60",
                                    "6": "6077808",
                                    "7": "57"
                                },
                                {
                                    "0": "187",
                                    "1": "9",
                                    "2": "60",
                                    "3": "2589",
                                    "4": "2",
                                    "5": "66",
                                    "6": "6241665",
                                    "7": "40"
                                }
                            ]
                        },
                        "text/html": [
                            "<table>",
                            "<tr><th>rac_id</th><th>tot_ret_item_cnt</th><th>tot_ret_amnt</th><th>cus_id</th><th>warehouse_id</th><th>prod_id</th><th>ord_id</th><th>comp_id</th></tr>",
                            "<tr><td>178</td><td>0</td><td>0</td><td>1191</td><td>0</td><td>13</td><td>5484681</td><td>41</td></tr>",
                            "<tr><td>179</td><td>2</td><td>1008</td><td>1754</td><td>1</td><td>35</td><td>6727420</td><td>59</td></tr>",
                            "<tr><td>180</td><td>0</td><td>0</td><td>2454</td><td>2</td><td>46</td><td>4711571</td><td>48</td></tr>",
                            "<tr><td>181</td><td>7</td><td>970</td><td>2493</td><td>1</td><td>62</td><td>3555795</td><td>34</td></tr>",
                            "<tr><td>182</td><td>0</td><td>0</td><td>512</td><td>1</td><td>46</td><td>5687001</td><td>48</td></tr>",
                            "<tr><td>183</td><td>5</td><td>71</td><td>930</td><td>3</td><td>44</td><td>1985674</td><td>46</td></tr>",
                            "<tr><td>184</td><td>0</td><td>0</td><td>1504</td><td>2</td><td>63</td><td>5994079</td><td>43</td></tr>",
                            "<tr><td>185</td><td>0</td><td>0</td><td>805</td><td>3</td><td>28</td><td>5087861</td><td>20</td></tr>",
                            "<tr><td>186</td><td>0</td><td>0</td><td>346</td><td>1</td><td>60</td><td>6077808</td><td>57</td></tr>",
                            "<tr><td>187</td><td>9</td><td>60</td><td>2589</td><td>2</td><td>66</td><td>6241665</td><td>40</td></tr>",
                            "</table>"
                        ]
                    }
                }
            ],
            "execution_count": 197
        },
        {
            "cell_type": "code",
            "source": [
                "SELECT * \n",
                "FROM dsci_504.states\n",
                "LIMIT 10;"
            ],
            "metadata": {
                "language": "sql",
                "azdata_cell_guid": "c8d3d6d5-15d9-4fa5-9511-fc298cfcd39f"
            },
            "outputs": [
                {
                    "output_type": "display_data",
                    "data": {
                        "text/html": "(10 row(s) affected)"
                    },
                    "metadata": {}
                },
                {
                    "output_type": "display_data",
                    "data": {
                        "text/html": "Total execution time: 00:00:00.001"
                    },
                    "metadata": {}
                },
                {
                    "output_type": "execute_result",
                    "metadata": {},
                    "execution_count": 198,
                    "data": {
                        "application/vnd.dataresource+json": {
                            "schema": {
                                "fields": [
                                    {
                                        "name": "state_id"
                                    },
                                    {
                                        "name": "state"
                                    }
                                ]
                            },
                            "data": [
                                {
                                    "0": "1",
                                    "1": "AK"
                                },
                                {
                                    "0": "2",
                                    "1": "AL"
                                },
                                {
                                    "0": "3",
                                    "1": "AZ"
                                },
                                {
                                    "0": "4",
                                    "1": "CA"
                                },
                                {
                                    "0": "5",
                                    "1": "CO"
                                },
                                {
                                    "0": "6",
                                    "1": "CT"
                                },
                                {
                                    "0": "7",
                                    "1": "DE"
                                },
                                {
                                    "0": "8",
                                    "1": "FL"
                                },
                                {
                                    "0": "9",
                                    "1": "GA"
                                },
                                {
                                    "0": "10",
                                    "1": "HI"
                                }
                            ]
                        },
                        "text/html": [
                            "<table>",
                            "<tr><th>state_id</th><th>state</th></tr>",
                            "<tr><td>1</td><td>AK</td></tr>",
                            "<tr><td>2</td><td>AL</td></tr>",
                            "<tr><td>3</td><td>AZ</td></tr>",
                            "<tr><td>4</td><td>CA</td></tr>",
                            "<tr><td>5</td><td>CO</td></tr>",
                            "<tr><td>6</td><td>CT</td></tr>",
                            "<tr><td>7</td><td>DE</td></tr>",
                            "<tr><td>8</td><td>FL</td></tr>",
                            "<tr><td>9</td><td>GA</td></tr>",
                            "<tr><td>10</td><td>HI</td></tr>",
                            "</table>"
                        ]
                    }
                }
            ],
            "execution_count": 198
        },
        {
            "cell_type": "code",
            "source": [
                "SELECT * \n",
                "FROM dsci_504.suppliers\n",
                "LIMIT 10;"
            ],
            "metadata": {
                "language": "sql",
                "azdata_cell_guid": "419c37cb-06d8-4b5f-a485-8d32c7161f2f",
                "tags": []
            },
            "outputs": [
                {
                    "output_type": "display_data",
                    "data": {
                        "text/html": "(10 row(s) affected)"
                    },
                    "metadata": {}
                },
                {
                    "output_type": "display_data",
                    "data": {
                        "text/html": "Total execution time: 00:00:00.001"
                    },
                    "metadata": {}
                },
                {
                    "output_type": "execute_result",
                    "metadata": {},
                    "execution_count": 199,
                    "data": {
                        "application/vnd.dataresource+json": {
                            "schema": {
                                "fields": [
                                    {
                                        "name": "sup_id"
                                    },
                                    {
                                        "name": "sup_name"
                                    },
                                    {
                                        "name": "sup_ctry"
                                    }
                                ]
                            },
                            "data": [
                                {
                                    "0": "1",
                                    "1": "Giant",
                                    "2": "Taiwan"
                                },
                                {
                                    "0": "2",
                                    "1": "Ride Alpha",
                                    "2": "Andorra"
                                },
                                {
                                    "0": "3",
                                    "1": "Niner",
                                    "2": "USA"
                                },
                                {
                                    "0": "4",
                                    "1": "Enve",
                                    "2": "USA"
                                },
                                {
                                    "0": "5",
                                    "1": "e13",
                                    "2": "USA"
                                },
                                {
                                    "0": "6",
                                    "1": "RaceFace",
                                    "2": "Canada"
                                },
                                {
                                    "0": "8",
                                    "1": "Kona",
                                    "2": "USA"
                                },
                                {
                                    "0": "9",
                                    "1": "Deity",
                                    "2": "USA"
                                },
                                {
                                    "0": "10",
                                    "1": "Whyte",
                                    "2": "UK"
                                },
                                {
                                    "0": "11",
                                    "1": "Newman",
                                    "2": "Germany"
                                }
                            ]
                        },
                        "text/html": [
                            "<table>",
                            "<tr><th>sup_id</th><th>sup_name</th><th>sup_ctry</th></tr>",
                            "<tr><td>1</td><td>Giant</td><td>Taiwan</td></tr>",
                            "<tr><td>2</td><td>Ride Alpha</td><td>Andorra</td></tr>",
                            "<tr><td>3</td><td>Niner</td><td>USA</td></tr>",
                            "<tr><td>4</td><td>Enve</td><td>USA</td></tr>",
                            "<tr><td>5</td><td>e13</td><td>USA</td></tr>",
                            "<tr><td>6</td><td>RaceFace</td><td>Canada</td></tr>",
                            "<tr><td>8</td><td>Kona</td><td>USA</td></tr>",
                            "<tr><td>9</td><td>Deity</td><td>USA</td></tr>",
                            "<tr><td>10</td><td>Whyte</td><td>UK</td></tr>",
                            "<tr><td>11</td><td>Newman</td><td>Germany</td></tr>",
                            "</table>"
                        ]
                    }
                }
            ],
            "execution_count": 199
        },
        {
            "cell_type": "code",
            "source": [
                "SELECT * \n",
                "FROM dsci_504.taxes\n",
                "LIMIT 10;"
            ],
            "metadata": {
                "language": "sql",
                "azdata_cell_guid": "fb56e5e2-a7fe-460a-ace0-4068f95dbca3"
            },
            "outputs": [
                {
                    "output_type": "display_data",
                    "data": {
                        "text/html": "(10 row(s) affected)"
                    },
                    "metadata": {}
                },
                {
                    "output_type": "display_data",
                    "data": {
                        "text/html": "Total execution time: 00:00:00.002"
                    },
                    "metadata": {}
                },
                {
                    "output_type": "execute_result",
                    "metadata": {},
                    "execution_count": 200,
                    "data": {
                        "application/vnd.dataresource+json": {
                            "schema": {
                                "fields": [
                                    {
                                        "name": "tax_id"
                                    },
                                    {
                                        "name": "tax_location"
                                    },
                                    {
                                        "name": "tax_rate"
                                    }
                                ]
                            },
                            "data": [
                                {
                                    "0": "1",
                                    "1": "AK",
                                    "2": "0"
                                },
                                {
                                    "0": "2",
                                    "1": "AL",
                                    "2": "4"
                                },
                                {
                                    "0": "3",
                                    "1": "AZ",
                                    "2": "5.6"
                                },
                                {
                                    "0": "4",
                                    "1": "CA",
                                    "2": "7.25"
                                },
                                {
                                    "0": "5",
                                    "1": "CO",
                                    "2": "7.25"
                                },
                                {
                                    "0": "6",
                                    "1": "CT",
                                    "2": "6.35"
                                },
                                {
                                    "0": "7",
                                    "1": "DE",
                                    "2": "0"
                                },
                                {
                                    "0": "8",
                                    "1": "FL",
                                    "2": "6"
                                },
                                {
                                    "0": "9",
                                    "1": "GA",
                                    "2": "4"
                                },
                                {
                                    "0": "10",
                                    "1": "HI",
                                    "2": "4"
                                }
                            ]
                        },
                        "text/html": [
                            "<table>",
                            "<tr><th>tax_id</th><th>tax_location</th><th>tax_rate</th></tr>",
                            "<tr><td>1</td><td>AK</td><td>0</td></tr>",
                            "<tr><td>2</td><td>AL</td><td>4</td></tr>",
                            "<tr><td>3</td><td>AZ</td><td>5.6</td></tr>",
                            "<tr><td>4</td><td>CA</td><td>7.25</td></tr>",
                            "<tr><td>5</td><td>CO</td><td>7.25</td></tr>",
                            "<tr><td>6</td><td>CT</td><td>6.35</td></tr>",
                            "<tr><td>7</td><td>DE</td><td>0</td></tr>",
                            "<tr><td>8</td><td>FL</td><td>6</td></tr>",
                            "<tr><td>9</td><td>GA</td><td>4</td></tr>",
                            "<tr><td>10</td><td>HI</td><td>4</td></tr>",
                            "</table>"
                        ]
                    }
                }
            ],
            "execution_count": 200
        },
        {
            "cell_type": "code",
            "source": [
                "SELECT * \n",
                "FROM dsci_504.warehouses\n",
                "LIMIT 10;"
            ],
            "metadata": {
                "language": "sql",
                "azdata_cell_guid": "2cb11387-5563-488a-ba2d-8dba722c0c2a"
            },
            "outputs": [
                {
                    "output_type": "display_data",
                    "data": {
                        "text/html": "(3 row(s) affected)"
                    },
                    "metadata": {}
                },
                {
                    "output_type": "display_data",
                    "data": {
                        "text/html": "Total execution time: 00:00:00.001"
                    },
                    "metadata": {}
                },
                {
                    "output_type": "execute_result",
                    "metadata": {},
                    "execution_count": 201,
                    "data": {
                        "application/vnd.dataresource+json": {
                            "schema": {
                                "fields": [
                                    {
                                        "name": "warehouse_id"
                                    },
                                    {
                                        "name": "warehouse_name"
                                    },
                                    {
                                        "name": "warehouse_state"
                                    }
                                ]
                            },
                            "data": [
                                {
                                    "0": "3",
                                    "1": "Columbus",
                                    "2": "20"
                                },
                                {
                                    "0": "1",
                                    "1": "Sacramento",
                                    "2": "4"
                                },
                                {
                                    "0": "2",
                                    "1": "Dallas",
                                    "2": "31"
                                }
                            ]
                        },
                        "text/html": [
                            "<table>",
                            "<tr><th>warehouse_id</th><th>warehouse_name</th><th>warehouse_state</th></tr>",
                            "<tr><td>3</td><td>Columbus</td><td>20</td></tr>",
                            "<tr><td>1</td><td>Sacramento</td><td>4</td></tr>",
                            "<tr><td>2</td><td>Dallas</td><td>31</td></tr>",
                            "</table>"
                        ]
                    }
                }
            ],
            "execution_count": 201
        },
        {
            "cell_type": "markdown",
            "source": [
                "**Step 5: Create primary keys within each of the newly created tables to elevate the database to 2NF. Some tables already have unique key columns that simply need to be identified as a Primary Key. Others may require a new column to do this. Run the below query after each table to validate the conttraints are placed on the tables.**\n",
                "\n",
                "```\n",
                "\n",
                "SELECT con.*\n",
                "    FROM pg_catalog.pg_constraint con\n",
                "        INNER JOIN pg_catalog.pg_class rel ON rel.oid = con.conrelid\n",
                "        INNER JOIN pg_catalog.pg_namespace nsp ON nsp.oid = connamespace\n",
                "        WHERE nsp.nspname = '{schema name}'\n",
                "             AND rel.relname = '{table name}';\n",
                "\n",
                "```"
            ],
            "metadata": {
                "azdata_cell_guid": "994c2c3d-5c16-4081-94d6-28c7d137640f"
            },
            "attachments": {}
        },
        {
            "cell_type": "code",
            "source": [
                "ALTER TABLE dsci_504.builds\n",
                "ADD PRIMARY KEY (build_id);\n",
                "\n",
                "SELECT con.*\n",
                "    FROM pg_catalog.pg_constraint con\n",
                "        INNER JOIN pg_catalog.pg_class rel ON rel.oid = con.conrelid\n",
                "        INNER JOIN pg_catalog.pg_namespace nsp ON nsp.oid = connamespace\n",
                "        WHERE nsp.nspname = 'dsci_504'\n",
                "             AND rel.relname = 'builds';\n",
                ""
            ],
            "metadata": {
                "azdata_cell_guid": "e51fddd2-fb9d-4ea4-9af5-515d40241cec",
                "language": "sql"
            },
            "outputs": [
                {
                    "output_type": "display_data",
                    "data": {
                        "text/html": "Commands completed successfully"
                    },
                    "metadata": {}
                },
                {
                    "output_type": "display_data",
                    "data": {
                        "text/html": "(1 row(s) affected)"
                    },
                    "metadata": {}
                },
                {
                    "output_type": "display_data",
                    "data": {
                        "text/html": "Total execution time: 00:00:00.010"
                    },
                    "metadata": {}
                },
                {
                    "output_type": "execute_result",
                    "metadata": {},
                    "execution_count": 202,
                    "data": {
                        "application/vnd.dataresource+json": {
                            "schema": {
                                "fields": [
                                    {
                                        "name": "oid"
                                    },
                                    {
                                        "name": "conname"
                                    },
                                    {
                                        "name": "connamespace"
                                    },
                                    {
                                        "name": "contype"
                                    },
                                    {
                                        "name": "condeferrable"
                                    },
                                    {
                                        "name": "condeferred"
                                    },
                                    {
                                        "name": "convalidated"
                                    },
                                    {
                                        "name": "conrelid"
                                    },
                                    {
                                        "name": "contypid"
                                    },
                                    {
                                        "name": "conindid"
                                    },
                                    {
                                        "name": "conparentid"
                                    },
                                    {
                                        "name": "confrelid"
                                    },
                                    {
                                        "name": "confupdtype"
                                    },
                                    {
                                        "name": "confdeltype"
                                    },
                                    {
                                        "name": "confmatchtype"
                                    },
                                    {
                                        "name": "conislocal"
                                    },
                                    {
                                        "name": "coninhcount"
                                    },
                                    {
                                        "name": "connoinherit"
                                    },
                                    {
                                        "name": "conkey"
                                    },
                                    {
                                        "name": "confkey"
                                    },
                                    {
                                        "name": "conpfeqop"
                                    },
                                    {
                                        "name": "conppeqop"
                                    },
                                    {
                                        "name": "conffeqop"
                                    },
                                    {
                                        "name": "conexclop"
                                    },
                                    {
                                        "name": "conbin"
                                    }
                                ]
                            },
                            "data": [
                                {
                                    "0": "25520",
                                    "1": "builds_pkey",
                                    "2": "25460",
                                    "3": "p",
                                    "4": "False",
                                    "5": "False",
                                    "6": "True",
                                    "7": "25461",
                                    "8": "0",
                                    "9": "25519",
                                    "10": "0",
                                    "11": "0",
                                    "12": " ",
                                    "13": " ",
                                    "14": " ",
                                    "15": "True",
                                    "16": "0",
                                    "17": "True",
                                    "18": "[1]",
                                    "19": "NULL",
                                    "20": "NULL",
                                    "21": "NULL",
                                    "22": "NULL",
                                    "23": "NULL",
                                    "24": "NULL"
                                }
                            ]
                        },
                        "text/html": [
                            "<table>",
                            "<tr><th>oid</th><th>conname</th><th>connamespace</th><th>contype</th><th>condeferrable</th><th>condeferred</th><th>convalidated</th><th>conrelid</th><th>contypid</th><th>conindid</th><th>conparentid</th><th>confrelid</th><th>confupdtype</th><th>confdeltype</th><th>confmatchtype</th><th>conislocal</th><th>coninhcount</th><th>connoinherit</th><th>conkey</th><th>confkey</th><th>conpfeqop</th><th>conppeqop</th><th>conffeqop</th><th>conexclop</th><th>conbin</th></tr>",
                            "<tr><td>25520</td><td>builds_pkey</td><td>25460</td><td>p</td><td>False</td><td>False</td><td>True</td><td>25461</td><td>0</td><td>25519</td><td>0</td><td>0</td><td> </td><td> </td><td> </td><td>True</td><td>0</td><td>True</td><td>[1]</td><td>NULL</td><td>NULL</td><td>NULL</td><td>NULL</td><td>NULL</td><td>NULL</td></tr>",
                            "</table>"
                        ]
                    }
                }
            ],
            "execution_count": 202
        },
        {
            "cell_type": "code",
            "source": [
                "ALTER TABLE dsci_504.components\n",
                "ADD PRIMARY KEY (comp_id);\n",
                "\n",
                "SELECT con.*\n",
                "    FROM pg_catalog.pg_constraint con\n",
                "        INNER JOIN pg_catalog.pg_class rel ON rel.oid = con.conrelid\n",
                "        INNER JOIN pg_catalog.pg_namespace nsp ON nsp.oid = connamespace\n",
                "        WHERE nsp.nspname = 'dsci_504'\n",
                "             AND rel.relname = 'components';"
            ],
            "metadata": {
                "language": "sql",
                "azdata_cell_guid": "634b4472-3bc9-4e4c-8ed4-4d2e49045c44"
            },
            "outputs": [
                {
                    "output_type": "display_data",
                    "data": {
                        "text/html": "Commands completed successfully"
                    },
                    "metadata": {}
                },
                {
                    "output_type": "display_data",
                    "data": {
                        "text/html": "(1 row(s) affected)"
                    },
                    "metadata": {}
                },
                {
                    "output_type": "display_data",
                    "data": {
                        "text/html": "Total execution time: 00:00:00.006"
                    },
                    "metadata": {}
                },
                {
                    "output_type": "execute_result",
                    "metadata": {},
                    "execution_count": 203,
                    "data": {
                        "application/vnd.dataresource+json": {
                            "schema": {
                                "fields": [
                                    {
                                        "name": "oid"
                                    },
                                    {
                                        "name": "conname"
                                    },
                                    {
                                        "name": "connamespace"
                                    },
                                    {
                                        "name": "contype"
                                    },
                                    {
                                        "name": "condeferrable"
                                    },
                                    {
                                        "name": "condeferred"
                                    },
                                    {
                                        "name": "convalidated"
                                    },
                                    {
                                        "name": "conrelid"
                                    },
                                    {
                                        "name": "contypid"
                                    },
                                    {
                                        "name": "conindid"
                                    },
                                    {
                                        "name": "conparentid"
                                    },
                                    {
                                        "name": "confrelid"
                                    },
                                    {
                                        "name": "confupdtype"
                                    },
                                    {
                                        "name": "confdeltype"
                                    },
                                    {
                                        "name": "confmatchtype"
                                    },
                                    {
                                        "name": "conislocal"
                                    },
                                    {
                                        "name": "coninhcount"
                                    },
                                    {
                                        "name": "connoinherit"
                                    },
                                    {
                                        "name": "conkey"
                                    },
                                    {
                                        "name": "confkey"
                                    },
                                    {
                                        "name": "conpfeqop"
                                    },
                                    {
                                        "name": "conppeqop"
                                    },
                                    {
                                        "name": "conffeqop"
                                    },
                                    {
                                        "name": "conexclop"
                                    },
                                    {
                                        "name": "conbin"
                                    }
                                ]
                            },
                            "data": [
                                {
                                    "0": "25522",
                                    "1": "components_pkey",
                                    "2": "25460",
                                    "3": "p",
                                    "4": "False",
                                    "5": "False",
                                    "6": "True",
                                    "7": "25466",
                                    "8": "0",
                                    "9": "25521",
                                    "10": "0",
                                    "11": "0",
                                    "12": " ",
                                    "13": " ",
                                    "14": " ",
                                    "15": "True",
                                    "16": "0",
                                    "17": "True",
                                    "18": "[1]",
                                    "19": "NULL",
                                    "20": "NULL",
                                    "21": "NULL",
                                    "22": "NULL",
                                    "23": "NULL",
                                    "24": "NULL"
                                }
                            ]
                        },
                        "text/html": [
                            "<table>",
                            "<tr><th>oid</th><th>conname</th><th>connamespace</th><th>contype</th><th>condeferrable</th><th>condeferred</th><th>convalidated</th><th>conrelid</th><th>contypid</th><th>conindid</th><th>conparentid</th><th>confrelid</th><th>confupdtype</th><th>confdeltype</th><th>confmatchtype</th><th>conislocal</th><th>coninhcount</th><th>connoinherit</th><th>conkey</th><th>confkey</th><th>conpfeqop</th><th>conppeqop</th><th>conffeqop</th><th>conexclop</th><th>conbin</th></tr>",
                            "<tr><td>25522</td><td>components_pkey</td><td>25460</td><td>p</td><td>False</td><td>False</td><td>True</td><td>25466</td><td>0</td><td>25521</td><td>0</td><td>0</td><td> </td><td> </td><td> </td><td>True</td><td>0</td><td>True</td><td>[1]</td><td>NULL</td><td>NULL</td><td>NULL</td><td>NULL</td><td>NULL</td><td>NULL</td></tr>",
                            "</table>"
                        ]
                    }
                }
            ],
            "execution_count": 203
        },
        {
            "cell_type": "code",
            "source": [
                "ALTER TABLE dsci_504.customers\n",
                "ADD PRIMARY KEY (cus_id);\n",
                "\n",
                "SELECT con.*\n",
                "    FROM pg_catalog.pg_constraint con\n",
                "        INNER JOIN pg_catalog.pg_class rel ON rel.oid = con.conrelid\n",
                "        INNER JOIN pg_catalog.pg_namespace nsp ON nsp.oid = connamespace\n",
                "        WHERE nsp.nspname = 'dsci_504'\n",
                "             AND rel.relname = 'customers';"
            ],
            "metadata": {
                "language": "sql",
                "azdata_cell_guid": "fe047f72-3454-4440-af67-934aa1d5003c"
            },
            "outputs": [
                {
                    "output_type": "display_data",
                    "data": {
                        "text/html": "Commands completed successfully"
                    },
                    "metadata": {}
                },
                {
                    "output_type": "display_data",
                    "data": {
                        "text/html": "(1 row(s) affected)"
                    },
                    "metadata": {}
                },
                {
                    "output_type": "display_data",
                    "data": {
                        "text/html": "Total execution time: 00:00:00.010"
                    },
                    "metadata": {}
                },
                {
                    "output_type": "execute_result",
                    "metadata": {},
                    "execution_count": 204,
                    "data": {
                        "application/vnd.dataresource+json": {
                            "schema": {
                                "fields": [
                                    {
                                        "name": "oid"
                                    },
                                    {
                                        "name": "conname"
                                    },
                                    {
                                        "name": "connamespace"
                                    },
                                    {
                                        "name": "contype"
                                    },
                                    {
                                        "name": "condeferrable"
                                    },
                                    {
                                        "name": "condeferred"
                                    },
                                    {
                                        "name": "convalidated"
                                    },
                                    {
                                        "name": "conrelid"
                                    },
                                    {
                                        "name": "contypid"
                                    },
                                    {
                                        "name": "conindid"
                                    },
                                    {
                                        "name": "conparentid"
                                    },
                                    {
                                        "name": "confrelid"
                                    },
                                    {
                                        "name": "confupdtype"
                                    },
                                    {
                                        "name": "confdeltype"
                                    },
                                    {
                                        "name": "confmatchtype"
                                    },
                                    {
                                        "name": "conislocal"
                                    },
                                    {
                                        "name": "coninhcount"
                                    },
                                    {
                                        "name": "connoinherit"
                                    },
                                    {
                                        "name": "conkey"
                                    },
                                    {
                                        "name": "confkey"
                                    },
                                    {
                                        "name": "conpfeqop"
                                    },
                                    {
                                        "name": "conppeqop"
                                    },
                                    {
                                        "name": "conffeqop"
                                    },
                                    {
                                        "name": "conexclop"
                                    },
                                    {
                                        "name": "conbin"
                                    }
                                ]
                            },
                            "data": [
                                {
                                    "0": "25524",
                                    "1": "customers_pkey",
                                    "2": "25460",
                                    "3": "p",
                                    "4": "False",
                                    "5": "False",
                                    "6": "True",
                                    "7": "25471",
                                    "8": "0",
                                    "9": "25523",
                                    "10": "0",
                                    "11": "0",
                                    "12": " ",
                                    "13": " ",
                                    "14": " ",
                                    "15": "True",
                                    "16": "0",
                                    "17": "True",
                                    "18": "[1]",
                                    "19": "NULL",
                                    "20": "NULL",
                                    "21": "NULL",
                                    "22": "NULL",
                                    "23": "NULL",
                                    "24": "NULL"
                                }
                            ]
                        },
                        "text/html": [
                            "<table>",
                            "<tr><th>oid</th><th>conname</th><th>connamespace</th><th>contype</th><th>condeferrable</th><th>condeferred</th><th>convalidated</th><th>conrelid</th><th>contypid</th><th>conindid</th><th>conparentid</th><th>confrelid</th><th>confupdtype</th><th>confdeltype</th><th>confmatchtype</th><th>conislocal</th><th>coninhcount</th><th>connoinherit</th><th>conkey</th><th>confkey</th><th>conpfeqop</th><th>conppeqop</th><th>conffeqop</th><th>conexclop</th><th>conbin</th></tr>",
                            "<tr><td>25524</td><td>customers_pkey</td><td>25460</td><td>p</td><td>False</td><td>False</td><td>True</td><td>25471</td><td>0</td><td>25523</td><td>0</td><td>0</td><td> </td><td> </td><td> </td><td>True</td><td>0</td><td>True</td><td>[1]</td><td>NULL</td><td>NULL</td><td>NULL</td><td>NULL</td><td>NULL</td><td>NULL</td></tr>",
                            "</table>"
                        ]
                    }
                }
            ],
            "execution_count": 204
        },
        {
            "cell_type": "code",
            "source": [
                "ALTER TABLE dsci_504.customerwarehouseorders\n",
                "ADD PRIMARY KEY (ord_id);\n",
                "\n",
                "SELECT con.*\n",
                "    FROM pg_catalog.pg_constraint con\n",
                "        INNER JOIN pg_catalog.pg_class rel ON rel.oid = con.conrelid\n",
                "        INNER JOIN pg_catalog.pg_namespace nsp ON nsp.oid = connamespace\n",
                "        WHERE nsp.nspname = 'dsci_504'\n",
                "             AND rel.relname = 'customerwarehouseorders';"
            ],
            "metadata": {
                "language": "sql",
                "azdata_cell_guid": "9e47206a-3282-4c39-90e4-ceadabbe2d4a"
            },
            "outputs": [
                {
                    "output_type": "display_data",
                    "data": {
                        "text/html": "Commands completed successfully"
                    },
                    "metadata": {}
                },
                {
                    "output_type": "display_data",
                    "data": {
                        "text/html": "(1 row(s) affected)"
                    },
                    "metadata": {}
                },
                {
                    "output_type": "display_data",
                    "data": {
                        "text/html": "Total execution time: 00:00:00.009"
                    },
                    "metadata": {}
                },
                {
                    "output_type": "execute_result",
                    "metadata": {},
                    "execution_count": 205,
                    "data": {
                        "application/vnd.dataresource+json": {
                            "schema": {
                                "fields": [
                                    {
                                        "name": "oid"
                                    },
                                    {
                                        "name": "conname"
                                    },
                                    {
                                        "name": "connamespace"
                                    },
                                    {
                                        "name": "contype"
                                    },
                                    {
                                        "name": "condeferrable"
                                    },
                                    {
                                        "name": "condeferred"
                                    },
                                    {
                                        "name": "convalidated"
                                    },
                                    {
                                        "name": "conrelid"
                                    },
                                    {
                                        "name": "contypid"
                                    },
                                    {
                                        "name": "conindid"
                                    },
                                    {
                                        "name": "conparentid"
                                    },
                                    {
                                        "name": "confrelid"
                                    },
                                    {
                                        "name": "confupdtype"
                                    },
                                    {
                                        "name": "confdeltype"
                                    },
                                    {
                                        "name": "confmatchtype"
                                    },
                                    {
                                        "name": "conislocal"
                                    },
                                    {
                                        "name": "coninhcount"
                                    },
                                    {
                                        "name": "connoinherit"
                                    },
                                    {
                                        "name": "conkey"
                                    },
                                    {
                                        "name": "confkey"
                                    },
                                    {
                                        "name": "conpfeqop"
                                    },
                                    {
                                        "name": "conppeqop"
                                    },
                                    {
                                        "name": "conffeqop"
                                    },
                                    {
                                        "name": "conexclop"
                                    },
                                    {
                                        "name": "conbin"
                                    }
                                ]
                            },
                            "data": [
                                {
                                    "0": "25526",
                                    "1": "customerwarehouseorders_pkey",
                                    "2": "25460",
                                    "3": "p",
                                    "4": "False",
                                    "5": "False",
                                    "6": "True",
                                    "7": "25476",
                                    "8": "0",
                                    "9": "25525",
                                    "10": "0",
                                    "11": "0",
                                    "12": " ",
                                    "13": " ",
                                    "14": " ",
                                    "15": "True",
                                    "16": "0",
                                    "17": "True",
                                    "18": "[3]",
                                    "19": "NULL",
                                    "20": "NULL",
                                    "21": "NULL",
                                    "22": "NULL",
                                    "23": "NULL",
                                    "24": "NULL"
                                }
                            ]
                        },
                        "text/html": [
                            "<table>",
                            "<tr><th>oid</th><th>conname</th><th>connamespace</th><th>contype</th><th>condeferrable</th><th>condeferred</th><th>convalidated</th><th>conrelid</th><th>contypid</th><th>conindid</th><th>conparentid</th><th>confrelid</th><th>confupdtype</th><th>confdeltype</th><th>confmatchtype</th><th>conislocal</th><th>coninhcount</th><th>connoinherit</th><th>conkey</th><th>confkey</th><th>conpfeqop</th><th>conppeqop</th><th>conffeqop</th><th>conexclop</th><th>conbin</th></tr>",
                            "<tr><td>25526</td><td>customerwarehouseorders_pkey</td><td>25460</td><td>p</td><td>False</td><td>False</td><td>True</td><td>25476</td><td>0</td><td>25525</td><td>0</td><td>0</td><td> </td><td> </td><td> </td><td>True</td><td>0</td><td>True</td><td>[3]</td><td>NULL</td><td>NULL</td><td>NULL</td><td>NULL</td><td>NULL</td><td>NULL</td></tr>",
                            "</table>"
                        ]
                    }
                }
            ],
            "execution_count": 205
        },
        {
            "cell_type": "code",
            "source": [
                "ALTER TABLE dsci_504.customerwarehousereturns\n",
                "ADD PRIMARY KEY (rac_id);\n",
                "\n",
                "SELECT con.*\n",
                "    FROM pg_catalog.pg_constraint con\n",
                "        INNER JOIN pg_catalog.pg_class rel ON rel.oid = con.conrelid\n",
                "        INNER JOIN pg_catalog.pg_namespace nsp ON nsp.oid = connamespace\n",
                "        WHERE nsp.nspname = 'dsci_504'\n",
                "             AND rel.relname = 'customerwarehousereturns';"
            ],
            "metadata": {
                "language": "sql",
                "azdata_cell_guid": "7f4b1c10-3fb6-4bbc-b327-4e702063d296"
            },
            "outputs": [
                {
                    "output_type": "display_data",
                    "data": {
                        "text/html": "Commands completed successfully"
                    },
                    "metadata": {}
                },
                {
                    "output_type": "display_data",
                    "data": {
                        "text/html": "(1 row(s) affected)"
                    },
                    "metadata": {}
                },
                {
                    "output_type": "display_data",
                    "data": {
                        "text/html": "Total execution time: 00:00:00.004"
                    },
                    "metadata": {}
                },
                {
                    "output_type": "execute_result",
                    "metadata": {},
                    "execution_count": 206,
                    "data": {
                        "application/vnd.dataresource+json": {
                            "schema": {
                                "fields": [
                                    {
                                        "name": "oid"
                                    },
                                    {
                                        "name": "conname"
                                    },
                                    {
                                        "name": "connamespace"
                                    },
                                    {
                                        "name": "contype"
                                    },
                                    {
                                        "name": "condeferrable"
                                    },
                                    {
                                        "name": "condeferred"
                                    },
                                    {
                                        "name": "convalidated"
                                    },
                                    {
                                        "name": "conrelid"
                                    },
                                    {
                                        "name": "contypid"
                                    },
                                    {
                                        "name": "conindid"
                                    },
                                    {
                                        "name": "conparentid"
                                    },
                                    {
                                        "name": "confrelid"
                                    },
                                    {
                                        "name": "confupdtype"
                                    },
                                    {
                                        "name": "confdeltype"
                                    },
                                    {
                                        "name": "confmatchtype"
                                    },
                                    {
                                        "name": "conislocal"
                                    },
                                    {
                                        "name": "coninhcount"
                                    },
                                    {
                                        "name": "connoinherit"
                                    },
                                    {
                                        "name": "conkey"
                                    },
                                    {
                                        "name": "confkey"
                                    },
                                    {
                                        "name": "conpfeqop"
                                    },
                                    {
                                        "name": "conppeqop"
                                    },
                                    {
                                        "name": "conffeqop"
                                    },
                                    {
                                        "name": "conexclop"
                                    },
                                    {
                                        "name": "conbin"
                                    }
                                ]
                            },
                            "data": [
                                {
                                    "0": "25528",
                                    "1": "customerwarehousereturns_pkey",
                                    "2": "25460",
                                    "3": "p",
                                    "4": "False",
                                    "5": "False",
                                    "6": "True",
                                    "7": "25479",
                                    "8": "0",
                                    "9": "25527",
                                    "10": "0",
                                    "11": "0",
                                    "12": " ",
                                    "13": " ",
                                    "14": " ",
                                    "15": "True",
                                    "16": "0",
                                    "17": "True",
                                    "18": "[4]",
                                    "19": "NULL",
                                    "20": "NULL",
                                    "21": "NULL",
                                    "22": "NULL",
                                    "23": "NULL",
                                    "24": "NULL"
                                }
                            ]
                        },
                        "text/html": [
                            "<table>",
                            "<tr><th>oid</th><th>conname</th><th>connamespace</th><th>contype</th><th>condeferrable</th><th>condeferred</th><th>convalidated</th><th>conrelid</th><th>contypid</th><th>conindid</th><th>conparentid</th><th>confrelid</th><th>confupdtype</th><th>confdeltype</th><th>confmatchtype</th><th>conislocal</th><th>coninhcount</th><th>connoinherit</th><th>conkey</th><th>confkey</th><th>conpfeqop</th><th>conppeqop</th><th>conffeqop</th><th>conexclop</th><th>conbin</th></tr>",
                            "<tr><td>25528</td><td>customerwarehousereturns_pkey</td><td>25460</td><td>p</td><td>False</td><td>False</td><td>True</td><td>25479</td><td>0</td><td>25527</td><td>0</td><td>0</td><td> </td><td> </td><td> </td><td>True</td><td>0</td><td>True</td><td>[4]</td><td>NULL</td><td>NULL</td><td>NULL</td><td>NULL</td><td>NULL</td><td>NULL</td></tr>",
                            "</table>"
                        ]
                    }
                }
            ],
            "execution_count": 206
        },
        {
            "cell_type": "code",
            "source": [
                "ALTER TABLE dsci_504.orders\n",
                "ADD PRIMARY KEY (ord_id);\n",
                "\n",
                "SELECT con.*\n",
                "    FROM pg_catalog.pg_constraint con\n",
                "        INNER JOIN pg_catalog.pg_class rel ON rel.oid = con.conrelid\n",
                "        INNER JOIN pg_catalog.pg_namespace nsp ON nsp.oid = connamespace\n",
                "        WHERE nsp.nspname = 'dsci_504'\n",
                "             AND rel.relname = 'orders';"
            ],
            "metadata": {
                "language": "sql",
                "azdata_cell_guid": "507adea6-ab17-46d1-9f9c-af5a2386a684"
            },
            "outputs": [
                {
                    "output_type": "display_data",
                    "data": {
                        "text/html": "Commands completed successfully"
                    },
                    "metadata": {}
                },
                {
                    "output_type": "display_data",
                    "data": {
                        "text/html": "(1 row(s) affected)"
                    },
                    "metadata": {}
                },
                {
                    "output_type": "display_data",
                    "data": {
                        "text/html": "Total execution time: 00:00:00.005"
                    },
                    "metadata": {}
                },
                {
                    "output_type": "execute_result",
                    "metadata": {},
                    "execution_count": 207,
                    "data": {
                        "application/vnd.dataresource+json": {
                            "schema": {
                                "fields": [
                                    {
                                        "name": "oid"
                                    },
                                    {
                                        "name": "conname"
                                    },
                                    {
                                        "name": "connamespace"
                                    },
                                    {
                                        "name": "contype"
                                    },
                                    {
                                        "name": "condeferrable"
                                    },
                                    {
                                        "name": "condeferred"
                                    },
                                    {
                                        "name": "convalidated"
                                    },
                                    {
                                        "name": "conrelid"
                                    },
                                    {
                                        "name": "contypid"
                                    },
                                    {
                                        "name": "conindid"
                                    },
                                    {
                                        "name": "conparentid"
                                    },
                                    {
                                        "name": "confrelid"
                                    },
                                    {
                                        "name": "confupdtype"
                                    },
                                    {
                                        "name": "confdeltype"
                                    },
                                    {
                                        "name": "confmatchtype"
                                    },
                                    {
                                        "name": "conislocal"
                                    },
                                    {
                                        "name": "coninhcount"
                                    },
                                    {
                                        "name": "connoinherit"
                                    },
                                    {
                                        "name": "conkey"
                                    },
                                    {
                                        "name": "confkey"
                                    },
                                    {
                                        "name": "conpfeqop"
                                    },
                                    {
                                        "name": "conppeqop"
                                    },
                                    {
                                        "name": "conffeqop"
                                    },
                                    {
                                        "name": "conexclop"
                                    },
                                    {
                                        "name": "conbin"
                                    }
                                ]
                            },
                            "data": [
                                {
                                    "0": "25532",
                                    "1": "orders_pkey",
                                    "2": "25460",
                                    "3": "p",
                                    "4": "False",
                                    "5": "False",
                                    "6": "True",
                                    "7": "25482",
                                    "8": "0",
                                    "9": "25531",
                                    "10": "0",
                                    "11": "0",
                                    "12": " ",
                                    "13": " ",
                                    "14": " ",
                                    "15": "True",
                                    "16": "0",
                                    "17": "True",
                                    "18": "[1]",
                                    "19": "NULL",
                                    "20": "NULL",
                                    "21": "NULL",
                                    "22": "NULL",
                                    "23": "NULL",
                                    "24": "NULL"
                                }
                            ]
                        },
                        "text/html": [
                            "<table>",
                            "<tr><th>oid</th><th>conname</th><th>connamespace</th><th>contype</th><th>condeferrable</th><th>condeferred</th><th>convalidated</th><th>conrelid</th><th>contypid</th><th>conindid</th><th>conparentid</th><th>confrelid</th><th>confupdtype</th><th>confdeltype</th><th>confmatchtype</th><th>conislocal</th><th>coninhcount</th><th>connoinherit</th><th>conkey</th><th>confkey</th><th>conpfeqop</th><th>conppeqop</th><th>conffeqop</th><th>conexclop</th><th>conbin</th></tr>",
                            "<tr><td>25532</td><td>orders_pkey</td><td>25460</td><td>p</td><td>False</td><td>False</td><td>True</td><td>25482</td><td>0</td><td>25531</td><td>0</td><td>0</td><td> </td><td> </td><td> </td><td>True</td><td>0</td><td>True</td><td>[1]</td><td>NULL</td><td>NULL</td><td>NULL</td><td>NULL</td><td>NULL</td><td>NULL</td></tr>",
                            "</table>"
                        ]
                    }
                }
            ],
            "execution_count": 207
        },
        {
            "cell_type": "code",
            "source": [
                "ALTER TABLE dsci_504.ordertaxes\n",
                "ADD PRIMARY KEY (ord_id);\n",
                "\n",
                "SELECT con.*\n",
                "    FROM pg_catalog.pg_constraint con\n",
                "        INNER JOIN pg_catalog.pg_class rel ON rel.oid = con.conrelid\n",
                "        INNER JOIN pg_catalog.pg_namespace nsp ON nsp.oid = connamespace\n",
                "        WHERE nsp.nspname = 'dsci_504'\n",
                "             AND rel.relname = 'ordertaxes';\n",
                "\n",
                ""
            ],
            "metadata": {
                "language": "sql",
                "azdata_cell_guid": "b2b29990-d29c-4a78-ac07-2090ee45c795"
            },
            "outputs": [
                {
                    "output_type": "display_data",
                    "data": {
                        "text/html": "Commands completed successfully"
                    },
                    "metadata": {}
                },
                {
                    "output_type": "display_data",
                    "data": {
                        "text/html": "(1 row(s) affected)"
                    },
                    "metadata": {}
                },
                {
                    "output_type": "display_data",
                    "data": {
                        "text/html": "Total execution time: 00:00:00.009"
                    },
                    "metadata": {}
                },
                {
                    "output_type": "execute_result",
                    "metadata": {},
                    "execution_count": 208,
                    "data": {
                        "application/vnd.dataresource+json": {
                            "schema": {
                                "fields": [
                                    {
                                        "name": "oid"
                                    },
                                    {
                                        "name": "conname"
                                    },
                                    {
                                        "name": "connamespace"
                                    },
                                    {
                                        "name": "contype"
                                    },
                                    {
                                        "name": "condeferrable"
                                    },
                                    {
                                        "name": "condeferred"
                                    },
                                    {
                                        "name": "convalidated"
                                    },
                                    {
                                        "name": "conrelid"
                                    },
                                    {
                                        "name": "contypid"
                                    },
                                    {
                                        "name": "conindid"
                                    },
                                    {
                                        "name": "conparentid"
                                    },
                                    {
                                        "name": "confrelid"
                                    },
                                    {
                                        "name": "confupdtype"
                                    },
                                    {
                                        "name": "confdeltype"
                                    },
                                    {
                                        "name": "confmatchtype"
                                    },
                                    {
                                        "name": "conislocal"
                                    },
                                    {
                                        "name": "coninhcount"
                                    },
                                    {
                                        "name": "connoinherit"
                                    },
                                    {
                                        "name": "conkey"
                                    },
                                    {
                                        "name": "confkey"
                                    },
                                    {
                                        "name": "conpfeqop"
                                    },
                                    {
                                        "name": "conppeqop"
                                    },
                                    {
                                        "name": "conffeqop"
                                    },
                                    {
                                        "name": "conexclop"
                                    },
                                    {
                                        "name": "conbin"
                                    }
                                ]
                            },
                            "data": [
                                {
                                    "0": "25534",
                                    "1": "ordertaxes_pkey",
                                    "2": "25460",
                                    "3": "p",
                                    "4": "False",
                                    "5": "False",
                                    "6": "True",
                                    "7": "25487",
                                    "8": "0",
                                    "9": "25533",
                                    "10": "0",
                                    "11": "0",
                                    "12": " ",
                                    "13": " ",
                                    "14": " ",
                                    "15": "True",
                                    "16": "0",
                                    "17": "True",
                                    "18": "[1]",
                                    "19": "NULL",
                                    "20": "NULL",
                                    "21": "NULL",
                                    "22": "NULL",
                                    "23": "NULL",
                                    "24": "NULL"
                                }
                            ]
                        },
                        "text/html": [
                            "<table>",
                            "<tr><th>oid</th><th>conname</th><th>connamespace</th><th>contype</th><th>condeferrable</th><th>condeferred</th><th>convalidated</th><th>conrelid</th><th>contypid</th><th>conindid</th><th>conparentid</th><th>confrelid</th><th>confupdtype</th><th>confdeltype</th><th>confmatchtype</th><th>conislocal</th><th>coninhcount</th><th>connoinherit</th><th>conkey</th><th>confkey</th><th>conpfeqop</th><th>conppeqop</th><th>conffeqop</th><th>conexclop</th><th>conbin</th></tr>",
                            "<tr><td>25534</td><td>ordertaxes_pkey</td><td>25460</td><td>p</td><td>False</td><td>False</td><td>True</td><td>25487</td><td>0</td><td>25533</td><td>0</td><td>0</td><td> </td><td> </td><td> </td><td>True</td><td>0</td><td>True</td><td>[1]</td><td>NULL</td><td>NULL</td><td>NULL</td><td>NULL</td><td>NULL</td><td>NULL</td></tr>",
                            "</table>"
                        ]
                    }
                }
            ],
            "execution_count": 208
        },
        {
            "cell_type": "code",
            "source": [
                "ALTER TABLE dsci_504.productbuilds\n",
                "ADD PRIMARY KEY (prod_id);\n",
                "\n",
                "SELECT con.*\n",
                "    FROM pg_catalog.pg_constraint con\n",
                "        INNER JOIN pg_catalog.pg_class rel ON rel.oid = con.conrelid\n",
                "        INNER JOIN pg_catalog.pg_namespace nsp ON nsp.oid = connamespace\n",
                "        WHERE nsp.nspname = 'dsci_504'\n",
                "             AND rel.relname = 'productbuilds';"
            ],
            "metadata": {
                "language": "sql",
                "azdata_cell_guid": "4f5c4324-e51d-45d9-9418-48c1148cb122"
            },
            "outputs": [
                {
                    "output_type": "display_data",
                    "data": {
                        "text/html": "Commands completed successfully"
                    },
                    "metadata": {}
                },
                {
                    "output_type": "display_data",
                    "data": {
                        "text/html": "(1 row(s) affected)"
                    },
                    "metadata": {}
                },
                {
                    "output_type": "display_data",
                    "data": {
                        "text/html": "Total execution time: 00:00:00.004"
                    },
                    "metadata": {}
                },
                {
                    "output_type": "execute_result",
                    "metadata": {},
                    "execution_count": 209,
                    "data": {
                        "application/vnd.dataresource+json": {
                            "schema": {
                                "fields": [
                                    {
                                        "name": "oid"
                                    },
                                    {
                                        "name": "conname"
                                    },
                                    {
                                        "name": "connamespace"
                                    },
                                    {
                                        "name": "contype"
                                    },
                                    {
                                        "name": "condeferrable"
                                    },
                                    {
                                        "name": "condeferred"
                                    },
                                    {
                                        "name": "convalidated"
                                    },
                                    {
                                        "name": "conrelid"
                                    },
                                    {
                                        "name": "contypid"
                                    },
                                    {
                                        "name": "conindid"
                                    },
                                    {
                                        "name": "conparentid"
                                    },
                                    {
                                        "name": "confrelid"
                                    },
                                    {
                                        "name": "confupdtype"
                                    },
                                    {
                                        "name": "confdeltype"
                                    },
                                    {
                                        "name": "confmatchtype"
                                    },
                                    {
                                        "name": "conislocal"
                                    },
                                    {
                                        "name": "coninhcount"
                                    },
                                    {
                                        "name": "connoinherit"
                                    },
                                    {
                                        "name": "conkey"
                                    },
                                    {
                                        "name": "confkey"
                                    },
                                    {
                                        "name": "conpfeqop"
                                    },
                                    {
                                        "name": "conppeqop"
                                    },
                                    {
                                        "name": "conffeqop"
                                    },
                                    {
                                        "name": "conexclop"
                                    },
                                    {
                                        "name": "conbin"
                                    }
                                ]
                            },
                            "data": [
                                {
                                    "0": "25536",
                                    "1": "productbuilds_pkey",
                                    "2": "25460",
                                    "3": "p",
                                    "4": "False",
                                    "5": "False",
                                    "6": "True",
                                    "7": "25492",
                                    "8": "0",
                                    "9": "25535",
                                    "10": "0",
                                    "11": "0",
                                    "12": " ",
                                    "13": " ",
                                    "14": " ",
                                    "15": "True",
                                    "16": "0",
                                    "17": "True",
                                    "18": "[1]",
                                    "19": "NULL",
                                    "20": "NULL",
                                    "21": "NULL",
                                    "22": "NULL",
                                    "23": "NULL",
                                    "24": "NULL"
                                }
                            ]
                        },
                        "text/html": [
                            "<table>",
                            "<tr><th>oid</th><th>conname</th><th>connamespace</th><th>contype</th><th>condeferrable</th><th>condeferred</th><th>convalidated</th><th>conrelid</th><th>contypid</th><th>conindid</th><th>conparentid</th><th>confrelid</th><th>confupdtype</th><th>confdeltype</th><th>confmatchtype</th><th>conislocal</th><th>coninhcount</th><th>connoinherit</th><th>conkey</th><th>confkey</th><th>conpfeqop</th><th>conppeqop</th><th>conffeqop</th><th>conexclop</th><th>conbin</th></tr>",
                            "<tr><td>25536</td><td>productbuilds_pkey</td><td>25460</td><td>p</td><td>False</td><td>False</td><td>True</td><td>25492</td><td>0</td><td>25535</td><td>0</td><td>0</td><td> </td><td> </td><td> </td><td>True</td><td>0</td><td>True</td><td>[1]</td><td>NULL</td><td>NULL</td><td>NULL</td><td>NULL</td><td>NULL</td><td>NULL</td></tr>",
                            "</table>"
                        ]
                    }
                }
            ],
            "execution_count": 209
        },
        {
            "cell_type": "code",
            "source": [
                "ALTER TABLE dsci_504.products\n",
                "ADD PRIMARY KEY (prod_id);\n",
                "\n",
                "SELECT con.*\n",
                "    FROM pg_catalog.pg_constraint con\n",
                "        INNER JOIN pg_catalog.pg_class rel ON rel.oid = con.conrelid\n",
                "        INNER JOIN pg_catalog.pg_namespace nsp ON nsp.oid = connamespace\n",
                "        WHERE nsp.nspname = 'dsci_504'\n",
                "             AND rel.relname = 'products';\n",
                ""
            ],
            "metadata": {
                "language": "sql",
                "azdata_cell_guid": "e5fc5cec-9b8f-4e23-bc89-bcd72dd29e2b",
                "tags": []
            },
            "outputs": [
                {
                    "output_type": "display_data",
                    "data": {
                        "text/html": "Commands completed successfully"
                    },
                    "metadata": {}
                },
                {
                    "output_type": "display_data",
                    "data": {
                        "text/html": "(1 row(s) affected)"
                    },
                    "metadata": {}
                },
                {
                    "output_type": "display_data",
                    "data": {
                        "text/html": "Total execution time: 00:00:00.005"
                    },
                    "metadata": {}
                },
                {
                    "output_type": "execute_result",
                    "metadata": {},
                    "execution_count": 210,
                    "data": {
                        "application/vnd.dataresource+json": {
                            "schema": {
                                "fields": [
                                    {
                                        "name": "oid"
                                    },
                                    {
                                        "name": "conname"
                                    },
                                    {
                                        "name": "connamespace"
                                    },
                                    {
                                        "name": "contype"
                                    },
                                    {
                                        "name": "condeferrable"
                                    },
                                    {
                                        "name": "condeferred"
                                    },
                                    {
                                        "name": "convalidated"
                                    },
                                    {
                                        "name": "conrelid"
                                    },
                                    {
                                        "name": "contypid"
                                    },
                                    {
                                        "name": "conindid"
                                    },
                                    {
                                        "name": "conparentid"
                                    },
                                    {
                                        "name": "confrelid"
                                    },
                                    {
                                        "name": "confupdtype"
                                    },
                                    {
                                        "name": "confdeltype"
                                    },
                                    {
                                        "name": "confmatchtype"
                                    },
                                    {
                                        "name": "conislocal"
                                    },
                                    {
                                        "name": "coninhcount"
                                    },
                                    {
                                        "name": "connoinherit"
                                    },
                                    {
                                        "name": "conkey"
                                    },
                                    {
                                        "name": "confkey"
                                    },
                                    {
                                        "name": "conpfeqop"
                                    },
                                    {
                                        "name": "conppeqop"
                                    },
                                    {
                                        "name": "conffeqop"
                                    },
                                    {
                                        "name": "conexclop"
                                    },
                                    {
                                        "name": "conbin"
                                    }
                                ]
                            },
                            "data": [
                                {
                                    "0": "25538",
                                    "1": "products_pkey",
                                    "2": "25460",
                                    "3": "p",
                                    "4": "False",
                                    "5": "False",
                                    "6": "True",
                                    "7": "25495",
                                    "8": "0",
                                    "9": "25537",
                                    "10": "0",
                                    "11": "0",
                                    "12": " ",
                                    "13": " ",
                                    "14": " ",
                                    "15": "True",
                                    "16": "0",
                                    "17": "True",
                                    "18": "[1]",
                                    "19": "NULL",
                                    "20": "NULL",
                                    "21": "NULL",
                                    "22": "NULL",
                                    "23": "NULL",
                                    "24": "NULL"
                                }
                            ]
                        },
                        "text/html": [
                            "<table>",
                            "<tr><th>oid</th><th>conname</th><th>connamespace</th><th>contype</th><th>condeferrable</th><th>condeferred</th><th>convalidated</th><th>conrelid</th><th>contypid</th><th>conindid</th><th>conparentid</th><th>confrelid</th><th>confupdtype</th><th>confdeltype</th><th>confmatchtype</th><th>conislocal</th><th>coninhcount</th><th>connoinherit</th><th>conkey</th><th>confkey</th><th>conpfeqop</th><th>conppeqop</th><th>conffeqop</th><th>conexclop</th><th>conbin</th></tr>",
                            "<tr><td>25538</td><td>products_pkey</td><td>25460</td><td>p</td><td>False</td><td>False</td><td>True</td><td>25495</td><td>0</td><td>25537</td><td>0</td><td>0</td><td> </td><td> </td><td> </td><td>True</td><td>0</td><td>True</td><td>[1]</td><td>NULL</td><td>NULL</td><td>NULL</td><td>NULL</td><td>NULL</td><td>NULL</td></tr>",
                            "</table>"
                        ]
                    }
                }
            ],
            "execution_count": 210
        },
        {
            "cell_type": "code",
            "source": [
                "ALTER TABLE dsci_504.racs\n",
                "ADD PRIMARY KEY (rac_id);\n",
                "\n",
                "SELECT con.*\n",
                "    FROM pg_catalog.pg_constraint con\n",
                "        INNER JOIN pg_catalog.pg_class rel ON rel.oid = con.conrelid\n",
                "        INNER JOIN pg_catalog.pg_namespace nsp ON nsp.oid = connamespace\n",
                "        WHERE nsp.nspname = 'dsci_504'\n",
                "             AND rel.relname = 'racs';"
            ],
            "metadata": {
                "language": "sql",
                "azdata_cell_guid": "dd88f2aa-22ae-44f8-8ab4-321c85529386"
            },
            "outputs": [
                {
                    "output_type": "display_data",
                    "data": {
                        "text/html": "Commands completed successfully"
                    },
                    "metadata": {}
                },
                {
                    "output_type": "display_data",
                    "data": {
                        "text/html": "(1 row(s) affected)"
                    },
                    "metadata": {}
                },
                {
                    "output_type": "display_data",
                    "data": {
                        "text/html": "Total execution time: 00:00:00.010"
                    },
                    "metadata": {}
                },
                {
                    "output_type": "execute_result",
                    "metadata": {},
                    "execution_count": 211,
                    "data": {
                        "application/vnd.dataresource+json": {
                            "schema": {
                                "fields": [
                                    {
                                        "name": "oid"
                                    },
                                    {
                                        "name": "conname"
                                    },
                                    {
                                        "name": "connamespace"
                                    },
                                    {
                                        "name": "contype"
                                    },
                                    {
                                        "name": "condeferrable"
                                    },
                                    {
                                        "name": "condeferred"
                                    },
                                    {
                                        "name": "convalidated"
                                    },
                                    {
                                        "name": "conrelid"
                                    },
                                    {
                                        "name": "contypid"
                                    },
                                    {
                                        "name": "conindid"
                                    },
                                    {
                                        "name": "conparentid"
                                    },
                                    {
                                        "name": "confrelid"
                                    },
                                    {
                                        "name": "confupdtype"
                                    },
                                    {
                                        "name": "confdeltype"
                                    },
                                    {
                                        "name": "confmatchtype"
                                    },
                                    {
                                        "name": "conislocal"
                                    },
                                    {
                                        "name": "coninhcount"
                                    },
                                    {
                                        "name": "connoinherit"
                                    },
                                    {
                                        "name": "conkey"
                                    },
                                    {
                                        "name": "confkey"
                                    },
                                    {
                                        "name": "conpfeqop"
                                    },
                                    {
                                        "name": "conppeqop"
                                    },
                                    {
                                        "name": "conffeqop"
                                    },
                                    {
                                        "name": "conexclop"
                                    },
                                    {
                                        "name": "conbin"
                                    }
                                ]
                            },
                            "data": [
                                {
                                    "0": "25540",
                                    "1": "racs_pkey",
                                    "2": "25460",
                                    "3": "p",
                                    "4": "False",
                                    "5": "False",
                                    "6": "True",
                                    "7": "25500",
                                    "8": "0",
                                    "9": "25539",
                                    "10": "0",
                                    "11": "0",
                                    "12": " ",
                                    "13": " ",
                                    "14": " ",
                                    "15": "True",
                                    "16": "0",
                                    "17": "True",
                                    "18": "[1]",
                                    "19": "NULL",
                                    "20": "NULL",
                                    "21": "NULL",
                                    "22": "NULL",
                                    "23": "NULL",
                                    "24": "NULL"
                                }
                            ]
                        },
                        "text/html": [
                            "<table>",
                            "<tr><th>oid</th><th>conname</th><th>connamespace</th><th>contype</th><th>condeferrable</th><th>condeferred</th><th>convalidated</th><th>conrelid</th><th>contypid</th><th>conindid</th><th>conparentid</th><th>confrelid</th><th>confupdtype</th><th>confdeltype</th><th>confmatchtype</th><th>conislocal</th><th>coninhcount</th><th>connoinherit</th><th>conkey</th><th>confkey</th><th>conpfeqop</th><th>conppeqop</th><th>conffeqop</th><th>conexclop</th><th>conbin</th></tr>",
                            "<tr><td>25540</td><td>racs_pkey</td><td>25460</td><td>p</td><td>False</td><td>False</td><td>True</td><td>25500</td><td>0</td><td>25539</td><td>0</td><td>0</td><td> </td><td> </td><td> </td><td>True</td><td>0</td><td>True</td><td>[1]</td><td>NULL</td><td>NULL</td><td>NULL</td><td>NULL</td><td>NULL</td><td>NULL</td></tr>",
                            "</table>"
                        ]
                    }
                }
            ],
            "execution_count": 211
        },
        {
            "cell_type": "code",
            "source": [
                "ALTER TABLE dsci_504.states\n",
                "ADD PRIMARY KEY (state_id);\n",
                "\n",
                "SELECT con.*\n",
                "    FROM pg_catalog.pg_constraint con\n",
                "        INNER JOIN pg_catalog.pg_class rel ON rel.oid = con.conrelid\n",
                "        INNER JOIN pg_catalog.pg_namespace nsp ON nsp.oid = connamespace\n",
                "        WHERE nsp.nspname = 'dsci_504'\n",
                "             AND rel.relname = 'states';"
            ],
            "metadata": {
                "language": "sql",
                "azdata_cell_guid": "d835223a-0628-4b64-bbba-c48cf437cef7"
            },
            "outputs": [
                {
                    "output_type": "display_data",
                    "data": {
                        "text/html": "Commands completed successfully"
                    },
                    "metadata": {}
                },
                {
                    "output_type": "display_data",
                    "data": {
                        "text/html": "(1 row(s) affected)"
                    },
                    "metadata": {}
                },
                {
                    "output_type": "display_data",
                    "data": {
                        "text/html": "Total execution time: 00:00:00.004"
                    },
                    "metadata": {}
                },
                {
                    "output_type": "execute_result",
                    "metadata": {},
                    "execution_count": 212,
                    "data": {
                        "application/vnd.dataresource+json": {
                            "schema": {
                                "fields": [
                                    {
                                        "name": "oid"
                                    },
                                    {
                                        "name": "conname"
                                    },
                                    {
                                        "name": "connamespace"
                                    },
                                    {
                                        "name": "contype"
                                    },
                                    {
                                        "name": "condeferrable"
                                    },
                                    {
                                        "name": "condeferred"
                                    },
                                    {
                                        "name": "convalidated"
                                    },
                                    {
                                        "name": "conrelid"
                                    },
                                    {
                                        "name": "contypid"
                                    },
                                    {
                                        "name": "conindid"
                                    },
                                    {
                                        "name": "conparentid"
                                    },
                                    {
                                        "name": "confrelid"
                                    },
                                    {
                                        "name": "confupdtype"
                                    },
                                    {
                                        "name": "confdeltype"
                                    },
                                    {
                                        "name": "confmatchtype"
                                    },
                                    {
                                        "name": "conislocal"
                                    },
                                    {
                                        "name": "coninhcount"
                                    },
                                    {
                                        "name": "connoinherit"
                                    },
                                    {
                                        "name": "conkey"
                                    },
                                    {
                                        "name": "confkey"
                                    },
                                    {
                                        "name": "conpfeqop"
                                    },
                                    {
                                        "name": "conppeqop"
                                    },
                                    {
                                        "name": "conffeqop"
                                    },
                                    {
                                        "name": "conexclop"
                                    },
                                    {
                                        "name": "conbin"
                                    }
                                ]
                            },
                            "data": [
                                {
                                    "0": "25542",
                                    "1": "states_pkey",
                                    "2": "25460",
                                    "3": "p",
                                    "4": "False",
                                    "5": "False",
                                    "6": "True",
                                    "7": "25505",
                                    "8": "0",
                                    "9": "25541",
                                    "10": "0",
                                    "11": "0",
                                    "12": " ",
                                    "13": " ",
                                    "14": " ",
                                    "15": "True",
                                    "16": "0",
                                    "17": "True",
                                    "18": "[1]",
                                    "19": "NULL",
                                    "20": "NULL",
                                    "21": "NULL",
                                    "22": "NULL",
                                    "23": "NULL",
                                    "24": "NULL"
                                }
                            ]
                        },
                        "text/html": [
                            "<table>",
                            "<tr><th>oid</th><th>conname</th><th>connamespace</th><th>contype</th><th>condeferrable</th><th>condeferred</th><th>convalidated</th><th>conrelid</th><th>contypid</th><th>conindid</th><th>conparentid</th><th>confrelid</th><th>confupdtype</th><th>confdeltype</th><th>confmatchtype</th><th>conislocal</th><th>coninhcount</th><th>connoinherit</th><th>conkey</th><th>confkey</th><th>conpfeqop</th><th>conppeqop</th><th>conffeqop</th><th>conexclop</th><th>conbin</th></tr>",
                            "<tr><td>25542</td><td>states_pkey</td><td>25460</td><td>p</td><td>False</td><td>False</td><td>True</td><td>25505</td><td>0</td><td>25541</td><td>0</td><td>0</td><td> </td><td> </td><td> </td><td>True</td><td>0</td><td>True</td><td>[1]</td><td>NULL</td><td>NULL</td><td>NULL</td><td>NULL</td><td>NULL</td><td>NULL</td></tr>",
                            "</table>"
                        ]
                    }
                }
            ],
            "execution_count": 212
        },
        {
            "cell_type": "code",
            "source": [
                "ALTER TABLE dsci_504.suppliers\n",
                "ADD PRIMARY KEY (sup_id);\n",
                "\n",
                "SELECT con.*\n",
                "    FROM pg_catalog.pg_constraint con\n",
                "        INNER JOIN pg_catalog.pg_class rel ON rel.oid = con.conrelid\n",
                "        INNER JOIN pg_catalog.pg_namespace nsp ON nsp.oid = connamespace\n",
                "        WHERE nsp.nspname = 'dsci_504'\n",
                "             AND rel.relname = 'suppliers';"
            ],
            "metadata": {
                "language": "sql",
                "azdata_cell_guid": "40c78283-2fbe-4036-b716-655afb4b619f"
            },
            "outputs": [
                {
                    "output_type": "display_data",
                    "data": {
                        "text/html": "Commands completed successfully"
                    },
                    "metadata": {}
                },
                {
                    "output_type": "display_data",
                    "data": {
                        "text/html": "(1 row(s) affected)"
                    },
                    "metadata": {}
                },
                {
                    "output_type": "display_data",
                    "data": {
                        "text/html": "Total execution time: 00:00:00.004"
                    },
                    "metadata": {}
                },
                {
                    "output_type": "execute_result",
                    "metadata": {},
                    "execution_count": 213,
                    "data": {
                        "application/vnd.dataresource+json": {
                            "schema": {
                                "fields": [
                                    {
                                        "name": "oid"
                                    },
                                    {
                                        "name": "conname"
                                    },
                                    {
                                        "name": "connamespace"
                                    },
                                    {
                                        "name": "contype"
                                    },
                                    {
                                        "name": "condeferrable"
                                    },
                                    {
                                        "name": "condeferred"
                                    },
                                    {
                                        "name": "convalidated"
                                    },
                                    {
                                        "name": "conrelid"
                                    },
                                    {
                                        "name": "contypid"
                                    },
                                    {
                                        "name": "conindid"
                                    },
                                    {
                                        "name": "conparentid"
                                    },
                                    {
                                        "name": "confrelid"
                                    },
                                    {
                                        "name": "confupdtype"
                                    },
                                    {
                                        "name": "confdeltype"
                                    },
                                    {
                                        "name": "confmatchtype"
                                    },
                                    {
                                        "name": "conislocal"
                                    },
                                    {
                                        "name": "coninhcount"
                                    },
                                    {
                                        "name": "connoinherit"
                                    },
                                    {
                                        "name": "conkey"
                                    },
                                    {
                                        "name": "confkey"
                                    },
                                    {
                                        "name": "conpfeqop"
                                    },
                                    {
                                        "name": "conppeqop"
                                    },
                                    {
                                        "name": "conffeqop"
                                    },
                                    {
                                        "name": "conexclop"
                                    },
                                    {
                                        "name": "conbin"
                                    }
                                ]
                            },
                            "data": [
                                {
                                    "0": "25544",
                                    "1": "suppliers_pkey",
                                    "2": "25460",
                                    "3": "p",
                                    "4": "False",
                                    "5": "False",
                                    "6": "True",
                                    "7": "25508",
                                    "8": "0",
                                    "9": "25543",
                                    "10": "0",
                                    "11": "0",
                                    "12": " ",
                                    "13": " ",
                                    "14": " ",
                                    "15": "True",
                                    "16": "0",
                                    "17": "True",
                                    "18": "[1]",
                                    "19": "NULL",
                                    "20": "NULL",
                                    "21": "NULL",
                                    "22": "NULL",
                                    "23": "NULL",
                                    "24": "NULL"
                                }
                            ]
                        },
                        "text/html": [
                            "<table>",
                            "<tr><th>oid</th><th>conname</th><th>connamespace</th><th>contype</th><th>condeferrable</th><th>condeferred</th><th>convalidated</th><th>conrelid</th><th>contypid</th><th>conindid</th><th>conparentid</th><th>confrelid</th><th>confupdtype</th><th>confdeltype</th><th>confmatchtype</th><th>conislocal</th><th>coninhcount</th><th>connoinherit</th><th>conkey</th><th>confkey</th><th>conpfeqop</th><th>conppeqop</th><th>conffeqop</th><th>conexclop</th><th>conbin</th></tr>",
                            "<tr><td>25544</td><td>suppliers_pkey</td><td>25460</td><td>p</td><td>False</td><td>False</td><td>True</td><td>25508</td><td>0</td><td>25543</td><td>0</td><td>0</td><td> </td><td> </td><td> </td><td>True</td><td>0</td><td>True</td><td>[1]</td><td>NULL</td><td>NULL</td><td>NULL</td><td>NULL</td><td>NULL</td><td>NULL</td></tr>",
                            "</table>"
                        ]
                    }
                }
            ],
            "execution_count": 213
        },
        {
            "cell_type": "code",
            "source": [
                "ALTER TABLE dsci_504.taxes\n",
                "ADD PRIMARY KEY (tax_id);\n",
                "\n",
                "SELECT con.*\n",
                "    FROM pg_catalog.pg_constraint con\n",
                "        INNER JOIN pg_catalog.pg_class rel ON rel.oid = con.conrelid\n",
                "        INNER JOIN pg_catalog.pg_namespace nsp ON nsp.oid = connamespace\n",
                "        WHERE nsp.nspname = 'dsci_504'\n",
                "             AND rel.relname = 'taxes';"
            ],
            "metadata": {
                "language": "sql",
                "azdata_cell_guid": "ff150817-8f4d-4db1-a0b2-bb27443a0f07"
            },
            "outputs": [
                {
                    "output_type": "display_data",
                    "data": {
                        "text/html": "Commands completed successfully"
                    },
                    "metadata": {}
                },
                {
                    "output_type": "display_data",
                    "data": {
                        "text/html": "(1 row(s) affected)"
                    },
                    "metadata": {}
                },
                {
                    "output_type": "display_data",
                    "data": {
                        "text/html": "Total execution time: 00:00:00.010"
                    },
                    "metadata": {}
                },
                {
                    "output_type": "execute_result",
                    "metadata": {},
                    "execution_count": 242,
                    "data": {
                        "application/vnd.dataresource+json": {
                            "schema": {
                                "fields": [
                                    {
                                        "name": "oid"
                                    },
                                    {
                                        "name": "conname"
                                    },
                                    {
                                        "name": "connamespace"
                                    },
                                    {
                                        "name": "contype"
                                    },
                                    {
                                        "name": "condeferrable"
                                    },
                                    {
                                        "name": "condeferred"
                                    },
                                    {
                                        "name": "convalidated"
                                    },
                                    {
                                        "name": "conrelid"
                                    },
                                    {
                                        "name": "contypid"
                                    },
                                    {
                                        "name": "conindid"
                                    },
                                    {
                                        "name": "conparentid"
                                    },
                                    {
                                        "name": "confrelid"
                                    },
                                    {
                                        "name": "confupdtype"
                                    },
                                    {
                                        "name": "confdeltype"
                                    },
                                    {
                                        "name": "confmatchtype"
                                    },
                                    {
                                        "name": "conislocal"
                                    },
                                    {
                                        "name": "coninhcount"
                                    },
                                    {
                                        "name": "connoinherit"
                                    },
                                    {
                                        "name": "conkey"
                                    },
                                    {
                                        "name": "confkey"
                                    },
                                    {
                                        "name": "conpfeqop"
                                    },
                                    {
                                        "name": "conppeqop"
                                    },
                                    {
                                        "name": "conffeqop"
                                    },
                                    {
                                        "name": "conexclop"
                                    },
                                    {
                                        "name": "conbin"
                                    }
                                ]
                            },
                            "data": [
                                {
                                    "0": "25640",
                                    "1": "taxes_pkey",
                                    "2": "25460",
                                    "3": "p",
                                    "4": "False",
                                    "5": "False",
                                    "6": "True",
                                    "7": "25511",
                                    "8": "0",
                                    "9": "25639",
                                    "10": "0",
                                    "11": "0",
                                    "12": " ",
                                    "13": " ",
                                    "14": " ",
                                    "15": "True",
                                    "16": "0",
                                    "17": "True",
                                    "18": "[1]",
                                    "19": "NULL",
                                    "20": "NULL",
                                    "21": "NULL",
                                    "22": "NULL",
                                    "23": "NULL",
                                    "24": "NULL"
                                }
                            ]
                        },
                        "text/html": [
                            "<table>",
                            "<tr><th>oid</th><th>conname</th><th>connamespace</th><th>contype</th><th>condeferrable</th><th>condeferred</th><th>convalidated</th><th>conrelid</th><th>contypid</th><th>conindid</th><th>conparentid</th><th>confrelid</th><th>confupdtype</th><th>confdeltype</th><th>confmatchtype</th><th>conislocal</th><th>coninhcount</th><th>connoinherit</th><th>conkey</th><th>confkey</th><th>conpfeqop</th><th>conppeqop</th><th>conffeqop</th><th>conexclop</th><th>conbin</th></tr>",
                            "<tr><td>25640</td><td>taxes_pkey</td><td>25460</td><td>p</td><td>False</td><td>False</td><td>True</td><td>25511</td><td>0</td><td>25639</td><td>0</td><td>0</td><td> </td><td> </td><td> </td><td>True</td><td>0</td><td>True</td><td>[1]</td><td>NULL</td><td>NULL</td><td>NULL</td><td>NULL</td><td>NULL</td><td>NULL</td></tr>",
                            "</table>"
                        ]
                    }
                }
            ],
            "execution_count": 242
        },
        {
            "cell_type": "code",
            "source": [
                "ALTER TABLE dsci_504.warehouses\n",
                "ADD PRIMARY KEY (warehouse_id);\n",
                "\n",
                "SELECT con.*\n",
                "    FROM pg_catalog.pg_constraint con\n",
                "        INNER JOIN pg_catalog.pg_class rel ON rel.oid = con.conrelid\n",
                "        INNER JOIN pg_catalog.pg_namespace nsp ON nsp.oid = connamespace\n",
                "        WHERE nsp.nspname = 'dsci_504'\n",
                "             AND rel.relname = 'warehouses';"
            ],
            "metadata": {
                "language": "sql",
                "azdata_cell_guid": "a27cdfaa-9dcd-40a7-ba64-2ee53e12ef2b"
            },
            "outputs": [
                {
                    "output_type": "display_data",
                    "data": {
                        "text/html": "Commands completed successfully"
                    },
                    "metadata": {}
                },
                {
                    "output_type": "display_data",
                    "data": {
                        "text/html": "(1 row(s) affected)"
                    },
                    "metadata": {}
                },
                {
                    "output_type": "display_data",
                    "data": {
                        "text/html": "Total execution time: 00:00:00.004"
                    },
                    "metadata": {}
                },
                {
                    "output_type": "execute_result",
                    "metadata": {},
                    "execution_count": 215,
                    "data": {
                        "application/vnd.dataresource+json": {
                            "schema": {
                                "fields": [
                                    {
                                        "name": "oid"
                                    },
                                    {
                                        "name": "conname"
                                    },
                                    {
                                        "name": "connamespace"
                                    },
                                    {
                                        "name": "contype"
                                    },
                                    {
                                        "name": "condeferrable"
                                    },
                                    {
                                        "name": "condeferred"
                                    },
                                    {
                                        "name": "convalidated"
                                    },
                                    {
                                        "name": "conrelid"
                                    },
                                    {
                                        "name": "contypid"
                                    },
                                    {
                                        "name": "conindid"
                                    },
                                    {
                                        "name": "conparentid"
                                    },
                                    {
                                        "name": "confrelid"
                                    },
                                    {
                                        "name": "confupdtype"
                                    },
                                    {
                                        "name": "confdeltype"
                                    },
                                    {
                                        "name": "confmatchtype"
                                    },
                                    {
                                        "name": "conislocal"
                                    },
                                    {
                                        "name": "coninhcount"
                                    },
                                    {
                                        "name": "connoinherit"
                                    },
                                    {
                                        "name": "conkey"
                                    },
                                    {
                                        "name": "confkey"
                                    },
                                    {
                                        "name": "conpfeqop"
                                    },
                                    {
                                        "name": "conppeqop"
                                    },
                                    {
                                        "name": "conffeqop"
                                    },
                                    {
                                        "name": "conexclop"
                                    },
                                    {
                                        "name": "conbin"
                                    }
                                ]
                            },
                            "data": [
                                {
                                    "0": "25548",
                                    "1": "warehouses_pkey",
                                    "2": "25460",
                                    "3": "p",
                                    "4": "False",
                                    "5": "False",
                                    "6": "True",
                                    "7": "25516",
                                    "8": "0",
                                    "9": "25547",
                                    "10": "0",
                                    "11": "0",
                                    "12": " ",
                                    "13": " ",
                                    "14": " ",
                                    "15": "True",
                                    "16": "0",
                                    "17": "True",
                                    "18": "[1]",
                                    "19": "NULL",
                                    "20": "NULL",
                                    "21": "NULL",
                                    "22": "NULL",
                                    "23": "NULL",
                                    "24": "NULL"
                                }
                            ]
                        },
                        "text/html": [
                            "<table>",
                            "<tr><th>oid</th><th>conname</th><th>connamespace</th><th>contype</th><th>condeferrable</th><th>condeferred</th><th>convalidated</th><th>conrelid</th><th>contypid</th><th>conindid</th><th>conparentid</th><th>confrelid</th><th>confupdtype</th><th>confdeltype</th><th>confmatchtype</th><th>conislocal</th><th>coninhcount</th><th>connoinherit</th><th>conkey</th><th>confkey</th><th>conpfeqop</th><th>conppeqop</th><th>conffeqop</th><th>conexclop</th><th>conbin</th></tr>",
                            "<tr><td>25548</td><td>warehouses_pkey</td><td>25460</td><td>p</td><td>False</td><td>False</td><td>True</td><td>25516</td><td>0</td><td>25547</td><td>0</td><td>0</td><td> </td><td> </td><td> </td><td>True</td><td>0</td><td>True</td><td>[1]</td><td>NULL</td><td>NULL</td><td>NULL</td><td>NULL</td><td>NULL</td><td>NULL</td></tr>",
                            "</table>"
                        ]
                    }
                }
            ],
            "execution_count": 215
        },
        {
            "cell_type": "markdown",
            "source": [
                "**Step 6: CREATE foreign key associations for each table to elevate the database to 3NF. These should be done within each respective table.**"
            ],
            "metadata": {
                "azdata_cell_guid": "c536c9d5-cb5e-4736-af53-b4031da1c53a"
            },
            "attachments": {}
        },
        {
            "cell_type": "code",
            "source": [
                "ALTER TABLE dsci_504.productbuilds\n",
                "ADD CONSTRAINT builds_fk\n",
                "FOREIGN KEY (build_id)\n",
                "REFERENCES dsci_504.builds (build_id);"
            ],
            "metadata": {
                "azdata_cell_guid": "0eb9d180-8981-4c64-a9b5-8a386ea3b017",
                "language": "sql"
            },
            "outputs": [
                {
                    "output_type": "display_data",
                    "data": {
                        "text/html": "Commands completed successfully"
                    },
                    "metadata": {}
                },
                {
                    "output_type": "display_data",
                    "data": {
                        "text/html": "Total execution time: 00:00:00.003"
                    },
                    "metadata": {}
                }
            ],
            "execution_count": 216
        },
        {
            "cell_type": "code",
            "source": [
                "ALTER TABLE dsci_504.racs\n",
                "ADD CONSTRAINT components_fk\n",
                "FOREIGN KEY (comp_id)\n",
                "REFERENCES dsci_504.components (comp_id);"
            ],
            "metadata": {
                "language": "sql",
                "azdata_cell_guid": "97b31b1e-6bec-4e65-956d-02c96f145387"
            },
            "outputs": [
                {
                    "output_type": "display_data",
                    "data": {
                        "text/html": "Commands completed successfully"
                    },
                    "metadata": {}
                },
                {
                    "output_type": "display_data",
                    "data": {
                        "text/html": "Total execution time: 00:00:00.003"
                    },
                    "metadata": {}
                }
            ],
            "execution_count": 217
        },
        {
            "cell_type": "code",
            "source": [
                "ALTER TABLE dsci_504.customerwarehouseorders\n",
                "ADD CONSTRAINT customers_fk\n",
                "FOREIGN KEY (cus_id)\n",
                "REFERENCES dsci_504.customers (cus_id);"
            ],
            "metadata": {
                "language": "sql",
                "azdata_cell_guid": "b5d35e36-cc3c-4a4c-928a-a3f24c0c5a6d"
            },
            "outputs": [
                {
                    "output_type": "display_data",
                    "data": {
                        "text/html": "Commands completed successfully"
                    },
                    "metadata": {}
                },
                {
                    "output_type": "display_data",
                    "data": {
                        "text/html": "Total execution time: 00:00:00.003"
                    },
                    "metadata": {}
                }
            ],
            "execution_count": 218
        },
        {
            "cell_type": "code",
            "source": [
                "ALTER TABLE dsci_504.orders\n",
                "ADD CONSTRAINT customerwarehouseorders_fk\n",
                "FOREIGN KEY (ord_id)\n",
                "REFERENCES dsci_504.customerwarehouseorders (ord_id);"
            ],
            "metadata": {
                "language": "sql",
                "azdata_cell_guid": "ec246c2b-80d5-470d-a9d0-c67132ea37b1"
            },
            "outputs": [
                {
                    "output_type": "display_data",
                    "data": {
                        "text/html": "Commands completed successfully"
                    },
                    "metadata": {}
                },
                {
                    "output_type": "display_data",
                    "data": {
                        "text/html": "Total execution time: 00:00:00.006"
                    },
                    "metadata": {}
                }
            ],
            "execution_count": 219
        },
        {
            "cell_type": "code",
            "source": [
                "ALTER TABLE dsci_504.racs\n",
                "ADD CONSTRAINT customerwarehousereturns_fk\n",
                "FOREIGN KEY (rac_id)\n",
                "REFERENCES dsci_504.customerwarehousereturns (rac_id);"
            ],
            "metadata": {
                "language": "sql",
                "azdata_cell_guid": "c84f2e5b-2110-4e06-88f6-fb70fc717cff"
            },
            "outputs": [
                {
                    "output_type": "display_data",
                    "data": {
                        "text/html": "Commands completed successfully"
                    },
                    "metadata": {}
                },
                {
                    "output_type": "display_data",
                    "data": {
                        "text/html": "Total execution time: 00:00:00.005"
                    },
                    "metadata": {}
                }
            ],
            "execution_count": 220
        },
        {
            "cell_type": "code",
            "source": [
                "ALTER TABLE dsci_504.customerwarehouseorders\n",
                "ADD CONSTRAINT orders_fk\n",
                "FOREIGN KEY (ord_id)\n",
                "REFERENCES dsci_504.orders (ord_id);"
            ],
            "metadata": {
                "language": "sql",
                "azdata_cell_guid": "b6d60107-aaa7-49e9-9c33-c032d5628450"
            },
            "outputs": [
                {
                    "output_type": "display_data",
                    "data": {
                        "text/html": "Commands completed successfully"
                    },
                    "metadata": {}
                },
                {
                    "output_type": "display_data",
                    "data": {
                        "text/html": "Total execution time: 00:00:00.005"
                    },
                    "metadata": {}
                }
            ],
            "execution_count": 221
        },
        {
            "cell_type": "code",
            "source": [
                "ALTER TABLE dsci_504.orders\n",
                "ADD CONSTRAINT ordertaxes_fk\n",
                "FOREIGN KEY (ord_id)\n",
                "REFERENCES dsci_504.ordertaxes (ord_id);"
            ],
            "metadata": {
                "language": "sql",
                "azdata_cell_guid": "6a06f167-77fa-41d4-855e-ac791e6e417d"
            },
            "outputs": [
                {
                    "output_type": "display_data",
                    "data": {
                        "text/html": "Commands completed successfully"
                    },
                    "metadata": {}
                },
                {
                    "output_type": "display_data",
                    "data": {
                        "text/html": "Total execution time: 00:00:00.004"
                    },
                    "metadata": {}
                }
            ],
            "execution_count": 222
        },
        {
            "cell_type": "code",
            "source": [
                "ALTER TABLE dsci_504.products\n",
                "ADD CONSTRAINT productbuilds_fk\n",
                "FOREIGN KEY (prod_id)\n",
                "REFERENCES dsci_504.productbuilds (prod_id);"
            ],
            "metadata": {
                "language": "sql",
                "azdata_cell_guid": "4c7b6f51-854e-4a60-95c5-6e831dfc1f6e"
            },
            "outputs": [
                {
                    "output_type": "display_data",
                    "data": {
                        "text/html": "Commands completed successfully"
                    },
                    "metadata": {}
                },
                {
                    "output_type": "display_data",
                    "data": {
                        "text/html": "Total execution time: 00:00:00.002"
                    },
                    "metadata": {}
                }
            ],
            "execution_count": 223
        },
        {
            "cell_type": "code",
            "source": [
                "ALTER TABLE dsci_504.productbuilds\n",
                "ADD CONSTRAINT products_fk\n",
                "FOREIGN KEY (prod_id)\n",
                "REFERENCES dsci_504.products (prod_id);"
            ],
            "metadata": {
                "language": "sql",
                "azdata_cell_guid": "f1451535-0d79-415b-a2f9-5742cb681c69"
            },
            "outputs": [
                {
                    "output_type": "display_data",
                    "data": {
                        "text/html": "Commands completed successfully"
                    },
                    "metadata": {}
                },
                {
                    "output_type": "display_data",
                    "data": {
                        "text/html": "Total execution time: 00:00:00.001"
                    },
                    "metadata": {}
                }
            ],
            "execution_count": 224
        },
        {
            "cell_type": "code",
            "source": [
                "ALTER TABLE dsci_504.customerwarehousereturns\n",
                "ADD CONSTRAINT racs_fk\n",
                "FOREIGN KEY (rac_id)\n",
                "REFERENCES dsci_504.racs (rac_id);"
            ],
            "metadata": {
                "language": "sql",
                "azdata_cell_guid": "7413c157-f7b9-4c78-ad8f-1d889c48983f"
            },
            "outputs": [
                {
                    "output_type": "display_data",
                    "data": {
                        "text/html": "Commands completed successfully"
                    },
                    "metadata": {}
                },
                {
                    "output_type": "display_data",
                    "data": {
                        "text/html": "Total execution time: 00:00:00.002"
                    },
                    "metadata": {}
                }
            ],
            "execution_count": 225
        },
        {
            "cell_type": "code",
            "source": [
                "ALTER TABLE dsci_504.customers\n",
                "ADD CONSTRAINT states_fk\n",
                "FOREIGN KEY (cus_state)\n",
                "REFERENCES dsci_504.states (state_id);"
            ],
            "metadata": {
                "language": "sql",
                "azdata_cell_guid": "16049862-6071-4f80-bcc5-6ac5b9cfa67e"
            },
            "outputs": [
                {
                    "output_type": "display_data",
                    "data": {
                        "text/html": "Commands completed successfully"
                    },
                    "metadata": {}
                },
                {
                    "output_type": "display_data",
                    "data": {
                        "text/html": "Total execution time: 00:00:00.007"
                    },
                    "metadata": {}
                }
            ],
            "execution_count": 226
        },
        {
            "cell_type": "code",
            "source": [
                "ALTER TABLE dsci_504.products\n",
                "ADD CONSTRAINT suppliers_fk\n",
                "FOREIGN KEY (sup_id)\n",
                "REFERENCES dsci_504.suppliers (sup_id);"
            ],
            "metadata": {
                "language": "sql",
                "azdata_cell_guid": "2b06092a-d81b-4fcc-8a9f-51cd209465a3"
            },
            "outputs": [
                {
                    "output_type": "display_data",
                    "data": {
                        "text/html": "Commands completed successfully"
                    },
                    "metadata": {}
                },
                {
                    "output_type": "display_data",
                    "data": {
                        "text/html": "Total execution time: 00:00:00.006"
                    },
                    "metadata": {}
                }
            ],
            "execution_count": 227
        },
        {
            "cell_type": "code",
            "source": [
                "ALTER TABLE dsci_504.states\n",
                "ADD CONSTRAINT taxes_fk\n",
                "FOREIGN KEY (state_id)\n",
                "REFERENCES dsci_504.taxes (tax_id);"
            ],
            "metadata": {
                "language": "sql",
                "azdata_cell_guid": "0c0e6fcd-aecc-4a6b-b463-aaadb4ce7b52"
            },
            "outputs": [
                {
                    "output_type": "display_data",
                    "data": {
                        "text/html": "Commands completed successfully"
                    },
                    "metadata": {}
                },
                {
                    "output_type": "display_data",
                    "data": {
                        "text/html": "Total execution time: 00:00:00.003"
                    },
                    "metadata": {}
                }
            ],
            "execution_count": 243
        },
        {
            "cell_type": "code",
            "source": [
                "ALTER TABLE dsci_504.customerwarehouseorders\n",
                "ADD CONSTRAINT warehouses_fk\n",
                "FOREIGN KEY (warehouse_id)\n",
                "REFERENCES dsci_504.warehouses (warehouse_id);"
            ],
            "metadata": {
                "language": "sql",
                "azdata_cell_guid": "deb6fe87-85f3-40a1-bec2-30c3f4237386",
                "tags": [
                    "hide_input"
                ]
            },
            "outputs": [
                {
                    "output_type": "display_data",
                    "data": {
                        "text/html": "Commands completed successfully"
                    },
                    "metadata": {}
                },
                {
                    "output_type": "display_data",
                    "data": {
                        "text/html": "Total execution time: 00:00:00.004"
                    },
                    "metadata": {}
                }
            ],
            "execution_count": 244
        },
        {
            "cell_type": "markdown",
            "source": [
                "**Step 7: Execute two queries of your choosing on two different tables in the database.**"
            ],
            "metadata": {
                "azdata_cell_guid": "0339e4e7-e0c7-44fa-9b83-7e3f18d9ed70"
            },
            "attachments": {}
        },
        {
            "cell_type": "code",
            "source": [
                "UPDATE dsci_504.taxes\n",
                "SET tax_rate = 3\n",
                "WHERE tax_location = 'AK';\n",
                "\n",
                "SELECT *\n",
                "FROM dsci_504.taxes\n",
                "WHERE tax_location = 'AK';"
            ],
            "metadata": {
                "azdata_cell_guid": "0608b4b0-be1f-45bd-88b4-3d583dba81f1",
                "language": "sql",
                "tags": []
            },
            "outputs": [
                {
                    "output_type": "display_data",
                    "data": {
                        "text/html": "Commands completed successfully"
                    },
                    "metadata": {}
                },
                {
                    "output_type": "display_data",
                    "data": {
                        "text/html": "(1 row(s) affected)"
                    },
                    "metadata": {}
                },
                {
                    "output_type": "display_data",
                    "data": {
                        "text/html": "Total execution time: 00:00:00.007"
                    },
                    "metadata": {}
                },
                {
                    "output_type": "execute_result",
                    "metadata": {},
                    "execution_count": 248,
                    "data": {
                        "application/vnd.dataresource+json": {
                            "schema": {
                                "fields": [
                                    {
                                        "name": "tax_id"
                                    },
                                    {
                                        "name": "tax_location"
                                    },
                                    {
                                        "name": "tax_rate"
                                    }
                                ]
                            },
                            "data": [
                                {
                                    "0": "1",
                                    "1": "AK",
                                    "2": "3"
                                }
                            ]
                        },
                        "text/html": [
                            "<table>",
                            "<tr><th>tax_id</th><th>tax_location</th><th>tax_rate</th></tr>",
                            "<tr><td>1</td><td>AK</td><td>3</td></tr>",
                            "</table>"
                        ]
                    }
                }
            ],
            "execution_count": 248
        },
        {
            "cell_type": "code",
            "source": [
                "SELECT c.cus_id\n",
                "    ,c.cus_last_name\n",
                "    ,c.cus_first_name\n",
                "    ,c.tot_ord_qty\n",
                "    ,c.tot_ord_value\n",
                "FROM dsci_504.customers AS c\n",
                "ORDER BY tot_ord_value DESC\n",
                "LIMIT 10;\n",
                ""
            ],
            "metadata": {
                "language": "sql",
                "azdata_cell_guid": "e09d3914-8aca-4abd-91bf-e26c1be1af5e",
                "tags": []
            },
            "outputs": [
                {
                    "output_type": "display_data",
                    "data": {
                        "text/html": "(10 row(s) affected)"
                    },
                    "metadata": {}
                },
                {
                    "output_type": "display_data",
                    "data": {
                        "text/html": "Total execution time: 00:00:00.005"
                    },
                    "metadata": {}
                },
                {
                    "output_type": "execute_result",
                    "metadata": {},
                    "execution_count": 253,
                    "data": {
                        "application/vnd.dataresource+json": {
                            "schema": {
                                "fields": [
                                    {
                                        "name": "cus_id"
                                    },
                                    {
                                        "name": "cus_last_name"
                                    },
                                    {
                                        "name": "cus_first_name"
                                    },
                                    {
                                        "name": "tot_ord_qty"
                                    },
                                    {
                                        "name": "tot_ord_value"
                                    }
                                ]
                            },
                            "data": [
                                {
                                    "0": "1101",
                                    "1": "Connery",
                                    "2": "Reginald",
                                    "3": "63",
                                    "4": "35905"
                                },
                                {
                                    "0": "694",
                                    "1": "Cooper",
                                    "2": "Piper",
                                    "3": "44",
                                    "4": "35902"
                                },
                                {
                                    "0": "1353",
                                    "1": "Rice",
                                    "2": "Margo",
                                    "3": "14",
                                    "4": "35887"
                                },
                                {
                                    "0": "2193",
                                    "1": "Smith",
                                    "2": "Cooper",
                                    "3": "59",
                                    "4": "35881"
                                },
                                {
                                    "0": "318",
                                    "1": "Conley",
                                    "2": "Corey",
                                    "3": "87",
                                    "4": "35879"
                                },
                                {
                                    "0": "1868",
                                    "1": "Roberts",
                                    "2": "Samuel",
                                    "3": "15",
                                    "4": "35877"
                                },
                                {
                                    "0": "1153",
                                    "1": "Manchester",
                                    "2": "Aaron",
                                    "3": "14",
                                    "4": "35854"
                                },
                                {
                                    "0": "1461",
                                    "1": "Hart",
                                    "2": "Mads",
                                    "3": "26",
                                    "4": "35845"
                                },
                                {
                                    "0": "1412",
                                    "1": "Sherman",
                                    "2": "Kristoff",
                                    "3": "11",
                                    "4": "35831"
                                },
                                {
                                    "0": "1960",
                                    "1": "Jamieson",
                                    "2": "Jonathon",
                                    "3": "13",
                                    "4": "35829"
                                }
                            ]
                        },
                        "text/html": [
                            "<table>",
                            "<tr><th>cus_id</th><th>cus_last_name</th><th>cus_first_name</th><th>tot_ord_qty</th><th>tot_ord_value</th></tr>",
                            "<tr><td>1101</td><td>Connery</td><td>Reginald</td><td>63</td><td>35905</td></tr>",
                            "<tr><td>694</td><td>Cooper</td><td>Piper</td><td>44</td><td>35902</td></tr>",
                            "<tr><td>1353</td><td>Rice</td><td>Margo</td><td>14</td><td>35887</td></tr>",
                            "<tr><td>2193</td><td>Smith</td><td>Cooper</td><td>59</td><td>35881</td></tr>",
                            "<tr><td>318</td><td>Conley</td><td>Corey</td><td>87</td><td>35879</td></tr>",
                            "<tr><td>1868</td><td>Roberts</td><td>Samuel</td><td>15</td><td>35877</td></tr>",
                            "<tr><td>1153</td><td>Manchester</td><td>Aaron</td><td>14</td><td>35854</td></tr>",
                            "<tr><td>1461</td><td>Hart</td><td>Mads</td><td>26</td><td>35845</td></tr>",
                            "<tr><td>1412</td><td>Sherman</td><td>Kristoff</td><td>11</td><td>35831</td></tr>",
                            "<tr><td>1960</td><td>Jamieson</td><td>Jonathon</td><td>13</td><td>35829</td></tr>",
                            "</table>"
                        ]
                    }
                }
            ],
            "execution_count": 253
        }
    ]
}
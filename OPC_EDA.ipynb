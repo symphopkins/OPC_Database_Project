{
    "metadata": {
        "kernelspec": {
            "name": "SQL",
            "display_name": "SQL",
            "language": "sql"
        },
        "language_info": {
            "name": "sql",
            "version": ""
        }
    },
    "nbformat_minor": 2,
    "nbformat": 4,
    "cells": [
        {
            "cell_type": "markdown",
            "source": [
                "# Assignment 6: SQL for Data Analysis\n",
                "\n",
                "## DSCI 504: Intro to SQL\n",
                "\n",
                "Symphony Hopkins\n",
                "\n",
                "September 29, 2022"
            ],
            "metadata": {
                "azdata_cell_guid": "0385c881-2228-484e-aaa3-dd65e7a9a568"
            },
            "attachments": {}
        },
        {
            "cell_type": "markdown",
            "source": [
                "**Part 1: Some bikes are classified as hard tail bikes. This means they have no rear shock. For every hard tail sold, the shock column is missing data. Write a query to display 'No shock' in any rows of the shock name column in the products table where there is no shock name listed. If your query does not run, be sure to check the column for any white space. You may need to nest two different data preparation functions to complete this step.**"
            ],
            "metadata": {
                "azdata_cell_guid": "4ca03525-17e8-4872-b455-487e9600adf7"
            },
            "attachments": {}
        },
        {
            "cell_type": "code",
            "source": [
                "/*After running the query, we discovered that not all hard tail bikes have missing data \n",
                "which is why some hard tail bikes have shock names returned in the query below. */\n",
                "\n",
                "SELECT COALESCE(NULLIF(TRIM(c.comp_name, 'No Sku'), ''), 'No shock') AS shock_name\n",
                "       ,c.comp_id\n",
                "       ,p.*\n",
                "       ,b.comp_shock\n",
                "FROM dsci_504.builds AS b\n",
                "INNER JOIN dsci_504.components AS c \n",
                "ON cast(b.comp_shock AS int) = c.comp_id\n",
                "INNER JOIN dsci_504.productbuilds AS pb \n",
                "ON b.build_id = pb.build_id \n",
                "INNER JOIN dsci_504.products AS p \n",
                "ON pb.prod_id = p.prod_id;"
            ],
            "metadata": {
                "azdata_cell_guid": "c4fbf5ab-90d2-434f-a19d-a665faff9464",
                "language": "sql",
                "tags": []
            },
            "outputs": [
                {
                    "output_type": "display_data",
                    "data": {
                        "text/html": "(69 row(s) affected)"
                    },
                    "metadata": {}
                },
                {
                    "output_type": "display_data",
                    "data": {
                        "text/html": "Total execution time: 00:00:00.010"
                    },
                    "metadata": {}
                },
                {
                    "output_type": "execute_result",
                    "metadata": {},
                    "execution_count": 242,
                    "data": {
                        "application/vnd.dataresource+json": {
                            "schema": {
                                "fields": [
                                    {
                                        "name": "prev_shocks"
                                    },
                                    {
                                        "name": "comp_id"
                                    },
                                    {
                                        "name": "prod_id"
                                    },
                                    {
                                        "name": "prod_cat_name"
                                    },
                                    {
                                        "name": "prod_manufacturer"
                                    },
                                    {
                                        "name": "prod_name"
                                    },
                                    {
                                        "name": "prod_description"
                                    },
                                    {
                                        "name": "prod_price"
                                    },
                                    {
                                        "name": "prod_class"
                                    },
                                    {
                                        "name": "country_origin"
                                    },
                                    {
                                        "name": "sup_id"
                                    },
                                    {
                                        "name": "comp_shock"
                                    }
                                ]
                            },
                            "data": [
                                {
                                    "0": "Fox Float DPS Evol Air",
                                    "1": "177",
                                    "2": "9",
                                    "3": "NULL",
                                    "4": "63",
                                    "5": "Tallboy",
                                    "6": "Full-Suspension Mountain Bike",
                                    "7": "2799",
                                    "8": "Mid",
                                    "9": "2,3,4",
                                    "10": "NULL",
                                    "11": "177"
                                },
                                {
                                    "0": "Ohlins TTX 22M Coil",
                                    "1": "199",
                                    "2": "68",
                                    "3": "NULL",
                                    "4": "61",
                                    "5": "Occam",
                                    "6": "Full-Suspension Mountain Bike",
                                    "7": "3999",
                                    "8": "Mid",
                                    "9": "2,3",
                                    "10": "NULL",
                                    "11": "199"
                                },
                                {
                                    "0": "No shock",
                                    "1": "172",
                                    "2": "43",
                                    "3": "NULL",
                                    "4": "70",
                                    "5": "Troy",
                                    "6": "Full-Suspension Mountain Bike",
                                    "7": "3199",
                                    "8": "Mid",
                                    "9": "2",
                                    "10": "NULL",
                                    "11": "172"
                                },
                                {
                                    "0": "RockShox Super Deluxe Ult Coil",
                                    "1": "182",
                                    "2": "37",
                                    "3": "NULL",
                                    "4": "22",
                                    "5": "DV9",
                                    "6": "Hardtail Mountain Bike",
                                    "7": "3009",
                                    "8": "Mid",
                                    "9": "1",
                                    "10": "NULL",
                                    "11": "182"
                                },
                                {
                                    "0": "Fox Float DPS Evol Air",
                                    "1": "177",
                                    "2": "26",
                                    "3": "NULL",
                                    "4": "8",
                                    "5": "Process 153",
                                    "6": "Full-Suspension Mountain Bike",
                                    "7": "3064",
                                    "8": "Mid",
                                    "9": "2,3,4",
                                    "10": "NULL",
                                    "11": "177"
                                },
                                {
                                    "0": "Ohlins TTX 22M Coil",
                                    "1": "199",
                                    "2": "69",
                                    "3": "NULL",
                                    "4": "61",
                                    "5": "Occam",
                                    "6": "Full-Suspension Mountain Bike",
                                    "7": "3999",
                                    "8": "Mid",
                                    "9": "2,3",
                                    "10": "NULL",
                                    "11": "199"
                                },
                                {
                                    "0": "Fox Factory X2",
                                    "1": "184",
                                    "2": "27",
                                    "3": "NULL",
                                    "4": "8",
                                    "5": "Hei Hei",
                                    "6": "Full-Suspension Mountain Bike",
                                    "7": "4227.99",
                                    "8": "Mid",
                                    "9": "2,3",
                                    "10": "NULL",
                                    "11": "184"
                                },
                                {
                                    "0": "Fox Factory X2",
                                    "1": "184",
                                    "2": "38",
                                    "3": "NULL",
                                    "4": "22",
                                    "5": "Ripmo",
                                    "6": "Full-Suspension Mountain Bike",
                                    "7": "4399",
                                    "8": "Mid",
                                    "9": "2,3,4",
                                    "10": "NULL",
                                    "11": "184"
                                },
                                {
                                    "0": "Fox Float Factory DP",
                                    "1": "181",
                                    "2": "54",
                                    "3": "NULL",
                                    "4": "10",
                                    "5": "G-Series",
                                    "6": "Full-Suspension Mountain Bike",
                                    "7": "5656.41",
                                    "8": "Expert",
                                    "9": "4",
                                    "10": "NULL",
                                    "11": "181"
                                },
                                {
                                    "0": "Fox Float DPS Evol Air",
                                    "1": "177",
                                    "2": "13",
                                    "3": "NULL",
                                    "4": "25",
                                    "5": "SB140",
                                    "6": "Full-Suspension Mountain Bike",
                                    "7": "5800",
                                    "8": "Expert",
                                    "9": "2,3,4",
                                    "10": "NULL",
                                    "11": "177"
                                },
                                {
                                    "0": "Fox Float Perf DP",
                                    "1": "193",
                                    "2": "52",
                                    "3": "NULL",
                                    "4": "7",
                                    "5": "Snabb",
                                    "6": "Full-Suspension Mountain Bike",
                                    "7": "2639",
                                    "8": "Mid",
                                    "9": "2,3",
                                    "10": "NULL",
                                    "11": "193"
                                },
                                {
                                    "0": "Fox Float Factory DP",
                                    "1": "181",
                                    "2": "51",
                                    "3": "NULL",
                                    "4": "7",
                                    "5": "Define",
                                    "6": "Full-Suspension Mountain Bike",
                                    "7": "3673.99",
                                    "8": "Mid",
                                    "9": "2,3",
                                    "10": "NULL",
                                    "11": "181"
                                },
                                {
                                    "0": "Fox Float DPX2 Perf",
                                    "1": "179",
                                    "2": "67",
                                    "3": "NULL",
                                    "4": "61",
                                    "5": "OIZ",
                                    "6": "Full-Suspension Mountain Bike",
                                    "7": "3799",
                                    "8": "Mid",
                                    "9": "1",
                                    "10": "NULL",
                                    "11": "179"
                                },
                                {
                                    "0": "Fox DPS Perf",
                                    "1": "173",
                                    "2": "47",
                                    "3": "NULL",
                                    "4": "64",
                                    "5": "Megatrail",
                                    "6": "Full-Suspension Mountain Bike",
                                    "7": "4018.99",
                                    "8": "Mid",
                                    "9": "2,3",
                                    "10": "NULL",
                                    "11": "173"
                                },
                                {
                                    "0": "Fox Float DPX2 Perf Elite",
                                    "1": "170",
                                    "2": "50",
                                    "3": "NULL",
                                    "4": "43",
                                    "5": "Stereo",
                                    "6": "Full-Suspension Mountain Bike",
                                    "7": "5609.99",
                                    "8": "Expert",
                                    "9": "2,3,4",
                                    "10": "NULL",
                                    "11": "170"
                                },
                                {
                                    "0": "No shock",
                                    "1": "280",
                                    "2": "55",
                                    "3": "NULL",
                                    "4": "10",
                                    "5": "T-Series",
                                    "6": "Full-Suspension Mountain Bike",
                                    "7": "3209.08",
                                    "8": "Mid",
                                    "9": "2,3",
                                    "10": "NULL",
                                    "11": "280"
                                },
                                {
                                    "0": "No shock",
                                    "1": "172",
                                    "2": "28",
                                    "3": "NULL",
                                    "4": "20",
                                    "5": "Sniper",
                                    "6": "Full-Suspension Mountain Bike",
                                    "7": "3999.99",
                                    "8": "Mid",
                                    "9": "1,2",
                                    "10": "NULL",
                                    "11": "172"
                                },
                                {
                                    "0": "Fox Float DPS Evol Air",
                                    "1": "177",
                                    "2": "30",
                                    "3": "NULL",
                                    "4": "20",
                                    "5": "Tracer",
                                    "6": "Full-Suspension Mountain Bike",
                                    "7": "4350",
                                    "8": "Mid",
                                    "9": "1,2",
                                    "10": "NULL",
                                    "11": "177"
                                },
                                {
                                    "0": "RockShox Deluxe RL Air",
                                    "1": "198",
                                    "2": "5",
                                    "3": "NULL",
                                    "4": "24",
                                    "5": "Sensor",
                                    "6": "Full-Suspension Mountain Bike",
                                    "7": "3480.99",
                                    "8": "Mid",
                                    "9": "2,3",
                                    "10": "NULL",
                                    "11": "198"
                                },
                                {
                                    "0": "Fox Float DPS Evol Air",
                                    "1": "177",
                                    "2": "65",
                                    "3": "NULL",
                                    "4": "3",
                                    "5": "Rip9",
                                    "6": "Full-Suspension Mountain Bike",
                                    "7": "4400",
                                    "8": "Mid",
                                    "9": "2,3",
                                    "10": "NULL",
                                    "11": "177"
                                },
                                {
                                    "0": "Fox Perf DPX2",
                                    "1": "189",
                                    "2": "22",
                                    "3": "NULL",
                                    "4": "15",
                                    "5": "Wreckoning",
                                    "6": "Full-Suspension Mountain Bike",
                                    "7": "7399",
                                    "8": "Expert",
                                    "9": "2,3,4",
                                    "10": "NULL",
                                    "11": "189"
                                },
                                {
                                    "0": "Fox Float DPS Evol Air",
                                    "1": "177",
                                    "2": "57",
                                    "3": "NULL",
                                    "4": "18",
                                    "5": "Scout",
                                    "6": "Hardtail Mountain Bike",
                                    "7": "2199",
                                    "8": "Mid",
                                    "9": "2,3",
                                    "10": "NULL",
                                    "11": "177"
                                },
                                {
                                    "0": "Fox Float X2 Air",
                                    "1": "183",
                                    "2": "42",
                                    "3": "NULL",
                                    "4": "67",
                                    "5": "Onset",
                                    "6": "Full-Suspension Mountain Bike",
                                    "7": "5000",
                                    "8": "Mid",
                                    "9": "2,3,",
                                    "10": "NULL",
                                    "11": "183"
                                },
                                {
                                    "0": "RockShox Super Deluxe Sel+",
                                    "1": "191",
                                    "2": "41",
                                    "3": "NULL",
                                    "4": "67",
                                    "5": "Haste",
                                    "6": "Full-Suspension Mountain Bike",
                                    "7": "4299",
                                    "8": "Mid",
                                    "9": "2,3",
                                    "10": "NULL",
                                    "11": "191"
                                },
                                {
                                    "0": "Fox Perf DPX2",
                                    "1": "189",
                                    "2": "15",
                                    "3": "NULL",
                                    "4": "25",
                                    "5": "SB160",
                                    "6": "Full-Suspension Mountain Bike",
                                    "7": "7699.99",
                                    "8": "Expert",
                                    "9": "3,4",
                                    "10": "NULL",
                                    "11": "189"
                                },
                                {
                                    "0": "Fox Float DPS Evol Air",
                                    "1": "177",
                                    "2": "36",
                                    "3": "NULL",
                                    "4": "14",
                                    "5": "Thunderbolt",
                                    "6": "Full-Suspension Mountain Bike",
                                    "7": "3370",
                                    "8": "Mid",
                                    "9": "1",
                                    "10": "NULL",
                                    "11": "177"
                                },
                                {
                                    "0": "Fox Perf DPX2",
                                    "1": "189",
                                    "2": "35",
                                    "3": "NULL",
                                    "4": "14",
                                    "5": "Instinct",
                                    "6": "Full-Suspension Mountain Bike",
                                    "7": "3999",
                                    "8": "Mid",
                                    "9": "2,3",
                                    "10": "NULL",
                                    "11": "189"
                                },
                                {
                                    "0": "Fox Factory X2",
                                    "1": "184",
                                    "2": "10",
                                    "3": "NULL",
                                    "4": "25",
                                    "5": "SB100",
                                    "6": "Full-Suspension Mountain Bike",
                                    "7": "5099",
                                    "8": "Expert",
                                    "9": "1,2",
                                    "10": "NULL",
                                    "11": "184"
                                },
                                {
                                    "0": "DVO Jade X Coil",
                                    "1": "187",
                                    "2": "40",
                                    "3": "NULL",
                                    "4": "22",
                                    "5": "Ripley",
                                    "6": "Full-Suspension Mountain Bike",
                                    "7": "4199",
                                    "8": "Mid",
                                    "9": "2,3",
                                    "10": "NULL",
                                    "11": "187"
                                },
                                {
                                    "0": "Fox Float DPS Evol Air",
                                    "1": "177",
                                    "2": "49",
                                    "3": "NULL",
                                    "4": "43",
                                    "5": "AMD",
                                    "6": "Full-Suspension Mountain Bike",
                                    "7": "4679",
                                    "8": "Mid",
                                    "9": "2,3",
                                    "10": "NULL",
                                    "11": "177"
                                },
                                {
                                    "0": "No shock",
                                    "1": "280",
                                    "2": "25",
                                    "3": "NULL",
                                    "4": "8",
                                    "5": "Process 134",
                                    "6": "Full-Suspension Mountain Bike",
                                    "7": "4750.99",
                                    "8": "Mid",
                                    "9": "1,2,3",
                                    "10": "NULL",
                                    "11": "280"
                                },
                                {
                                    "0": "No shock",
                                    "1": "280",
                                    "2": "58",
                                    "3": "NULL",
                                    "4": "18",
                                    "5": "Reactor",
                                    "6": "Full-Suspension Mountain Bike",
                                    "7": "3739",
                                    "8": "Mid",
                                    "9": "3,4",
                                    "10": "NULL",
                                    "11": "280"
                                },
                                {
                                    "0": "Fox X2 Factory",
                                    "1": "188",
                                    "2": "2",
                                    "3": "NULL",
                                    "4": "1",
                                    "5": "Trance",
                                    "6": "Full-Suspension Mountain Bike",
                                    "7": "3500",
                                    "8": "Mid",
                                    "9": "2,3,4",
                                    "10": "NULL",
                                    "11": "188"
                                },
                                {
                                    "0": "RockShox Deluxe Ult Air",
                                    "1": "178",
                                    "2": "59",
                                    "3": "NULL",
                                    "4": "62",
                                    "5": "Meta Am",
                                    "6": "Full-Suspension Mountain Bike",
                                    "7": "4645.99",
                                    "8": "Mid",
                                    "9": "2,3,4",
                                    "10": "NULL",
                                    "11": "178"
                                },
                                {
                                    "0": "RockShox Deluxe Sel+ Air",
                                    "1": "194",
                                    "2": "3",
                                    "3": "NULL",
                                    "4": "1",
                                    "5": "X Trance",
                                    "6": "Full-Suspension Mountain Bike",
                                    "7": "5499",
                                    "8": "Expert",
                                    "9": "2,3,4",
                                    "10": "NULL",
                                    "11": "194"
                                },
                                {
                                    "0": "Fox X2 Factory",
                                    "1": "188",
                                    "2": "60",
                                    "3": "NULL",
                                    "4": "62",
                                    "5": "Clash",
                                    "6": "Full-Suspension Mountain Bike",
                                    "7": "3999",
                                    "8": "Mid",
                                    "9": "2,3,4",
                                    "10": "NULL",
                                    "11": "188"
                                },
                                {
                                    "0": "Fox Float X2 Evol Air",
                                    "1": "185",
                                    "2": "53",
                                    "3": "NULL",
                                    "4": "10",
                                    "5": "E-Series",
                                    "6": "Full-Suspension Mountain Bike",
                                    "7": "7565.66",
                                    "8": "Expert",
                                    "9": "3,4",
                                    "10": "NULL",
                                    "11": "185"
                                },
                                {
                                    "0": "Fox Perf DPX2",
                                    "1": "189",
                                    "2": "23",
                                    "3": "NULL",
                                    "4": "15",
                                    "5": "Insurgent",
                                    "6": "Full-Suspension Mountain Bike",
                                    "7": "4399",
                                    "8": "Mid",
                                    "9": "1,2,3",
                                    "10": "NULL",
                                    "11": "189"
                                },
                                {
                                    "0": "Fox Float Perf DP",
                                    "1": "193",
                                    "2": "16",
                                    "3": "NULL",
                                    "4": "26",
                                    "5": "Enduro",
                                    "6": "Full-Suspension Mountain Bike",
                                    "7": "5271.99",
                                    "8": "Expert",
                                    "9": "2,3",
                                    "10": "NULL",
                                    "11": "193"
                                },
                                {
                                    "0": "RockShox Deluxe Sel Air",
                                    "1": "176",
                                    "2": "31",
                                    "3": "NULL",
                                    "4": "69",
                                    "5": "Sight",
                                    "6": "Full-Suspension Mountain Bike",
                                    "7": "4449.9",
                                    "8": "Mid",
                                    "9": "1,2,3",
                                    "10": "NULL",
                                    "11": "176"
                                },
                                {
                                    "0": "No shock",
                                    "1": "280",
                                    "2": "6",
                                    "3": "NULL",
                                    "4": "63",
                                    "5": "Chameleon",
                                    "6": "Hardtail Mountain Bike",
                                    "7": "1949.99",
                                    "8": "Mid",
                                    "9": "1,2,3",
                                    "10": "NULL",
                                    "11": "280"
                                },
                                {
                                    "0": "No shock",
                                    "1": "280",
                                    "2": "14",
                                    "3": "NULL",
                                    "4": "25",
                                    "5": "SB150",
                                    "6": "Full-Suspension Mountain Bike",
                                    "7": "8000",
                                    "8": "Expert",
                                    "9": "3,4",
                                    "10": "NULL",
                                    "11": "280"
                                },
                                {
                                    "0": "Fox Float DHX2 Factory Air",
                                    "1": "186",
                                    "2": "61",
                                    "3": "NULL",
                                    "4": "68",
                                    "5": "Foxy",
                                    "6": "Full-Suspension Mountain Bike",
                                    "7": "4199",
                                    "8": "Mid",
                                    "9": "2,3",
                                    "10": "NULL",
                                    "11": "186"
                                },
                                {
                                    "0": "Fox Float DPX2 Factory",
                                    "1": "169",
                                    "2": "56",
                                    "3": "NULL",
                                    "4": "18",
                                    "5": "Mega",
                                    "6": "Full-Suspension Mountain Bike",
                                    "7": "4504.99",
                                    "8": "Mid",
                                    "9": "2,3,4",
                                    "10": "NULL",
                                    "11": "169"
                                },
                                {
                                    "0": "No shock",
                                    "1": "172",
                                    "2": "63",
                                    "3": "NULL",
                                    "4": "3",
                                    "5": "Air9",
                                    "6": "Hardtail Mountain Bike",
                                    "7": "1850",
                                    "8": "Mid",
                                    "9": "2,3",
                                    "10": "NULL",
                                    "11": "172"
                                },
                                {
                                    "0": "No shock",
                                    "1": "280",
                                    "2": "46",
                                    "3": "NULL",
                                    "4": "64",
                                    "5": "Trail Pistol",
                                    "6": "Full-Suspension Mountain Bike",
                                    "7": "5375.99",
                                    "8": "Expert",
                                    "9": "2,3",
                                    "10": "NULL",
                                    "11": "280"
                                },
                                {
                                    "0": "RockShox Monarch+ Air",
                                    "1": "200",
                                    "2": "1",
                                    "3": "NULL",
                                    "4": "66",
                                    "5": "Firebird",
                                    "6": "Full-Suspension Mountain Bike",
                                    "7": "5899",
                                    "8": "Expert",
                                    "9": "2,3,4",
                                    "10": "NULL",
                                    "11": "200"
                                },
                                {
                                    "0": "DVO Topaz T3 Air",
                                    "1": "171",
                                    "2": "8",
                                    "3": "NULL",
                                    "4": "63",
                                    "5": "Megatower",
                                    "6": "Full-Suspension Mountain Bike",
                                    "7": "6479.99",
                                    "8": "Expert",
                                    "9": "2,3,4",
                                    "10": "NULL",
                                    "11": "171"
                                },
                                {
                                    "0": "RockShox Deluxe Sel+ Air",
                                    "1": "194",
                                    "2": "39",
                                    "3": "NULL",
                                    "4": "22",
                                    "5": "Mojo",
                                    "6": "Full-Suspension Mountain Bike",
                                    "7": "5199",
                                    "8": "Expert",
                                    "9": "2,3",
                                    "10": "NULL",
                                    "11": "194"
                                },
                                {
                                    "0": "RockShox Deluxe Sel+ Air",
                                    "1": "194",
                                    "2": "17",
                                    "3": "NULL",
                                    "4": "26",
                                    "5": "Stumpjumper",
                                    "6": "Full-Suspension Mountain Bike",
                                    "7": "5295.9",
                                    "8": "Expert",
                                    "9": "2,3",
                                    "10": "NULL",
                                    "11": "194"
                                },
                                {
                                    "0": "No shock",
                                    "1": "280",
                                    "2": "18",
                                    "3": "NULL",
                                    "4": "17",
                                    "5": "Scalpel",
                                    "6": "Full-Suspension Mountain Bike",
                                    "7": "4200",
                                    "8": "Mid",
                                    "9": "1,2",
                                    "10": "NULL",
                                    "11": "280"
                                },
                                {
                                    "0": "Fox Float DPS Evol Air",
                                    "1": "177",
                                    "2": "12",
                                    "3": "NULL",
                                    "4": "25",
                                    "5": "SB130",
                                    "6": "Full-Suspension Mountain Bike",
                                    "7": "5500",
                                    "8": "Expert",
                                    "9": "2,3,4",
                                    "10": "NULL",
                                    "11": "177"
                                },
                                {
                                    "0": "Fox Factory X2",
                                    "1": "184",
                                    "2": "66",
                                    "3": "NULL",
                                    "4": "3",
                                    "5": "Jet9",
                                    "6": "Full-Suspension Mountain Bike",
                                    "7": "3399",
                                    "8": "Mid",
                                    "9": "2,3",
                                    "10": "NULL",
                                    "11": "184"
                                },
                                {
                                    "0": "No shock",
                                    "1": "172",
                                    "2": "11",
                                    "3": "NULL",
                                    "4": "25",
                                    "5": "SB115",
                                    "6": "Full-Suspension Mountain Bike",
                                    "7": "4700",
                                    "8": "Mid",
                                    "9": "1,2,3",
                                    "10": "NULL",
                                    "11": "172"
                                },
                                {
                                    "0": "No shock",
                                    "1": "280",
                                    "2": "32",
                                    "3": "NULL",
                                    "4": "69",
                                    "5": "Optic",
                                    "6": "Full-Suspension Mountain Bike",
                                    "7": "4499",
                                    "8": "Mid",
                                    "9": "2,3",
                                    "10": "NULL",
                                    "11": "280"
                                },
                                {
                                    "0": "No shock",
                                    "1": "280",
                                    "2": "7",
                                    "3": "NULL",
                                    "4": "63",
                                    "5": "Hightower",
                                    "6": "Full-Suspension Mountain Bike",
                                    "7": "4299.99",
                                    "8": "Mid",
                                    "9": "2,3,4",
                                    "10": "NULL",
                                    "11": "280"
                                },
                                {
                                    "0": "RockShox Super Deluxe Sel+",
                                    "1": "191",
                                    "2": "62",
                                    "3": "NULL",
                                    "4": "68",
                                    "5": "SuperFoxy",
                                    "6": "Full-Suspension Mountain Bike",
                                    "7": "6240.99",
                                    "8": "Expert",
                                    "9": "3,4",
                                    "10": "NULL",
                                    "11": "191"
                                },
                                {
                                    "0": "Fox i-Line DP",
                                    "1": "202",
                                    "2": "21",
                                    "3": "NULL",
                                    "4": "15",
                                    "5": "Following",
                                    "6": "Full-Suspension Mountain Bike",
                                    "7": "5799",
                                    "8": "Expert",
                                    "9": "2,3,4",
                                    "10": "NULL",
                                    "11": "202"
                                },
                                {
                                    "0": "RockShox SuperDeluxe Sel",
                                    "1": "205",
                                    "2": "44",
                                    "3": "NULL",
                                    "4": "64",
                                    "5": "Gnarvana",
                                    "6": "Full-Suspension Mountain Bike",
                                    "7": "6395",
                                    "8": "Expert",
                                    "9": "3,4",
                                    "10": "NULL",
                                    "11": "205"
                                },
                                {
                                    "0": "Fox Perf DP",
                                    "1": "174",
                                    "2": "64",
                                    "3": "NULL",
                                    "4": "3",
                                    "5": "RKT9",
                                    "6": "Full-Suspension Mountain Bike",
                                    "7": "3600",
                                    "8": "Mid",
                                    "9": "1,2,3",
                                    "10": "NULL",
                                    "11": "174"
                                },
                                {
                                    "0": "Fox Perf DPX2",
                                    "1": "189",
                                    "2": "48",
                                    "3": "NULL",
                                    "4": "64",
                                    "5": "Shredd Dog",
                                    "6": "Full-Suspension Mountain Bike",
                                    "7": "5375.99",
                                    "8": "Expert",
                                    "9": "3,4",
                                    "10": "NULL",
                                    "11": "189"
                                },
                                {
                                    "0": "RockShox Deluxe Sel+ Air",
                                    "1": "194",
                                    "2": "19",
                                    "3": "NULL",
                                    "4": "17",
                                    "5": "Jekyll",
                                    "6": "Full-Suspension Mountain Bike",
                                    "7": "4250",
                                    "8": "Mid",
                                    "9": "1,2,3",
                                    "10": "NULL",
                                    "11": "194"
                                },
                                {
                                    "0": "RockShox Super Deluxe Sel+",
                                    "1": "191",
                                    "2": "33",
                                    "3": "NULL",
                                    "4": "14",
                                    "5": "Element",
                                    "6": "Full-Suspension Mountain Bike",
                                    "7": "4854.99",
                                    "8": "Mid",
                                    "9": "1,2",
                                    "10": "NULL",
                                    "11": "191"
                                },
                                {
                                    "0": "No shock",
                                    "1": "280",
                                    "2": "4",
                                    "3": "NULL",
                                    "4": "24",
                                    "5": "Force",
                                    "6": "Full-Suspension Mountain Bike",
                                    "7": "3808.99",
                                    "8": "Mid",
                                    "9": "2,3,4",
                                    "10": "NULL",
                                    "11": "280"
                                },
                                {
                                    "0": "Fox Factory Float X2 Air",
                                    "1": "192",
                                    "2": "45",
                                    "3": "NULL",
                                    "4": "64",
                                    "5": "The Smash",
                                    "6": "Full-Suspension Mountain Bike",
                                    "7": "4745",
                                    "8": "Mid",
                                    "9": "3,4",
                                    "10": "NULL",
                                    "11": "192"
                                },
                                {
                                    "0": "No shock",
                                    "1": "172",
                                    "2": "20",
                                    "3": "NULL",
                                    "4": "17",
                                    "5": "Habit",
                                    "6": "Full-Suspension Mountain Bike",
                                    "7": "3999",
                                    "8": "Mid",
                                    "9": "2,3",
                                    "10": "NULL",
                                    "11": "172"
                                },
                                {
                                    "0": "RockShox Super Deluxe RCT Coil",
                                    "1": "180",
                                    "2": "24",
                                    "3": "NULL",
                                    "4": "65",
                                    "5": "Rail",
                                    "6": "Full-Suspension Mountain Bike",
                                    "7": "7399",
                                    "8": "Expert",
                                    "9": "2,3",
                                    "10": "NULL",
                                    "11": "180"
                                },
                                {
                                    "0": "RockShox Super Deluxe Sel+",
                                    "1": "191",
                                    "2": "34",
                                    "3": "NULL",
                                    "4": "14",
                                    "5": "Altitude",
                                    "6": "Full-Suspension Mountain Bike",
                                    "7": "5899",
                                    "8": "Expert",
                                    "9": "2,3",
                                    "10": "NULL",
                                    "11": "191"
                                },
                                {
                                    "0": "Fox Perf DPX2",
                                    "1": "189",
                                    "2": "29",
                                    "3": "NULL",
                                    "4": "20",
                                    "5": "Primer",
                                    "6": "Full-Suspension Mountain Bike",
                                    "7": "3799",
                                    "8": "Mid",
                                    "9": "2,3,4",
                                    "10": "NULL",
                                    "11": "189"
                                }
                            ]
                        },
                        "text/html": [
                            "<table>",
                            "<tr><th>prev_shocks</th><th>comp_id</th><th>prod_id</th><th>prod_cat_name</th><th>prod_manufacturer</th><th>prod_name</th><th>prod_description</th><th>prod_price</th><th>prod_class</th><th>country_origin</th><th>sup_id</th><th>comp_shock</th></tr>",
                            "<tr><td>Fox Float DPS Evol Air</td><td>177</td><td>9</td><td>NULL</td><td>63</td><td>Tallboy</td><td>Full-Suspension Mountain Bike</td><td>2799</td><td>Mid</td><td>2,3,4</td><td>NULL</td><td>177</td></tr>",
                            "<tr><td>Ohlins TTX 22M Coil</td><td>199</td><td>68</td><td>NULL</td><td>61</td><td>Occam</td><td>Full-Suspension Mountain Bike</td><td>3999</td><td>Mid</td><td>2,3</td><td>NULL</td><td>199</td></tr>",
                            "<tr><td>No shock</td><td>172</td><td>43</td><td>NULL</td><td>70</td><td>Troy</td><td>Full-Suspension Mountain Bike</td><td>3199</td><td>Mid</td><td>2</td><td>NULL</td><td>172</td></tr>",
                            "<tr><td>RockShox Super Deluxe Ult Coil</td><td>182</td><td>37</td><td>NULL</td><td>22</td><td>DV9</td><td>Hardtail Mountain Bike</td><td>3009</td><td>Mid</td><td>1</td><td>NULL</td><td>182</td></tr>",
                            "<tr><td>Fox Float DPS Evol Air</td><td>177</td><td>26</td><td>NULL</td><td>8</td><td>Process 153</td><td>Full-Suspension Mountain Bike</td><td>3064</td><td>Mid</td><td>2,3,4</td><td>NULL</td><td>177</td></tr>",
                            "<tr><td>Ohlins TTX 22M Coil</td><td>199</td><td>69</td><td>NULL</td><td>61</td><td>Occam</td><td>Full-Suspension Mountain Bike</td><td>3999</td><td>Mid</td><td>2,3</td><td>NULL</td><td>199</td></tr>",
                            "<tr><td>Fox Factory X2</td><td>184</td><td>27</td><td>NULL</td><td>8</td><td>Hei Hei</td><td>Full-Suspension Mountain Bike</td><td>4227.99</td><td>Mid</td><td>2,3</td><td>NULL</td><td>184</td></tr>",
                            "<tr><td>Fox Factory X2</td><td>184</td><td>38</td><td>NULL</td><td>22</td><td>Ripmo</td><td>Full-Suspension Mountain Bike</td><td>4399</td><td>Mid</td><td>2,3,4</td><td>NULL</td><td>184</td></tr>",
                            "<tr><td>Fox Float Factory DP</td><td>181</td><td>54</td><td>NULL</td><td>10</td><td>G-Series</td><td>Full-Suspension Mountain Bike</td><td>5656.41</td><td>Expert</td><td>4</td><td>NULL</td><td>181</td></tr>",
                            "<tr><td>Fox Float DPS Evol Air</td><td>177</td><td>13</td><td>NULL</td><td>25</td><td>SB140</td><td>Full-Suspension Mountain Bike</td><td>5800</td><td>Expert</td><td>2,3,4</td><td>NULL</td><td>177</td></tr>",
                            "<tr><td>Fox Float Perf DP</td><td>193</td><td>52</td><td>NULL</td><td>7</td><td>Snabb</td><td>Full-Suspension Mountain Bike</td><td>2639</td><td>Mid</td><td>2,3</td><td>NULL</td><td>193</td></tr>",
                            "<tr><td>Fox Float Factory DP</td><td>181</td><td>51</td><td>NULL</td><td>7</td><td>Define</td><td>Full-Suspension Mountain Bike</td><td>3673.99</td><td>Mid</td><td>2,3</td><td>NULL</td><td>181</td></tr>",
                            "<tr><td>Fox Float DPX2 Perf</td><td>179</td><td>67</td><td>NULL</td><td>61</td><td>OIZ</td><td>Full-Suspension Mountain Bike</td><td>3799</td><td>Mid</td><td>1</td><td>NULL</td><td>179</td></tr>",
                            "<tr><td>Fox DPS Perf</td><td>173</td><td>47</td><td>NULL</td><td>64</td><td>Megatrail</td><td>Full-Suspension Mountain Bike</td><td>4018.99</td><td>Mid</td><td>2,3</td><td>NULL</td><td>173</td></tr>",
                            "<tr><td>Fox Float DPX2 Perf Elite</td><td>170</td><td>50</td><td>NULL</td><td>43</td><td>Stereo</td><td>Full-Suspension Mountain Bike</td><td>5609.99</td><td>Expert</td><td>2,3,4</td><td>NULL</td><td>170</td></tr>",
                            "<tr><td>No shock</td><td>280</td><td>55</td><td>NULL</td><td>10</td><td>T-Series</td><td>Full-Suspension Mountain Bike</td><td>3209.08</td><td>Mid</td><td>2,3</td><td>NULL</td><td>280</td></tr>",
                            "<tr><td>No shock</td><td>172</td><td>28</td><td>NULL</td><td>20</td><td>Sniper</td><td>Full-Suspension Mountain Bike</td><td>3999.99</td><td>Mid</td><td>1,2</td><td>NULL</td><td>172</td></tr>",
                            "<tr><td>Fox Float DPS Evol Air</td><td>177</td><td>30</td><td>NULL</td><td>20</td><td>Tracer</td><td>Full-Suspension Mountain Bike</td><td>4350</td><td>Mid</td><td>1,2</td><td>NULL</td><td>177</td></tr>",
                            "<tr><td>RockShox Deluxe RL Air</td><td>198</td><td>5</td><td>NULL</td><td>24</td><td>Sensor</td><td>Full-Suspension Mountain Bike</td><td>3480.99</td><td>Mid</td><td>2,3</td><td>NULL</td><td>198</td></tr>",
                            "<tr><td>Fox Float DPS Evol Air</td><td>177</td><td>65</td><td>NULL</td><td>3</td><td>Rip9</td><td>Full-Suspension Mountain Bike</td><td>4400</td><td>Mid</td><td>2,3</td><td>NULL</td><td>177</td></tr>",
                            "<tr><td>Fox Perf DPX2</td><td>189</td><td>22</td><td>NULL</td><td>15</td><td>Wreckoning</td><td>Full-Suspension Mountain Bike</td><td>7399</td><td>Expert</td><td>2,3,4</td><td>NULL</td><td>189</td></tr>",
                            "<tr><td>Fox Float DPS Evol Air</td><td>177</td><td>57</td><td>NULL</td><td>18</td><td>Scout</td><td>Hardtail Mountain Bike</td><td>2199</td><td>Mid</td><td>2,3</td><td>NULL</td><td>177</td></tr>",
                            "<tr><td>Fox Float X2 Air</td><td>183</td><td>42</td><td>NULL</td><td>67</td><td>Onset</td><td>Full-Suspension Mountain Bike</td><td>5000</td><td>Mid</td><td>2,3,</td><td>NULL</td><td>183</td></tr>",
                            "<tr><td>RockShox Super Deluxe Sel+</td><td>191</td><td>41</td><td>NULL</td><td>67</td><td>Haste</td><td>Full-Suspension Mountain Bike</td><td>4299</td><td>Mid</td><td>2,3</td><td>NULL</td><td>191</td></tr>",
                            "<tr><td>Fox Perf DPX2</td><td>189</td><td>15</td><td>NULL</td><td>25</td><td>SB160</td><td>Full-Suspension Mountain Bike</td><td>7699.99</td><td>Expert</td><td>3,4</td><td>NULL</td><td>189</td></tr>",
                            "<tr><td>Fox Float DPS Evol Air</td><td>177</td><td>36</td><td>NULL</td><td>14</td><td>Thunderbolt</td><td>Full-Suspension Mountain Bike</td><td>3370</td><td>Mid</td><td>1</td><td>NULL</td><td>177</td></tr>",
                            "<tr><td>Fox Perf DPX2</td><td>189</td><td>35</td><td>NULL</td><td>14</td><td>Instinct</td><td>Full-Suspension Mountain Bike</td><td>3999</td><td>Mid</td><td>2,3</td><td>NULL</td><td>189</td></tr>",
                            "<tr><td>Fox Factory X2</td><td>184</td><td>10</td><td>NULL</td><td>25</td><td>SB100</td><td>Full-Suspension Mountain Bike</td><td>5099</td><td>Expert</td><td>1,2</td><td>NULL</td><td>184</td></tr>",
                            "<tr><td>DVO Jade X Coil</td><td>187</td><td>40</td><td>NULL</td><td>22</td><td>Ripley</td><td>Full-Suspension Mountain Bike</td><td>4199</td><td>Mid</td><td>2,3</td><td>NULL</td><td>187</td></tr>",
                            "<tr><td>Fox Float DPS Evol Air</td><td>177</td><td>49</td><td>NULL</td><td>43</td><td>AMD</td><td>Full-Suspension Mountain Bike</td><td>4679</td><td>Mid</td><td>2,3</td><td>NULL</td><td>177</td></tr>",
                            "<tr><td>No shock</td><td>280</td><td>25</td><td>NULL</td><td>8</td><td>Process 134</td><td>Full-Suspension Mountain Bike</td><td>4750.99</td><td>Mid</td><td>1,2,3</td><td>NULL</td><td>280</td></tr>",
                            "<tr><td>No shock</td><td>280</td><td>58</td><td>NULL</td><td>18</td><td>Reactor</td><td>Full-Suspension Mountain Bike</td><td>3739</td><td>Mid</td><td>3,4</td><td>NULL</td><td>280</td></tr>",
                            "<tr><td>Fox X2 Factory</td><td>188</td><td>2</td><td>NULL</td><td>1</td><td>Trance</td><td>Full-Suspension Mountain Bike</td><td>3500</td><td>Mid</td><td>2,3,4</td><td>NULL</td><td>188</td></tr>",
                            "<tr><td>RockShox Deluxe Ult Air</td><td>178</td><td>59</td><td>NULL</td><td>62</td><td>Meta Am</td><td>Full-Suspension Mountain Bike</td><td>4645.99</td><td>Mid</td><td>2,3,4</td><td>NULL</td><td>178</td></tr>",
                            "<tr><td>RockShox Deluxe Sel+ Air</td><td>194</td><td>3</td><td>NULL</td><td>1</td><td>X Trance</td><td>Full-Suspension Mountain Bike</td><td>5499</td><td>Expert</td><td>2,3,4</td><td>NULL</td><td>194</td></tr>",
                            "<tr><td>Fox X2 Factory</td><td>188</td><td>60</td><td>NULL</td><td>62</td><td>Clash</td><td>Full-Suspension Mountain Bike</td><td>3999</td><td>Mid</td><td>2,3,4</td><td>NULL</td><td>188</td></tr>",
                            "<tr><td>Fox Float X2 Evol Air</td><td>185</td><td>53</td><td>NULL</td><td>10</td><td>E-Series</td><td>Full-Suspension Mountain Bike</td><td>7565.66</td><td>Expert</td><td>3,4</td><td>NULL</td><td>185</td></tr>",
                            "<tr><td>Fox Perf DPX2</td><td>189</td><td>23</td><td>NULL</td><td>15</td><td>Insurgent</td><td>Full-Suspension Mountain Bike</td><td>4399</td><td>Mid</td><td>1,2,3</td><td>NULL</td><td>189</td></tr>",
                            "<tr><td>Fox Float Perf DP</td><td>193</td><td>16</td><td>NULL</td><td>26</td><td>Enduro</td><td>Full-Suspension Mountain Bike</td><td>5271.99</td><td>Expert</td><td>2,3</td><td>NULL</td><td>193</td></tr>",
                            "<tr><td>RockShox Deluxe Sel Air</td><td>176</td><td>31</td><td>NULL</td><td>69</td><td>Sight</td><td>Full-Suspension Mountain Bike</td><td>4449.9</td><td>Mid</td><td>1,2,3</td><td>NULL</td><td>176</td></tr>",
                            "<tr><td>No shock</td><td>280</td><td>6</td><td>NULL</td><td>63</td><td>Chameleon</td><td>Hardtail Mountain Bike</td><td>1949.99</td><td>Mid</td><td>1,2,3</td><td>NULL</td><td>280</td></tr>",
                            "<tr><td>No shock</td><td>280</td><td>14</td><td>NULL</td><td>25</td><td>SB150</td><td>Full-Suspension Mountain Bike</td><td>8000</td><td>Expert</td><td>3,4</td><td>NULL</td><td>280</td></tr>",
                            "<tr><td>Fox Float DHX2 Factory Air</td><td>186</td><td>61</td><td>NULL</td><td>68</td><td>Foxy</td><td>Full-Suspension Mountain Bike</td><td>4199</td><td>Mid</td><td>2,3</td><td>NULL</td><td>186</td></tr>",
                            "<tr><td>Fox Float DPX2 Factory</td><td>169</td><td>56</td><td>NULL</td><td>18</td><td>Mega</td><td>Full-Suspension Mountain Bike</td><td>4504.99</td><td>Mid</td><td>2,3,4</td><td>NULL</td><td>169</td></tr>",
                            "<tr><td>No shock</td><td>172</td><td>63</td><td>NULL</td><td>3</td><td>Air9</td><td>Hardtail Mountain Bike</td><td>1850</td><td>Mid</td><td>2,3</td><td>NULL</td><td>172</td></tr>",
                            "<tr><td>No shock</td><td>280</td><td>46</td><td>NULL</td><td>64</td><td>Trail Pistol</td><td>Full-Suspension Mountain Bike</td><td>5375.99</td><td>Expert</td><td>2,3</td><td>NULL</td><td>280</td></tr>",
                            "<tr><td>RockShox Monarch+ Air</td><td>200</td><td>1</td><td>NULL</td><td>66</td><td>Firebird</td><td>Full-Suspension Mountain Bike</td><td>5899</td><td>Expert</td><td>2,3,4</td><td>NULL</td><td>200</td></tr>",
                            "<tr><td>DVO Topaz T3 Air</td><td>171</td><td>8</td><td>NULL</td><td>63</td><td>Megatower</td><td>Full-Suspension Mountain Bike</td><td>6479.99</td><td>Expert</td><td>2,3,4</td><td>NULL</td><td>171</td></tr>",
                            "<tr><td>RockShox Deluxe Sel+ Air</td><td>194</td><td>39</td><td>NULL</td><td>22</td><td>Mojo</td><td>Full-Suspension Mountain Bike</td><td>5199</td><td>Expert</td><td>2,3</td><td>NULL</td><td>194</td></tr>",
                            "<tr><td>RockShox Deluxe Sel+ Air</td><td>194</td><td>17</td><td>NULL</td><td>26</td><td>Stumpjumper</td><td>Full-Suspension Mountain Bike</td><td>5295.9</td><td>Expert</td><td>2,3</td><td>NULL</td><td>194</td></tr>",
                            "<tr><td>No shock</td><td>280</td><td>18</td><td>NULL</td><td>17</td><td>Scalpel</td><td>Full-Suspension Mountain Bike</td><td>4200</td><td>Mid</td><td>1,2</td><td>NULL</td><td>280</td></tr>",
                            "<tr><td>Fox Float DPS Evol Air</td><td>177</td><td>12</td><td>NULL</td><td>25</td><td>SB130</td><td>Full-Suspension Mountain Bike</td><td>5500</td><td>Expert</td><td>2,3,4</td><td>NULL</td><td>177</td></tr>",
                            "<tr><td>Fox Factory X2</td><td>184</td><td>66</td><td>NULL</td><td>3</td><td>Jet9</td><td>Full-Suspension Mountain Bike</td><td>3399</td><td>Mid</td><td>2,3</td><td>NULL</td><td>184</td></tr>",
                            "<tr><td>No shock</td><td>172</td><td>11</td><td>NULL</td><td>25</td><td>SB115</td><td>Full-Suspension Mountain Bike</td><td>4700</td><td>Mid</td><td>1,2,3</td><td>NULL</td><td>172</td></tr>",
                            "<tr><td>No shock</td><td>280</td><td>32</td><td>NULL</td><td>69</td><td>Optic</td><td>Full-Suspension Mountain Bike</td><td>4499</td><td>Mid</td><td>2,3</td><td>NULL</td><td>280</td></tr>",
                            "<tr><td>No shock</td><td>280</td><td>7</td><td>NULL</td><td>63</td><td>Hightower</td><td>Full-Suspension Mountain Bike</td><td>4299.99</td><td>Mid</td><td>2,3,4</td><td>NULL</td><td>280</td></tr>",
                            "<tr><td>RockShox Super Deluxe Sel+</td><td>191</td><td>62</td><td>NULL</td><td>68</td><td>SuperFoxy</td><td>Full-Suspension Mountain Bike</td><td>6240.99</td><td>Expert</td><td>3,4</td><td>NULL</td><td>191</td></tr>",
                            "<tr><td>Fox i-Line DP</td><td>202</td><td>21</td><td>NULL</td><td>15</td><td>Following</td><td>Full-Suspension Mountain Bike</td><td>5799</td><td>Expert</td><td>2,3,4</td><td>NULL</td><td>202</td></tr>",
                            "<tr><td>RockShox SuperDeluxe Sel</td><td>205</td><td>44</td><td>NULL</td><td>64</td><td>Gnarvana</td><td>Full-Suspension Mountain Bike</td><td>6395</td><td>Expert</td><td>3,4</td><td>NULL</td><td>205</td></tr>",
                            "<tr><td>Fox Perf DP</td><td>174</td><td>64</td><td>NULL</td><td>3</td><td>RKT9</td><td>Full-Suspension Mountain Bike</td><td>3600</td><td>Mid</td><td>1,2,3</td><td>NULL</td><td>174</td></tr>",
                            "<tr><td>Fox Perf DPX2</td><td>189</td><td>48</td><td>NULL</td><td>64</td><td>Shredd Dog</td><td>Full-Suspension Mountain Bike</td><td>5375.99</td><td>Expert</td><td>3,4</td><td>NULL</td><td>189</td></tr>",
                            "<tr><td>RockShox Deluxe Sel+ Air</td><td>194</td><td>19</td><td>NULL</td><td>17</td><td>Jekyll</td><td>Full-Suspension Mountain Bike</td><td>4250</td><td>Mid</td><td>1,2,3</td><td>NULL</td><td>194</td></tr>",
                            "<tr><td>RockShox Super Deluxe Sel+</td><td>191</td><td>33</td><td>NULL</td><td>14</td><td>Element</td><td>Full-Suspension Mountain Bike</td><td>4854.99</td><td>Mid</td><td>1,2</td><td>NULL</td><td>191</td></tr>",
                            "<tr><td>No shock</td><td>280</td><td>4</td><td>NULL</td><td>24</td><td>Force</td><td>Full-Suspension Mountain Bike</td><td>3808.99</td><td>Mid</td><td>2,3,4</td><td>NULL</td><td>280</td></tr>",
                            "<tr><td>Fox Factory Float X2 Air</td><td>192</td><td>45</td><td>NULL</td><td>64</td><td>The Smash</td><td>Full-Suspension Mountain Bike</td><td>4745</td><td>Mid</td><td>3,4</td><td>NULL</td><td>192</td></tr>",
                            "<tr><td>No shock</td><td>172</td><td>20</td><td>NULL</td><td>17</td><td>Habit</td><td>Full-Suspension Mountain Bike</td><td>3999</td><td>Mid</td><td>2,3</td><td>NULL</td><td>172</td></tr>",
                            "<tr><td>RockShox Super Deluxe RCT Coil</td><td>180</td><td>24</td><td>NULL</td><td>65</td><td>Rail</td><td>Full-Suspension Mountain Bike</td><td>7399</td><td>Expert</td><td>2,3</td><td>NULL</td><td>180</td></tr>",
                            "<tr><td>RockShox Super Deluxe Sel+</td><td>191</td><td>34</td><td>NULL</td><td>14</td><td>Altitude</td><td>Full-Suspension Mountain Bike</td><td>5899</td><td>Expert</td><td>2,3</td><td>NULL</td><td>191</td></tr>",
                            "<tr><td>Fox Perf DPX2</td><td>189</td><td>29</td><td>NULL</td><td>20</td><td>Primer</td><td>Full-Suspension Mountain Bike</td><td>3799</td><td>Mid</td><td>2,3,4</td><td>NULL</td><td>189</td></tr>",
                            "</table>"
                        ]
                    }
                }
            ],
            "execution_count": 242
        },
        {
            "cell_type": "markdown",
            "source": [
                "**Write an UPDATE to the component table to make the changes above. Once complete, run a query to verify your changes were successfull. Limit the query to 100 rows.**"
            ],
            "metadata": {
                "azdata_cell_guid": "8473209d-647b-4fd6-9f1e-f5f4ecc6d188"
            },
            "attachments": {}
        },
        {
            "cell_type": "code",
            "source": [
                "--Updating comp_name column in components table:\n",
                "\n",
                "UPDATE dsci_504.components\n",
                "SET comp_name = q1.shock_name\n",
                "FROM (SELECT coalesce(nullif(trim(c.comp_name, 'No Sku'), ''), 'No shock') AS shock_name\n",
                "       ,c.comp_id\n",
                "       ,p.*\n",
                "       ,b.comp_shock\n",
                "    FROM dsci_504.builds AS b\n",
                "    INNER JOIN dsci_504.components AS c \n",
                "    ON CAST(b.comp_shock AS INT) = c.comp_id\n",
                "    INNER JOIN dsci_504.productbuilds AS pb \n",
                "    ON b.build_id = pb.build_id \n",
                "    INNER JOIN dsci_504.products AS p \n",
                "    ON pb.prod_id = p.prod_id\n",
                "    WHERE c.comp_id = comp_id) AS q1\n",
                "WHERE dsci_504.components.comp_id = q1.comp_id;"
            ],
            "metadata": {
                "azdata_cell_guid": "64c97720-85b1-453a-9ce4-9b5a48e8ca65",
                "language": "sql",
                "tags": []
            },
            "outputs": [
                {
                    "output_type": "display_data",
                    "data": {
                        "text/html": "Commands completed successfully"
                    },
                    "metadata": {}
                },
                {
                    "output_type": "display_data",
                    "data": {
                        "text/html": "Total execution time: 00:00:00.005"
                    },
                    "metadata": {}
                }
            ],
            "execution_count": 248
        },
        {
            "cell_type": "code",
            "source": [
                "--Displaying update.\n",
                "\n",
                "SELECT *\n",
                "FROM dsci_504.components \n",
                "LIMIT 100;"
            ],
            "metadata": {
                "language": "sql",
                "azdata_cell_guid": "bc5f8407-2117-4835-b733-94119a336eea"
            },
            "outputs": [
                {
                    "output_type": "display_data",
                    "data": {
                        "text/html": "(100 row(s) affected)"
                    },
                    "metadata": {}
                },
                {
                    "output_type": "display_data",
                    "data": {
                        "text/html": "Total execution time: 00:00:00.005"
                    },
                    "metadata": {}
                },
                {
                    "output_type": "execute_result",
                    "metadata": {},
                    "execution_count": 250,
                    "data": {
                        "application/vnd.dataresource+json": {
                            "schema": {
                                "fields": [
                                    {
                                        "name": "comp_id"
                                    },
                                    {
                                        "name": "comp_name"
                                    },
                                    {
                                        "name": "comp_cost"
                                    },
                                    {
                                        "name": "comp_supplier"
                                    },
                                    {
                                        "name": "comp_cat"
                                    },
                                    {
                                        "name": "sup_id"
                                    }
                                ]
                            },
                            "data": [
                                {
                                    "0": "169",
                                    "1": "Fox Float DPX2 Factory",
                                    "2": "503.1",
                                    "3": "28",
                                    "4": "shock",
                                    "5": "NULL"
                                },
                                {
                                    "0": "170",
                                    "1": "Fox Float DPX2 Perf Elite",
                                    "2": "470",
                                    "3": "28",
                                    "4": "shock",
                                    "5": "NULL"
                                },
                                {
                                    "0": "171",
                                    "1": "DVO Topaz T3 Air",
                                    "2": "500",
                                    "3": "29",
                                    "4": "shock",
                                    "5": "NULL"
                                },
                                {
                                    "0": "173",
                                    "1": "Fox DPS Perf",
                                    "2": "329",
                                    "3": "28",
                                    "4": "shock",
                                    "5": "NULL"
                                },
                                {
                                    "0": "174",
                                    "1": "Fox Perf DP",
                                    "2": "305.99",
                                    "3": "28",
                                    "4": "shock",
                                    "5": "NULL"
                                },
                                {
                                    "0": "176",
                                    "1": "RockShox Deluxe Sel Air",
                                    "2": "350",
                                    "3": "30",
                                    "4": "shock",
                                    "5": "NULL"
                                },
                                {
                                    "0": "177",
                                    "1": "Fox Float DPS Evol Air",
                                    "2": "580",
                                    "3": "28",
                                    "4": "shock",
                                    "5": "NULL"
                                },
                                {
                                    "0": "178",
                                    "1": "RockShox Deluxe Ult Air",
                                    "2": "509",
                                    "3": "30",
                                    "4": "shock",
                                    "5": "NULL"
                                },
                                {
                                    "0": "179",
                                    "1": "Fox Float DPX2 Perf",
                                    "2": "470",
                                    "3": "28",
                                    "4": "shock",
                                    "5": "NULL"
                                },
                                {
                                    "0": "180",
                                    "1": "RockShox Super Deluxe RCT Coil",
                                    "2": "509",
                                    "3": "30",
                                    "4": "shock",
                                    "5": "NULL"
                                },
                                {
                                    "0": "181",
                                    "1": "Fox Float Factory DP",
                                    "2": "310",
                                    "3": "28",
                                    "4": "shock",
                                    "5": "NULL"
                                },
                                {
                                    "0": "182",
                                    "1": "RockShox Super Deluxe Ult Coil",
                                    "2": "509",
                                    "3": "30",
                                    "4": "shock",
                                    "5": "NULL"
                                },
                                {
                                    "0": "183",
                                    "1": "Fox Float X2 Air",
                                    "2": "599",
                                    "3": "28",
                                    "4": "shock",
                                    "5": "NULL"
                                },
                                {
                                    "0": "184",
                                    "1": "Fox Factory X2",
                                    "2": "699",
                                    "3": "28",
                                    "4": "shock",
                                    "5": "NULL"
                                },
                                {
                                    "0": "185",
                                    "1": "Fox Float X2 Evol Air",
                                    "2": "699",
                                    "3": "28",
                                    "4": "shock",
                                    "5": "NULL"
                                },
                                {
                                    "0": "186",
                                    "1": "Fox Float DHX2 Factory Air",
                                    "2": "669.99",
                                    "3": "28",
                                    "4": "shock",
                                    "5": "NULL"
                                },
                                {
                                    "0": "187",
                                    "1": "DVO Jade X Coil",
                                    "2": "399",
                                    "3": "29",
                                    "4": "shock",
                                    "5": "NULL"
                                },
                                {
                                    "0": "188",
                                    "1": "Fox X2 Factory",
                                    "2": "569",
                                    "3": "28",
                                    "4": "shock",
                                    "5": "NULL"
                                },
                                {
                                    "0": "189",
                                    "1": "Fox Perf DPX2",
                                    "2": "503.1",
                                    "3": "28",
                                    "4": "shock",
                                    "5": "NULL"
                                },
                                {
                                    "0": "191",
                                    "1": "RockShox Super Deluxe Sel+",
                                    "2": "299",
                                    "3": "30",
                                    "4": "shock",
                                    "5": "NULL"
                                },
                                {
                                    "0": "192",
                                    "1": "Fox Factory Float X2 Air",
                                    "2": "599",
                                    "3": "28",
                                    "4": "shock",
                                    "5": "NULL"
                                },
                                {
                                    "0": "172",
                                    "1": "No shock",
                                    "2": "NULL",
                                    "3": "NULL",
                                    "4": "shock",
                                    "5": "NULL"
                                },
                                {
                                    "0": "1",
                                    "1": "Giant Contact SLR",
                                    "2": "143",
                                    "3": "1",
                                    "4": "handlebar",
                                    "5": "NULL"
                                },
                                {
                                    "0": "2",
                                    "1": "Rida Alpha R27",
                                    "2": "136",
                                    "3": "2",
                                    "4": "handlebar",
                                    "5": "NULL"
                                },
                                {
                                    "0": "3",
                                    "1": "Niner Flat Top",
                                    "2": "118",
                                    "3": "3",
                                    "4": "handlebar",
                                    "5": "NULL"
                                },
                                {
                                    "0": "4",
                                    "1": "Enve M7 Carb",
                                    "2": "69",
                                    "3": "4",
                                    "4": "handlebar",
                                    "5": "NULL"
                                },
                                {
                                    "0": "5",
                                    "1": "e13 base",
                                    "2": "91",
                                    "3": "5",
                                    "4": "handlebar",
                                    "5": "NULL"
                                },
                                {
                                    "0": "6",
                                    "1": "RaceFace NextR Carbon",
                                    "2": "129",
                                    "3": "6",
                                    "4": "handlebar",
                                    "5": "NULL"
                                },
                                {
                                    "0": "7",
                                    "1": "OC1",
                                    "2": "51",
                                    "3": "61",
                                    "4": "handlebar",
                                    "5": "NULL"
                                },
                                {
                                    "0": "8",
                                    "1": "Kona XC",
                                    "2": "76",
                                    "3": "8",
                                    "4": "handlebar",
                                    "5": "NULL"
                                },
                                {
                                    "0": "11",
                                    "1": "Newman Evo",
                                    "2": "143",
                                    "3": "11",
                                    "4": "handlebar",
                                    "5": "NULL"
                                },
                                {
                                    "0": "12",
                                    "1": "OC3 Carbon",
                                    "2": "82",
                                    "3": "61",
                                    "4": "handlebar",
                                    "5": "NULL"
                                },
                                {
                                    "0": "13",
                                    "1": "TranzX Burtted 6061",
                                    "2": "85",
                                    "3": "13",
                                    "4": "handlebar",
                                    "5": "NULL"
                                },
                                {
                                    "0": "14",
                                    "1": "E13 TRS Base",
                                    "2": "85",
                                    "3": "5",
                                    "4": "handlebar",
                                    "5": "NULL"
                                },
                                {
                                    "0": "15",
                                    "1": "Rocky Mountain AM",
                                    "2": "115",
                                    "3": "14",
                                    "4": "handlebar",
                                    "5": "NULL"
                                },
                                {
                                    "0": "16",
                                    "1": "Evil Boomstick Carbon",
                                    "2": "117",
                                    "3": "15",
                                    "4": "handlebar",
                                    "5": "NULL"
                                },
                                {
                                    "0": "17",
                                    "1": "ProTaper Carb",
                                    "2": "117",
                                    "3": "16",
                                    "4": "handlebar",
                                    "5": "NULL"
                                },
                                {
                                    "0": "18",
                                    "1": "Cannondale 3 Riser",
                                    "2": "128",
                                    "3": "17",
                                    "4": "handlebar",
                                    "5": "NULL"
                                },
                                {
                                    "0": "20",
                                    "1": "Nukeproof Neutron V2",
                                    "2": "133",
                                    "3": "18",
                                    "4": "handlebar",
                                    "5": "NULL"
                                },
                                {
                                    "0": "21",
                                    "1": "Whyte 6061 Alloy",
                                    "2": "140",
                                    "3": "10",
                                    "4": "handlebar",
                                    "5": "NULL"
                                },
                                {
                                    "0": "22",
                                    "1": "Deity Ridgeline",
                                    "2": "74",
                                    "3": "9",
                                    "4": "handlebar",
                                    "5": "NULL"
                                },
                                {
                                    "0": "23",
                                    "1": "Tenet Bodam AL",
                                    "2": "147",
                                    "3": "19",
                                    "4": "handlebar",
                                    "5": "NULL"
                                },
                                {
                                    "0": "24",
                                    "1": "NS Bar",
                                    "2": "69",
                                    "3": "71",
                                    "4": "handlebar",
                                    "5": "NULL"
                                },
                                {
                                    "0": "25",
                                    "1": "Intense Recon Carb Elite",
                                    "2": "117",
                                    "3": "20",
                                    "4": "handlebar",
                                    "5": "NULL"
                                },
                                {
                                    "0": "26",
                                    "1": "Phoenix Team LowRise",
                                    "2": "63",
                                    "3": "21",
                                    "4": "handlebar",
                                    "5": "NULL"
                                },
                                {
                                    "0": "28",
                                    "1": "Intense Recon Alloy",
                                    "2": "82",
                                    "3": "20",
                                    "4": "handlebar",
                                    "5": "NULL"
                                },
                                {
                                    "0": "30",
                                    "1": "Nukeproof Horizon V2",
                                    "2": "103",
                                    "3": "18",
                                    "4": "handlebar",
                                    "5": "NULL"
                                },
                                {
                                    "0": "31",
                                    "1": "ProTaper AL",
                                    "2": "114",
                                    "3": "16",
                                    "4": "handlebar",
                                    "5": "NULL"
                                },
                                {
                                    "0": "32",
                                    "1": "Ibis Carbon",
                                    "2": "133",
                                    "3": "22",
                                    "4": "handlebar",
                                    "5": "NULL"
                                },
                                {
                                    "0": "33",
                                    "1": "OnOff Sulpher 1.0",
                                    "2": "72",
                                    "3": "23",
                                    "4": "handlebar",
                                    "5": "NULL"
                                },
                                {
                                    "0": "34",
                                    "1": "NS License Carb",
                                    "2": "69",
                                    "3": "71",
                                    "4": "handlebar",
                                    "5": "NULL"
                                },
                                {
                                    "0": "35",
                                    "1": "GT Alloy",
                                    "2": "70",
                                    "3": "25",
                                    "4": "handlebar",
                                    "5": "NULL"
                                },
                                {
                                    "0": "36",
                                    "1": "Yeti Carbon",
                                    "2": "113",
                                    "3": "6",
                                    "4": "handlebar",
                                    "5": "NULL"
                                },
                                {
                                    "0": "37",
                                    "1": "RaceFace Aeffect R",
                                    "2": "94",
                                    "3": "6",
                                    "4": "handlebar",
                                    "5": "NULL"
                                },
                                {
                                    "0": "38",
                                    "1": "Specialized Trail 7050 Alloy",
                                    "2": "103",
                                    "3": "26",
                                    "4": "handlebar",
                                    "5": "NULL"
                                },
                                {
                                    "0": "39",
                                    "1": "Giant Connect R",
                                    "2": "114",
                                    "3": "1",
                                    "4": "handlebar",
                                    "5": "NULL"
                                },
                                {
                                    "0": "40",
                                    "1": "Ibis Aluminum",
                                    "2": "76",
                                    "3": "22",
                                    "4": "handlebar",
                                    "5": "NULL"
                                },
                                {
                                    "0": "41",
                                    "1": "Evil Boomstick 7075 Alloy",
                                    "2": "121",
                                    "3": "15",
                                    "4": "handlebar",
                                    "5": "NULL"
                                },
                                {
                                    "0": "42",
                                    "1": "Cannondale 2 Flat",
                                    "2": "50",
                                    "3": "17",
                                    "4": "handlebar",
                                    "5": "NULL"
                                },
                                {
                                    "0": "44",
                                    "1": "RaceFace Turbine R",
                                    "2": "96",
                                    "3": "6",
                                    "4": "handlebar",
                                    "5": "NULL"
                                },
                                {
                                    "0": "45",
                                    "1": "Burgtec Alloy",
                                    "2": "106",
                                    "3": "27",
                                    "4": "handlebar",
                                    "5": "NULL"
                                },
                                {
                                    "0": "46",
                                    "1": "Shimano Deore M6100 2",
                                    "2": "114.99",
                                    "3": "44",
                                    "4": "brake",
                                    "5": "NULL"
                                },
                                {
                                    "0": "47",
                                    "1": "Sram Guide RE",
                                    "2": "138",
                                    "3": "45",
                                    "4": "brake",
                                    "5": "NULL"
                                },
                                {
                                    "0": "49",
                                    "1": "Magura MT7",
                                    "2": "299.99",
                                    "3": "56",
                                    "4": "brake",
                                    "5": "NULL"
                                },
                                {
                                    "0": "50",
                                    "1": "TRP Gspec Trail S",
                                    "2": "259.99",
                                    "3": "57",
                                    "4": "brake",
                                    "5": "NULL"
                                },
                                {
                                    "0": "51",
                                    "1": "Sram Code R",
                                    "2": "158",
                                    "3": "45",
                                    "4": "brake",
                                    "5": "NULL"
                                },
                                {
                                    "0": "52",
                                    "1": "Shimano M6120",
                                    "2": "140.9",
                                    "3": "44",
                                    "4": "brake",
                                    "5": "NULL"
                                },
                                {
                                    "0": "53",
                                    "1": "Tektro HDM 735",
                                    "2": "119.95",
                                    "3": "72",
                                    "4": "brake",
                                    "5": "NULL"
                                },
                                {
                                    "0": "54",
                                    "1": "Shimano MT500",
                                    "2": "47.99",
                                    "3": "44",
                                    "4": "brake",
                                    "5": "NULL"
                                },
                                {
                                    "0": "55",
                                    "1": "Sram G2 ULT",
                                    "2": "286",
                                    "3": "45",
                                    "4": "brake",
                                    "5": "NULL"
                                },
                                {
                                    "0": "56",
                                    "1": "Sram Code RSC",
                                    "2": "200",
                                    "3": "45",
                                    "4": "brake",
                                    "5": "NULL"
                                },
                                {
                                    "0": "57",
                                    "1": "Sram G2 RSC",
                                    "2": "160",
                                    "3": "45",
                                    "4": "brake",
                                    "5": "NULL"
                                },
                                {
                                    "0": "58",
                                    "1": "Shimano Deore M6120 4",
                                    "2": "189",
                                    "3": "44",
                                    "4": "brake",
                                    "5": "NULL"
                                },
                                {
                                    "0": "59",
                                    "1": "Shimano SLX M7100",
                                    "2": "187",
                                    "3": "44",
                                    "4": "brake",
                                    "5": "NULL"
                                },
                                {
                                    "0": "60",
                                    "1": "Sram Code RS",
                                    "2": "172",
                                    "3": "45",
                                    "4": "brake",
                                    "5": "NULL"
                                },
                                {
                                    "0": "61",
                                    "1": "Shimano XT M8100",
                                    "2": "169.99",
                                    "3": "44",
                                    "4": "brake",
                                    "5": "NULL"
                                },
                                {
                                    "0": "62",
                                    "1": "Sram Guide T",
                                    "2": "129",
                                    "3": "45",
                                    "4": "brake",
                                    "5": "NULL"
                                },
                                {
                                    "0": "64",
                                    "1": "Sram Level",
                                    "2": "66",
                                    "3": "45",
                                    "4": "brake",
                                    "5": "NULL"
                                },
                                {
                                    "0": "65",
                                    "1": "Sram Guide R",
                                    "2": "120",
                                    "3": "45",
                                    "4": "brake",
                                    "5": "NULL"
                                },
                                {
                                    "0": "66",
                                    "1": "Shimano XTR Trail",
                                    "2": "275",
                                    "3": "44",
                                    "4": "brake",
                                    "5": "NULL"
                                },
                                {
                                    "0": "67",
                                    "1": "Shimano XT M8120",
                                    "2": "181",
                                    "3": "44",
                                    "4": "brake",
                                    "5": "NULL"
                                },
                                {
                                    "0": "68",
                                    "1": "Sram G2 R",
                                    "2": "138",
                                    "3": "45",
                                    "4": "brake",
                                    "5": "NULL"
                                },
                                {
                                    "0": "69",
                                    "1": "Shimnano Deore M6100 4",
                                    "2": "178",
                                    "3": "44",
                                    "4": "brake",
                                    "5": "NULL"
                                },
                                {
                                    "0": "70",
                                    "1": "Whyte 30mm Carbon",
                                    "2": "240",
                                    "3": "10",
                                    "4": "wheel",
                                    "5": "NULL"
                                },
                                {
                                    "0": "71",
                                    "1": "Stand NoTubes MK3",
                                    "2": "299",
                                    "3": "47",
                                    "4": "wheel",
                                    "5": "NULL"
                                },
                                {
                                    "0": "73",
                                    "1": "Octane One Solar",
                                    "2": "280.99",
                                    "3": "49",
                                    "4": "wheel",
                                    "5": "NULL"
                                },
                                {
                                    "0": "74",
                                    "1": "Giant TRX-2",
                                    "2": "550",
                                    "3": "1",
                                    "4": "wheel",
                                    "5": "NULL"
                                },
                                {
                                    "0": "76",
                                    "1": "Stans Flow MK3",
                                    "2": "200",
                                    "3": "47",
                                    "4": "wheel",
                                    "5": "NULL"
                                },
                                {
                                    "0": "77",
                                    "1": "DT Swiss M1700",
                                    "2": "502",
                                    "3": "48",
                                    "4": "wheel",
                                    "5": "NULL"
                                },
                                {
                                    "0": "78",
                                    "1": "DT Swiss XR-1650",
                                    "2": "1007",
                                    "3": "48",
                                    "4": "wheel",
                                    "5": "NULL"
                                },
                                {
                                    "0": "79",
                                    "1": "DT Swiss EX1900",
                                    "2": "380",
                                    "3": "48",
                                    "4": "wheel",
                                    "5": "NULL"
                                },
                                {
                                    "0": "80",
                                    "1": "Crankbrothers Synth EN",
                                    "2": "599.98",
                                    "3": "50",
                                    "4": "wheel",
                                    "5": "NULL"
                                },
                                {
                                    "0": "81",
                                    "1": "WTB ST i29",
                                    "2": "185",
                                    "3": "51",
                                    "4": "wheel",
                                    "5": "NULL"
                                },
                                {
                                    "0": "82",
                                    "1": "E13 LG1 EN Race",
                                    "2": "390",
                                    "3": "5",
                                    "4": "wheel",
                                    "5": "NULL"
                                },
                                {
                                    "0": "83",
                                    "1": "E13 XCX XC",
                                    "2": "250",
                                    "3": "5",
                                    "4": "wheel",
                                    "5": "NULL"
                                },
                                {
                                    "0": "84",
                                    "1": "i9 Hydra Enduro S",
                                    "2": "995",
                                    "3": "52",
                                    "4": "wheel",
                                    "5": "NULL"
                                },
                                {
                                    "0": "85",
                                    "1": "i9 Enduro 305",
                                    "2": "765",
                                    "3": "52",
                                    "4": "wheel",
                                    "5": "NULL"
                                },
                                {
                                    "0": "86",
                                    "1": "Ibis S35 AL",
                                    "2": "529",
                                    "3": "22",
                                    "4": "wheel",
                                    "5": "NULL"
                                },
                                {
                                    "0": "87",
                                    "1": "NS Enigma Roll",
                                    "2": "333.99",
                                    "3": "71",
                                    "4": "wheel",
                                    "5": "NULL"
                                },
                                {
                                    "0": "88",
                                    "1": "DT Swixx Custom EX1700",
                                    "2": "390",
                                    "3": "48",
                                    "4": "wheel",
                                    "5": "NULL"
                                }
                            ]
                        },
                        "text/html": [
                            "<table>",
                            "<tr><th>comp_id</th><th>comp_name</th><th>comp_cost</th><th>comp_supplier</th><th>comp_cat</th><th>sup_id</th></tr>",
                            "<tr><td>169</td><td>Fox Float DPX2 Factory</td><td>503.1</td><td>28</td><td>shock</td><td>NULL</td></tr>",
                            "<tr><td>170</td><td>Fox Float DPX2 Perf Elite</td><td>470</td><td>28</td><td>shock</td><td>NULL</td></tr>",
                            "<tr><td>171</td><td>DVO Topaz T3 Air</td><td>500</td><td>29</td><td>shock</td><td>NULL</td></tr>",
                            "<tr><td>173</td><td>Fox DPS Perf</td><td>329</td><td>28</td><td>shock</td><td>NULL</td></tr>",
                            "<tr><td>174</td><td>Fox Perf DP</td><td>305.99</td><td>28</td><td>shock</td><td>NULL</td></tr>",
                            "<tr><td>176</td><td>RockShox Deluxe Sel Air</td><td>350</td><td>30</td><td>shock</td><td>NULL</td></tr>",
                            "<tr><td>177</td><td>Fox Float DPS Evol Air</td><td>580</td><td>28</td><td>shock</td><td>NULL</td></tr>",
                            "<tr><td>178</td><td>RockShox Deluxe Ult Air</td><td>509</td><td>30</td><td>shock</td><td>NULL</td></tr>",
                            "<tr><td>179</td><td>Fox Float DPX2 Perf</td><td>470</td><td>28</td><td>shock</td><td>NULL</td></tr>",
                            "<tr><td>180</td><td>RockShox Super Deluxe RCT Coil</td><td>509</td><td>30</td><td>shock</td><td>NULL</td></tr>",
                            "<tr><td>181</td><td>Fox Float Factory DP</td><td>310</td><td>28</td><td>shock</td><td>NULL</td></tr>",
                            "<tr><td>182</td><td>RockShox Super Deluxe Ult Coil</td><td>509</td><td>30</td><td>shock</td><td>NULL</td></tr>",
                            "<tr><td>183</td><td>Fox Float X2 Air</td><td>599</td><td>28</td><td>shock</td><td>NULL</td></tr>",
                            "<tr><td>184</td><td>Fox Factory X2</td><td>699</td><td>28</td><td>shock</td><td>NULL</td></tr>",
                            "<tr><td>185</td><td>Fox Float X2 Evol Air</td><td>699</td><td>28</td><td>shock</td><td>NULL</td></tr>",
                            "<tr><td>186</td><td>Fox Float DHX2 Factory Air</td><td>669.99</td><td>28</td><td>shock</td><td>NULL</td></tr>",
                            "<tr><td>187</td><td>DVO Jade X Coil</td><td>399</td><td>29</td><td>shock</td><td>NULL</td></tr>",
                            "<tr><td>188</td><td>Fox X2 Factory</td><td>569</td><td>28</td><td>shock</td><td>NULL</td></tr>",
                            "<tr><td>189</td><td>Fox Perf DPX2</td><td>503.1</td><td>28</td><td>shock</td><td>NULL</td></tr>",
                            "<tr><td>191</td><td>RockShox Super Deluxe Sel+</td><td>299</td><td>30</td><td>shock</td><td>NULL</td></tr>",
                            "<tr><td>192</td><td>Fox Factory Float X2 Air</td><td>599</td><td>28</td><td>shock</td><td>NULL</td></tr>",
                            "<tr><td>172</td><td>No shock</td><td>NULL</td><td>NULL</td><td>shock</td><td>NULL</td></tr>",
                            "<tr><td>1</td><td>Giant Contact SLR</td><td>143</td><td>1</td><td>handlebar</td><td>NULL</td></tr>",
                            "<tr><td>2</td><td>Rida Alpha R27</td><td>136</td><td>2</td><td>handlebar</td><td>NULL</td></tr>",
                            "<tr><td>3</td><td>Niner Flat Top</td><td>118</td><td>3</td><td>handlebar</td><td>NULL</td></tr>",
                            "<tr><td>4</td><td>Enve M7 Carb</td><td>69</td><td>4</td><td>handlebar</td><td>NULL</td></tr>",
                            "<tr><td>5</td><td>e13 base</td><td>91</td><td>5</td><td>handlebar</td><td>NULL</td></tr>",
                            "<tr><td>6</td><td>RaceFace NextR Carbon</td><td>129</td><td>6</td><td>handlebar</td><td>NULL</td></tr>",
                            "<tr><td>7</td><td>OC1</td><td>51</td><td>61</td><td>handlebar</td><td>NULL</td></tr>",
                            "<tr><td>8</td><td>Kona XC</td><td>76</td><td>8</td><td>handlebar</td><td>NULL</td></tr>",
                            "<tr><td>11</td><td>Newman Evo</td><td>143</td><td>11</td><td>handlebar</td><td>NULL</td></tr>",
                            "<tr><td>12</td><td>OC3 Carbon</td><td>82</td><td>61</td><td>handlebar</td><td>NULL</td></tr>",
                            "<tr><td>13</td><td>TranzX Burtted 6061</td><td>85</td><td>13</td><td>handlebar</td><td>NULL</td></tr>",
                            "<tr><td>14</td><td>E13 TRS Base</td><td>85</td><td>5</td><td>handlebar</td><td>NULL</td></tr>",
                            "<tr><td>15</td><td>Rocky Mountain AM</td><td>115</td><td>14</td><td>handlebar</td><td>NULL</td></tr>",
                            "<tr><td>16</td><td>Evil Boomstick Carbon</td><td>117</td><td>15</td><td>handlebar</td><td>NULL</td></tr>",
                            "<tr><td>17</td><td>ProTaper Carb</td><td>117</td><td>16</td><td>handlebar</td><td>NULL</td></tr>",
                            "<tr><td>18</td><td>Cannondale 3 Riser</td><td>128</td><td>17</td><td>handlebar</td><td>NULL</td></tr>",
                            "<tr><td>20</td><td>Nukeproof Neutron V2</td><td>133</td><td>18</td><td>handlebar</td><td>NULL</td></tr>",
                            "<tr><td>21</td><td>Whyte 6061 Alloy</td><td>140</td><td>10</td><td>handlebar</td><td>NULL</td></tr>",
                            "<tr><td>22</td><td>Deity Ridgeline</td><td>74</td><td>9</td><td>handlebar</td><td>NULL</td></tr>",
                            "<tr><td>23</td><td>Tenet Bodam AL</td><td>147</td><td>19</td><td>handlebar</td><td>NULL</td></tr>",
                            "<tr><td>24</td><td>NS Bar</td><td>69</td><td>71</td><td>handlebar</td><td>NULL</td></tr>",
                            "<tr><td>25</td><td>Intense Recon Carb Elite</td><td>117</td><td>20</td><td>handlebar</td><td>NULL</td></tr>",
                            "<tr><td>26</td><td>Phoenix Team LowRise</td><td>63</td><td>21</td><td>handlebar</td><td>NULL</td></tr>",
                            "<tr><td>28</td><td>Intense Recon Alloy</td><td>82</td><td>20</td><td>handlebar</td><td>NULL</td></tr>",
                            "<tr><td>30</td><td>Nukeproof Horizon V2</td><td>103</td><td>18</td><td>handlebar</td><td>NULL</td></tr>",
                            "<tr><td>31</td><td>ProTaper AL</td><td>114</td><td>16</td><td>handlebar</td><td>NULL</td></tr>",
                            "<tr><td>32</td><td>Ibis Carbon</td><td>133</td><td>22</td><td>handlebar</td><td>NULL</td></tr>",
                            "<tr><td>33</td><td>OnOff Sulpher 1.0</td><td>72</td><td>23</td><td>handlebar</td><td>NULL</td></tr>",
                            "<tr><td>34</td><td>NS License Carb</td><td>69</td><td>71</td><td>handlebar</td><td>NULL</td></tr>",
                            "<tr><td>35</td><td>GT Alloy</td><td>70</td><td>25</td><td>handlebar</td><td>NULL</td></tr>",
                            "<tr><td>36</td><td>Yeti Carbon</td><td>113</td><td>6</td><td>handlebar</td><td>NULL</td></tr>",
                            "<tr><td>37</td><td>RaceFace Aeffect R</td><td>94</td><td>6</td><td>handlebar</td><td>NULL</td></tr>",
                            "<tr><td>38</td><td>Specialized Trail 7050 Alloy</td><td>103</td><td>26</td><td>handlebar</td><td>NULL</td></tr>",
                            "<tr><td>39</td><td>Giant Connect R</td><td>114</td><td>1</td><td>handlebar</td><td>NULL</td></tr>",
                            "<tr><td>40</td><td>Ibis Aluminum</td><td>76</td><td>22</td><td>handlebar</td><td>NULL</td></tr>",
                            "<tr><td>41</td><td>Evil Boomstick 7075 Alloy</td><td>121</td><td>15</td><td>handlebar</td><td>NULL</td></tr>",
                            "<tr><td>42</td><td>Cannondale 2 Flat</td><td>50</td><td>17</td><td>handlebar</td><td>NULL</td></tr>",
                            "<tr><td>44</td><td>RaceFace Turbine R</td><td>96</td><td>6</td><td>handlebar</td><td>NULL</td></tr>",
                            "<tr><td>45</td><td>Burgtec Alloy</td><td>106</td><td>27</td><td>handlebar</td><td>NULL</td></tr>",
                            "<tr><td>46</td><td>Shimano Deore M6100 2</td><td>114.99</td><td>44</td><td>brake</td><td>NULL</td></tr>",
                            "<tr><td>47</td><td>Sram Guide RE</td><td>138</td><td>45</td><td>brake</td><td>NULL</td></tr>",
                            "<tr><td>49</td><td>Magura MT7</td><td>299.99</td><td>56</td><td>brake</td><td>NULL</td></tr>",
                            "<tr><td>50</td><td>TRP Gspec Trail S</td><td>259.99</td><td>57</td><td>brake</td><td>NULL</td></tr>",
                            "<tr><td>51</td><td>Sram Code R</td><td>158</td><td>45</td><td>brake</td><td>NULL</td></tr>",
                            "<tr><td>52</td><td>Shimano M6120</td><td>140.9</td><td>44</td><td>brake</td><td>NULL</td></tr>",
                            "<tr><td>53</td><td>Tektro HDM 735</td><td>119.95</td><td>72</td><td>brake</td><td>NULL</td></tr>",
                            "<tr><td>54</td><td>Shimano MT500</td><td>47.99</td><td>44</td><td>brake</td><td>NULL</td></tr>",
                            "<tr><td>55</td><td>Sram G2 ULT</td><td>286</td><td>45</td><td>brake</td><td>NULL</td></tr>",
                            "<tr><td>56</td><td>Sram Code RSC</td><td>200</td><td>45</td><td>brake</td><td>NULL</td></tr>",
                            "<tr><td>57</td><td>Sram G2 RSC</td><td>160</td><td>45</td><td>brake</td><td>NULL</td></tr>",
                            "<tr><td>58</td><td>Shimano Deore M6120 4</td><td>189</td><td>44</td><td>brake</td><td>NULL</td></tr>",
                            "<tr><td>59</td><td>Shimano SLX M7100</td><td>187</td><td>44</td><td>brake</td><td>NULL</td></tr>",
                            "<tr><td>60</td><td>Sram Code RS</td><td>172</td><td>45</td><td>brake</td><td>NULL</td></tr>",
                            "<tr><td>61</td><td>Shimano XT M8100</td><td>169.99</td><td>44</td><td>brake</td><td>NULL</td></tr>",
                            "<tr><td>62</td><td>Sram Guide T</td><td>129</td><td>45</td><td>brake</td><td>NULL</td></tr>",
                            "<tr><td>64</td><td>Sram Level</td><td>66</td><td>45</td><td>brake</td><td>NULL</td></tr>",
                            "<tr><td>65</td><td>Sram Guide R</td><td>120</td><td>45</td><td>brake</td><td>NULL</td></tr>",
                            "<tr><td>66</td><td>Shimano XTR Trail</td><td>275</td><td>44</td><td>brake</td><td>NULL</td></tr>",
                            "<tr><td>67</td><td>Shimano XT M8120</td><td>181</td><td>44</td><td>brake</td><td>NULL</td></tr>",
                            "<tr><td>68</td><td>Sram G2 R</td><td>138</td><td>45</td><td>brake</td><td>NULL</td></tr>",
                            "<tr><td>69</td><td>Shimnano Deore M6100 4</td><td>178</td><td>44</td><td>brake</td><td>NULL</td></tr>",
                            "<tr><td>70</td><td>Whyte 30mm Carbon</td><td>240</td><td>10</td><td>wheel</td><td>NULL</td></tr>",
                            "<tr><td>71</td><td>Stand NoTubes MK3</td><td>299</td><td>47</td><td>wheel</td><td>NULL</td></tr>",
                            "<tr><td>73</td><td>Octane One Solar</td><td>280.99</td><td>49</td><td>wheel</td><td>NULL</td></tr>",
                            "<tr><td>74</td><td>Giant TRX-2</td><td>550</td><td>1</td><td>wheel</td><td>NULL</td></tr>",
                            "<tr><td>76</td><td>Stans Flow MK3</td><td>200</td><td>47</td><td>wheel</td><td>NULL</td></tr>",
                            "<tr><td>77</td><td>DT Swiss M1700</td><td>502</td><td>48</td><td>wheel</td><td>NULL</td></tr>",
                            "<tr><td>78</td><td>DT Swiss XR-1650</td><td>1007</td><td>48</td><td>wheel</td><td>NULL</td></tr>",
                            "<tr><td>79</td><td>DT Swiss EX1900</td><td>380</td><td>48</td><td>wheel</td><td>NULL</td></tr>",
                            "<tr><td>80</td><td>Crankbrothers Synth EN</td><td>599.98</td><td>50</td><td>wheel</td><td>NULL</td></tr>",
                            "<tr><td>81</td><td>WTB ST i29</td><td>185</td><td>51</td><td>wheel</td><td>NULL</td></tr>",
                            "<tr><td>82</td><td>E13 LG1 EN Race</td><td>390</td><td>5</td><td>wheel</td><td>NULL</td></tr>",
                            "<tr><td>83</td><td>E13 XCX XC</td><td>250</td><td>5</td><td>wheel</td><td>NULL</td></tr>",
                            "<tr><td>84</td><td>i9 Hydra Enduro S</td><td>995</td><td>52</td><td>wheel</td><td>NULL</td></tr>",
                            "<tr><td>85</td><td>i9 Enduro 305</td><td>765</td><td>52</td><td>wheel</td><td>NULL</td></tr>",
                            "<tr><td>86</td><td>Ibis S35 AL</td><td>529</td><td>22</td><td>wheel</td><td>NULL</td></tr>",
                            "<tr><td>87</td><td>NS Enigma Roll</td><td>333.99</td><td>71</td><td>wheel</td><td>NULL</td></tr>",
                            "<tr><td>88</td><td>DT Swixx Custom EX1700</td><td>390</td><td>48</td><td>wheel</td><td>NULL</td></tr>",
                            "</table>"
                        ]
                    }
                }
            ],
            "execution_count": 250
        },
        {
            "cell_type": "markdown",
            "source": [
                "**Now that we have re-named the component name column, we need to make sure the component cost and supplier columns have been updated as well. Update both columns to show $0.00 and 'No Part' respectively. To ensure no null values in the table, you may need to create a supplier entry in the supplier table to point the component supplier column to.**"
            ],
            "metadata": {
                "language": "sql",
                "azdata_cell_guid": "4b9b2760-006e-45d5-aeff-4782ebe14253"
            },
            "attachments": {}
        },
        {
            "cell_type": "code",
            "source": [
                "/*Because comp_supplier can't contain data types other than integers,\n",
                "'No Part' will be represented as 74 as seen in the suppliers table.*/\n",
                "\n",
                "UPDATE dsci_504.components\n",
                "SET comp_cost = 0.00, comp_supplier = 74\n",
                "WHERE comp_name = 'No shock';"
            ],
            "metadata": {
                "language": "sql",
                "azdata_cell_guid": "c4283c6b-f4b0-4ec6-9634-71e33f11cf09"
            },
            "outputs": [
                {
                    "output_type": "display_data",
                    "data": {
                        "text/html": "Commands completed successfully"
                    },
                    "metadata": {}
                },
                {
                    "output_type": "display_data",
                    "data": {
                        "text/html": "Total execution time: 00:00:00.004"
                    },
                    "metadata": {}
                }
            ],
            "execution_count": 252
        },
        {
            "cell_type": "markdown",
            "source": [
                "**Part 2: Now that you have fixed the component and supplier tables, find all sales for hardtail bikes. Include the following columns in your output:**\n",
                "\n",
                "- **Product Name**\n",
                "- **Build Name**\n",
                "- **Sum of the Order Total**\n",
                "\n",
                "**Be sure to create a rollup of the results by product name and build name**"
            ],
            "metadata": {
                "language": "",
                "azdata_cell_guid": "06cba9ba-cc91-4a44-a644-a7d3ee4ef900"
            },
            "attachments": {}
        },
        {
            "cell_type": "code",
            "source": [
                "--Displaying sales for hardtail bikes.\n",
                "\n",
                "WITH cte_prod(prod_id, prod_name)\n",
                "AS(\n",
                "    SELECT p.prod_id\n",
                "          ,p.prod_name\n",
                "    FROM dsci_504.products AS p\n",
                "    WHERE p.prod_description = 'Hardtail Mountain Bike'\n",
                ")\n",
                ", cte_builds(build_id, build_name)\n",
                "AS(\n",
                "    SELECT b.build_id\n",
                "          ,b.build_name\n",
                "    FROM dsci_504.builds AS b\n",
                ")\n",
                ", cte_ord(prod_id, build_id, ord_tot)\n",
                "AS(\n",
                "    SELECT o.prod_id\n",
                "          ,o.build_id \n",
                "          ,o.order_tot\n",
                "    FROM dsci_504.orders AS o \n",
                ")\n",
                "SELECT cte_prod.prod_name\n",
                "      ,cte_builds.build_name\n",
                "      ,sum(cte_ord.ord_tot) AS ord_tot\n",
                "FROM cte_prod \n",
                "INNER JOIN cte_ord\n",
                "ON cte_prod.prod_id = cte_ord.prod_id\n",
                "INNER JOIN cte_builds \n",
                "ON cte_ord.build_id = cte_builds.build_id\n",
                "GROUP BY ROLLUP (prod_name, build_name);"
            ],
            "metadata": {
                "azdata_cell_guid": "0ebd9978-82ed-40f9-b41c-54a0c100e256",
                "language": "sql"
            },
            "outputs": [
                {
                    "output_type": "display_data",
                    "data": {
                        "text/html": "(9 row(s) affected)"
                    },
                    "metadata": {}
                },
                {
                    "output_type": "display_data",
                    "data": {
                        "text/html": "Total execution time: 00:00:00.004"
                    },
                    "metadata": {}
                },
                {
                    "output_type": "execute_result",
                    "metadata": {},
                    "execution_count": 277,
                    "data": {
                        "application/vnd.dataresource+json": {
                            "schema": {
                                "fields": [
                                    {
                                        "name": "prod_name"
                                    },
                                    {
                                        "name": "build_name"
                                    },
                                    {
                                        "name": "ord_tot"
                                    }
                                ]
                            },
                            "data": [
                                {
                                    "0": "NULL",
                                    "1": "NULL",
                                    "2": "366109.01"
                                },
                                {
                                    "0": "Air9",
                                    "1": "trail boss",
                                    "2": "81477.28"
                                },
                                {
                                    "0": "Scout",
                                    "1": "galaxy",
                                    "2": "99342.09"
                                },
                                {
                                    "0": "Chameleon",
                                    "1": "extreme lines",
                                    "2": "71412.49"
                                },
                                {
                                    "0": "DV9",
                                    "1": "max air",
                                    "2": "113877.15"
                                },
                                {
                                    "0": "Scout",
                                    "1": "NULL",
                                    "2": "99342.09"
                                },
                                {
                                    "0": "DV9",
                                    "1": "NULL",
                                    "2": "113877.15"
                                },
                                {
                                    "0": "Air9",
                                    "1": "NULL",
                                    "2": "81477.28"
                                },
                                {
                                    "0": "Chameleon",
                                    "1": "NULL",
                                    "2": "71412.49"
                                }
                            ]
                        },
                        "text/html": [
                            "<table>",
                            "<tr><th>prod_name</th><th>build_name</th><th>ord_tot</th></tr>",
                            "<tr><td>NULL</td><td>NULL</td><td>366109.01</td></tr>",
                            "<tr><td>Air9</td><td>trail boss</td><td>81477.28</td></tr>",
                            "<tr><td>Scout</td><td>galaxy</td><td>99342.09</td></tr>",
                            "<tr><td>Chameleon</td><td>extreme lines</td><td>71412.49</td></tr>",
                            "<tr><td>DV9</td><td>max air</td><td>113877.15</td></tr>",
                            "<tr><td>Scout</td><td>NULL</td><td>99342.09</td></tr>",
                            "<tr><td>DV9</td><td>NULL</td><td>113877.15</td></tr>",
                            "<tr><td>Air9</td><td>NULL</td><td>81477.28</td></tr>",
                            "<tr><td>Chameleon</td><td>NULL</td><td>71412.49</td></tr>",
                            "</table>"
                        ]
                    }
                }
            ],
            "execution_count": 277
        },
        {
            "cell_type": "markdown",
            "source": [
                "**Q: What is the total of sales for all hardtail mountain bikes?**\n",
                "\n",
                "```\n",
                "A: 366109.01\n",
                "\n",
                "```\n",
                "\n",
                "**Q: What was the highest selling bike and build combination?**\n",
                "\n",
                "```\n",
                "A: DV9 & Air Build\n",
                "\n",
                "```\n",
                "\n",
                "**Q: Explain the significance of the NULL values lines in the output**\n",
                "\n",
                "```\n",
                "A: The null values are a result of the group roll up function, and they let us know the aggregate value of the of the non-null item(s).\n",
                "\n",
                "```"
            ],
            "metadata": {
                "language": "sql",
                "azdata_cell_guid": "c6fa9e51-61b5-44c5-9ecd-e74a115c53fa"
            },
            "attachments": {}
        },
        {
            "cell_type": "markdown",
            "source": [
                "**Part 3: You have been asked to provide some data for a side project. Due to privacy reasons, you have been asked to remove certain customer join dates. Create a new table named opc\\_export in the public schema with the following requested fields:**\n",
                "\n",
                "```\n",
                "Customer ID* // Customer Last Name // Customer First Name // Customer Join Date // Customer Appreciation Code // Total Order Quantity // Total Order Value\n",
                "\n",
                "```\n",
                "\n",
                "**You can name the columns whatever you want**"
            ],
            "metadata": {
                "azdata_cell_guid": "007c3089-47d0-4cd2-823d-3deddc05e2f8"
            },
            "attachments": {}
        },
        {
            "cell_type": "code",
            "source": [
                "CREATE TABLE public.opc_export (\n",
                "    cus_id INTEGER,\n",
                "    cus_last_name VARCHAR(50),\n",
                "    cus_first_name VARCHAR(50),\n",
                "    cus_join_date DATE,\n",
                "    cus_app_cd SMALLINT,\n",
                "    tot_ord_qty SMALLINT,\n",
                "    tot_ord_value NUMERIC\n",
                ")"
            ],
            "metadata": {
                "azdata_cell_guid": "40829b6d-b4e7-4cd0-9dcb-1706b51b5cc7",
                "language": "sql"
            },
            "outputs": [
                {
                    "output_type": "display_data",
                    "data": {
                        "text/html": "Commands completed successfully"
                    },
                    "metadata": {}
                },
                {
                    "output_type": "display_data",
                    "data": {
                        "text/html": "Total execution time: 00:00:00.007"
                    },
                    "metadata": {}
                }
            ],
            "execution_count": 43
        },
        {
            "cell_type": "markdown",
            "source": [
                "**Transfer the requested data from the customer table in the DSCI\\_504 schema to the opc\\_export table in the public schema. Only provide data AFTER January 1, 2020. Mask the following dates with NULL values:**\n",
                "\n",
                "```\n",
                "2020-12-12\n",
                "\n",
                "```\n",
                "\n",
                "**You may want to run a query prior to transfering the data to quality check your work.**"
            ],
            "metadata": {
                "azdata_cell_guid": "ced2d572-c22c-4093-9e74-aace29369e66"
            },
            "attachments": {}
        },
        {
            "cell_type": "code",
            "source": [
                "--Transferring data.\n",
                "\n",
                "INSERT INTO public.opc_export as opc\n",
                "SELECT c.cus_id\n",
                "      ,c.cus_last_name\n",
                "      ,c.cus_first_name\n",
                "      ,c.cus_join_date\n",
                "      ,c.cus_app_cd\n",
                "      ,c.tot_ord_qty\n",
                "      ,c.tot_ord_value\n",
                "FROM dsci_504.customers as c\n",
                "WHERE c.cus_join_date > '2020-01-01';"
            ],
            "metadata": {
                "azdata_cell_guid": "1b353b26-0691-4a2c-a446-dbe823f03c26",
                "language": "sql"
            },
            "outputs": [
                {
                    "output_type": "display_data",
                    "data": {
                        "text/html": "Commands completed successfully"
                    },
                    "metadata": {}
                },
                {
                    "output_type": "display_data",
                    "data": {
                        "text/html": "Total execution time: 00:00:00.008"
                    },
                    "metadata": {}
                }
            ],
            "execution_count": 44
        },
        {
            "cell_type": "code",
            "source": [
                "--Nulling dates on 2020-12-12.\n",
                "\n",
                "UPDATE public.opc_export\n",
                "SET    cus_join_date = NULL\n",
                "WHERE  cus_join_date = '2020-12-12';"
            ],
            "metadata": {
                "language": "sql",
                "azdata_cell_guid": "71af4377-bc54-4b39-8715-2f380d6bcde8"
            },
            "outputs": [
                {
                    "output_type": "display_data",
                    "data": {
                        "text/html": "Commands completed successfully"
                    },
                    "metadata": {}
                },
                {
                    "output_type": "display_data",
                    "data": {
                        "text/html": "Total execution time: 00:00:00.001"
                    },
                    "metadata": {}
                }
            ],
            "execution_count": 45
        },
        {
            "cell_type": "markdown",
            "source": [
                "**Run a query to return all records with a customer join date of December 12, 2020**"
            ],
            "metadata": {
                "azdata_cell_guid": "56225dea-4c30-4435-83bd-560846d73738"
            },
            "attachments": {}
        },
        {
            "cell_type": "code",
            "source": [
                "--Displaying records with join date on 2020-12-12. No results. Null was successful. \n",
                "SELECT *\n",
                "FROM public.opc_export AS opc\n",
                "WHERE opc.cus_join_date = '2020-12-12';"
            ],
            "metadata": {
                "azdata_cell_guid": "8a7878bf-b0cb-4d70-bb27-c56ce088e388",
                "language": "sql"
            },
            "outputs": [
                {
                    "output_type": "display_data",
                    "data": {
                        "text/html": "(0 row(s) affected)"
                    },
                    "metadata": {}
                },
                {
                    "output_type": "display_data",
                    "data": {
                        "text/html": "Total execution time: 00:00:00.012"
                    },
                    "metadata": {}
                },
                {
                    "output_type": "execute_result",
                    "metadata": {},
                    "execution_count": 46,
                    "data": {
                        "application/vnd.dataresource+json": {
                            "schema": {
                                "fields": [
                                    {
                                        "name": "cus_id"
                                    },
                                    {
                                        "name": "cus_last_name"
                                    },
                                    {
                                        "name": "cus_first_name"
                                    },
                                    {
                                        "name": "cus_join_date"
                                    },
                                    {
                                        "name": "cus_app_cd"
                                    },
                                    {
                                        "name": "tot_ord_qty"
                                    },
                                    {
                                        "name": "tot_ord_value"
                                    }
                                ]
                            },
                            "data": []
                        },
                        "text/html": [
                            "<table>",
                            "<tr><th>cus_id</th><th>cus_last_name</th><th>cus_first_name</th><th>cus_join_date</th><th>cus_app_cd</th><th>tot_ord_qty</th><th>tot_ord_value</th></tr>",
                            "</table>"
                        ]
                    }
                }
            ],
            "execution_count": 46
        },
        {
            "cell_type": "markdown",
            "source": [
                "**Q: What happened to the records of the individuals who joined on 2020-12-12? Were they masked? Why do youthink the SELECT and INSERT statements behaved differently? Provide your best explanation for what happened.**\n",
                "\n",
                "```\n",
                "A:  The records were masked (nulled), and as a result the query above did not return anything. I tried executing SELECT INTO instead of INSERT to create a new table but it did not work possibly because PostgreSQL inteprets the INTO clause differently according to https://postgrespro.com/docs/postgresql/10/sql-selectinto. \n",
                "\n",
                "```"
            ],
            "metadata": {
                "azdata_cell_guid": "155fd6ad-e021-4d78-9db5-313fc1fb5607"
            },
            "attachments": {}
        },
        {
            "cell_type": "markdown",
            "source": [
                "**Part 4: Tax laws update each year. While previous orders typically will keep the last tax rate for audit purposes, OPC utilizes the previous order structure to copy into the new order when placed. This happens in middleware so there is no additional tax on the database. Modify the tax rate column in the tax table to reflect the new tax rates for the 2022 tax year for each state.**\n",
                "\n",
                "**You may need to do some summary analysis on the table to identify the most appropriate action to take. Be sure to test all queries where you will be overwriting table data before executing. Show all queries.**\n",
                "\n",
                "**Use this resource for all of your tax rates:**\n",
                "\n",
                "[2022 Sales Tax Rates](https://taxfoundation.org/2022-sales-taxes/)"
            ],
            "metadata": {
                "azdata_cell_guid": "3e2c56bc-0c4f-4d1d-92b9-10bd817d98cc"
            },
            "attachments": {}
        },
        {
            "cell_type": "code",
            "source": [
                "--Updating tax rates for each states\n",
                "\n",
                "UPDATE dsci_504.taxes\n",
                "   SET tax_rate = CASE\n",
                "      WHEN tax_location = 'AK' then 0\n",
                "      WHEN tax_location = 'AL' then 4\n",
                "      WHEN tax_location = 'AZ' then 5.6\n",
                "      WHEN tax_location = 'CA' then 7.25\n",
                "      WHEN tax_location = 'CO' then 2.9\n",
                "      WHEN tax_location = 'CT' then 6.35\n",
                "      WHEN tax_location = 'DE' then 0\n",
                "      WHEN tax_location = 'FL' then 6\n",
                "      WHEN tax_location = 'GA' then 4\n",
                "      WHEN tax_location = 'HI' then 4\n",
                "      WHEN tax_location = 'IA' then 6\n",
                "      WHEN tax_location = 'IN' then 4\n",
                "      WHEN tax_location = 'KS' then 6.5\n",
                "      WHEN tax_location = 'KY' then 6\n",
                "      WHEN tax_location = 'LA' then 4.45\n",
                "      WHEN tax_location = 'ME' then 5.5\n",
                "      WHEN tax_location = 'MN' then 6.875\n",
                "      WHEN tax_location = 'NC' then 4.75\n",
                "      WHEN tax_location = 'NE' then 5.5\n",
                "      WHEN tax_location = 'NY' then 4\n",
                "      WHEN tax_location = 'OH' then 5.74\n",
                "      WHEN tax_location = 'OR' then 0\n",
                "      WHEN tax_location = 'PA' then 6\n",
                "      WHEN tax_location = 'RI' then 7\n",
                "      WHEN tax_location = 'SC' then 6\n",
                "      WHEN tax_location = 'TN' then 7\n",
                "      WHEN tax_location = 'UT' then 6.1\n",
                "      WHEN tax_location = 'VA' then 5.3\n",
                "      WHEN tax_location = 'WA' then 6.5\n",
                "      WHEN tax_location = 'WV' then 6\n",
                "      WHEN tax_location = 'WY' then 4\n",
                "      ELSE NULL\n",
                "      END"
            ],
            "metadata": {
                "azdata_cell_guid": "a1e8de9b-9beb-47df-9e52-454fd66fe510",
                "language": "sql",
                "tags": []
            },
            "outputs": [
                {
                    "output_type": "display_data",
                    "data": {
                        "text/html": "Commands completed successfully"
                    },
                    "metadata": {}
                },
                {
                    "output_type": "display_data",
                    "data": {
                        "text/html": "Total execution time: 00:00:00.002"
                    },
                    "metadata": {}
                }
            ],
            "execution_count": 53
        },
        {
            "cell_type": "markdown",
            "source": [
                "**Now that you have the taxes table updated, run a query to find all orders in the order table placed after January 1, 2019 from Ohio. Include a column that calculates the 2022 order total based on the current 2022 tax rate in the taxes table.**"
            ],
            "metadata": {
                "language": "sql",
                "azdata_cell_guid": "a1898a22-d1c9-415a-b650-604e6e78f133"
            },
            "attachments": {}
        },
        {
            "cell_type": "code",
            "source": [
                "--First we found order subtotals. Then we used column to calculate new tax rates.\n",
                "\n",
                "SELECT q1.*\n",
                "      ,ROUND(q1.ord_sub_tot + (q1.ord_sub_tot * q1.new_tax/100), 2) AS new_ord_tot\n",
                "FROM \n",
                "    (SELECT o.*\n",
                "            ,ot.tax_rate AS old_tax\n",
                "            ,round((o.order_tot / (1 + ot.tax_rate/100)), 2) AS ord_sub_tot\n",
                "            ,t.tax_rate AS new_tax\n",
                "    FROM dsci_504.orders AS o\n",
                "    INNER JOIN dsci_504.ordertaxes AS ot \n",
                "    ON o.ord_id = ot.ord_id\n",
                "    INNER JOIN dsci_504.taxes AS t\n",
                "    ON o.ord_tax_loc = t.tax_id\n",
                "    WHERE o.ord_date > '2019-01-01') AS q1"
            ],
            "metadata": {
                "language": "sql",
                "azdata_cell_guid": "16ee9004-7a72-4f4f-91f6-5a92f6210765",
                "tags": []
            },
            "outputs": [
                {
                    "output_type": "display_data",
                    "data": {
                        "text/html": "(121 row(s) affected)"
                    },
                    "metadata": {}
                },
                {
                    "output_type": "display_data",
                    "data": {
                        "text/html": "Total execution time: 00:00:00.014"
                    },
                    "metadata": {}
                },
                {
                    "output_type": "execute_result",
                    "metadata": {},
                    "execution_count": 69,
                    "data": {
                        "application/vnd.dataresource+json": {
                            "schema": {
                                "fields": [
                                    {
                                        "name": "ord_id"
                                    },
                                    {
                                        "name": "ord_date"
                                    },
                                    {
                                        "name": "ord_tax_loc"
                                    },
                                    {
                                        "name": "order_tot"
                                    },
                                    {
                                        "name": "ord_ship_add"
                                    },
                                    {
                                        "name": "ord_ship_date"
                                    },
                                    {
                                        "name": "ord_track_num"
                                    },
                                    {
                                        "name": "prod_id"
                                    },
                                    {
                                        "name": "warehouse_id"
                                    },
                                    {
                                        "name": "cus_id"
                                    },
                                    {
                                        "name": "build_id"
                                    },
                                    {
                                        "name": "old_tax"
                                    },
                                    {
                                        "name": "ord_sub_tot"
                                    },
                                    {
                                        "name": "new_tax"
                                    },
                                    {
                                        "name": "new_ord_tot"
                                    }
                                ]
                            },
                            "data": [
                                {
                                    "0": "4066723",
                                    "1": "2019-03-28",
                                    "2": "21",
                                    "3": "4399",
                                    "4": "false",
                                    "5": "2019-03-29",
                                    "6": "PAC9045159-1    ",
                                    "7": "23",
                                    "8": "2",
                                    "9": "48",
                                    "10": "9",
                                    "11": "0",
                                    "12": "4399.00",
                                    "13": "0",
                                    "14": "4399.00"
                                },
                                {
                                    "0": "1449568",
                                    "1": "2019-02-25",
                                    "2": "22",
                                    "3": "4449.9",
                                    "4": "false",
                                    "5": "2019-02-26",
                                    "6": "PAC6820603-1    ",
                                    "7": "31",
                                    "8": "3",
                                    "9": "52",
                                    "10": "5",
                                    "11": "0",
                                    "12": "4449.90",
                                    "13": "6",
                                    "14": "4716.89"
                                },
                                {
                                    "0": "4911975",
                                    "1": "2019-01-07",
                                    "2": "3",
                                    "3": "4222.94",
                                    "4": "true",
                                    "5": "2019-01-16",
                                    "6": "PAC9897574-1    ",
                                    "7": "69",
                                    "8": "3",
                                    "9": "87",
                                    "10": "32",
                                    "11": "5.6",
                                    "12": "3999.00",
                                    "13": "5.6",
                                    "14": "4222.94"
                                },
                                {
                                    "0": "3163903",
                                    "1": "2019-05-04",
                                    "2": "16",
                                    "3": "4901.52",
                                    "4": "true",
                                    "5": "2019-05-14",
                                    "6": "PAC5875647-3    ",
                                    "7": "59",
                                    "8": "1",
                                    "9": "124",
                                    "10": "56",
                                    "11": "5.5",
                                    "12": "4645.99",
                                    "13": "5.5",
                                    "14": "4901.52"
                                },
                                {
                                    "0": "6711968",
                                    "1": "2019-05-02",
                                    "2": "7",
                                    "3": "3999.99",
                                    "4": "false",
                                    "5": "2019-05-09",
                                    "6": "PAC6348397-2    ",
                                    "7": "28",
                                    "8": "1",
                                    "9": "141",
                                    "10": "20",
                                    "11": "0",
                                    "12": "3999.99",
                                    "13": "0",
                                    "14": "3999.99"
                                },
                                {
                                    "0": "3898397",
                                    "1": "2019-05-06",
                                    "2": "24",
                                    "3": "5146.29",
                                    "4": "true",
                                    "5": "2019-05-08",
                                    "6": "PAC1401133-2    ",
                                    "7": "33",
                                    "8": "2",
                                    "9": "150",
                                    "10": "38",
                                    "11": "6",
                                    "12": "4854.99",
                                    "13": "6",
                                    "14": "5146.29"
                                },
                                {
                                    "0": "2717299",
                                    "1": "2019-12-21",
                                    "2": "3",
                                    "3": "5490.14",
                                    "4": "true",
                                    "5": "2019-12-25",
                                    "6": "PAC8796534-3    ",
                                    "7": "39",
                                    "8": "3",
                                    "9": "170",
                                    "10": "17",
                                    "11": "5.6",
                                    "12": "5199.00",
                                    "13": "5.6",
                                    "14": "5490.14"
                                },
                                {
                                    "0": "1694460",
                                    "1": "2019-07-11",
                                    "2": "24",
                                    "3": "5995.79",
                                    "4": "false",
                                    "5": "2019-07-15",
                                    "6": "PAC8349434-2    ",
                                    "7": "54",
                                    "8": "2",
                                    "9": "214",
                                    "10": "47",
                                    "11": "6",
                                    "12": "5656.41",
                                    "13": "6",
                                    "14": "5995.79"
                                },
                                {
                                    "0": "4409334",
                                    "1": "2019-05-05",
                                    "2": "23",
                                    "3": "4278.93",
                                    "4": "true",
                                    "5": "2019-05-12",
                                    "6": "PAC5820182-1    ",
                                    "7": "9",
                                    "8": "2",
                                    "9": "1",
                                    "10": "51",
                                    "11": "7",
                                    "12": "3999.00",
                                    "13": "7",
                                    "14": "4278.93"
                                },
                                {
                                    "0": "2344343",
                                    "1": "2019-03-09",
                                    "2": "17",
                                    "3": "4701.43",
                                    "4": "true",
                                    "5": "2019-03-12",
                                    "6": "PAC8075556-0    ",
                                    "7": "38",
                                    "8": "3",
                                    "9": "9",
                                    "10": "18",
                                    "11": "8.875",
                                    "12": "4318.19",
                                    "13": "6.875",
                                    "14": "4615.07"
                                },
                                {
                                    "0": "3775746",
                                    "1": "2019-11-05",
                                    "2": "5",
                                    "3": "3861",
                                    "4": "true",
                                    "5": "2019-11-11",
                                    "6": "PAC1258262-3    ",
                                    "7": "64",
                                    "8": "3",
                                    "9": "245",
                                    "10": "26",
                                    "11": "7.25",
                                    "12": "3600.00",
                                    "13": "2.9",
                                    "14": "3704.40"
                                },
                                {
                                    "0": "2107831",
                                    "1": "2019-08-12",
                                    "2": "1",
                                    "3": "2639",
                                    "4": "true",
                                    "5": "2019-08-14",
                                    "6": "PAC8020667-1    ",
                                    "7": "52",
                                    "8": "2",
                                    "9": "248",
                                    "10": "27",
                                    "11": "0",
                                    "12": "2639.00",
                                    "13": "0",
                                    "14": "2639.00"
                                },
                                {
                                    "0": "5635476",
                                    "1": "2019-12-11",
                                    "2": "15",
                                    "3": "3837.48",
                                    "4": "false",
                                    "5": "2019-12-11",
                                    "6": "PAC2865223-1    ",
                                    "7": "51",
                                    "8": "2",
                                    "9": "294",
                                    "10": "28",
                                    "11": "4.45",
                                    "12": "3673.99",
                                    "13": "4.45",
                                    "14": "3837.48"
                                },
                                {
                                    "0": "2435589",
                                    "1": "2019-12-16",
                                    "2": "13",
                                    "3": "3406.94",
                                    "4": "false",
                                    "5": "2019-12-25",
                                    "6": "PAC1417587-0    ",
                                    "7": "43",
                                    "8": "3",
                                    "9": "311",
                                    "10": "62",
                                    "11": "8.52",
                                    "12": "3139.46",
                                    "13": "6.5",
                                    "14": "3343.52"
                                },
                                {
                                    "0": "4995431",
                                    "1": "2019-01-30",
                                    "2": "15",
                                    "3": "5615.22",
                                    "4": "true",
                                    "5": "2019-02-09",
                                    "6": "PAC4671212-0    ",
                                    "7": "46",
                                    "8": "2",
                                    "9": "317",
                                    "10": "48",
                                    "11": "4.45",
                                    "12": "5375.99",
                                    "13": "4.45",
                                    "14": "5615.22"
                                },
                                {
                                    "0": "4688382",
                                    "1": "2019-11-08",
                                    "2": "28",
                                    "3": "3589.05",
                                    "4": "false",
                                    "5": "2019-11-11",
                                    "6": "PAC8451464-1    ",
                                    "7": "36",
                                    "8": "3",
                                    "9": "326",
                                    "10": "58",
                                    "11": "6.5",
                                    "12": "3370.00",
                                    "13": "6.5",
                                    "14": "3589.05"
                                },
                                {
                                    "0": "3534753",
                                    "1": "2019-02-03",
                                    "2": "1",
                                    "3": "5000",
                                    "4": "false",
                                    "5": "2019-02-05",
                                    "6": "PAC6074905-1    ",
                                    "7": "42",
                                    "8": "2",
                                    "9": "335",
                                    "10": "37",
                                    "11": "0",
                                    "12": "5000.00",
                                    "13": "0",
                                    "14": "5000.00"
                                },
                                {
                                    "0": "2560752",
                                    "1": "2019-11-22",
                                    "2": "18",
                                    "3": "6179.2",
                                    "4": "true",
                                    "5": "2019-11-25",
                                    "6": "PAC4573789-1    ",
                                    "7": "34",
                                    "8": "3",
                                    "9": "366",
                                    "10": "54",
                                    "11": "4.75",
                                    "12": "5899.00",
                                    "13": "4.75",
                                    "14": "6179.20"
                                },
                                {
                                    "0": "2760984",
                                    "1": "2019-10-10",
                                    "2": "17",
                                    "3": "4594.56",
                                    "4": "true",
                                    "5": "2019-10-16",
                                    "6": "PAC3701544-3    ",
                                    "7": "41",
                                    "8": "2",
                                    "9": "382",
                                    "10": "38",
                                    "11": "8.875",
                                    "12": "4220.03",
                                    "13": "6.875",
                                    "14": "4510.16"
                                },
                                {
                                    "0": "5642393",
                                    "1": "2019-10-22",
                                    "2": "13",
                                    "3": "3707.25",
                                    "4": "false",
                                    "5": "2019-10-23",
                                    "6": "PAC6876192-3    ",
                                    "7": "5",
                                    "8": "2",
                                    "9": "385",
                                    "10": "15",
                                    "11": "8.52",
                                    "12": "3416.19",
                                    "13": "6.5",
                                    "14": "3638.24"
                                },
                                {
                                    "0": "3671625",
                                    "1": "2019-06-08",
                                    "2": "7",
                                    "3": "4700",
                                    "4": "true",
                                    "5": "2019-06-15",
                                    "6": "PAC6618382-3    ",
                                    "7": "11",
                                    "8": "3",
                                    "9": "396",
                                    "10": "39",
                                    "11": "0",
                                    "12": "4700.00",
                                    "13": "0",
                                    "14": "4700.00"
                                },
                                {
                                    "0": "3111726",
                                    "1": "2019-12-03",
                                    "2": "3",
                                    "3": "7813.34",
                                    "4": "true",
                                    "5": "2019-12-08",
                                    "6": "PAC2803285-3    ",
                                    "7": "24",
                                    "8": "2",
                                    "9": "403",
                                    "10": "8",
                                    "11": "5.6",
                                    "12": "7399.00",
                                    "13": "5.6",
                                    "14": "7813.34"
                                },
                                {
                                    "0": "7227128",
                                    "1": "2019-11-04",
                                    "2": "20",
                                    "3": "4017.44",
                                    "4": "false",
                                    "5": "2019-11-09",
                                    "6": "PAC6797041-3    ",
                                    "7": "29",
                                    "8": "2",
                                    "9": "428",
                                    "10": "21",
                                    "11": "5.75",
                                    "12": "3799.00",
                                    "13": "5.74",
                                    "14": "4017.06"
                                },
                                {
                                    "0": "2764320",
                                    "1": "2019-05-07",
                                    "2": "30",
                                    "3": "2286.96",
                                    "4": "false",
                                    "5": "2019-05-12",
                                    "6": "PAC826586-1     ",
                                    "7": "57",
                                    "8": "3",
                                    "9": "450",
                                    "10": "31",
                                    "11": "4",
                                    "12": "2199.00",
                                    "13": "4",
                                    "14": "2286.96"
                                },
                                {
                                    "0": "2685159",
                                    "1": "2019-04-03",
                                    "2": "14",
                                    "3": "4924.75",
                                    "4": "true",
                                    "5": "2019-04-06",
                                    "6": "PAC445119-1     ",
                                    "7": "59",
                                    "8": "2",
                                    "9": "474",
                                    "10": "56",
                                    "11": "6",
                                    "12": "4645.99",
                                    "13": "6",
                                    "14": "4924.75"
                                },
                                {
                                    "0": "2653183",
                                    "1": "2019-10-06",
                                    "2": "5",
                                    "3": "4665.38",
                                    "4": "false",
                                    "5": "2019-10-07",
                                    "6": "PAC7621983-3    ",
                                    "7": "30",
                                    "8": "3",
                                    "9": "517",
                                    "10": "6",
                                    "11": "7.25",
                                    "12": "4350.00",
                                    "13": "2.9",
                                    "14": "4476.15"
                                },
                                {
                                    "0": "4437977",
                                    "1": "2019-11-07",
                                    "2": "9",
                                    "3": "5834.39",
                                    "4": "false",
                                    "5": "2019-11-14",
                                    "6": "PAC478516-1     ",
                                    "7": "50",
                                    "8": "3",
                                    "9": "518",
                                    "10": "53",
                                    "11": "4",
                                    "12": "5609.99",
                                    "13": "4",
                                    "14": "5834.39"
                                },
                                {
                                    "0": "4733459",
                                    "1": "2019-03-21",
                                    "2": "29",
                                    "3": "3189.54",
                                    "4": "false",
                                    "5": "2019-03-29",
                                    "6": "PAC8887258-0    ",
                                    "7": "37",
                                    "8": "1",
                                    "9": "2140",
                                    "10": "19",
                                    "11": "6",
                                    "12": "3009.00",
                                    "13": "6",
                                    "14": "3189.54"
                                },
                                {
                                    "0": "6680852",
                                    "1": "2019-02-10",
                                    "2": "30",
                                    "3": "7694.96",
                                    "4": "false",
                                    "5": "2019-02-16",
                                    "6": "PAC2689304-0    ",
                                    "7": "22",
                                    "8": "2",
                                    "9": "530",
                                    "10": "11",
                                    "11": "4",
                                    "12": "7399.00",
                                    "13": "4",
                                    "14": "7694.96"
                                },
                                {
                                    "0": "2846767",
                                    "1": "2019-04-06",
                                    "2": "6",
                                    "3": "2338.64",
                                    "4": "true",
                                    "5": "2019-04-10",
                                    "6": "PAC6740725-0    ",
                                    "7": "57",
                                    "8": "1",
                                    "9": "579",
                                    "10": "31",
                                    "11": "6.35",
                                    "12": "2199.00",
                                    "13": "6.35",
                                    "14": "2338.64"
                                },
                                {
                                    "0": "2398667",
                                    "1": "2019-11-15",
                                    "2": "28",
                                    "3": "6646.65",
                                    "4": "true",
                                    "5": "2019-11-17",
                                    "6": "PAC9102287-3    ",
                                    "7": "62",
                                    "8": "1",
                                    "9": "602",
                                    "10": "34",
                                    "11": "6.5",
                                    "12": "6240.99",
                                    "13": "6.5",
                                    "14": "6646.65"
                                },
                                {
                                    "0": "6990345",
                                    "1": "2019-12-13",
                                    "2": "11",
                                    "3": "4716.89",
                                    "4": "false",
                                    "5": "2019-12-14",
                                    "6": "PAC9411872-3    ",
                                    "7": "31",
                                    "8": "1",
                                    "9": "617",
                                    "10": "5",
                                    "11": "6",
                                    "12": "4449.90",
                                    "13": "6",
                                    "14": "4716.89"
                                },
                                {
                                    "0": "7349340",
                                    "1": "2019-07-18",
                                    "2": "17",
                                    "3": "3720.31",
                                    "4": "true",
                                    "5": "2019-07-25",
                                    "6": "PAC5882324-3    ",
                                    "7": "5",
                                    "8": "2",
                                    "9": "643",
                                    "10": "15",
                                    "11": "8.875",
                                    "12": "3417.05",
                                    "13": "6.875",
                                    "14": "3651.97"
                                },
                                {
                                    "0": "7376150",
                                    "1": "2019-01-20",
                                    "2": "15",
                                    "3": "5071.04",
                                    "4": "true",
                                    "5": "2019-01-27",
                                    "6": "PAC510215-1     ",
                                    "7": "33",
                                    "8": "3",
                                    "9": "696",
                                    "10": "38",
                                    "11": "4.45",
                                    "12": "4854.99",
                                    "13": "4.45",
                                    "14": "5071.04"
                                },
                                {
                                    "0": "4015460",
                                    "1": "2019-06-09",
                                    "2": "2",
                                    "3": "3337.44",
                                    "4": "true",
                                    "5": "2019-06-09",
                                    "6": "PAC7505069-0    ",
                                    "7": "55",
                                    "8": "1",
                                    "9": "706",
                                    "10": "64",
                                    "11": "4",
                                    "12": "3209.08",
                                    "13": "4",
                                    "14": "3337.44"
                                },
                                {
                                    "0": "6810609",
                                    "1": "2019-05-05",
                                    "2": "10",
                                    "3": "5049.19",
                                    "4": "false",
                                    "5": "2019-05-07",
                                    "6": "PAC830502-3     ",
                                    "7": "33",
                                    "8": "3",
                                    "9": "708",
                                    "10": "38",
                                    "11": "4",
                                    "12": "4854.99",
                                    "13": "4",
                                    "14": "5049.19"
                                },
                                {
                                    "0": "3015647",
                                    "1": "2019-03-17",
                                    "2": "13",
                                    "3": "6175.94",
                                    "4": "false",
                                    "5": "2019-03-21",
                                    "6": "PAC4349549-3    ",
                                    "7": "21",
                                    "8": "2",
                                    "9": "710",
                                    "10": "10",
                                    "11": "8.52",
                                    "12": "5691.06",
                                    "13": "6.5",
                                    "14": "6060.98"
                                },
                                {
                                    "0": "2747613",
                                    "1": "2019-03-07",
                                    "2": "30",
                                    "3": "3950.96",
                                    "4": "false",
                                    "5": "2019-03-17",
                                    "6": "PAC820955-3     ",
                                    "7": "67",
                                    "8": "3",
                                    "9": "713",
                                    "10": "33",
                                    "11": "4",
                                    "12": "3799.00",
                                    "13": "4",
                                    "14": "3950.96"
                                },
                                {
                                    "0": "4449585",
                                    "1": "2019-04-12",
                                    "2": "8",
                                    "3": "4982",
                                    "4": "false",
                                    "5": "2019-04-15",
                                    "6": "PAC167907-0     ",
                                    "7": "11",
                                    "8": "3",
                                    "9": "715",
                                    "10": "39",
                                    "11": "6",
                                    "12": "4700.00",
                                    "13": "6",
                                    "14": "4982.00"
                                },
                                {
                                    "0": "1448917",
                                    "1": "2019-11-15",
                                    "2": "9",
                                    "3": "3326.96",
                                    "4": "true",
                                    "5": "2019-11-24",
                                    "6": "PAC7444490-2    ",
                                    "7": "43",
                                    "8": "3",
                                    "9": "725",
                                    "10": "62",
                                    "11": "4",
                                    "12": "3199.00",
                                    "13": "4",
                                    "14": "3326.96"
                                },
                                {
                                    "0": "2382046",
                                    "1": "2019-11-02",
                                    "2": "6",
                                    "3": "4784.69",
                                    "4": "false",
                                    "5": "2019-11-04",
                                    "6": "PAC1276602-2    ",
                                    "7": "32",
                                    "8": "1",
                                    "9": "727",
                                    "10": "63",
                                    "11": "6.35",
                                    "12": "4499.00",
                                    "13": "6.35",
                                    "14": "4784.69"
                                },
                                {
                                    "0": "2052365",
                                    "1": "2019-05-10",
                                    "2": "2",
                                    "3": "3950.96",
                                    "4": "false",
                                    "5": "2019-05-11",
                                    "6": "PAC1070751-0    ",
                                    "7": "29",
                                    "8": "1",
                                    "9": "733",
                                    "10": "21",
                                    "11": "4",
                                    "12": "3799.00",
                                    "13": "4",
                                    "14": "3950.96"
                                },
                                {
                                    "0": "1599106",
                                    "1": "2019-06-19",
                                    "2": "16",
                                    "3": "4958.5",
                                    "4": "true",
                                    "5": "2019-06-20",
                                    "6": "PAC4690379-1    ",
                                    "7": "11",
                                    "8": "2",
                                    "9": "791",
                                    "10": "39",
                                    "11": "5.5",
                                    "12": "4700.00",
                                    "13": "5.5",
                                    "14": "4958.50"
                                },
                                {
                                    "0": "6158947",
                                    "1": "2019-05-16",
                                    "2": "27",
                                    "3": "4170.96",
                                    "4": "false",
                                    "5": "2019-05-24",
                                    "6": "PAC9703629-1    ",
                                    "7": "20",
                                    "8": "1",
                                    "9": "812",
                                    "10": "4",
                                    "11": "4.3",
                                    "12": "3999.00",
                                    "13": "5.3",
                                    "14": "4210.95"
                                },
                                {
                                    "0": "2369958",
                                    "1": "2019-10-15",
                                    "2": "4",
                                    "3": "5089.01",
                                    "4": "false",
                                    "5": "2019-10-18",
                                    "6": "PAC39561-0      ",
                                    "7": "45",
                                    "8": "1",
                                    "9": "833",
                                    "10": "45",
                                    "11": "7.25",
                                    "12": "4745.00",
                                    "13": "7.25",
                                    "14": "5089.01"
                                },
                                {
                                    "0": "2067116",
                                    "1": "2019-02-23",
                                    "2": "16",
                                    "3": "6223.45",
                                    "4": "false",
                                    "5": "2019-02-24",
                                    "6": "PAC2286940-2    ",
                                    "7": "34",
                                    "8": "2",
                                    "9": "848",
                                    "10": "54",
                                    "11": "5.5",
                                    "12": "5899.00",
                                    "13": "5.5",
                                    "14": "6223.45"
                                },
                                {
                                    "0": "5936000",
                                    "1": "2019-02-02",
                                    "2": "11",
                                    "3": "5036.05",
                                    "4": "true",
                                    "5": "2019-02-08",
                                    "6": "PAC7318196-2    ",
                                    "7": "25",
                                    "8": "2",
                                    "9": "860",
                                    "10": "23",
                                    "11": "6",
                                    "12": "4750.99",
                                    "13": "6",
                                    "14": "5036.05"
                                },
                                {
                                    "0": "2548837",
                                    "1": "2019-06-18",
                                    "2": "19",
                                    "3": "4218.95",
                                    "4": "false",
                                    "5": "2019-06-27",
                                    "6": "PAC5162119-1    ",
                                    "7": "60",
                                    "8": "1",
                                    "9": "908",
                                    "10": "57",
                                    "11": "5.5",
                                    "12": "3999.00",
                                    "13": "5.5",
                                    "14": "4218.95"
                                },
                                {
                                    "0": "3720513",
                                    "1": "2019-12-16",
                                    "2": "15",
                                    "3": "5071.04",
                                    "4": "true",
                                    "5": "2019-12-17",
                                    "6": "PAC9680059-3    ",
                                    "7": "33",
                                    "8": "1",
                                    "9": "918",
                                    "10": "38",
                                    "11": "4.45",
                                    "12": "4854.99",
                                    "13": "4.45",
                                    "14": "5071.04"
                                },
                                {
                                    "0": "2161283",
                                    "1": "2019-07-03",
                                    "2": "6",
                                    "3": "3722.25",
                                    "4": "true",
                                    "5": "2019-07-10",
                                    "6": "PAC1786775-3    ",
                                    "7": "2",
                                    "8": "2",
                                    "9": "920",
                                    "10": "12",
                                    "11": "6.35",
                                    "12": "3500.00",
                                    "13": "6.35",
                                    "14": "3722.25"
                                },
                                {
                                    "0": "6776988",
                                    "1": "2019-01-17",
                                    "2": "22",
                                    "3": "3673.99",
                                    "4": "true",
                                    "5": "2019-01-18",
                                    "6": "PAC8091839-1    ",
                                    "7": "51",
                                    "8": "1",
                                    "9": "952",
                                    "10": "28",
                                    "11": "0",
                                    "12": "3673.99",
                                    "13": "6",
                                    "14": "3894.43"
                                },
                                {
                                    "0": "1612725",
                                    "1": "2019-09-18",
                                    "2": "30",
                                    "3": "5302.96",
                                    "4": "true",
                                    "5": "2019-09-25",
                                    "6": "PAC6699198-2    ",
                                    "7": "10",
                                    "8": "3",
                                    "9": "1013",
                                    "10": "42",
                                    "11": "4",
                                    "12": "5099.00",
                                    "13": "4",
                                    "14": "5302.96"
                                },
                                {
                                    "0": "5029172",
                                    "1": "2019-04-09",
                                    "2": "23",
                                    "3": "4000.73",
                                    "4": "false",
                                    "5": "2019-04-19",
                                    "6": "PAC8427935-1    ",
                                    "7": "58",
                                    "8": "2",
                                    "9": "1014",
                                    "10": "29",
                                    "11": "7",
                                    "12": "3739.00",
                                    "13": "7",
                                    "14": "4000.73"
                                },
                                {
                                    "0": "3161140",
                                    "1": "2019-11-18",
                                    "2": "10",
                                    "3": "6134.96",
                                    "4": "true",
                                    "5": "2019-11-21",
                                    "6": "PAC5623968-1    ",
                                    "7": "1",
                                    "8": "3",
                                    "9": "1025",
                                    "10": "36",
                                    "11": "4",
                                    "12": "5899.00",
                                    "13": "4",
                                    "14": "6134.96"
                                },
                                {
                                    "0": "6314526",
                                    "1": "2019-10-24",
                                    "2": "13",
                                    "3": "5974.64",
                                    "4": "true",
                                    "5": "2019-10-24",
                                    "6": "PAC9742522-2    ",
                                    "7": "50",
                                    "8": "1",
                                    "9": "1030",
                                    "10": "53",
                                    "11": "8.52",
                                    "12": "5505.57",
                                    "13": "6.5",
                                    "14": "5863.43"
                                },
                                {
                                    "0": "6640295",
                                    "1": "2019-08-10",
                                    "2": "16",
                                    "3": "5012.29",
                                    "4": "true",
                                    "5": "2019-08-19",
                                    "6": "PAC2455692-2    ",
                                    "7": "25",
                                    "8": "1",
                                    "9": "1039",
                                    "10": "23",
                                    "11": "5.5",
                                    "12": "4750.99",
                                    "13": "5.5",
                                    "14": "5012.29"
                                },
                                {
                                    "0": "5185959",
                                    "1": "2019-01-31",
                                    "2": "16",
                                    "3": "4483.75",
                                    "4": "true",
                                    "5": "2019-02-10",
                                    "6": "PAC9979490-1    ",
                                    "7": "19",
                                    "8": "1",
                                    "9": "1073",
                                    "10": "3",
                                    "11": "5.5",
                                    "12": "4250.00",
                                    "13": "5.5",
                                    "14": "4483.75"
                                },
                                {
                                    "0": "5533191",
                                    "1": "2019-02-23",
                                    "2": "14",
                                    "3": "4611",
                                    "4": "true",
                                    "5": "2019-03-01",
                                    "6": "PAC7942036-3    ",
                                    "7": "30",
                                    "8": "2",
                                    "9": "1075",
                                    "10": "6",
                                    "11": "6",
                                    "12": "4350.00",
                                    "13": "6",
                                    "14": "4611.00"
                                },
                                {
                                    "0": "2716051",
                                    "1": "2019-03-13",
                                    "2": "12",
                                    "3": "4523.95",
                                    "4": "true",
                                    "5": "2019-03-20",
                                    "6": "PAC546684-2     ",
                                    "7": "27",
                                    "8": "2",
                                    "9": "1081",
                                    "10": "22",
                                    "11": "7",
                                    "12": "4227.99",
                                    "13": "4",
                                    "14": "4397.11"
                                },
                                {
                                    "0": "1455039",
                                    "1": "2019-02-24",
                                    "2": "25",
                                    "3": "4238.94",
                                    "4": "false",
                                    "5": "2019-02-26",
                                    "6": "PAC4086616-2    ",
                                    "7": "20",
                                    "8": "1",
                                    "9": "1088",
                                    "10": "4",
                                    "11": "6",
                                    "12": "3999.00",
                                    "13": "7",
                                    "14": "4278.93"
                                },
                                {
                                    "0": "2489591",
                                    "1": "2019-07-10",
                                    "2": "24",
                                    "3": "4238.94",
                                    "4": "true",
                                    "5": "2019-07-10",
                                    "6": "PAC6300536-2    ",
                                    "7": "69",
                                    "8": "3",
                                    "9": "1167",
                                    "10": "32",
                                    "11": "6",
                                    "12": "3999.00",
                                    "13": "6",
                                    "14": "4238.94"
                                },
                                {
                                    "0": "6467378",
                                    "1": "2019-07-27",
                                    "2": "28",
                                    "3": "5325",
                                    "4": "false",
                                    "5": "2019-08-02",
                                    "6": "PAC6725648-2    ",
                                    "7": "42",
                                    "8": "3",
                                    "9": "1184",
                                    "10": "37",
                                    "11": "6.5",
                                    "12": "5000.00",
                                    "13": "6.5",
                                    "14": "5325.00"
                                },
                                {
                                    "0": "5942281",
                                    "1": "2019-09-07",
                                    "2": "21",
                                    "3": "5609.99",
                                    "4": "true",
                                    "5": "2019-09-08",
                                    "6": "PAC3654108-2    ",
                                    "7": "50",
                                    "8": "2",
                                    "9": "1204",
                                    "10": "53",
                                    "11": "0",
                                    "12": "5609.99",
                                    "13": "0",
                                    "14": "5609.99"
                                },
                                {
                                    "0": "2869777",
                                    "1": "2019-12-18",
                                    "2": "9",
                                    "3": "3820.95",
                                    "4": "false",
                                    "5": "2019-12-20",
                                    "6": "PAC7331641-2    ",
                                    "7": "51",
                                    "8": "2",
                                    "9": "1273",
                                    "10": "28",
                                    "11": "4",
                                    "12": "3673.99",
                                    "13": "4",
                                    "14": "3820.95"
                                },
                                {
                                    "0": "2238326",
                                    "1": "2019-10-04",
                                    "2": "20",
                                    "3": "2959.94",
                                    "4": "false",
                                    "5": "2019-10-11",
                                    "6": "PAC6585314-0    ",
                                    "7": "9",
                                    "8": "2",
                                    "9": "1281",
                                    "10": "51",
                                    "11": "5.75",
                                    "12": "2799.00",
                                    "13": "5.74",
                                    "14": "2959.66"
                                },
                                {
                                    "0": "3351731",
                                    "1": "2019-04-22",
                                    "2": "29",
                                    "3": "2966.94",
                                    "4": "false",
                                    "5": "2019-04-26",
                                    "6": "PAC6154100-2    ",
                                    "7": "9",
                                    "8": "2",
                                    "9": "1323",
                                    "10": "51",
                                    "11": "6",
                                    "12": "2799.00",
                                    "13": "6",
                                    "14": "2966.94"
                                },
                                {
                                    "0": "2754902",
                                    "1": "2019-10-16",
                                    "2": "16",
                                    "3": "7805.95",
                                    "4": "true",
                                    "5": "2019-10-16",
                                    "6": "PAC1624546-2    ",
                                    "7": "24",
                                    "8": "2",
                                    "9": "1324",
                                    "10": "8",
                                    "11": "5.5",
                                    "12": "7399.00",
                                    "13": "5.5",
                                    "14": "7805.95"
                                },
                                {
                                    "0": "3316974",
                                    "1": "2019-08-11",
                                    "2": "25",
                                    "3": "4452",
                                    "4": "true",
                                    "5": "2019-08-17",
                                    "6": "PAC740180-2     ",
                                    "7": "18",
                                    "8": "3",
                                    "9": "1330",
                                    "10": "2",
                                    "11": "6",
                                    "12": "4200.00",
                                    "13": "7",
                                    "14": "4494.00"
                                },
                                {
                                    "0": "7337778",
                                    "1": "2019-09-02",
                                    "2": "15",
                                    "3": "6161.51",
                                    "4": "false",
                                    "5": "2019-09-04",
                                    "6": "PAC8674423-2    ",
                                    "7": "1",
                                    "8": "1",
                                    "9": "1356",
                                    "10": "36",
                                    "11": "4.45",
                                    "12": "5899.00",
                                    "13": "4.45",
                                    "14": "6161.51"
                                },
                                {
                                    "0": "7098067",
                                    "1": "2019-04-18",
                                    "2": "15",
                                    "3": "4647.92",
                                    "4": "true",
                                    "5": "2019-04-19",
                                    "6": "PAC1823738-3    ",
                                    "7": "31",
                                    "8": "2",
                                    "9": "1363",
                                    "10": "5",
                                    "11": "4.45",
                                    "12": "4449.90",
                                    "13": "4.45",
                                    "14": "4647.92"
                                },
                                {
                                    "0": "6487845",
                                    "1": "2019-01-21",
                                    "2": "20",
                                    "3": "5024.17",
                                    "4": "false",
                                    "5": "2019-01-28",
                                    "6": "PAC8416377-2    ",
                                    "7": "25",
                                    "8": "2",
                                    "9": "1392",
                                    "10": "23",
                                    "11": "5.75",
                                    "12": "4750.99",
                                    "13": "5.74",
                                    "14": "5023.70"
                                },
                                {
                                    "0": "4470329",
                                    "1": "2019-04-22",
                                    "2": "20",
                                    "3": "6238.19",
                                    "4": "false",
                                    "5": "2019-04-22",
                                    "6": "PAC7362378-1    ",
                                    "7": "1",
                                    "8": "3",
                                    "9": "1414",
                                    "10": "36",
                                    "11": "5.75",
                                    "12": "5899.00",
                                    "13": "5.74",
                                    "14": "6237.60"
                                },
                                {
                                    "0": "6178297",
                                    "1": "2019-01-11",
                                    "2": "27",
                                    "3": "3754.8",
                                    "4": "true",
                                    "5": "2019-01-12",
                                    "6": "PAC2826304-1    ",
                                    "7": "64",
                                    "8": "3",
                                    "9": "1444",
                                    "10": "26",
                                    "11": "4.3",
                                    "12": "3600.00",
                                    "13": "5.3",
                                    "14": "3790.80"
                                },
                                {
                                    "0": "4191351",
                                    "1": "2019-04-19",
                                    "2": "29",
                                    "3": "4959.74",
                                    "4": "false",
                                    "5": "2019-04-24",
                                    "6": "PAC9568331-0    ",
                                    "7": "49",
                                    "8": "2",
                                    "9": "1477",
                                    "10": "25",
                                    "11": "6",
                                    "12": "4679.00",
                                    "13": "6",
                                    "14": "4959.74"
                                },
                                {
                                    "0": "6037924",
                                    "1": "2019-06-26",
                                    "2": "20",
                                    "3": "4970.25",
                                    "4": "true",
                                    "5": "2019-07-03",
                                    "6": "PAC7017395-0    ",
                                    "7": "11",
                                    "8": "3",
                                    "9": "1482",
                                    "10": "39",
                                    "11": "5.75",
                                    "12": "4700.00",
                                    "13": "5.74",
                                    "14": "4969.78"
                                },
                                {
                                    "0": "5035355",
                                    "1": "2019-11-26",
                                    "2": "10",
                                    "3": "5720",
                                    "4": "true",
                                    "5": "2019-12-02",
                                    "6": "PAC2228213-1    ",
                                    "7": "12",
                                    "8": "1",
                                    "9": "1497",
                                    "10": "41",
                                    "11": "4",
                                    "12": "5500.00",
                                    "13": "4",
                                    "14": "5720.00"
                                },
                                {
                                    "0": "7020203",
                                    "1": "2019-06-17",
                                    "2": "17",
                                    "3": "5343.75",
                                    "4": "true",
                                    "5": "2019-06-21",
                                    "6": "PAC6282845-3    ",
                                    "7": "42",
                                    "8": "1",
                                    "9": "1546",
                                    "10": "37",
                                    "11": "8.875",
                                    "12": "4908.15",
                                    "13": "6.875",
                                    "14": "5245.59"
                                },
                                {
                                    "0": "6399921",
                                    "1": "2019-07-24",
                                    "2": "7",
                                    "3": "3999",
                                    "4": "false",
                                    "5": "2019-08-02",
                                    "6": "PAC4854935-1    ",
                                    "7": "69",
                                    "8": "3",
                                    "9": "1601",
                                    "10": "32",
                                    "11": "0",
                                    "12": "3999.00",
                                    "13": "0",
                                    "14": "3999.00"
                                },
                                {
                                    "0": "1249068",
                                    "1": "2019-09-26",
                                    "2": "16",
                                    "3": "3798",
                                    "4": "false",
                                    "5": "2019-09-27",
                                    "6": "PAC3757594-3    ",
                                    "7": "64",
                                    "8": "3",
                                    "9": "1632",
                                    "10": "26",
                                    "11": "5.5",
                                    "12": "3600.00",
                                    "13": "5.5",
                                    "14": "3798.00"
                                },
                                {
                                    "0": "1213420",
                                    "1": "2019-02-21",
                                    "2": "21",
                                    "3": "4400",
                                    "4": "false",
                                    "5": "2019-02-26",
                                    "6": "PAC696730-2     ",
                                    "7": "65",
                                    "8": "2",
                                    "9": "1633",
                                    "10": "49",
                                    "11": "0",
                                    "12": "4400.00",
                                    "13": "0",
                                    "14": "4400.00"
                                },
                                {
                                    "0": "5617908",
                                    "1": "2019-07-19",
                                    "2": "20",
                                    "3": "5134.15",
                                    "4": "true",
                                    "5": "2019-07-29",
                                    "6": "PAC1842992-2    ",
                                    "7": "33",
                                    "8": "3",
                                    "9": "1636",
                                    "10": "38",
                                    "11": "5.75",
                                    "12": "4854.99",
                                    "13": "5.74",
                                    "14": "5133.67"
                                },
                                {
                                    "0": "7152184",
                                    "1": "2019-02-06",
                                    "2": "11",
                                    "3": "4716.89",
                                    "4": "false",
                                    "5": "2019-02-15",
                                    "6": "PAC2043529-2    ",
                                    "7": "31",
                                    "8": "1",
                                    "9": "1641",
                                    "10": "5",
                                    "11": "6",
                                    "12": "4449.90",
                                    "13": "6",
                                    "14": "4716.89"
                                },
                                {
                                    "0": "4203747",
                                    "1": "2019-02-21",
                                    "2": "24",
                                    "3": "6252.94",
                                    "4": "true",
                                    "5": "2019-03-02",
                                    "6": "PAC8074134-3    ",
                                    "7": "34",
                                    "8": "1",
                                    "9": "1648",
                                    "10": "54",
                                    "11": "6",
                                    "12": "5899.00",
                                    "13": "6",
                                    "14": "6252.94"
                                },
                                {
                                    "0": "6219405",
                                    "1": "2019-05-22",
                                    "2": "30",
                                    "3": "5591.03",
                                    "4": "true",
                                    "5": "2019-05-24",
                                    "6": "PAC3142912-1    ",
                                    "7": "48",
                                    "8": "2",
                                    "9": "1659",
                                    "10": "50",
                                    "11": "4",
                                    "12": "5375.99",
                                    "13": "4",
                                    "14": "5591.03"
                                },
                                {
                                    "0": "5151191",
                                    "1": "2019-09-29",
                                    "2": "12",
                                    "3": "4278.93",
                                    "4": "false",
                                    "5": "2019-10-07",
                                    "6": "PAC7751633-0    ",
                                    "7": "20",
                                    "8": "1",
                                    "9": "1667",
                                    "10": "4",
                                    "11": "7",
                                    "12": "3999.00",
                                    "13": "4",
                                    "14": "4158.96"
                                },
                                {
                                    "0": "4652616",
                                    "1": "2019-05-24",
                                    "2": "8",
                                    "3": "2966.94",
                                    "4": "true",
                                    "5": "2019-05-28",
                                    "6": "PAC9847907-2    ",
                                    "7": "9",
                                    "8": "3",
                                    "9": "1682",
                                    "10": "51",
                                    "11": "6",
                                    "12": "2799.00",
                                    "13": "6",
                                    "14": "2966.94"
                                },
                                {
                                    "0": "6247649",
                                    "1": "2019-09-16",
                                    "2": "1",
                                    "3": "4399",
                                    "4": "true",
                                    "5": "2019-09-21",
                                    "6": "PAC1064157-3    ",
                                    "7": "23",
                                    "8": "2",
                                    "9": "1688",
                                    "10": "9",
                                    "11": "0",
                                    "12": "4399.00",
                                    "13": "0",
                                    "14": "4399.00"
                                },
                                {
                                    "0": "5460458",
                                    "1": "2019-11-15",
                                    "2": "24",
                                    "3": "3390.94",
                                    "4": "true",
                                    "5": "2019-11-23",
                                    "6": "PAC5548652-3    ",
                                    "7": "43",
                                    "8": "3",
                                    "9": "1693",
                                    "10": "62",
                                    "11": "6",
                                    "12": "3199.00",
                                    "13": "6",
                                    "14": "3390.94"
                                },
                                {
                                    "0": "4558193",
                                    "1": "2019-06-29",
                                    "2": "24",
                                    "3": "5698.55",
                                    "4": "false",
                                    "5": "2019-07-07",
                                    "6": "PAC5574198-0    ",
                                    "7": "48",
                                    "8": "3",
                                    "9": "1790",
                                    "10": "50",
                                    "11": "6",
                                    "12": "5375.99",
                                    "13": "6",
                                    "14": "5698.55"
                                },
                                {
                                    "0": "4740728",
                                    "1": "2019-09-27",
                                    "2": "26",
                                    "3": "4560.98",
                                    "4": "false",
                                    "5": "2019-10-07",
                                    "6": "PAC4893808-0    ",
                                    "7": "30",
                                    "8": "2",
                                    "9": "1793",
                                    "10": "6",
                                    "11": "4.85",
                                    "12": "4350.00",
                                    "13": "6.1",
                                    "14": "4615.35"
                                },
                                {
                                    "0": "2954537",
                                    "1": "2019-11-18",
                                    "2": "26",
                                    "3": "4403.7",
                                    "4": "true",
                                    "5": "2019-11-18",
                                    "6": "PAC2043141-1    ",
                                    "7": "18",
                                    "8": "1",
                                    "9": "1857",
                                    "10": "2",
                                    "11": "4.85",
                                    "12": "4200.00",
                                    "13": "6.1",
                                    "14": "4456.20"
                                },
                                {
                                    "0": "2321304",
                                    "1": "2019-10-24",
                                    "2": "11",
                                    "3": "4238.94",
                                    "4": "true",
                                    "5": "2019-11-01",
                                    "6": "PAC3357014-1    ",
                                    "7": "35",
                                    "8": "3",
                                    "9": "1866",
                                    "10": "59",
                                    "11": "6",
                                    "12": "3999.00",
                                    "13": "6",
                                    "14": "4238.94"
                                },
                                {
                                    "0": "1333321",
                                    "1": "2019-12-19",
                                    "2": "5",
                                    "3": "1984.13",
                                    "4": "true",
                                    "5": "2019-12-22",
                                    "6": "PAC822214-1     ",
                                    "7": "63",
                                    "8": "1",
                                    "9": "1876",
                                    "10": "43",
                                    "11": "7.25",
                                    "12": "1850.00",
                                    "13": "2.9",
                                    "14": "1903.65"
                                },
                                {
                                    "0": "1894953",
                                    "1": "2019-12-01",
                                    "2": "24",
                                    "3": "4450.94",
                                    "4": "false",
                                    "5": "2019-12-11",
                                    "6": "PAC4725478-2    ",
                                    "7": "40",
                                    "8": "2",
                                    "9": "1908",
                                    "10": "16",
                                    "11": "6",
                                    "12": "4199.00",
                                    "13": "6",
                                    "14": "4450.94"
                                },
                                {
                                    "0": "5020865",
                                    "1": "2019-10-18",
                                    "2": "24",
                                    "3": "4924.75",
                                    "4": "false",
                                    "5": "2019-10-21",
                                    "6": "PAC8572877-3    ",
                                    "7": "59",
                                    "8": "3",
                                    "9": "1932",
                                    "10": "56",
                                    "11": "6",
                                    "12": "4645.99",
                                    "13": "6",
                                    "14": "4924.75"
                                },
                                {
                                    "0": "5443155",
                                    "1": "2019-10-30",
                                    "2": "4",
                                    "3": "4717.93",
                                    "4": "false",
                                    "5": "2019-10-31",
                                    "6": "PAC7518672-3    ",
                                    "7": "38",
                                    "8": "2",
                                    "9": "1939",
                                    "10": "18",
                                    "11": "7.25",
                                    "12": "4399.00",
                                    "13": "7.25",
                                    "14": "4717.93"
                                },
                                {
                                    "0": "7002106",
                                    "1": "2019-05-03",
                                    "2": "1",
                                    "3": "5000",
                                    "4": "true",
                                    "5": "2019-05-04",
                                    "6": "PAC8098207-0    ",
                                    "7": "42",
                                    "8": "1",
                                    "9": "1990",
                                    "10": "37",
                                    "11": "0",
                                    "12": "5000.00",
                                    "13": "0",
                                    "14": "5000.00"
                                },
                                {
                                    "0": "3910462",
                                    "1": "2019-02-22",
                                    "2": "29",
                                    "3": "4238.94",
                                    "4": "true",
                                    "5": "2019-02-28",
                                    "6": "PAC7886519-2    ",
                                    "7": "35",
                                    "8": "2",
                                    "9": "2026",
                                    "10": "59",
                                    "11": "6",
                                    "12": "3999.00",
                                    "13": "6",
                                    "14": "4238.94"
                                },
                                {
                                    "0": "3283550",
                                    "1": "2019-11-05",
                                    "2": "11",
                                    "3": "4238.94",
                                    "4": "true",
                                    "5": "2019-11-13",
                                    "6": "PAC1717817-1    ",
                                    "7": "35",
                                    "8": "1",
                                    "9": "2032",
                                    "10": "59",
                                    "11": "6",
                                    "12": "3999.00",
                                    "13": "6",
                                    "14": "4238.94"
                                },
                                {
                                    "0": "6035941",
                                    "1": "2019-06-23",
                                    "2": "28",
                                    "3": "1970.25",
                                    "4": "true",
                                    "5": "2019-07-03",
                                    "6": "PAC6580097-0    ",
                                    "7": "63",
                                    "8": "1",
                                    "9": "2056",
                                    "10": "43",
                                    "11": "6.5",
                                    "12": "1850.00",
                                    "13": "6.5",
                                    "14": "1970.25"
                                },
                                {
                                    "0": "3691505",
                                    "1": "2019-08-17",
                                    "2": "24",
                                    "3": "2330.94",
                                    "4": "false",
                                    "5": "2019-08-24",
                                    "6": "PAC4057382-0    ",
                                    "7": "57",
                                    "8": "3",
                                    "9": "2078",
                                    "10": "31",
                                    "11": "6",
                                    "12": "2199.00",
                                    "13": "6",
                                    "14": "2330.94"
                                },
                                {
                                    "0": "2402430",
                                    "1": "2019-02-04",
                                    "2": "10",
                                    "3": "5507.74",
                                    "4": "false",
                                    "5": "2019-02-06",
                                    "6": "PAC5271576-2    ",
                                    "7": "17",
                                    "8": "2",
                                    "9": "2085",
                                    "10": "61",
                                    "11": "4",
                                    "12": "5295.90",
                                    "13": "4",
                                    "14": "5507.74"
                                },
                                {
                                    "0": "1428972",
                                    "1": "2019-02-08",
                                    "2": "7",
                                    "3": "5899",
                                    "4": "false",
                                    "5": "2019-02-14",
                                    "6": "PAC1941506-2    ",
                                    "7": "34",
                                    "8": "1",
                                    "9": "2090",
                                    "10": "54",
                                    "11": "0",
                                    "12": "5899.00",
                                    "13": "0",
                                    "14": "5899.00"
                                },
                                {
                                    "0": "4292007",
                                    "1": "2019-10-23",
                                    "2": "30",
                                    "3": "6030.96",
                                    "4": "false",
                                    "5": "2019-10-27",
                                    "6": "PAC5302137-2    ",
                                    "7": "21",
                                    "8": "1",
                                    "9": "2099",
                                    "10": "10",
                                    "11": "4",
                                    "12": "5799.00",
                                    "13": "4",
                                    "14": "6030.96"
                                },
                                {
                                    "0": "5327025",
                                    "1": "2019-01-05",
                                    "2": "1",
                                    "3": "3500",
                                    "4": "false",
                                    "5": "2019-01-05",
                                    "6": "PAC7889162-3    ",
                                    "7": "2",
                                    "8": "1",
                                    "9": "2154",
                                    "10": "12",
                                    "11": "0",
                                    "12": "3500.00",
                                    "13": "0",
                                    "14": "3500.00"
                                },
                                {
                                    "0": "3496466",
                                    "1": "2019-03-28",
                                    "2": "4",
                                    "3": "4717.93",
                                    "4": "false",
                                    "5": "2019-04-06",
                                    "6": "PAC3061964-3    ",
                                    "7": "23",
                                    "8": "3",
                                    "9": "2183",
                                    "10": "9",
                                    "11": "7.25",
                                    "12": "4399.00",
                                    "13": "7.25",
                                    "14": "4717.93"
                                },
                                {
                                    "0": "5584011",
                                    "1": "2019-09-30",
                                    "2": "28",
                                    "3": "4502.81",
                                    "4": "true",
                                    "5": "2019-10-08",
                                    "6": "PAC4243340-1    ",
                                    "7": "27",
                                    "8": "1",
                                    "9": "2216",
                                    "10": "22",
                                    "11": "6.5",
                                    "12": "4227.99",
                                    "13": "6.5",
                                    "14": "4502.81"
                                },
                                {
                                    "0": "3002323",
                                    "1": "2019-07-10",
                                    "2": "26",
                                    "3": "4665.72",
                                    "4": "true",
                                    "5": "2019-07-20",
                                    "6": "PAC3839082-0    ",
                                    "7": "31",
                                    "8": "1",
                                    "9": "2226",
                                    "10": "5",
                                    "11": "4.85",
                                    "12": "4449.90",
                                    "13": "6.1",
                                    "14": "4721.34"
                                },
                                {
                                    "0": "6698819",
                                    "1": "2019-10-20",
                                    "2": "15",
                                    "3": "5430.36",
                                    "4": "false",
                                    "5": "2019-10-26",
                                    "6": "PAC9097246-2    ",
                                    "7": "39",
                                    "8": "2",
                                    "9": "2229",
                                    "10": "17",
                                    "11": "4.45",
                                    "12": "5199.00",
                                    "13": "4.45",
                                    "14": "5430.36"
                                },
                                {
                                    "0": "3191867",
                                    "1": "2019-05-08",
                                    "2": "22",
                                    "3": "5899",
                                    "4": "false",
                                    "5": "2019-05-15",
                                    "6": "PAC4157055-0    ",
                                    "7": "1",
                                    "8": "2",
                                    "9": "2237",
                                    "10": "36",
                                    "11": "0",
                                    "12": "5899.00",
                                    "13": "6",
                                    "14": "6252.94"
                                },
                                {
                                    "0": "5381339",
                                    "1": "2019-04-27",
                                    "2": "27",
                                    "3": "3545.16",
                                    "4": "false",
                                    "5": "2019-05-06",
                                    "6": "PAC1500592-2    ",
                                    "7": "66",
                                    "8": "3",
                                    "9": "2252",
                                    "10": "40",
                                    "11": "4.3",
                                    "12": "3399.00",
                                    "13": "5.3",
                                    "14": "3579.15"
                                },
                                {
                                    "0": "5085733",
                                    "1": "2019-09-23",
                                    "2": "1",
                                    "3": "4645.99",
                                    "4": "true",
                                    "5": "2019-09-29",
                                    "6": "PAC5662966-1    ",
                                    "7": "59",
                                    "8": "2",
                                    "9": "2301",
                                    "10": "56",
                                    "11": "0",
                                    "12": "4645.99",
                                    "13": "0",
                                    "14": "4645.99"
                                },
                                {
                                    "0": "6102211",
                                    "1": "2019-08-03",
                                    "2": "5",
                                    "3": "3614.33",
                                    "4": "true",
                                    "5": "2019-08-11",
                                    "6": "PAC8175536-1    ",
                                    "7": "36",
                                    "8": "2",
                                    "9": "2305",
                                    "10": "58",
                                    "11": "7.25",
                                    "12": "3370.00",
                                    "13": "2.9",
                                    "14": "3467.73"
                                },
                                {
                                    "0": "6762144",
                                    "1": "2019-09-01",
                                    "2": "15",
                                    "3": "4416.14",
                                    "4": "true",
                                    "5": "2019-09-04",
                                    "6": "PAC2897854-1    ",
                                    "7": "27",
                                    "8": "1",
                                    "9": "2326",
                                    "10": "22",
                                    "11": "4.45",
                                    "12": "4227.99",
                                    "13": "4.45",
                                    "14": "4416.14"
                                },
                                {
                                    "0": "4719489",
                                    "1": "2019-02-07",
                                    "2": "27",
                                    "3": "3630.67",
                                    "4": "true",
                                    "5": "2019-02-14",
                                    "6": "PAC8078227-1    ",
                                    "7": "5",
                                    "8": "1",
                                    "9": "2339",
                                    "10": "15",
                                    "11": "4.3",
                                    "12": "3480.99",
                                    "13": "5.3",
                                    "14": "3665.48"
                                },
                                {
                                    "0": "2126409",
                                    "1": "2019-08-28",
                                    "2": "15",
                                    "3": "5859.63",
                                    "4": "false",
                                    "5": "2019-09-07",
                                    "6": "PAC443306-1     ",
                                    "7": "50",
                                    "8": "1",
                                    "9": "2349",
                                    "10": "53",
                                    "11": "4.45",
                                    "12": "5609.99",
                                    "13": "4.45",
                                    "14": "5859.63"
                                },
                                {
                                    "0": "5228079",
                                    "1": "2019-10-20",
                                    "2": "8",
                                    "3": "2966.94",
                                    "4": "false",
                                    "5": "2019-10-24",
                                    "6": "PAC5302548-1    ",
                                    "7": "9",
                                    "8": "3",
                                    "9": "2365",
                                    "10": "51",
                                    "11": "6",
                                    "12": "2799.00",
                                    "13": "6",
                                    "14": "2966.94"
                                },
                                {
                                    "0": "3972539",
                                    "1": "2019-06-21",
                                    "2": "3",
                                    "3": "3675.93",
                                    "4": "true",
                                    "5": "2019-06-21",
                                    "6": "PAC5567492-1    ",
                                    "7": "5",
                                    "8": "3",
                                    "9": "2383",
                                    "10": "15",
                                    "11": "5.6",
                                    "12": "3480.99",
                                    "13": "5.6",
                                    "14": "3675.93"
                                },
                                {
                                    "0": "1248651",
                                    "1": "2019-10-02",
                                    "2": "9",
                                    "3": "3534.96",
                                    "4": "false",
                                    "5": "2019-10-04",
                                    "6": "PAC8492945-2    ",
                                    "7": "66",
                                    "8": "1",
                                    "9": "2474",
                                    "10": "40",
                                    "11": "4",
                                    "12": "3399.00",
                                    "13": "4",
                                    "14": "3534.96"
                                },
                                {
                                    "0": "5372679",
                                    "1": "2019-05-20",
                                    "2": "20",
                                    "3": "4440.44",
                                    "4": "true",
                                    "5": "2019-05-20",
                                    "6": "PAC6583180-2    ",
                                    "7": "61",
                                    "8": "3",
                                    "9": "2490",
                                    "10": "35",
                                    "11": "5.75",
                                    "12": "4199.00",
                                    "13": "5.74",
                                    "14": "4440.02"
                                },
                                {
                                    "0": "4213716",
                                    "1": "2019-05-18",
                                    "2": "13",
                                    "3": "6282.44",
                                    "4": "false",
                                    "5": "2019-05-28",
                                    "6": "PAC2273743-2    ",
                                    "7": "34",
                                    "8": "1",
                                    "9": "2582",
                                    "10": "54",
                                    "11": "8.52",
                                    "12": "5789.20",
                                    "13": "6.5",
                                    "14": "6165.50"
                                }
                            ]
                        },
                        "text/html": [
                            "<table>",
                            "<tr><th>ord_id</th><th>ord_date</th><th>ord_tax_loc</th><th>order_tot</th><th>ord_ship_add</th><th>ord_ship_date</th><th>ord_track_num</th><th>prod_id</th><th>warehouse_id</th><th>cus_id</th><th>build_id</th><th>old_tax</th><th>ord_sub_tot</th><th>new_tax</th><th>new_ord_tot</th></tr>",
                            "<tr><td>4066723</td><td>2019-03-28</td><td>21</td><td>4399</td><td>false</td><td>2019-03-29</td><td>PAC9045159-1    </td><td>23</td><td>2</td><td>48</td><td>9</td><td>0</td><td>4399.00</td><td>0</td><td>4399.00</td></tr>",
                            "<tr><td>1449568</td><td>2019-02-25</td><td>22</td><td>4449.9</td><td>false</td><td>2019-02-26</td><td>PAC6820603-1    </td><td>31</td><td>3</td><td>52</td><td>5</td><td>0</td><td>4449.90</td><td>6</td><td>4716.89</td></tr>",
                            "<tr><td>4911975</td><td>2019-01-07</td><td>3</td><td>4222.94</td><td>true</td><td>2019-01-16</td><td>PAC9897574-1    </td><td>69</td><td>3</td><td>87</td><td>32</td><td>5.6</td><td>3999.00</td><td>5.6</td><td>4222.94</td></tr>",
                            "<tr><td>3163903</td><td>2019-05-04</td><td>16</td><td>4901.52</td><td>true</td><td>2019-05-14</td><td>PAC5875647-3    </td><td>59</td><td>1</td><td>124</td><td>56</td><td>5.5</td><td>4645.99</td><td>5.5</td><td>4901.52</td></tr>",
                            "<tr><td>6711968</td><td>2019-05-02</td><td>7</td><td>3999.99</td><td>false</td><td>2019-05-09</td><td>PAC6348397-2    </td><td>28</td><td>1</td><td>141</td><td>20</td><td>0</td><td>3999.99</td><td>0</td><td>3999.99</td></tr>",
                            "<tr><td>3898397</td><td>2019-05-06</td><td>24</td><td>5146.29</td><td>true</td><td>2019-05-08</td><td>PAC1401133-2    </td><td>33</td><td>2</td><td>150</td><td>38</td><td>6</td><td>4854.99</td><td>6</td><td>5146.29</td></tr>",
                            "<tr><td>2717299</td><td>2019-12-21</td><td>3</td><td>5490.14</td><td>true</td><td>2019-12-25</td><td>PAC8796534-3    </td><td>39</td><td>3</td><td>170</td><td>17</td><td>5.6</td><td>5199.00</td><td>5.6</td><td>5490.14</td></tr>",
                            "<tr><td>1694460</td><td>2019-07-11</td><td>24</td><td>5995.79</td><td>false</td><td>2019-07-15</td><td>PAC8349434-2    </td><td>54</td><td>2</td><td>214</td><td>47</td><td>6</td><td>5656.41</td><td>6</td><td>5995.79</td></tr>",
                            "<tr><td>4409334</td><td>2019-05-05</td><td>23</td><td>4278.93</td><td>true</td><td>2019-05-12</td><td>PAC5820182-1    </td><td>9</td><td>2</td><td>1</td><td>51</td><td>7</td><td>3999.00</td><td>7</td><td>4278.93</td></tr>",
                            "<tr><td>2344343</td><td>2019-03-09</td><td>17</td><td>4701.43</td><td>true</td><td>2019-03-12</td><td>PAC8075556-0    </td><td>38</td><td>3</td><td>9</td><td>18</td><td>8.875</td><td>4318.19</td><td>6.875</td><td>4615.07</td></tr>",
                            "<tr><td>3775746</td><td>2019-11-05</td><td>5</td><td>3861</td><td>true</td><td>2019-11-11</td><td>PAC1258262-3    </td><td>64</td><td>3</td><td>245</td><td>26</td><td>7.25</td><td>3600.00</td><td>2.9</td><td>3704.40</td></tr>",
                            "<tr><td>2107831</td><td>2019-08-12</td><td>1</td><td>2639</td><td>true</td><td>2019-08-14</td><td>PAC8020667-1    </td><td>52</td><td>2</td><td>248</td><td>27</td><td>0</td><td>2639.00</td><td>0</td><td>2639.00</td></tr>",
                            "<tr><td>5635476</td><td>2019-12-11</td><td>15</td><td>3837.48</td><td>false</td><td>2019-12-11</td><td>PAC2865223-1    </td><td>51</td><td>2</td><td>294</td><td>28</td><td>4.45</td><td>3673.99</td><td>4.45</td><td>3837.48</td></tr>",
                            "<tr><td>2435589</td><td>2019-12-16</td><td>13</td><td>3406.94</td><td>false</td><td>2019-12-25</td><td>PAC1417587-0    </td><td>43</td><td>3</td><td>311</td><td>62</td><td>8.52</td><td>3139.46</td><td>6.5</td><td>3343.52</td></tr>",
                            "<tr><td>4995431</td><td>2019-01-30</td><td>15</td><td>5615.22</td><td>true</td><td>2019-02-09</td><td>PAC4671212-0    </td><td>46</td><td>2</td><td>317</td><td>48</td><td>4.45</td><td>5375.99</td><td>4.45</td><td>5615.22</td></tr>",
                            "<tr><td>4688382</td><td>2019-11-08</td><td>28</td><td>3589.05</td><td>false</td><td>2019-11-11</td><td>PAC8451464-1    </td><td>36</td><td>3</td><td>326</td><td>58</td><td>6.5</td><td>3370.00</td><td>6.5</td><td>3589.05</td></tr>",
                            "<tr><td>3534753</td><td>2019-02-03</td><td>1</td><td>5000</td><td>false</td><td>2019-02-05</td><td>PAC6074905-1    </td><td>42</td><td>2</td><td>335</td><td>37</td><td>0</td><td>5000.00</td><td>0</td><td>5000.00</td></tr>",
                            "<tr><td>2560752</td><td>2019-11-22</td><td>18</td><td>6179.2</td><td>true</td><td>2019-11-25</td><td>PAC4573789-1    </td><td>34</td><td>3</td><td>366</td><td>54</td><td>4.75</td><td>5899.00</td><td>4.75</td><td>6179.20</td></tr>",
                            "<tr><td>2760984</td><td>2019-10-10</td><td>17</td><td>4594.56</td><td>true</td><td>2019-10-16</td><td>PAC3701544-3    </td><td>41</td><td>2</td><td>382</td><td>38</td><td>8.875</td><td>4220.03</td><td>6.875</td><td>4510.16</td></tr>",
                            "<tr><td>5642393</td><td>2019-10-22</td><td>13</td><td>3707.25</td><td>false</td><td>2019-10-23</td><td>PAC6876192-3    </td><td>5</td><td>2</td><td>385</td><td>15</td><td>8.52</td><td>3416.19</td><td>6.5</td><td>3638.24</td></tr>",
                            "<tr><td>3671625</td><td>2019-06-08</td><td>7</td><td>4700</td><td>true</td><td>2019-06-15</td><td>PAC6618382-3    </td><td>11</td><td>3</td><td>396</td><td>39</td><td>0</td><td>4700.00</td><td>0</td><td>4700.00</td></tr>",
                            "<tr><td>3111726</td><td>2019-12-03</td><td>3</td><td>7813.34</td><td>true</td><td>2019-12-08</td><td>PAC2803285-3    </td><td>24</td><td>2</td><td>403</td><td>8</td><td>5.6</td><td>7399.00</td><td>5.6</td><td>7813.34</td></tr>",
                            "<tr><td>7227128</td><td>2019-11-04</td><td>20</td><td>4017.44</td><td>false</td><td>2019-11-09</td><td>PAC6797041-3    </td><td>29</td><td>2</td><td>428</td><td>21</td><td>5.75</td><td>3799.00</td><td>5.74</td><td>4017.06</td></tr>",
                            "<tr><td>2764320</td><td>2019-05-07</td><td>30</td><td>2286.96</td><td>false</td><td>2019-05-12</td><td>PAC826586-1     </td><td>57</td><td>3</td><td>450</td><td>31</td><td>4</td><td>2199.00</td><td>4</td><td>2286.96</td></tr>",
                            "<tr><td>2685159</td><td>2019-04-03</td><td>14</td><td>4924.75</td><td>true</td><td>2019-04-06</td><td>PAC445119-1     </td><td>59</td><td>2</td><td>474</td><td>56</td><td>6</td><td>4645.99</td><td>6</td><td>4924.75</td></tr>",
                            "<tr><td>2653183</td><td>2019-10-06</td><td>5</td><td>4665.38</td><td>false</td><td>2019-10-07</td><td>PAC7621983-3    </td><td>30</td><td>3</td><td>517</td><td>6</td><td>7.25</td><td>4350.00</td><td>2.9</td><td>4476.15</td></tr>",
                            "<tr><td>4437977</td><td>2019-11-07</td><td>9</td><td>5834.39</td><td>false</td><td>2019-11-14</td><td>PAC478516-1     </td><td>50</td><td>3</td><td>518</td><td>53</td><td>4</td><td>5609.99</td><td>4</td><td>5834.39</td></tr>",
                            "<tr><td>4733459</td><td>2019-03-21</td><td>29</td><td>3189.54</td><td>false</td><td>2019-03-29</td><td>PAC8887258-0    </td><td>37</td><td>1</td><td>2140</td><td>19</td><td>6</td><td>3009.00</td><td>6</td><td>3189.54</td></tr>",
                            "<tr><td>6680852</td><td>2019-02-10</td><td>30</td><td>7694.96</td><td>false</td><td>2019-02-16</td><td>PAC2689304-0    </td><td>22</td><td>2</td><td>530</td><td>11</td><td>4</td><td>7399.00</td><td>4</td><td>7694.96</td></tr>",
                            "<tr><td>2846767</td><td>2019-04-06</td><td>6</td><td>2338.64</td><td>true</td><td>2019-04-10</td><td>PAC6740725-0    </td><td>57</td><td>1</td><td>579</td><td>31</td><td>6.35</td><td>2199.00</td><td>6.35</td><td>2338.64</td></tr>",
                            "<tr><td>2398667</td><td>2019-11-15</td><td>28</td><td>6646.65</td><td>true</td><td>2019-11-17</td><td>PAC9102287-3    </td><td>62</td><td>1</td><td>602</td><td>34</td><td>6.5</td><td>6240.99</td><td>6.5</td><td>6646.65</td></tr>",
                            "<tr><td>6990345</td><td>2019-12-13</td><td>11</td><td>4716.89</td><td>false</td><td>2019-12-14</td><td>PAC9411872-3    </td><td>31</td><td>1</td><td>617</td><td>5</td><td>6</td><td>4449.90</td><td>6</td><td>4716.89</td></tr>",
                            "<tr><td>7349340</td><td>2019-07-18</td><td>17</td><td>3720.31</td><td>true</td><td>2019-07-25</td><td>PAC5882324-3    </td><td>5</td><td>2</td><td>643</td><td>15</td><td>8.875</td><td>3417.05</td><td>6.875</td><td>3651.97</td></tr>",
                            "<tr><td>7376150</td><td>2019-01-20</td><td>15</td><td>5071.04</td><td>true</td><td>2019-01-27</td><td>PAC510215-1     </td><td>33</td><td>3</td><td>696</td><td>38</td><td>4.45</td><td>4854.99</td><td>4.45</td><td>5071.04</td></tr>",
                            "<tr><td>4015460</td><td>2019-06-09</td><td>2</td><td>3337.44</td><td>true</td><td>2019-06-09</td><td>PAC7505069-0    </td><td>55</td><td>1</td><td>706</td><td>64</td><td>4</td><td>3209.08</td><td>4</td><td>3337.44</td></tr>",
                            "<tr><td>6810609</td><td>2019-05-05</td><td>10</td><td>5049.19</td><td>false</td><td>2019-05-07</td><td>PAC830502-3     </td><td>33</td><td>3</td><td>708</td><td>38</td><td>4</td><td>4854.99</td><td>4</td><td>5049.19</td></tr>",
                            "<tr><td>3015647</td><td>2019-03-17</td><td>13</td><td>6175.94</td><td>false</td><td>2019-03-21</td><td>PAC4349549-3    </td><td>21</td><td>2</td><td>710</td><td>10</td><td>8.52</td><td>5691.06</td><td>6.5</td><td>6060.98</td></tr>",
                            "<tr><td>2747613</td><td>2019-03-07</td><td>30</td><td>3950.96</td><td>false</td><td>2019-03-17</td><td>PAC820955-3     </td><td>67</td><td>3</td><td>713</td><td>33</td><td>4</td><td>3799.00</td><td>4</td><td>3950.96</td></tr>",
                            "<tr><td>4449585</td><td>2019-04-12</td><td>8</td><td>4982</td><td>false</td><td>2019-04-15</td><td>PAC167907-0     </td><td>11</td><td>3</td><td>715</td><td>39</td><td>6</td><td>4700.00</td><td>6</td><td>4982.00</td></tr>",
                            "<tr><td>1448917</td><td>2019-11-15</td><td>9</td><td>3326.96</td><td>true</td><td>2019-11-24</td><td>PAC7444490-2    </td><td>43</td><td>3</td><td>725</td><td>62</td><td>4</td><td>3199.00</td><td>4</td><td>3326.96</td></tr>",
                            "<tr><td>2382046</td><td>2019-11-02</td><td>6</td><td>4784.69</td><td>false</td><td>2019-11-04</td><td>PAC1276602-2    </td><td>32</td><td>1</td><td>727</td><td>63</td><td>6.35</td><td>4499.00</td><td>6.35</td><td>4784.69</td></tr>",
                            "<tr><td>2052365</td><td>2019-05-10</td><td>2</td><td>3950.96</td><td>false</td><td>2019-05-11</td><td>PAC1070751-0    </td><td>29</td><td>1</td><td>733</td><td>21</td><td>4</td><td>3799.00</td><td>4</td><td>3950.96</td></tr>",
                            "<tr><td>1599106</td><td>2019-06-19</td><td>16</td><td>4958.5</td><td>true</td><td>2019-06-20</td><td>PAC4690379-1    </td><td>11</td><td>2</td><td>791</td><td>39</td><td>5.5</td><td>4700.00</td><td>5.5</td><td>4958.50</td></tr>",
                            "<tr><td>6158947</td><td>2019-05-16</td><td>27</td><td>4170.96</td><td>false</td><td>2019-05-24</td><td>PAC9703629-1    </td><td>20</td><td>1</td><td>812</td><td>4</td><td>4.3</td><td>3999.00</td><td>5.3</td><td>4210.95</td></tr>",
                            "<tr><td>2369958</td><td>2019-10-15</td><td>4</td><td>5089.01</td><td>false</td><td>2019-10-18</td><td>PAC39561-0      </td><td>45</td><td>1</td><td>833</td><td>45</td><td>7.25</td><td>4745.00</td><td>7.25</td><td>5089.01</td></tr>",
                            "<tr><td>2067116</td><td>2019-02-23</td><td>16</td><td>6223.45</td><td>false</td><td>2019-02-24</td><td>PAC2286940-2    </td><td>34</td><td>2</td><td>848</td><td>54</td><td>5.5</td><td>5899.00</td><td>5.5</td><td>6223.45</td></tr>",
                            "<tr><td>5936000</td><td>2019-02-02</td><td>11</td><td>5036.05</td><td>true</td><td>2019-02-08</td><td>PAC7318196-2    </td><td>25</td><td>2</td><td>860</td><td>23</td><td>6</td><td>4750.99</td><td>6</td><td>5036.05</td></tr>",
                            "<tr><td>2548837</td><td>2019-06-18</td><td>19</td><td>4218.95</td><td>false</td><td>2019-06-27</td><td>PAC5162119-1    </td><td>60</td><td>1</td><td>908</td><td>57</td><td>5.5</td><td>3999.00</td><td>5.5</td><td>4218.95</td></tr>",
                            "<tr><td>3720513</td><td>2019-12-16</td><td>15</td><td>5071.04</td><td>true</td><td>2019-12-17</td><td>PAC9680059-3    </td><td>33</td><td>1</td><td>918</td><td>38</td><td>4.45</td><td>4854.99</td><td>4.45</td><td>5071.04</td></tr>",
                            "<tr><td>2161283</td><td>2019-07-03</td><td>6</td><td>3722.25</td><td>true</td><td>2019-07-10</td><td>PAC1786775-3    </td><td>2</td><td>2</td><td>920</td><td>12</td><td>6.35</td><td>3500.00</td><td>6.35</td><td>3722.25</td></tr>",
                            "<tr><td>6776988</td><td>2019-01-17</td><td>22</td><td>3673.99</td><td>true</td><td>2019-01-18</td><td>PAC8091839-1    </td><td>51</td><td>1</td><td>952</td><td>28</td><td>0</td><td>3673.99</td><td>6</td><td>3894.43</td></tr>",
                            "<tr><td>1612725</td><td>2019-09-18</td><td>30</td><td>5302.96</td><td>true</td><td>2019-09-25</td><td>PAC6699198-2    </td><td>10</td><td>3</td><td>1013</td><td>42</td><td>4</td><td>5099.00</td><td>4</td><td>5302.96</td></tr>",
                            "<tr><td>5029172</td><td>2019-04-09</td><td>23</td><td>4000.73</td><td>false</td><td>2019-04-19</td><td>PAC8427935-1    </td><td>58</td><td>2</td><td>1014</td><td>29</td><td>7</td><td>3739.00</td><td>7</td><td>4000.73</td></tr>",
                            "<tr><td>3161140</td><td>2019-11-18</td><td>10</td><td>6134.96</td><td>true</td><td>2019-11-21</td><td>PAC5623968-1    </td><td>1</td><td>3</td><td>1025</td><td>36</td><td>4</td><td>5899.00</td><td>4</td><td>6134.96</td></tr>",
                            "<tr><td>6314526</td><td>2019-10-24</td><td>13</td><td>5974.64</td><td>true</td><td>2019-10-24</td><td>PAC9742522-2    </td><td>50</td><td>1</td><td>1030</td><td>53</td><td>8.52</td><td>5505.57</td><td>6.5</td><td>5863.43</td></tr>",
                            "<tr><td>6640295</td><td>2019-08-10</td><td>16</td><td>5012.29</td><td>true</td><td>2019-08-19</td><td>PAC2455692-2    </td><td>25</td><td>1</td><td>1039</td><td>23</td><td>5.5</td><td>4750.99</td><td>5.5</td><td>5012.29</td></tr>",
                            "<tr><td>5185959</td><td>2019-01-31</td><td>16</td><td>4483.75</td><td>true</td><td>2019-02-10</td><td>PAC9979490-1    </td><td>19</td><td>1</td><td>1073</td><td>3</td><td>5.5</td><td>4250.00</td><td>5.5</td><td>4483.75</td></tr>",
                            "<tr><td>5533191</td><td>2019-02-23</td><td>14</td><td>4611</td><td>true</td><td>2019-03-01</td><td>PAC7942036-3    </td><td>30</td><td>2</td><td>1075</td><td>6</td><td>6</td><td>4350.00</td><td>6</td><td>4611.00</td></tr>",
                            "<tr><td>2716051</td><td>2019-03-13</td><td>12</td><td>4523.95</td><td>true</td><td>2019-03-20</td><td>PAC546684-2     </td><td>27</td><td>2</td><td>1081</td><td>22</td><td>7</td><td>4227.99</td><td>4</td><td>4397.11</td></tr>",
                            "<tr><td>1455039</td><td>2019-02-24</td><td>25</td><td>4238.94</td><td>false</td><td>2019-02-26</td><td>PAC4086616-2    </td><td>20</td><td>1</td><td>1088</td><td>4</td><td>6</td><td>3999.00</td><td>7</td><td>4278.93</td></tr>",
                            "<tr><td>2489591</td><td>2019-07-10</td><td>24</td><td>4238.94</td><td>true</td><td>2019-07-10</td><td>PAC6300536-2    </td><td>69</td><td>3</td><td>1167</td><td>32</td><td>6</td><td>3999.00</td><td>6</td><td>4238.94</td></tr>",
                            "<tr><td>6467378</td><td>2019-07-27</td><td>28</td><td>5325</td><td>false</td><td>2019-08-02</td><td>PAC6725648-2    </td><td>42</td><td>3</td><td>1184</td><td>37</td><td>6.5</td><td>5000.00</td><td>6.5</td><td>5325.00</td></tr>",
                            "<tr><td>5942281</td><td>2019-09-07</td><td>21</td><td>5609.99</td><td>true</td><td>2019-09-08</td><td>PAC3654108-2    </td><td>50</td><td>2</td><td>1204</td><td>53</td><td>0</td><td>5609.99</td><td>0</td><td>5609.99</td></tr>",
                            "<tr><td>2869777</td><td>2019-12-18</td><td>9</td><td>3820.95</td><td>false</td><td>2019-12-20</td><td>PAC7331641-2    </td><td>51</td><td>2</td><td>1273</td><td>28</td><td>4</td><td>3673.99</td><td>4</td><td>3820.95</td></tr>",
                            "<tr><td>2238326</td><td>2019-10-04</td><td>20</td><td>2959.94</td><td>false</td><td>2019-10-11</td><td>PAC6585314-0    </td><td>9</td><td>2</td><td>1281</td><td>51</td><td>5.75</td><td>2799.00</td><td>5.74</td><td>2959.66</td></tr>",
                            "<tr><td>3351731</td><td>2019-04-22</td><td>29</td><td>2966.94</td><td>false</td><td>2019-04-26</td><td>PAC6154100-2    </td><td>9</td><td>2</td><td>1323</td><td>51</td><td>6</td><td>2799.00</td><td>6</td><td>2966.94</td></tr>",
                            "<tr><td>2754902</td><td>2019-10-16</td><td>16</td><td>7805.95</td><td>true</td><td>2019-10-16</td><td>PAC1624546-2    </td><td>24</td><td>2</td><td>1324</td><td>8</td><td>5.5</td><td>7399.00</td><td>5.5</td><td>7805.95</td></tr>",
                            "<tr><td>3316974</td><td>2019-08-11</td><td>25</td><td>4452</td><td>true</td><td>2019-08-17</td><td>PAC740180-2     </td><td>18</td><td>3</td><td>1330</td><td>2</td><td>6</td><td>4200.00</td><td>7</td><td>4494.00</td></tr>",
                            "<tr><td>7337778</td><td>2019-09-02</td><td>15</td><td>6161.51</td><td>false</td><td>2019-09-04</td><td>PAC8674423-2    </td><td>1</td><td>1</td><td>1356</td><td>36</td><td>4.45</td><td>5899.00</td><td>4.45</td><td>6161.51</td></tr>",
                            "<tr><td>7098067</td><td>2019-04-18</td><td>15</td><td>4647.92</td><td>true</td><td>2019-04-19</td><td>PAC1823738-3    </td><td>31</td><td>2</td><td>1363</td><td>5</td><td>4.45</td><td>4449.90</td><td>4.45</td><td>4647.92</td></tr>",
                            "<tr><td>6487845</td><td>2019-01-21</td><td>20</td><td>5024.17</td><td>false</td><td>2019-01-28</td><td>PAC8416377-2    </td><td>25</td><td>2</td><td>1392</td><td>23</td><td>5.75</td><td>4750.99</td><td>5.74</td><td>5023.70</td></tr>",
                            "<tr><td>4470329</td><td>2019-04-22</td><td>20</td><td>6238.19</td><td>false</td><td>2019-04-22</td><td>PAC7362378-1    </td><td>1</td><td>3</td><td>1414</td><td>36</td><td>5.75</td><td>5899.00</td><td>5.74</td><td>6237.60</td></tr>",
                            "<tr><td>6178297</td><td>2019-01-11</td><td>27</td><td>3754.8</td><td>true</td><td>2019-01-12</td><td>PAC2826304-1    </td><td>64</td><td>3</td><td>1444</td><td>26</td><td>4.3</td><td>3600.00</td><td>5.3</td><td>3790.80</td></tr>",
                            "<tr><td>4191351</td><td>2019-04-19</td><td>29</td><td>4959.74</td><td>false</td><td>2019-04-24</td><td>PAC9568331-0    </td><td>49</td><td>2</td><td>1477</td><td>25</td><td>6</td><td>4679.00</td><td>6</td><td>4959.74</td></tr>",
                            "<tr><td>6037924</td><td>2019-06-26</td><td>20</td><td>4970.25</td><td>true</td><td>2019-07-03</td><td>PAC7017395-0    </td><td>11</td><td>3</td><td>1482</td><td>39</td><td>5.75</td><td>4700.00</td><td>5.74</td><td>4969.78</td></tr>",
                            "<tr><td>5035355</td><td>2019-11-26</td><td>10</td><td>5720</td><td>true</td><td>2019-12-02</td><td>PAC2228213-1    </td><td>12</td><td>1</td><td>1497</td><td>41</td><td>4</td><td>5500.00</td><td>4</td><td>5720.00</td></tr>",
                            "<tr><td>7020203</td><td>2019-06-17</td><td>17</td><td>5343.75</td><td>true</td><td>2019-06-21</td><td>PAC6282845-3    </td><td>42</td><td>1</td><td>1546</td><td>37</td><td>8.875</td><td>4908.15</td><td>6.875</td><td>5245.59</td></tr>",
                            "<tr><td>6399921</td><td>2019-07-24</td><td>7</td><td>3999</td><td>false</td><td>2019-08-02</td><td>PAC4854935-1    </td><td>69</td><td>3</td><td>1601</td><td>32</td><td>0</td><td>3999.00</td><td>0</td><td>3999.00</td></tr>",
                            "<tr><td>1249068</td><td>2019-09-26</td><td>16</td><td>3798</td><td>false</td><td>2019-09-27</td><td>PAC3757594-3    </td><td>64</td><td>3</td><td>1632</td><td>26</td><td>5.5</td><td>3600.00</td><td>5.5</td><td>3798.00</td></tr>",
                            "<tr><td>1213420</td><td>2019-02-21</td><td>21</td><td>4400</td><td>false</td><td>2019-02-26</td><td>PAC696730-2     </td><td>65</td><td>2</td><td>1633</td><td>49</td><td>0</td><td>4400.00</td><td>0</td><td>4400.00</td></tr>",
                            "<tr><td>5617908</td><td>2019-07-19</td><td>20</td><td>5134.15</td><td>true</td><td>2019-07-29</td><td>PAC1842992-2    </td><td>33</td><td>3</td><td>1636</td><td>38</td><td>5.75</td><td>4854.99</td><td>5.74</td><td>5133.67</td></tr>",
                            "<tr><td>7152184</td><td>2019-02-06</td><td>11</td><td>4716.89</td><td>false</td><td>2019-02-15</td><td>PAC2043529-2    </td><td>31</td><td>1</td><td>1641</td><td>5</td><td>6</td><td>4449.90</td><td>6</td><td>4716.89</td></tr>",
                            "<tr><td>4203747</td><td>2019-02-21</td><td>24</td><td>6252.94</td><td>true</td><td>2019-03-02</td><td>PAC8074134-3    </td><td>34</td><td>1</td><td>1648</td><td>54</td><td>6</td><td>5899.00</td><td>6</td><td>6252.94</td></tr>",
                            "<tr><td>6219405</td><td>2019-05-22</td><td>30</td><td>5591.03</td><td>true</td><td>2019-05-24</td><td>PAC3142912-1    </td><td>48</td><td>2</td><td>1659</td><td>50</td><td>4</td><td>5375.99</td><td>4</td><td>5591.03</td></tr>",
                            "<tr><td>5151191</td><td>2019-09-29</td><td>12</td><td>4278.93</td><td>false</td><td>2019-10-07</td><td>PAC7751633-0    </td><td>20</td><td>1</td><td>1667</td><td>4</td><td>7</td><td>3999.00</td><td>4</td><td>4158.96</td></tr>",
                            "<tr><td>4652616</td><td>2019-05-24</td><td>8</td><td>2966.94</td><td>true</td><td>2019-05-28</td><td>PAC9847907-2    </td><td>9</td><td>3</td><td>1682</td><td>51</td><td>6</td><td>2799.00</td><td>6</td><td>2966.94</td></tr>",
                            "<tr><td>6247649</td><td>2019-09-16</td><td>1</td><td>4399</td><td>true</td><td>2019-09-21</td><td>PAC1064157-3    </td><td>23</td><td>2</td><td>1688</td><td>9</td><td>0</td><td>4399.00</td><td>0</td><td>4399.00</td></tr>",
                            "<tr><td>5460458</td><td>2019-11-15</td><td>24</td><td>3390.94</td><td>true</td><td>2019-11-23</td><td>PAC5548652-3    </td><td>43</td><td>3</td><td>1693</td><td>62</td><td>6</td><td>3199.00</td><td>6</td><td>3390.94</td></tr>",
                            "<tr><td>4558193</td><td>2019-06-29</td><td>24</td><td>5698.55</td><td>false</td><td>2019-07-07</td><td>PAC5574198-0    </td><td>48</td><td>3</td><td>1790</td><td>50</td><td>6</td><td>5375.99</td><td>6</td><td>5698.55</td></tr>",
                            "<tr><td>4740728</td><td>2019-09-27</td><td>26</td><td>4560.98</td><td>false</td><td>2019-10-07</td><td>PAC4893808-0    </td><td>30</td><td>2</td><td>1793</td><td>6</td><td>4.85</td><td>4350.00</td><td>6.1</td><td>4615.35</td></tr>",
                            "<tr><td>2954537</td><td>2019-11-18</td><td>26</td><td>4403.7</td><td>true</td><td>2019-11-18</td><td>PAC2043141-1    </td><td>18</td><td>1</td><td>1857</td><td>2</td><td>4.85</td><td>4200.00</td><td>6.1</td><td>4456.20</td></tr>",
                            "<tr><td>2321304</td><td>2019-10-24</td><td>11</td><td>4238.94</td><td>true</td><td>2019-11-01</td><td>PAC3357014-1    </td><td>35</td><td>3</td><td>1866</td><td>59</td><td>6</td><td>3999.00</td><td>6</td><td>4238.94</td></tr>",
                            "<tr><td>1333321</td><td>2019-12-19</td><td>5</td><td>1984.13</td><td>true</td><td>2019-12-22</td><td>PAC822214-1     </td><td>63</td><td>1</td><td>1876</td><td>43</td><td>7.25</td><td>1850.00</td><td>2.9</td><td>1903.65</td></tr>",
                            "<tr><td>1894953</td><td>2019-12-01</td><td>24</td><td>4450.94</td><td>false</td><td>2019-12-11</td><td>PAC4725478-2    </td><td>40</td><td>2</td><td>1908</td><td>16</td><td>6</td><td>4199.00</td><td>6</td><td>4450.94</td></tr>",
                            "<tr><td>5020865</td><td>2019-10-18</td><td>24</td><td>4924.75</td><td>false</td><td>2019-10-21</td><td>PAC8572877-3    </td><td>59</td><td>3</td><td>1932</td><td>56</td><td>6</td><td>4645.99</td><td>6</td><td>4924.75</td></tr>",
                            "<tr><td>5443155</td><td>2019-10-30</td><td>4</td><td>4717.93</td><td>false</td><td>2019-10-31</td><td>PAC7518672-3    </td><td>38</td><td>2</td><td>1939</td><td>18</td><td>7.25</td><td>4399.00</td><td>7.25</td><td>4717.93</td></tr>",
                            "<tr><td>7002106</td><td>2019-05-03</td><td>1</td><td>5000</td><td>true</td><td>2019-05-04</td><td>PAC8098207-0    </td><td>42</td><td>1</td><td>1990</td><td>37</td><td>0</td><td>5000.00</td><td>0</td><td>5000.00</td></tr>",
                            "<tr><td>3910462</td><td>2019-02-22</td><td>29</td><td>4238.94</td><td>true</td><td>2019-02-28</td><td>PAC7886519-2    </td><td>35</td><td>2</td><td>2026</td><td>59</td><td>6</td><td>3999.00</td><td>6</td><td>4238.94</td></tr>",
                            "<tr><td>3283550</td><td>2019-11-05</td><td>11</td><td>4238.94</td><td>true</td><td>2019-11-13</td><td>PAC1717817-1    </td><td>35</td><td>1</td><td>2032</td><td>59</td><td>6</td><td>3999.00</td><td>6</td><td>4238.94</td></tr>",
                            "<tr><td>6035941</td><td>2019-06-23</td><td>28</td><td>1970.25</td><td>true</td><td>2019-07-03</td><td>PAC6580097-0    </td><td>63</td><td>1</td><td>2056</td><td>43</td><td>6.5</td><td>1850.00</td><td>6.5</td><td>1970.25</td></tr>",
                            "<tr><td>3691505</td><td>2019-08-17</td><td>24</td><td>2330.94</td><td>false</td><td>2019-08-24</td><td>PAC4057382-0    </td><td>57</td><td>3</td><td>2078</td><td>31</td><td>6</td><td>2199.00</td><td>6</td><td>2330.94</td></tr>",
                            "<tr><td>2402430</td><td>2019-02-04</td><td>10</td><td>5507.74</td><td>false</td><td>2019-02-06</td><td>PAC5271576-2    </td><td>17</td><td>2</td><td>2085</td><td>61</td><td>4</td><td>5295.90</td><td>4</td><td>5507.74</td></tr>",
                            "<tr><td>1428972</td><td>2019-02-08</td><td>7</td><td>5899</td><td>false</td><td>2019-02-14</td><td>PAC1941506-2    </td><td>34</td><td>1</td><td>2090</td><td>54</td><td>0</td><td>5899.00</td><td>0</td><td>5899.00</td></tr>",
                            "<tr><td>4292007</td><td>2019-10-23</td><td>30</td><td>6030.96</td><td>false</td><td>2019-10-27</td><td>PAC5302137-2    </td><td>21</td><td>1</td><td>2099</td><td>10</td><td>4</td><td>5799.00</td><td>4</td><td>6030.96</td></tr>",
                            "<tr><td>5327025</td><td>2019-01-05</td><td>1</td><td>3500</td><td>false</td><td>2019-01-05</td><td>PAC7889162-3    </td><td>2</td><td>1</td><td>2154</td><td>12</td><td>0</td><td>3500.00</td><td>0</td><td>3500.00</td></tr>",
                            "<tr><td>3496466</td><td>2019-03-28</td><td>4</td><td>4717.93</td><td>false</td><td>2019-04-06</td><td>PAC3061964-3    </td><td>23</td><td>3</td><td>2183</td><td>9</td><td>7.25</td><td>4399.00</td><td>7.25</td><td>4717.93</td></tr>",
                            "<tr><td>5584011</td><td>2019-09-30</td><td>28</td><td>4502.81</td><td>true</td><td>2019-10-08</td><td>PAC4243340-1    </td><td>27</td><td>1</td><td>2216</td><td>22</td><td>6.5</td><td>4227.99</td><td>6.5</td><td>4502.81</td></tr>",
                            "<tr><td>3002323</td><td>2019-07-10</td><td>26</td><td>4665.72</td><td>true</td><td>2019-07-20</td><td>PAC3839082-0    </td><td>31</td><td>1</td><td>2226</td><td>5</td><td>4.85</td><td>4449.90</td><td>6.1</td><td>4721.34</td></tr>",
                            "<tr><td>6698819</td><td>2019-10-20</td><td>15</td><td>5430.36</td><td>false</td><td>2019-10-26</td><td>PAC9097246-2    </td><td>39</td><td>2</td><td>2229</td><td>17</td><td>4.45</td><td>5199.00</td><td>4.45</td><td>5430.36</td></tr>",
                            "<tr><td>3191867</td><td>2019-05-08</td><td>22</td><td>5899</td><td>false</td><td>2019-05-15</td><td>PAC4157055-0    </td><td>1</td><td>2</td><td>2237</td><td>36</td><td>0</td><td>5899.00</td><td>6</td><td>6252.94</td></tr>",
                            "<tr><td>5381339</td><td>2019-04-27</td><td>27</td><td>3545.16</td><td>false</td><td>2019-05-06</td><td>PAC1500592-2    </td><td>66</td><td>3</td><td>2252</td><td>40</td><td>4.3</td><td>3399.00</td><td>5.3</td><td>3579.15</td></tr>",
                            "<tr><td>5085733</td><td>2019-09-23</td><td>1</td><td>4645.99</td><td>true</td><td>2019-09-29</td><td>PAC5662966-1    </td><td>59</td><td>2</td><td>2301</td><td>56</td><td>0</td><td>4645.99</td><td>0</td><td>4645.99</td></tr>",
                            "<tr><td>6102211</td><td>2019-08-03</td><td>5</td><td>3614.33</td><td>true</td><td>2019-08-11</td><td>PAC8175536-1    </td><td>36</td><td>2</td><td>2305</td><td>58</td><td>7.25</td><td>3370.00</td><td>2.9</td><td>3467.73</td></tr>",
                            "<tr><td>6762144</td><td>2019-09-01</td><td>15</td><td>4416.14</td><td>true</td><td>2019-09-04</td><td>PAC2897854-1    </td><td>27</td><td>1</td><td>2326</td><td>22</td><td>4.45</td><td>4227.99</td><td>4.45</td><td>4416.14</td></tr>",
                            "<tr><td>4719489</td><td>2019-02-07</td><td>27</td><td>3630.67</td><td>true</td><td>2019-02-14</td><td>PAC8078227-1    </td><td>5</td><td>1</td><td>2339</td><td>15</td><td>4.3</td><td>3480.99</td><td>5.3</td><td>3665.48</td></tr>",
                            "<tr><td>2126409</td><td>2019-08-28</td><td>15</td><td>5859.63</td><td>false</td><td>2019-09-07</td><td>PAC443306-1     </td><td>50</td><td>1</td><td>2349</td><td>53</td><td>4.45</td><td>5609.99</td><td>4.45</td><td>5859.63</td></tr>",
                            "<tr><td>5228079</td><td>2019-10-20</td><td>8</td><td>2966.94</td><td>false</td><td>2019-10-24</td><td>PAC5302548-1    </td><td>9</td><td>3</td><td>2365</td><td>51</td><td>6</td><td>2799.00</td><td>6</td><td>2966.94</td></tr>",
                            "<tr><td>3972539</td><td>2019-06-21</td><td>3</td><td>3675.93</td><td>true</td><td>2019-06-21</td><td>PAC5567492-1    </td><td>5</td><td>3</td><td>2383</td><td>15</td><td>5.6</td><td>3480.99</td><td>5.6</td><td>3675.93</td></tr>",
                            "<tr><td>1248651</td><td>2019-10-02</td><td>9</td><td>3534.96</td><td>false</td><td>2019-10-04</td><td>PAC8492945-2    </td><td>66</td><td>1</td><td>2474</td><td>40</td><td>4</td><td>3399.00</td><td>4</td><td>3534.96</td></tr>",
                            "<tr><td>5372679</td><td>2019-05-20</td><td>20</td><td>4440.44</td><td>true</td><td>2019-05-20</td><td>PAC6583180-2    </td><td>61</td><td>3</td><td>2490</td><td>35</td><td>5.75</td><td>4199.00</td><td>5.74</td><td>4440.02</td></tr>",
                            "<tr><td>4213716</td><td>2019-05-18</td><td>13</td><td>6282.44</td><td>false</td><td>2019-05-28</td><td>PAC2273743-2    </td><td>34</td><td>1</td><td>2582</td><td>54</td><td>8.52</td><td>5789.20</td><td>6.5</td><td>6165.50</td></tr>",
                            "</table>"
                        ]
                    }
                }
            ],
            "execution_count": 69
        },
        {
            "cell_type": "markdown",
            "source": [
                "**Part 5: Calculate the sum of phone numbers in the customer table for the state of California. Output only the sum of the phone numbes as phone\\_sum.**"
            ],
            "metadata": {
                "azdata_cell_guid": "086d909b-e0d4-42de-bd49-dc34498f1b54"
            },
            "attachments": {}
        },
        {
            "cell_type": "code",
            "source": [
                "--Calculate sum of phone numbers from California (state code = 4). \n",
                "\n",
                "SELECT SUM(c.cus_phone) AS phone_sum\n",
                "FROM dsci_504.customers AS c \n",
                "WHERE c.cus_state = 4\n",
                "GROUP BY c.cus_state;"
            ],
            "metadata": {
                "azdata_cell_guid": "6e18487b-e664-4622-a2fc-7e3455780e09",
                "language": "sql"
            },
            "outputs": [
                {
                    "output_type": "display_data",
                    "data": {
                        "text/html": "(1 row(s) affected)"
                    },
                    "metadata": {}
                },
                {
                    "output_type": "display_data",
                    "data": {
                        "text/html": "Total execution time: 00:00:00.003"
                    },
                    "metadata": {}
                },
                {
                    "output_type": "execute_result",
                    "metadata": {},
                    "execution_count": 75,
                    "data": {
                        "application/vnd.dataresource+json": {
                            "schema": {
                                "fields": [
                                    {
                                        "name": "phone_sum"
                                    }
                                ]
                            },
                            "data": [
                                {
                                    "0": "395577183626"
                                }
                            ]
                        },
                        "text/html": [
                            "<table>",
                            "<tr><th>phone_sum</th></tr>",
                            "<tr><td>395577183626</td></tr>",
                            "</table>"
                        ]
                    }
                }
            ],
            "execution_count": 75
        },
        {
            "cell_type": "markdown",
            "source": [
                "**Q: What is the sum of all phone numbers in California?**\n",
                "\n",
                "```\n",
                "A: 395577183626\n",
                "\n",
                "```"
            ],
            "metadata": {
                "azdata_cell_guid": "6122712f-0ece-4967-9079-d07f9e633814"
            },
            "attachments": {}
        },
        {
            "cell_type": "markdown",
            "source": [
                "**Part 6: Calculate the sum of all zip codes for customers who have orders with a shipping tax location of West Virginia**"
            ],
            "metadata": {
                "azdata_cell_guid": "eecca218-ad0f-4dd9-abab-dce4569b5d1f"
            },
            "attachments": {}
        },
        {
            "cell_type": "code",
            "source": [
                "--Calculate sum of zip codes. West Virginia tax location code is 29.\n",
                "\n",
                "SELECT SUM(c.cus_zip) AS zip_sum\n",
                "FROM dsci_504.customers AS c\n",
                "INNER JOIN dsci_504.orders AS o \n",
                "ON c.cus_id = o.cus_id\n",
                "WHERE ord_tax_loc = 29\n",
                "GROUP BY ord_tax_loc;"
            ],
            "metadata": {
                "azdata_cell_guid": "2f8e8145-de97-4467-96d4-7c67478b0684",
                "language": "sql"
            },
            "outputs": [
                {
                    "output_type": "display_data",
                    "data": {
                        "text/html": "(1 row(s) affected)"
                    },
                    "metadata": {}
                },
                {
                    "output_type": "display_data",
                    "data": {
                        "text/html": "Total execution time: 00:00:00.004"
                    },
                    "metadata": {}
                },
                {
                    "output_type": "execute_result",
                    "metadata": {},
                    "execution_count": 79,
                    "data": {
                        "application/vnd.dataresource+json": {
                            "schema": {
                                "fields": [
                                    {
                                        "name": "zip_sum"
                                    }
                                ]
                            },
                            "data": [
                                {
                                    "0": "4848445"
                                }
                            ]
                        },
                        "text/html": [
                            "<table>",
                            "<tr><th>zip_sum</th></tr>",
                            "<tr><td>4848445</td></tr>",
                            "</table>"
                        ]
                    }
                }
            ],
            "execution_count": 79
        },
        {
            "cell_type": "markdown",
            "source": [
                "**Q: What is the sum of zip codes from all customers with orders from West Virginia?**\n",
                "\n",
                "```\n",
                "A: 4848445\n",
                "\n",
                "```"
            ],
            "metadata": {
                "azdata_cell_guid": "46262ccf-3636-476c-bca0-54708164924b"
            },
            "attachments": {}
        },
        {
            "cell_type": "markdown",
            "source": [
                "**Part 5: Write a query to select the distinct count of all orders from each state. Be sure to display ONLY the state digraph (two-letter code) and the count. Order by state.**"
            ],
            "metadata": {
                "azdata_cell_guid": "d01c9341-8c51-45c6-a95d-35a9e5ce13a5"
            },
            "attachments": {}
        },
        {
            "cell_type": "code",
            "source": [
                "--We don't really need to use distinct here (I think) but I am including it for the follow up question.\n",
                "\n",
                "SELECT DISTINCT(s.state)\n",
                "      ,COUNT(s.state)\n",
                "FROM dsci_504.orders AS o\n",
                "INNER JOIN dsci_504.states AS s\n",
                "ON o.ord_tax_loc = s.state_id\n",
                "GROUP BY s.state\n",
                "ORDER BY s.state;"
            ],
            "metadata": {
                "azdata_cell_guid": "14724738-5f84-49cb-aeb5-66a90223195a",
                "language": "sql"
            },
            "outputs": [
                {
                    "output_type": "display_data",
                    "data": {
                        "text/html": "(30 row(s) affected)"
                    },
                    "metadata": {}
                },
                {
                    "output_type": "display_data",
                    "data": {
                        "text/html": "Total execution time: 00:00:00.003"
                    },
                    "metadata": {}
                },
                {
                    "output_type": "execute_result",
                    "metadata": {},
                    "execution_count": 102,
                    "data": {
                        "application/vnd.dataresource+json": {
                            "schema": {
                                "fields": [
                                    {
                                        "name": "state"
                                    },
                                    {
                                        "name": "count"
                                    }
                                ]
                            },
                            "data": [
                                {
                                    "0": "AK",
                                    "1": "83"
                                },
                                {
                                    "0": "AL",
                                    "1": "73"
                                },
                                {
                                    "0": "AZ",
                                    "1": "87"
                                },
                                {
                                    "0": "CA",
                                    "1": "72"
                                },
                                {
                                    "0": "CO",
                                    "1": "81"
                                },
                                {
                                    "0": "CT",
                                    "1": "91"
                                },
                                {
                                    "0": "DE",
                                    "1": "93"
                                },
                                {
                                    "0": "FL",
                                    "1": "80"
                                },
                                {
                                    "0": "GA",
                                    "1": "87"
                                },
                                {
                                    "0": "HI",
                                    "1": "93"
                                },
                                {
                                    "0": "IA",
                                    "1": "76"
                                },
                                {
                                    "0": "IN",
                                    "1": "87"
                                },
                                {
                                    "0": "KS",
                                    "1": "87"
                                },
                                {
                                    "0": "KY",
                                    "1": "97"
                                },
                                {
                                    "0": "LA",
                                    "1": "89"
                                },
                                {
                                    "0": "ME",
                                    "1": "98"
                                },
                                {
                                    "0": "MN",
                                    "1": "87"
                                },
                                {
                                    "0": "NC",
                                    "1": "75"
                                },
                                {
                                    "0": "NE",
                                    "1": "85"
                                },
                                {
                                    "0": "OH",
                                    "1": "87"
                                },
                                {
                                    "0": "OR",
                                    "1": "90"
                                },
                                {
                                    "0": "PA",
                                    "1": "90"
                                },
                                {
                                    "0": "RI",
                                    "1": "90"
                                },
                                {
                                    "0": "SC",
                                    "1": "91"
                                },
                                {
                                    "0": "TN",
                                    "1": "71"
                                },
                                {
                                    "0": "UT",
                                    "1": "102"
                                },
                                {
                                    "0": "VA",
                                    "1": "87"
                                },
                                {
                                    "0": "WA",
                                    "1": "92"
                                },
                                {
                                    "0": "WV",
                                    "1": "95"
                                },
                                {
                                    "0": "WY",
                                    "1": "83"
                                }
                            ]
                        },
                        "text/html": [
                            "<table>",
                            "<tr><th>state</th><th>count</th></tr>",
                            "<tr><td>AK</td><td>83</td></tr>",
                            "<tr><td>AL</td><td>73</td></tr>",
                            "<tr><td>AZ</td><td>87</td></tr>",
                            "<tr><td>CA</td><td>72</td></tr>",
                            "<tr><td>CO</td><td>81</td></tr>",
                            "<tr><td>CT</td><td>91</td></tr>",
                            "<tr><td>DE</td><td>93</td></tr>",
                            "<tr><td>FL</td><td>80</td></tr>",
                            "<tr><td>GA</td><td>87</td></tr>",
                            "<tr><td>HI</td><td>93</td></tr>",
                            "<tr><td>IA</td><td>76</td></tr>",
                            "<tr><td>IN</td><td>87</td></tr>",
                            "<tr><td>KS</td><td>87</td></tr>",
                            "<tr><td>KY</td><td>97</td></tr>",
                            "<tr><td>LA</td><td>89</td></tr>",
                            "<tr><td>ME</td><td>98</td></tr>",
                            "<tr><td>MN</td><td>87</td></tr>",
                            "<tr><td>NC</td><td>75</td></tr>",
                            "<tr><td>NE</td><td>85</td></tr>",
                            "<tr><td>OH</td><td>87</td></tr>",
                            "<tr><td>OR</td><td>90</td></tr>",
                            "<tr><td>PA</td><td>90</td></tr>",
                            "<tr><td>RI</td><td>90</td></tr>",
                            "<tr><td>SC</td><td>91</td></tr>",
                            "<tr><td>TN</td><td>71</td></tr>",
                            "<tr><td>UT</td><td>102</td></tr>",
                            "<tr><td>VA</td><td>87</td></tr>",
                            "<tr><td>WA</td><td>92</td></tr>",
                            "<tr><td>WV</td><td>95</td></tr>",
                            "<tr><td>WY</td><td>83</td></tr>",
                            "</table>"
                        ]
                    }
                }
            ],
            "execution_count": 102
        },
        {
            "cell_type": "markdown",
            "source": [
                "**Q: What would happen if you altered the location of the DISTINCT clause in your query between the SELECT and column locations? Explain what would happen and why you think this is an important aspect to know.**\n",
                "\n",
                "```\n",
                "A: There would be a syntax error if you moved the location of the DISTINCT clause because it would disrupt the order of execution for the sql processors.\n",
                "\n",
                "```"
            ],
            "metadata": {
                "azdata_cell_guid": "bec75d0a-69fb-4cf1-9b5b-b0d03ab89dcc"
            },
            "attachments": {}
        },
        {
            "cell_type": "markdown",
            "source": [
                "**Part 7: Generate a series of numbers to be entered as the OPC customer appreciation number.**\n",
                "\n",
                "**The template for the number will be 'OPC' followed by a random number multipled by 10,000,000. Add 10 to the random number output and multiply that by 195185. Divide the total number by .25. The output should be OPC+an integer of 8 digits.**\n",
                "\n",
                "**Limit your generated series to 10 iterations for this attempt.**"
            ],
            "metadata": {
                "azdata_cell_guid": "cf3c9ce8-a92a-42a1-b7ad-feb2c2f074e8"
            },
            "attachments": {}
        },
        {
            "cell_type": "code",
            "source": [
                "/* Because it is numerically impossible to get 8 digits with the current calculations, I had to change 10 million\n",
                "to 100. */\n",
                "\n",
                "SELECT GENERATE_SERIES(1,10),\n",
                "       CONCAT('OPC',ROUND(CAST(((((random() * 100) + 10) * 195185)/0.25) AS NUMERIC), 0)) AS cus_app_num"
            ],
            "metadata": {
                "azdata_cell_guid": "53d0f219-8cba-4897-921b-86e35e701d95",
                "language": "sql",
                "tags": []
            },
            "outputs": [
                {
                    "output_type": "display_data",
                    "data": {
                        "text/html": "(10 row(s) affected)"
                    },
                    "metadata": {}
                },
                {
                    "output_type": "display_data",
                    "data": {
                        "text/html": "Total execution time: 00:00:00.001"
                    },
                    "metadata": {}
                },
                {
                    "output_type": "execute_result",
                    "metadata": {},
                    "execution_count": 138,
                    "data": {
                        "application/vnd.dataresource+json": {
                            "schema": {
                                "fields": [
                                    {
                                        "name": "generate_series"
                                    },
                                    {
                                        "name": "cus_app_num"
                                    }
                                ]
                            },
                            "data": [
                                {
                                    "0": "1",
                                    "1": "OPC50467662"
                                },
                                {
                                    "0": "2",
                                    "1": "OPC22951677"
                                },
                                {
                                    "0": "3",
                                    "1": "OPC44119790"
                                },
                                {
                                    "0": "4",
                                    "1": "OPC83213711"
                                },
                                {
                                    "0": "5",
                                    "1": "OPC79993935"
                                },
                                {
                                    "0": "6",
                                    "1": "OPC77778959"
                                },
                                {
                                    "0": "7",
                                    "1": "OPC17827522"
                                },
                                {
                                    "0": "8",
                                    "1": "OPC52965100"
                                },
                                {
                                    "0": "9",
                                    "1": "OPC67664609"
                                },
                                {
                                    "0": "10",
                                    "1": "OPC61682895"
                                }
                            ]
                        },
                        "text/html": [
                            "<table>",
                            "<tr><th>generate_series</th><th>cus_app_num</th></tr>",
                            "<tr><td>1</td><td>OPC50467662</td></tr>",
                            "<tr><td>2</td><td>OPC22951677</td></tr>",
                            "<tr><td>3</td><td>OPC44119790</td></tr>",
                            "<tr><td>4</td><td>OPC83213711</td></tr>",
                            "<tr><td>5</td><td>OPC79993935</td></tr>",
                            "<tr><td>6</td><td>OPC77778959</td></tr>",
                            "<tr><td>7</td><td>OPC17827522</td></tr>",
                            "<tr><td>8</td><td>OPC52965100</td></tr>",
                            "<tr><td>9</td><td>OPC67664609</td></tr>",
                            "<tr><td>10</td><td>OPC61682895</td></tr>",
                            "</table>"
                        ]
                    }
                }
            ],
            "execution_count": 138
        },
        {
            "cell_type": "markdown",
            "source": [
                "**Create a new table in the public schema and insert the generated data in the table. The number of enteries should total the number of records in the customers table. This will be used as a holding table for future use.**"
            ],
            "metadata": {
                "azdata_cell_guid": "37be1c62-5c58-49ed-91f8-ac44f5129030"
            },
            "attachments": {}
        },
        {
            "cell_type": "markdown",
            "source": [
                "**Insert the appropriate number of customer appreciation number based on the size of the customer table.**"
            ],
            "metadata": {
                "azdata_cell_guid": "2ba0ab4d-40a2-41f2-8aed-b4efc4cb10cc"
            },
            "attachments": {}
        },
        {
            "cell_type": "code",
            "source": [
                "--Finding number of customers.\n",
                "\n",
                "SELECT COUNT(c.cus_id)\n",
                "FROM dsci_504.customers AS c;\n",
                "\n",
                "--Creating table in public schema.\n",
                "CREATE TABLE public.opc_cus_num\n",
                "AS (SELECT GENERATE_SERIES(1,2619) AS serial_id,\n",
                "           CONCAT('OPC',ROUND(CAST(((((random() * 100) + 10) * 195185)/0.25) AS NUMERIC), 0)) AS cus_app_num);\n",
                ""
            ],
            "metadata": {
                "azdata_cell_guid": "c5030810-e0bd-4c2b-9865-fd70f9b5675c",
                "language": "sql",
                "tags": []
            },
            "outputs": [
                {
                    "output_type": "display_data",
                    "data": {
                        "text/html": "(1 row(s) affected)"
                    },
                    "metadata": {}
                },
                {
                    "output_type": "display_data",
                    "data": {
                        "text/html": "Commands completed successfully"
                    },
                    "metadata": {}
                },
                {
                    "output_type": "display_data",
                    "data": {
                        "text/html": "Total execution time: 00:00:00.018"
                    },
                    "metadata": {}
                },
                {
                    "output_type": "execute_result",
                    "metadata": {},
                    "execution_count": 211,
                    "data": {
                        "application/vnd.dataresource+json": {
                            "schema": {
                                "fields": [
                                    {
                                        "name": "count"
                                    }
                                ]
                            },
                            "data": [
                                {
                                    "0": "2619"
                                }
                            ]
                        },
                        "text/html": [
                            "<table>",
                            "<tr><th>count</th></tr>",
                            "<tr><td>2619</td></tr>",
                            "</table>"
                        ]
                    }
                }
            ],
            "execution_count": 211
        },
        {
            "cell_type": "code",
            "source": [
                "--Querying 500th row\n",
                "SELECT * FROM public.opc_cus_num \n",
                "OFFSET 499 ROWS   \n",
                "FETCH NEXT 1 ROWS ONLY; "
            ],
            "metadata": {
                "language": "sql",
                "azdata_cell_guid": "02b7e6bd-481f-4808-9f90-303a34c7a081",
                "tags": []
            },
            "outputs": [
                {
                    "output_type": "display_data",
                    "data": {
                        "text/html": "(1 row(s) affected)"
                    },
                    "metadata": {}
                },
                {
                    "output_type": "display_data",
                    "data": {
                        "text/html": "Total execution time: 00:00:00.003"
                    },
                    "metadata": {}
                },
                {
                    "output_type": "execute_result",
                    "metadata": {},
                    "execution_count": 212,
                    "data": {
                        "application/vnd.dataresource+json": {
                            "schema": {
                                "fields": [
                                    {
                                        "name": "serial_id"
                                    },
                                    {
                                        "name": "cus_app_num"
                                    }
                                ]
                            },
                            "data": [
                                {
                                    "0": "500",
                                    "1": "OPC60738628"
                                }
                            ]
                        },
                        "text/html": [
                            "<table>",
                            "<tr><th>serial_id</th><th>cus_app_num</th></tr>",
                            "<tr><td>500</td><td>OPC60738628</td></tr>",
                            "</table>"
                        ]
                    }
                }
            ],
            "execution_count": 212
        },
        {
            "cell_type": "markdown",
            "source": [
                "**Q: What is the 500th Customer Appreciation Number?**\n",
                "\n",
                "```\n",
                "A: OPC60738628\n",
                "\n",
                "```"
            ],
            "metadata": {
                "azdata_cell_guid": "e498730a-9148-431c-a4dd-2338d6ded0ff"
            },
            "attachments": {}
        },
        {
            "cell_type": "markdown",
            "source": [
                "**Set the values in the cus\\_app\\_num column in the customers table in teh dsci\\_504 schema to NULL.**\n",
                "\n",
                "**Insert the customer appreciation numbers held in the cus\\_apprec\\_num table to the customer table in the DSCI504 schema. You may need to alter the table to accept the differnet data type.**"
            ],
            "metadata": {
                "azdata_cell_guid": "9cc2f85a-afe3-4952-96fe-3f6b8e48152f"
            },
            "attachments": {}
        },
        {
            "cell_type": "code",
            "source": [
                "--Setting cus_app_num values to null.\n",
                "\n",
                "UPDATE dsci_504.customers \n",
                "SET cus_app_num = NULL;"
            ],
            "metadata": {
                "azdata_cell_guid": "663f1645-4f41-4d65-9124-345b0a8ea8b4",
                "language": "sql",
                "tags": []
            },
            "outputs": [
                {
                    "output_type": "display_data",
                    "data": {
                        "text/html": "Commands completed successfully"
                    },
                    "metadata": {}
                },
                {
                    "output_type": "display_data",
                    "data": {
                        "text/html": "Total execution time: 00:00:00.018"
                    },
                    "metadata": {}
                }
            ],
            "execution_count": 166
        },
        {
            "cell_type": "code",
            "source": [
                " --Adding serial column to customers table to join with newly generated cus_app_num later.\n",
                "\n",
                " ALTER TABLE dsci_504.customers  \n",
                " ADD serial_id SERIAL;"
            ],
            "metadata": {
                "language": "sql",
                "azdata_cell_guid": "adce9949-0b32-43c1-929a-021596af0b60"
            },
            "outputs": [
                {
                    "output_type": "display_data",
                    "data": {
                        "text/html": "Commands completed successfully"
                    },
                    "metadata": {}
                },
                {
                    "output_type": "display_data",
                    "data": {
                        "text/html": "Total execution time: 00:00:00.036"
                    },
                    "metadata": {}
                }
            ],
            "execution_count": 201
        },
        {
            "cell_type": "code",
            "source": [
                "-- Updating table to replace null values with newly generated cus_app_num.\n",
                "\n",
                "UPDATE dsci_504.customers AS c\n",
                "SET cus_app_num = opc.cus_app_num\n",
                "FROM public.opc_cus_num AS opc \n",
                "WHERE c.serial_id = opc.serial_id;\n",
                ""
            ],
            "metadata": {
                "language": "sql",
                "azdata_cell_guid": "1ddbca15-0726-450a-9149-46277a15e18e",
                "tags": []
            },
            "outputs": [
                {
                    "output_type": "display_data",
                    "data": {
                        "text/html": "Commands completed successfully"
                    },
                    "metadata": {}
                },
                {
                    "output_type": "display_data",
                    "data": {
                        "text/html": "Total execution time: 00:00:00.027"
                    },
                    "metadata": {}
                }
            ],
            "execution_count": 218
        },
        {
            "cell_type": "code",
            "source": [
                "--No records from cus_app_num.\n",
                "\n",
                "SELECT *\n",
                "FROM dsci_504.customers AS c\n",
                "WHERE c.cus_app_num = 'OPC80448799';\n",
                "\n",
                "--Finding address of customer 429.\n",
                "\n",
                "SELECT *\n",
                "FROM dsci_504.customers AS c\n",
                "WHERE c.cus_id = 429;\n",
                ""
            ],
            "metadata": {
                "language": "sql",
                "azdata_cell_guid": "a4bf1b4e-0d38-4cd0-9849-ecb2d9a894ef"
            },
            "outputs": [
                {
                    "output_type": "display_data",
                    "data": {
                        "text/html": "(0 row(s) affected)"
                    },
                    "metadata": {}
                },
                {
                    "output_type": "display_data",
                    "data": {
                        "text/html": "(1 row(s) affected)"
                    },
                    "metadata": {}
                },
                {
                    "output_type": "display_data",
                    "data": {
                        "text/html": "Total execution time: 00:00:00.010"
                    },
                    "metadata": {}
                },
                {
                    "output_type": "execute_result",
                    "metadata": {},
                    "execution_count": 223,
                    "data": {
                        "application/vnd.dataresource+json": {
                            "schema": {
                                "fields": [
                                    {
                                        "name": "cus_id"
                                    },
                                    {
                                        "name": "cus_num"
                                    },
                                    {
                                        "name": "cus_last_name"
                                    },
                                    {
                                        "name": "cus_first_name"
                                    },
                                    {
                                        "name": "cus_add_num"
                                    },
                                    {
                                        "name": "cus_address"
                                    },
                                    {
                                        "name": "cus_city"
                                    },
                                    {
                                        "name": "cus_state"
                                    },
                                    {
                                        "name": "cus_zip"
                                    },
                                    {
                                        "name": "cus_phone"
                                    },
                                    {
                                        "name": "cus_join_date"
                                    },
                                    {
                                        "name": "cus_app_cd"
                                    },
                                    {
                                        "name": "cus_app_num"
                                    },
                                    {
                                        "name": "tot_ord_qty"
                                    },
                                    {
                                        "name": "tot_ord_value"
                                    },
                                    {
                                        "name": "cus_app_lvl"
                                    },
                                    {
                                        "name": "cus_loyalty"
                                    },
                                    {
                                        "name": "serial_id"
                                    }
                                ]
                            },
                            "data": []
                        },
                        "text/html": [
                            "<table>",
                            "<tr><th>cus_id</th><th>cus_num</th><th>cus_last_name</th><th>cus_first_name</th><th>cus_add_num</th><th>cus_address</th><th>cus_city</th><th>cus_state</th><th>cus_zip</th><th>cus_phone</th><th>cus_join_date</th><th>cus_app_cd</th><th>cus_app_num</th><th>tot_ord_qty</th><th>tot_ord_value</th><th>cus_app_lvl</th><th>cus_loyalty</th><th>serial_id</th></tr>",
                            "</table>"
                        ]
                    }
                },
                {
                    "output_type": "execute_result",
                    "metadata": {},
                    "execution_count": 223,
                    "data": {
                        "application/vnd.dataresource+json": {
                            "schema": {
                                "fields": [
                                    {
                                        "name": "cus_id"
                                    },
                                    {
                                        "name": "cus_num"
                                    },
                                    {
                                        "name": "cus_last_name"
                                    },
                                    {
                                        "name": "cus_first_name"
                                    },
                                    {
                                        "name": "cus_add_num"
                                    },
                                    {
                                        "name": "cus_address"
                                    },
                                    {
                                        "name": "cus_city"
                                    },
                                    {
                                        "name": "cus_state"
                                    },
                                    {
                                        "name": "cus_zip"
                                    },
                                    {
                                        "name": "cus_phone"
                                    },
                                    {
                                        "name": "cus_join_date"
                                    },
                                    {
                                        "name": "cus_app_cd"
                                    },
                                    {
                                        "name": "cus_app_num"
                                    },
                                    {
                                        "name": "tot_ord_qty"
                                    },
                                    {
                                        "name": "tot_ord_value"
                                    },
                                    {
                                        "name": "cus_app_lvl"
                                    },
                                    {
                                        "name": "cus_loyalty"
                                    },
                                    {
                                        "name": "serial_id"
                                    }
                                ]
                            },
                            "data": [
                                {
                                    "0": "429",
                                    "1": "Fre8741",
                                    "2": "French",
                                    "3": "Jasmine",
                                    "4": "44955",
                                    "5": "Madison",
                                    "6": " North Star",
                                    "7": "26",
                                    "8": "8484",
                                    "9": "7017614249",
                                    "10": "2017-05-20",
                                    "11": "1",
                                    "12": "OPC52153320",
                                    "13": "1",
                                    "14": "35034",
                                    "15": "high",
                                    "16": "Loyal",
                                    "17": "1636"
                                }
                            ]
                        },
                        "text/html": [
                            "<table>",
                            "<tr><th>cus_id</th><th>cus_num</th><th>cus_last_name</th><th>cus_first_name</th><th>cus_add_num</th><th>cus_address</th><th>cus_city</th><th>cus_state</th><th>cus_zip</th><th>cus_phone</th><th>cus_join_date</th><th>cus_app_cd</th><th>cus_app_num</th><th>tot_ord_qty</th><th>tot_ord_value</th><th>cus_app_lvl</th><th>cus_loyalty</th><th>serial_id</th></tr>",
                            "<tr><td>429</td><td>Fre8741</td><td>French</td><td>Jasmine</td><td>44955</td><td>Madison</td><td> North Star</td><td>26</td><td>8484</td><td>7017614249</td><td>2017-05-20</td><td>1</td><td>OPC52153320</td><td>1</td><td>35034</td><td>high</td><td>Loyal</td><td>1636</td></tr>",
                            "</table>"
                        ]
                    }
                }
            ],
            "execution_count": 223
        },
        {
            "cell_type": "markdown",
            "source": [
                "**Q: What is the street of the customer with customer appreciation number OPC80448799. If your numbers did not generate this cutomer number, simply pick the address of customer 429.**\n",
                "\n",
                "```\n",
                "A:Madison\n",
                "\n",
                "```"
            ],
            "metadata": {
                "azdata_cell_guid": "d4684eb4-2a1f-4f90-b8c7-afbf13d7e713"
            },
            "attachments": {}
        },
        {
            "cell_type": "markdown",
            "source": [
                "**Part 8: Provide an explanation of how you can use the skills in this assignment in your everyday life as a professional. Explain some use cases where this informatiuon may have been invaluable prior to you learning SQL.**\n",
                "\n",
                "```\n",
                "A: Using the CTE syntax and the new functions that we learned this week (e.g. COALESCE & NULL IF), I have been able to refine my queries and improve my data analysis skills, which will be helpful on journey to becoming a data scientist. Prior to learning SQL, how I wrote code was slightly disorganized; but now that I know how important syntax and order of execution is to programming, I am trying to become more mindful in how I write code. This is not only important for me, but also for my future colleagues because they may need to read or work off of my work.\n",
                "\n",
                "```"
            ],
            "metadata": {
                "azdata_cell_guid": "11823125-ad9f-494d-85c3-bbc025f2eee3"
            },
            "attachments": {}
        }
    ]
}